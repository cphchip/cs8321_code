{
  "cells": [
    {
      "cell_type": "markdown",
      "metadata": {
        "id": "1pBn63p31e6R"
      },
      "source": [
        "# cs8321 Lab 1 - ConceptNet Ethics Testing"
      ],
      "id": "1pBn63p31e6R"
    },
    {
      "cell_type": "markdown",
      "metadata": {
        "id": "xbjDEuY51e6T"
      },
      "source": [
        "#### Chip Henderson - 48996654\n"
      ],
      "id": "xbjDEuY51e6T"
    },
    {
      "cell_type": "code",
      "execution_count": 32,
      "metadata": {
        "id": "KmfPJxru1e6T"
      },
      "outputs": [],
      "source": [
        "# Import everything\n",
        "import numpy as np\n",
        "import pandas as pd\n",
        "import matplotlib\n",
        "from tensorflow.keras.datasets import imdb\n",
        "from tensorflow.keras.preprocessing import sequence\n",
        "from tensorflow.keras.preprocessing.text import Tokenizer\n",
        "from tensorflow.keras.preprocessing.sequence import pad_sequences\n",
        "from tensorflow.keras.models import Model\n",
        "from tensorflow.keras.layers import Flatten, Dense, Dropout\n",
        "from tensorflow.keras.layers import Embedding, Input, Concatenate\n",
        "from tensorflow.keras.layers import Conv1D, MaxPooling1D, GlobalAveragePooling1D\n",
        "from tensorflow.keras.layers import Subtract\n",
        "from tensorflow.keras.utils import plot_model\n",
        "from tensorflow.keras.optimizers.schedules import ExponentialDecay\n",
        "from sklearn import metrics as mt\n",
        "from matplotlib import pyplot as plt\n",
        "from tensorflow.keras.layers import MultiHeadAttention, LayerNormalization\n",
        "from tensorflow.keras import Sequential\n",
        "from tensorflow.keras.layers import Layer\n",
        "from sklearn.model_selection import train_test_split\n",
        "from sklearn import metrics as mt\n",
        "from matplotlib import pyplot as plt\n",
        "import tensorflow as tf\n",
        "from tensorflow import keras\n",
        "from sklearn.model_selection import train_test_split\n",
        "from sklearn.preprocessing import LabelEncoder\n",
        "from sklearn.linear_model import SGDClassifier\n",
        "import seaborn\n",
        "import re\n",
        "from sklearn.metrics import accuracy_score\n",
        "\n"
      ],
      "id": "KmfPJxru1e6T"
    },
    {
      "cell_type": "code",
      "source": [
        "from google.colab import drive\n",
        "drive.mount('/content/drive/')"
      ],
      "metadata": {
        "id": "UP33fbUA2UJJ",
        "outputId": "4d5a1cce-e7d0-4e4f-ebac-2a9f433f8a70",
        "colab": {
          "base_uri": "https://localhost:8080/"
        }
      },
      "id": "UP33fbUA2UJJ",
      "execution_count": 7,
      "outputs": [
        {
          "output_type": "stream",
          "name": "stdout",
          "text": [
            "Drive already mounted at /content/drive/; to attempt to forcibly remount, call drive.mount(\"/content/drive/\", force_remount=True).\n"
          ]
        }
      ]
    },
    {
      "cell_type": "markdown",
      "metadata": {
        "id": "t4aA3nzq1e6U"
      },
      "source": [
        "## Modeling\n",
        "\n",
        "I'm going to be using the same ConveptNet Numberbatch embedding files that were used in the in-class notebook example. I'm working from a Microsoft Surface Pro 8 for most of this lab so I'm somewhat resource limited. So I'm going to be using a 50 sized embedding parameter."
      ],
      "id": "t4aA3nzq1e6U"
    },
    {
      "cell_type": "code",
      "execution_count": 8,
      "metadata": {
        "id": "6i1W_m6R1e6V",
        "outputId": "43263803-c52a-43d3-ea06-c17074f47093",
        "colab": {
          "base_uri": "https://localhost:8080/"
        }
      },
      "outputs": [
        {
          "output_type": "stream",
          "name": "stdout",
          "text": [
            "CPU times: user 52.6 s, sys: 4.07 s, total: 56.6 s\n",
            "Wall time: 1min 11s\n"
          ]
        },
        {
          "output_type": "execute_result",
          "data": {
            "text/plain": [
              "(516782, 300)"
            ]
          },
          "metadata": {},
          "execution_count": 8
        }
      ],
      "source": [
        "%%time\n",
        "\n",
        "# Source: modified from course notebook \"ConceptNet\"\n",
        "def load_embeddings(filename):\n",
        "    \"\"\"\n",
        "    Load a DataFrame from the generalized text format used by word2vec, GloVe,\n",
        "    fastText, and ConceptNet Numberbatch. The main point where they differ is\n",
        "    whether there is an initial line with the dimensions of the matrix.\n",
        "    \"\"\"\n",
        "    labels = []\n",
        "    rows = []\n",
        "    with open(filename, encoding='utf-8') as infile:\n",
        "        for i, line in enumerate(infile):\n",
        "            items = line.rstrip().split(' ')\n",
        "            if len(items) == 2:\n",
        "                # This is a header row giving the shape of the matrix\n",
        "                continue\n",
        "            labels.append(items[0])\n",
        "            values = np.array([float(x) for x in items[1:]], 'f')\n",
        "            rows.append(values)\n",
        "\n",
        "    arr = np.vstack(rows)\n",
        "    return pd.DataFrame(arr, index=labels, dtype='f')\n",
        "\n",
        "# embeddings = load_embeddings('../Data_Sources/glove.840B.300d.txt') # altered for my system\n",
        "embeddings = load_embeddings('/content/drive/MyDrive/Colab Notebooks/numberbatch-en.txt') # colab version\n",
        "embeddings.shape\n",
        "\n",
        "# print(embeddings)"
      ],
      "id": "6i1W_m6R1e6V"
    },
    {
      "cell_type": "code",
      "execution_count": 9,
      "id": "ebf39295",
      "metadata": {
        "id": "ebf39295",
        "outputId": "ba93b9f8-c51f-4b31-8837-914a58c4f660",
        "colab": {
          "base_uri": "https://localhost:8080/"
        }
      },
      "outputs": [
        {
          "output_type": "stream",
          "name": "stdout",
          "text": [
            "2006 4783\n"
          ]
        }
      ],
      "source": [
        "# Source: In class notebook 01\n",
        "def load_lexicon(filename):\n",
        "    \"\"\"\n",
        "    Load a file from Bing Liu's sentiment lexicon\n",
        "    (https://www.cs.uic.edu/~liub/FBS/sentiment-analysis.html), containing\n",
        "    English words in Latin-1 encoding.\n",
        "\n",
        "    One file contains a list of positive words, and the other contains\n",
        "    a list of negative words. The files contain comment lines starting\n",
        "    with ';' and blank lines, which should be skipped.\n",
        "    \"\"\"\n",
        "    lexicon = []\n",
        "    with open(filename, encoding='latin-1') as infile:\n",
        "        for line in infile:\n",
        "            line = line.rstrip()\n",
        "            if line and not line.startswith(';'):\n",
        "                lexicon.append(line)\n",
        "    return lexicon\n",
        "\n",
        "# For running on local system, use the following:\n",
        "# pos_words = load_lexicon(r'../../cs8321_code/Data_Sources/positive-words.txt')\n",
        "# neg_words = load_lexicon(r'../../cs8321_code/Data_Sources/negative-words.txt')\n",
        "\n",
        "# For running in colab, use the following:\n",
        "pos_words = load_lexicon(r'/content/drive/MyDrive/Colab Notebooks/positive-words.txt') # colab version\n",
        "neg_words = load_lexicon(r'/content/drive/MyDrive/Colab Notebooks/negative-words.txt') # colab version\n",
        "\n",
        "print(len(pos_words), len(neg_words))"
      ]
    },
    {
      "cell_type": "code",
      "execution_count": 10,
      "id": "0a2b1e51",
      "metadata": {
        "id": "0a2b1e51"
      },
      "outputs": [],
      "source": [
        "pos_words_common = list(set(pos_words) & set(embeddings.index))\n",
        "neg_words_common = list(set(neg_words) & set(embeddings.index))\n",
        "\n",
        "# Look up words in embeddings file to get vectors for each\n",
        "# Results are 299 deep because GloVe 300d is used\n",
        "pos_vectors = embeddings.loc[pos_words_common]\n",
        "neg_vectors = embeddings.loc[neg_words_common]\n",
        "# print(pos_vectors.shape,neg_vectors.shape)\n"
      ]
    },
    {
      "cell_type": "code",
      "execution_count": 11,
      "id": "8ef67aa1",
      "metadata": {
        "id": "8ef67aa1"
      },
      "outputs": [],
      "source": [
        "NAMES_BY_ETHNICITY = {\n",
        "    # The first two lists are from the Caliskan et al. appendix describing the\n",
        "    # Word Embedding Association Test.\n",
        "    'White': [\n",
        "        'Adam', 'Chip', 'Harry', 'Josh', 'Roger', 'Alan', 'Frank', 'Ian', 'Justin',\n",
        "        'Ryan', 'Andrew', 'Fred', 'Jack', 'Matthew', 'Stephen', 'Brad', 'Greg', 'Jed',\n",
        "        'Paul', 'Todd', 'Brandon', 'Hank', 'Jonathan', 'Peter', 'Wilbur', 'Amanda',\n",
        "        'Courtney', 'Heather', 'Melanie', 'Sara', 'Amber', 'Crystal', 'Katie',\n",
        "        'Meredith', 'Shannon', 'Betsy', 'Donna', 'Kristin', 'Nancy', 'Stephanie',\n",
        "        'Ellen', 'Lauren', 'Peggy', 'Colleen', 'Emily',\n",
        "        'Megan', 'Rachel', 'Wendy'\n",
        "    ],\n",
        "\n",
        "    'Black': [\n",
        "        'Alonzo', 'Jamel', 'Theo', 'Alphonse', 'Jerome',\n",
        "        'Leroy', 'Torrance', 'Darnell', 'Lamar', 'Lionel',\n",
        "        'Tyree', 'Deion', 'Lamont', 'Malik', 'Terrence', 'Tyrone',\n",
        "        'Lavon', 'Marcellus', 'Wardell', #'Nichelle',\n",
        "        'Ebony', 'Shaniqua',\n",
        "        'Jasmine', 'Tanisha', 'Tia', 'Latoya',\n",
        "        'Yolanda', 'Malika', 'Yvette'\n",
        "    ],\n",
        "    #Larson Edit: had to remove a number of names that were not in the embedding\n",
        "\n",
        "    # This list comes from statistics about common Hispanic-origin names in the US.\n",
        "    'Hispanic': [\n",
        "        'Juan', 'José', 'Miguel', 'Jorge', 'Santiago',\n",
        "        'Mateo',  'Alejandro', 'Samuel', 'Diego', 'Daniel',\n",
        "        'Juana', 'Ana', 'Luisa', 'María', 'Elena', 'Isabella', 'Valentina',\n",
        "        'Camila', 'Valeria', 'Ximena', 'Luciana', 'Mariana', 'Victoria', 'Martina'\n",
        "    ],\n",
        "    #Larson Edit: had to remove a number of names that were not in the embedding\n",
        "\n",
        "    # The following list conflates religion and ethnicity, I'm aware. So do given names.\n",
        "    #\n",
        "    # This list was cobbled together from searching baby-name sites for common Muslim names,\n",
        "    # as spelled in English. I did not ultimately distinguish whether the origin of the name\n",
        "    # is Arabic or Urdu or another language.\n",
        "    #\n",
        "    # I'd be happy to replace it with something more authoritative, given a source.\n",
        "    'Arab/Muslim': [\n",
        "        'Mohammed', 'Omar', 'Ahmed', 'Ali', 'Youssef', 'Abdullah', 'Yasin', 'Hamza',\n",
        "        'Syed', 'Samar', 'Ahmad', 'Rayyan', 'Mariam',\n",
        "        'Jana', 'Malak', 'Salma', 'Nour', 'Lian', 'Fatima', 'Ayesha', 'Zahra', 'Sana',\n",
        "        'Zara', 'Alya', 'Shaista', 'Zoya', 'Yasmin'\n",
        "    ]\n",
        "}"
      ]
    },
    {
      "cell_type": "code",
      "execution_count": 12,
      "id": "a93be3bb",
      "metadata": {
        "id": "a93be3bb"
      },
      "outputs": [],
      "source": [
        "def vecs_to_sentiment(vecs):\n",
        "    # predict_log_proba gives the log probability for each class\n",
        "    predictions = model.predict_log_proba(vecs)\n",
        "\n",
        "    # To see an overall positive vs. negative classification in one number,\n",
        "    # we take the log probability of positive sentiment minus the log\n",
        "    # probability of negative sentiment.\n",
        "    # this is a logarithm of the max margin for the classifier,\n",
        "    # similar to odds ratio (but not exact) log(p_1/p_0) = log(p_1)-log(p_0)\n",
        "    return predictions[:, 1] - predictions[:, 0]\n",
        "\n",
        "\n",
        "def words_to_sentiment(words):\n",
        "    vecs = embeddings.loc[words].dropna()\n",
        "    log_odds = vecs_to_sentiment(vecs)\n",
        "    return pd.DataFrame({'sentiment': log_odds}, index=vecs.index)\n",
        "\n",
        "\n",
        "def name_sentiment_table():\n",
        "    frames = []\n",
        "    for group, name_list in sorted(NAMES_BY_ETHNICITY.items()):\n",
        "        lower_names = [name.lower() for name in name_list]\n",
        "        sentiments = words_to_sentiment(lower_names)\n",
        "        sentiments['group'] = group\n",
        "        frames.append(sentiments)\n",
        "\n",
        "    # Put together the data we got from each ethnic group into one big table\n",
        "    return pd.concat(frames)"
      ]
    },
    {
      "cell_type": "code",
      "execution_count": 13,
      "id": "1c6e80ca",
      "metadata": {
        "id": "1c6e80ca",
        "outputId": "241bd30d-e450-49e4-d7e0-6ea15ee87aa0",
        "colab": {
          "base_uri": "https://localhost:8080/"
        }
      },
      "outputs": [
        {
          "output_type": "stream",
          "name": "stdout",
          "text": [
            "20\n"
          ]
        }
      ],
      "source": [
        "pos_words_common = list(set(pos_words) & set(embeddings.index))\n",
        "neg_words_common = list(set(neg_words) & set(embeddings.index))\n",
        "\n",
        "words = pos_words_common + neg_words_common\n",
        "\n",
        "lengths = [len(x) for x in words]\n",
        "maxlen = 2 + max(lengths) # add two to ensure every word gets padded\n",
        "\n",
        "print(maxlen)\n",
        "# print(len(words))\n"
      ]
    },
    {
      "cell_type": "code",
      "execution_count": 14,
      "id": "39f630e9",
      "metadata": {
        "id": "39f630e9"
      },
      "outputs": [],
      "source": [
        "# train_words = keras.utils.pad_sequences(words,maxlen=maxlen)"
      ]
    },
    {
      "cell_type": "code",
      "execution_count": 15,
      "id": "48490dd9",
      "metadata": {
        "id": "48490dd9"
      },
      "outputs": [],
      "source": [
        "# pos_words_common = list(set(pos_words) & set(embeddings.index))\n",
        "# neg_words_common = list(set(neg_words) & set(embeddings.index))\n",
        "# pos_vectors = embeddings.loc[pos_words_common]\n",
        "# neg_vectors = embeddings.loc[neg_words_common]\n",
        "# vectors = pd.concat([pos_vectors, neg_vectors])\n",
        "targets = np.array([1 for entry in pos_vectors.index] + [-1 for entry in neg_vectors.index])\n",
        "labels = list(pos_vectors.index) + list(neg_vectors.index)"
      ]
    },
    {
      "cell_type": "code",
      "execution_count": 16,
      "id": "bd73e721",
      "metadata": {
        "id": "bd73e721",
        "outputId": "2d9f3da8-090a-4fa1-8427-2be3eb4b5aea",
        "colab": {
          "base_uri": "https://localhost:8080/"
        }
      },
      "outputs": [
        {
          "output_type": "stream",
          "name": "stdout",
          "text": [
            "Found 6308 unique tokens. Distilled to 6308 top words.\n",
            "Shape of data tensor: (6311, 20)\n",
            "Shape of label tensor: (6311,)\n",
            "6308\n"
          ]
        }
      ],
      "source": [
        "# Source: Notebook 13a cs7324\n",
        "NUM_TOP_WORDS = None # use entire vocabulary!\n",
        "# MAX_TWEET_LEN = 500  # maximum and minimum number of words\n",
        "\n",
        "# tokenize the text\n",
        "tokenizer = Tokenizer(num_words=NUM_TOP_WORDS)\n",
        "tokenizer.fit_on_texts(words)\n",
        "sequences = tokenizer.texts_to_sequences(words)\n",
        "\n",
        "word_index = tokenizer.word_index\n",
        "NUM_TOP_WORDS = len(word_index) if NUM_TOP_WORDS==None else NUM_TOP_WORDS\n",
        "top_words = min((len(word_index),NUM_TOP_WORDS))\n",
        "print('Found %s unique tokens. Distilled to %d top words.' % (len(word_index),top_words))\n",
        "\n",
        "X = pad_sequences(sequences, maxlen=maxlen)\n",
        "y = targets\n",
        "\n",
        "print('Shape of data tensor:', X.shape)\n",
        "print('Shape of label tensor:', y.shape)\n",
        "print(np.max(X))\n"
      ]
    },
    {
      "cell_type": "code",
      "execution_count": 17,
      "id": "09e69b43",
      "metadata": {
        "id": "09e69b43"
      },
      "outputs": [],
      "source": [
        "train_words, test_words, train_targets, test_targets, train_labels, test_labels = \\\n",
        "    train_test_split(X, y, labels, test_size=0.1, random_state=0)"
      ]
    },
    {
      "cell_type": "code",
      "execution_count": 18,
      "id": "e6600921",
      "metadata": {
        "id": "e6600921",
        "outputId": "855dcecf-acae-4160-8cba-e043c2e3602b",
        "colab": {
          "base_uri": "https://localhost:8080/"
        }
      },
      "outputs": [
        {
          "output_type": "stream",
          "name": "stdout",
          "text": [
            "Shape of data tensor train: (5679, 20)\n",
            "Shape of data tensor for test: (632, 20)\n",
            "Shape of target tensor train: (5679, 2)\n",
            "Shape of target tensor for test: (632, 2)\n"
          ]
        }
      ],
      "source": [
        "# tf_train_vectors = tf.convert_to_tensor(train_vectors)\n",
        "# tf_test_vectors = tf.convert_to_tensor(test_vectors)\n",
        "\n",
        "# # Encode and normalize the labels\n",
        "# label_encoder = LabelEncoder()\n",
        "# train_labels_enc = label_encoder.fit_transform(train_labels)\n",
        "# test_labels_enc = label_encoder.fit_transform(test_labels)\n",
        "\n",
        "# # One hot encode the newly normalized labels\n",
        "# train_labels_ohe = keras.utils.to_categorical(train_labels_enc)\n",
        "# test_labels_ohe = keras.utils.to_categorical(test_labels_enc)\n",
        "\n",
        "# Encode and normalize the target values\n",
        "label_encoder = LabelEncoder()\n",
        "train_targets_enc = label_encoder.fit_transform(train_targets)\n",
        "test_targets_enc = label_encoder.fit_transform(test_targets)\n",
        "\n",
        "# One hot encode the target values\n",
        "train_targets_ohe = keras.utils.to_categorical(train_targets_enc)\n",
        "test_targets_ohe = keras.utils.to_categorical(test_targets_enc)\n",
        "\n",
        "# Check the shape of the data and labels to ensure they are correct\n",
        "print('Shape of data tensor train:', train_words.shape)\n",
        "print('Shape of data tensor for test:', test_words.shape)\n",
        "# print('Shape of label tensor train:', train_labels_ohe.shape)\n",
        "# print('Shape of label tensor for test:', test_labels_ohe.shape)\n",
        "print('Shape of target tensor train:', train_targets_ohe.shape)\n",
        "print('Shape of target tensor for test:', test_targets_ohe.shape)\n",
        "\n"
      ]
    },
    {
      "cell_type": "code",
      "execution_count": 18,
      "id": "e936757e",
      "metadata": {
        "id": "e936757e"
      },
      "outputs": [],
      "source": []
    },
    {
      "cell_type": "code",
      "execution_count": 21,
      "id": "b55b879a",
      "metadata": {
        "id": "b55b879a"
      },
      "outputs": [],
      "source": [
        "import scipy.stats as stats\n",
        "\n",
        "def retrain_model(new_embs, title = ''):\n",
        "    \"\"\"\n",
        "    Repeat the steps above with a new set of word embeddings.\n",
        "    \"\"\"\n",
        "    # use these from outside the function and update them globally\n",
        "    global model, embeddings, name_sentiments\n",
        "    embeddings = new_embs\n",
        "    # get the positive and negative embeddings\n",
        "    pos_words_common = list(set(pos_words) & set(embeddings.index))\n",
        "    neg_words_common = list(set(neg_words) & set(embeddings.index))\n",
        "    pos_vectors = embeddings.loc[pos_words_common]\n",
        "    neg_vectors = embeddings.loc[neg_words_common]\n",
        "    vectors = pd.concat([pos_vectors, neg_vectors])\n",
        "    targets = np.array([1 for entry in pos_vectors.index] + [-1 for entry in neg_vectors.index])\n",
        "    labels = list(pos_vectors.index) + list(neg_vectors.index)\n",
        "\n",
        "    # split the data\n",
        "    train_vectors, test_vectors, train_targets, test_targets, train_labels, test_labels = \\\n",
        "        train_test_split(vectors, targets, labels, test_size=0.1, random_state=0)\n",
        "\n",
        "    # train our model\n",
        "    model = SGDClassifier(loss='log_loss', random_state=0, max_iter=100)\n",
        "    model.fit(train_vectors, train_targets)\n",
        "\n",
        "\n",
        "\n",
        "\n",
        "\n",
        "\n",
        "\n",
        "\n",
        "    # print out a goodness of fit\n",
        "    accuracy = accuracy_score(model.predict(test_vectors), test_targets)\n",
        "    print(\"Accuracy of sentiment: {:.2%}\".format(accuracy))\n",
        "\n",
        "    # get the name table of different people's names and save embeddings\n",
        "    name_sentiments = name_sentiment_table()\n",
        "\n",
        "    stats.f_oneway(\n",
        "        name_sentiments['sentiment'][name_sentiments['group'] == 'White'],\n",
        "        name_sentiments['sentiment'][name_sentiments['group'] == 'Black'],\n",
        "        name_sentiments['sentiment'][name_sentiments['group'] == 'Hispanic'],\n",
        "        name_sentiments['sentiment'][name_sentiments['group'] == 'Arab/Muslim'],\n",
        "    )\n",
        "\n",
        "    name_sentiments = name_sentiment_table()\n",
        "\n",
        "    fstat,pval = stats.f_oneway(\n",
        "        name_sentiments['sentiment'][name_sentiments['group'] == 'White'],\n",
        "        name_sentiments['sentiment'][name_sentiments['group'] == 'Black'],\n",
        "        name_sentiments['sentiment'][name_sentiments['group'] == 'Hispanic'],\n",
        "        name_sentiments['sentiment'][name_sentiments['group'] == 'Arab/Muslim'],\n",
        "    )\n",
        "    print('F-statistic:',fstat,' With P-value:', pval)\n",
        "\n",
        "    # Show the results on a swarm plot, with a consistent Y-axis\n",
        "    matplotlib.pyplot.figure(figsize=(15,5))\n",
        "    matplotlib.pyplot.subplot(121)\n",
        "    plot = seaborn.swarmplot(x='group', y='sentiment', data=name_sentiments)\n",
        "    plot.set_ylim([-10, 10])\n",
        "    matplotlib.pyplot.subplot(122)\n",
        "    plot = seaborn.barplot(x='group', y='sentiment', data=name_sentiments, capsize=.1)\n",
        "    matplotlib.pyplot.suptitle(title, fontsize=16)"
      ]
    },
    {
      "cell_type": "code",
      "execution_count": 22,
      "id": "64db2e6c",
      "metadata": {
        "id": "64db2e6c",
        "outputId": "0c1e7126-372e-49aa-a1a1-441937756e79",
        "colab": {
          "base_uri": "https://localhost:8080/",
          "height": 550
        }
      },
      "outputs": [
        {
          "output_type": "stream",
          "name": "stdout",
          "text": [
            "Accuracy of sentiment: 96.99%\n",
            "F-statistic: 15.202869391269543  With P-value: 1.781380388829639e-08\n"
          ]
        },
        {
          "output_type": "display_data",
          "data": {
            "text/plain": [
              "<Figure size 1500x500 with 2 Axes>"
            ],
            "image/png": "[encoded data removed]"
          },
          "metadata": {}
        }
      ],
      "source": [
        "# Local PC version\n",
        "# retrain_model(load_embeddings('../../cs8321_code/Data_Sources/numberbatch-en.txt'), title='ConceptNet Numberbatch')\n",
        "# Colab version\n",
        "retrain_model(load_embeddings('/content/drive/MyDrive/Colab Notebooks/numberbatch-en.txt'), title='ConceptNet Numberbatch')"
      ]
    },
    {
      "cell_type": "code",
      "execution_count": 22,
      "id": "644d8d4a",
      "metadata": {
        "id": "644d8d4a"
      },
      "outputs": [],
      "source": []
    },
    {
      "cell_type": "code",
      "execution_count": 22,
      "id": "8853bd09",
      "metadata": {
        "id": "8853bd09"
      },
      "outputs": [],
      "source": []
    },
    {
      "cell_type": "code",
      "execution_count": 27,
      "id": "13c73259",
      "metadata": {
        "id": "13c73259",
        "outputId": "df68e76c-c73c-4c15-e54f-ac021696eaa6",
        "colab": {
          "base_uri": "https://localhost:8080/"
        }
      },
      "outputs": [
        {
          "output_type": "stream",
          "name": "stdout",
          "text": [
            "Found 516783 word vectors.\n",
            "Embedding Shape: (6309, 300) \n",
            " Total words found: 6308 \n",
            " Percentage: 99.98414962751625\n",
            "CPU times: user 42.6 s, sys: 1.2 s, total: 43.8 s\n",
            "Wall time: 46 s\n"
          ]
        }
      ],
      "source": [
        "%%time\n",
        "# Source: Modified from in-class lecture notebook 13a\n",
        "EMBED_SIZE = 300\n",
        "# the embed size should match the file you load glove from\n",
        "embeddings_index = {}\n",
        "# f = open(r'../Data_Sources/numberbatch-en.txt') # local PC version\n",
        "f = open(r'/content/drive/MyDrive/Colab Notebooks/numberbatch-en.txt') # colab version\n",
        "# save key/array pairs of the embeddings\n",
        "#  the key of the dictionary is the word, the array is the embedding\n",
        "for line in f:\n",
        "    values = line.split()\n",
        "    word = values[0]\n",
        "    coefs = np.asarray(values[1:], dtype='float32')\n",
        "    embeddings_index[word] = coefs\n",
        "f.close()\n",
        "\n",
        "print('Found %s word vectors.' % len(embeddings_index))\n",
        "\n",
        "# now fill in the matrix, using the ordering from the\n",
        "#  keras word tokenizer from before\n",
        "found_words = 0\n",
        "embedding_matrix = np.zeros((len(word_index) + 1, EMBED_SIZE))\n",
        "for word, i in word_index.items():\n",
        "    embedding_vector = embeddings_index.get(word)\n",
        "    if embedding_vector is not None:\n",
        "        # words not found in embedding index will be ALL-ZEROS\n",
        "        embedding_matrix[i] = embedding_vector\n",
        "        found_words = found_words+1\n",
        "\n",
        "print(\"Embedding Shape:\",embedding_matrix.shape, \"\\n\",\n",
        "      \"Total words found:\",found_words, \"\\n\",\n",
        "      \"Percentage:\",100*found_words/embedding_matrix.shape[0])"
      ]
    },
    {
      "cell_type": "code",
      "execution_count": 28,
      "metadata": {
        "id": "AWR2aPlX1e6a"
      },
      "outputs": [],
      "source": [
        "# Source: Modified from in-class notebook 13a cs7324\n",
        "# save this embedding now\n",
        "embedding_layer = Embedding(len(word_index) + 1,\n",
        "                            EMBED_SIZE,\n",
        "                            weights=[embedding_matrix],# here is the embedding getting saved\n",
        "                            input_length=maxlen,\n",
        "                            trainable=False)"
      ],
      "id": "AWR2aPlX1e6a"
    },
    {
      "cell_type": "markdown",
      "metadata": {
        "id": "VXyrwMG61e6a"
      },
      "source": [
        "#### Transformer 1 (xformer-1)"
      ],
      "id": "VXyrwMG61e6a"
    },
    {
      "cell_type": "code",
      "execution_count": 29,
      "metadata": {
        "id": "L-QVfCUb1e6a"
      },
      "outputs": [],
      "source": [
        "# Source: In-class notebook 13a\n",
        "\n",
        "from tensorflow.keras.layers import MultiHeadAttention, LayerNormalization\n",
        "from tensorflow.keras import Sequential\n",
        "from tensorflow.keras.layers import Layer\n",
        "\n",
        "# The transformer architecture\n",
        "class TransformerBlock(Layer): # inherit from Keras Layer\n",
        "    def __init__(self, embed_dim, num_heads, ff_dim, rate=0.2):\n",
        "        super().__init__()\n",
        "        # setup the model heads and feedforward network\n",
        "        self.att = MultiHeadAttention(num_heads=num_heads,\n",
        "                                      key_dim=embed_dim)\n",
        "\n",
        "        # make a two layer network that processes the attention\n",
        "        self.ffn = Sequential()\n",
        "        self.ffn.add( Dense(ff_dim, activation='relu') )\n",
        "        self.ffn.add( Dense(embed_dim) )\n",
        "\n",
        "        self.layernorm1 = LayerNormalization(epsilon=1e-6)\n",
        "        self.layernorm2 = LayerNormalization(epsilon=1e-6)\n",
        "        self.dropout1 = Dropout(rate)\n",
        "        self.dropout2 = Dropout(rate)\n",
        "\n",
        "    def call(self, inputs, training):\n",
        "        # apply the layers as needed (similar to PyTorch)\n",
        "\n",
        "        # get the attention output from multi heads\n",
        "        # Using same inpout here is self-attention\n",
        "        # call inputs are (query, value, key)\n",
        "        # if only two inputs given, value and key are assumed the same\n",
        "        attn_output = self.att(inputs, inputs)\n",
        "\n",
        "        # create residual output, with attention\n",
        "        out1 = self.layernorm1(inputs + attn_output)\n",
        "\n",
        "        # apply dropout if training\n",
        "        out1 = self.dropout1(out1, training=training)\n",
        "\n",
        "        # place through feed forward after layer norm\n",
        "        ffn_output = self.ffn(out1)\n",
        "        out2 = self.layernorm2(out1 + ffn_output)\n",
        "\n",
        "        # apply dropout if training\n",
        "        out2 = self.dropout2(out2, training=training)\n",
        "        #return the residual from Dense layer\n",
        "        return out2\n",
        "\n",
        "class TokenAndPositionEmbedding(Layer):\n",
        "    def __init__(self, maxlen, vocab_size, embed_dim):\n",
        "        super().__init__()\n",
        "        # create two embeddings\n",
        "        # one for processing the tokens (words)\n",
        "        self.token_emb = Embedding(input_dim=vocab_size,\n",
        "                                   output_dim=embed_dim)\n",
        "        # another embedding for processing the position\n",
        "        self.pos_emb = Embedding(input_dim=maxlen,\n",
        "                                 output_dim=embed_dim)\n",
        "    def call(self, x):\n",
        "        # create a static position measure (input)\n",
        "        maxlen = tf.shape(x)[-1]\n",
        "        positions = tf.range(start=0, limit=maxlen, delta=1)\n",
        "        # positions now goes from 0 to 500 (for IMdB) by 1\n",
        "        positions = self.pos_emb(positions)# embed these positions\n",
        "        x = self.token_emb(x) # embed the tokens\n",
        "        return x + positions # add embeddngs to get final embedding\n",
        "\n",
        ""
      ],
      "id": "L-QVfCUb1e6a"
    },
    {
      "cell_type": "code",
      "execution_count": 30,
      "metadata": {
        "id": "Alw220P21e6a"
      },
      "outputs": [],
      "source": [
        "\n",
        "# Source: In-class lecture notebook 13a\n",
        "# first, let's replace the original embedding in the xformer\n",
        "# with our custom Numberbatch embedding\n",
        "\n",
        "class NbTokenAndPositionEmbedding(Layer):\n",
        "    def __init__(self):\n",
        "        super().__init__()\n",
        "        # create two embeddings\n",
        "        # one for processing the tokens, pretrained (words)\n",
        "        self.token_emb = Embedding(len(word_index) + 1,\n",
        "                            EMBED_SIZE,\n",
        "                            weights=[embedding_matrix],# here is the embedding getting saved\n",
        "                            input_length=maxlen,\n",
        "                            trainable=False)\n",
        "\n",
        "        # another embedding for processing the position\n",
        "        self.pos_emb = Embedding(maxlen,\n",
        "                                 EMBED_SIZE,\n",
        "                                 input_length=maxlen,\n",
        "                                 trainable=True\n",
        "                                )\n",
        "\n",
        "    def call(self, x):\n",
        "        # create a static position measure (input)\n",
        "        maxlen = tf.shape(x)[-1]\n",
        "        positions = tf.range(start=0, limit=maxlen, delta=1)\n",
        "        positions = self.pos_emb(positions)# embed these positions\n",
        "        x = self.token_emb(x) # embed the tokens\n",
        "        return x + positions # add embeddngs to get final embedding"
      ],
      "id": "Alw220P21e6a"
    },
    {
      "cell_type": "code",
      "execution_count": 33,
      "metadata": {
        "id": "9daSa6cb1e6a",
        "outputId": "226b0c09-bf97-4592-8e60-ff8a067f16e6",
        "colab": {
          "base_uri": "https://localhost:8080/"
        }
      },
      "outputs": [
        {
          "output_type": "stream",
          "name": "stdout",
          "text": [
            "Model: \"model\"\n",
            "_________________________________________________________________\n",
            " Layer (type)                Output Shape              Param #   \n",
            "=================================================================\n",
            " input_2 (InputLayer)        [(None, 20)]              0         \n",
            "                                                                 \n",
            " nb_token_and_position_embed  (None, 20, 300)          1898700   \n",
            " ding_1 (NbTokenAndPositionE                                     \n",
            " mbedding)                                                       \n",
            "                                                                 \n",
            " transformer_block_1 (Transf  (None, 20, 300)          1464632   \n",
            " ormerBlock)                                                     \n",
            "                                                                 \n",
            " global_average_pooling1d (G  (None, 300)              0         \n",
            " lobalAveragePooling1D)                                          \n",
            "                                                                 \n",
            " dropout_4 (Dropout)         (None, 300)               0         \n",
            "                                                                 \n",
            " dense_4 (Dense)             (None, 64)                19264     \n",
            "                                                                 \n",
            " dropout_5 (Dropout)         (None, 64)                0         \n",
            "                                                                 \n",
            " dense_5 (Dense)             (None, 2)                 130       \n",
            "                                                                 \n",
            "=================================================================\n",
            "Total params: 3,382,726\n",
            "Trainable params: 1,490,026\n",
            "Non-trainable params: 1,892,700\n",
            "_________________________________________________________________\n",
            "None\n"
          ]
        }
      ],
      "source": [
        "# Source: Modified from in-class lecture notebook 13a\n",
        "\n",
        "num_heads = 4  # Number of attention heads\n",
        "ff_dim = 32  # Hidden layer size in feed forward network inside transformer\n",
        "NUM_CLASSES = 2\n",
        "\n",
        "inputs = Input(shape=(train_words.shape[1],))\n",
        "x = NbTokenAndPositionEmbedding()(inputs)\n",
        "x = TransformerBlock(EMBED_SIZE, num_heads, ff_dim)(x)\n",
        "\n",
        "x = GlobalAveragePooling1D()(x)\n",
        "x = Dropout(0.2)(x)\n",
        "x = Dense(64, activation='relu')(x)\n",
        "x = Dropout(0.2)(x)\n",
        "preds = Dense(NUM_CLASSES, activation='softmax',\n",
        "              kernel_initializer='glorot_uniform')(x)\n",
        "\n",
        "model_xformer_nb = Model(inputs=inputs, outputs=preds)\n",
        "print(model_xformer_nb.summary())"
      ],
      "id": "9daSa6cb1e6a"
    },
    {
      "cell_type": "code",
      "execution_count": 34,
      "metadata": {
        "id": "X5eXYK-91e6a",
        "outputId": "c8495d05-97ef-425d-99f0-49dd7b318361",
        "colab": {
          "base_uri": "https://localhost:8080/"
        }
      },
      "outputs": [
        {
          "output_type": "stream",
          "name": "stdout",
          "text": [
            "Epoch 1/10\n",
            "114/114 [==============================] - 39s 304ms/step - loss: 0.3376 - precision: 0.8526 - val_loss: 0.1621 - val_precision: 0.9620\n",
            "Epoch 2/10\n",
            "114/114 [==============================] - 33s 285ms/step - loss: 0.1018 - precision: 0.9664 - val_loss: 0.1066 - val_precision: 0.9668\n",
            "Epoch 3/10\n",
            "114/114 [==============================] - 33s 287ms/step - loss: 0.0805 - precision: 0.9708 - val_loss: 0.1139 - val_precision: 0.9684\n",
            "Epoch 4/10\n",
            "114/114 [==============================] - 34s 301ms/step - loss: 0.0737 - precision: 0.9739 - val_loss: 0.1928 - val_precision: 0.9399\n",
            "Epoch 5/10\n",
            "114/114 [==============================] - 33s 289ms/step - loss: 0.0770 - precision: 0.9729 - val_loss: 0.1293 - val_precision: 0.9604\n",
            "Epoch 6/10\n",
            "114/114 [==============================] - 33s 290ms/step - loss: 0.0669 - precision: 0.9739 - val_loss: 0.1126 - val_precision: 0.9636\n",
            "Epoch 7/10\n",
            "114/114 [==============================] - 35s 303ms/step - loss: 0.0686 - precision: 0.9764 - val_loss: 0.1149 - val_precision: 0.9620\n",
            "Epoch 8/10\n",
            "114/114 [==============================] - 33s 288ms/step - loss: 0.0619 - precision: 0.9762 - val_loss: 0.1277 - val_precision: 0.9604\n",
            "Epoch 9/10\n",
            "114/114 [==============================] - 34s 301ms/step - loss: 0.0607 - precision: 0.9771 - val_loss: 0.1261 - val_precision: 0.9604\n",
            "Epoch 10/10\n",
            "114/114 [==============================] - 32s 285ms/step - loss: 0.0546 - precision: 0.9780 - val_loss: 0.1369 - val_precision: 0.9573\n"
          ]
        }
      ],
      "source": [
        "# Source: modified from in-class lecture notebook 13a\n",
        "model_xformer_nb.compile(loss='categorical_crossentropy',\n",
        "              optimizer='adam', # changed optimizer from rmsprop to adam\n",
        "              metrics=['Precision']) # changed metric\n",
        "histories_xformer_nb = []\n",
        "tmp = model_xformer_nb.fit(train_words, train_targets_ohe,\n",
        "                validation_data=(test_words, test_targets_ohe),\n",
        "               epochs=10, batch_size=50) # Changed batch size from 16 to 128\n",
        "histories_xformer_nb.append(tmp)"
      ],
      "id": "X5eXYK-91e6a"
    },
    {
      "cell_type": "code",
      "execution_count": 35,
      "metadata": {
        "id": "_BWcjQfu1e6b",
        "outputId": "2a8b9454-2da7-446e-b4e3-b1f4223f7b2c",
        "colab": {
          "base_uri": "https://localhost:8080/",
          "height": 487
        }
      },
      "outputs": [
        {
          "output_type": "display_data",
          "data": {
            "text/plain": [
              "<Figure size 1500x500 with 2 Axes>"
            ],
            "image/png": "[encoded data removed]"
          },
          "metadata": {}
        }
      ],
      "source": [
        "%matplotlib inline\n",
        "# Source: in class lecture notebook 13a\n",
        "# combine all the history from training together\n",
        "combined = dict()\n",
        "for key in ['precision','val_precision','loss','val_loss']:\n",
        "    combined[key] = np.hstack([x.history[key] for x in histories_xformer_nb])\n",
        "\n",
        "# summarize history for precision\n",
        "plt.figure(figsize=(15,5))\n",
        "plt.subplot(121)\n",
        "plt.plot(combined['precision'])\n",
        "plt.plot(combined['val_precision'])\n",
        "plt.title('model precision')\n",
        "plt.ylabel('precision')\n",
        "plt.xlabel('epoch')\n",
        "plt.legend(['train', 'test'], loc='upper left')\n",
        "\n",
        "# summarize history for loss\n",
        "plt.subplot(122)\n",
        "plt.plot(combined['loss'])\n",
        "plt.plot(combined['val_loss'])\n",
        "plt.title('model loss')\n",
        "plt.ylabel('loss')\n",
        "plt.xlabel('epoch')\n",
        "plt.legend(['train', 'test'], loc='upper left')\n",
        "plt.show()"
      ],
      "id": "_BWcjQfu1e6b"
    }
  ],
  "metadata": {
    "kernelspec": {
      "display_name": "Python 3",
      "name": "python3"
    },
    "language_info": {
      "codemirror_mode": {
        "name": "ipython",
        "version": 3
      },
      "file_extension": ".py",
      "mimetype": "text/x-python",
      "name": "python",
      "nbconvert_exporter": "python",
      "pygments_lexer": "ipython3",
      "version": "3.9.17"
    },
    "colab": {
      "provenance": []
    },
    "accelerator": "TPU"
  },
  "nbformat": 4,
  "nbformat_minor": 5
}