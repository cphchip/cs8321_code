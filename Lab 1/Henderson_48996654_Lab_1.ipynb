{
  "cells": [
    {
      "cell_type": "markdown",
      "id": "1pBn63p31e6R",
      "metadata": {
        "id": "1pBn63p31e6R"
      },
      "source": [
        "# cs8321 Lab 1 - ConceptNet Ethics Testing"
      ]
    },
    {
      "cell_type": "markdown",
      "id": "xbjDEuY51e6T",
      "metadata": {
        "id": "xbjDEuY51e6T"
      },
      "source": [
        "#### Chip Henderson - 48996654\n"
      ]
    },
    {
      "cell_type": "code",
      "execution_count": 1,
      "id": "KmfPJxru1e6T",
      "metadata": {
        "id": "KmfPJxru1e6T"
      },
      "outputs": [],
      "source": [
        "# Import everything\n",
        "import numpy as np\n",
        "import pandas as pd\n",
        "import matplotlib\n",
        "from tensorflow.keras.datasets import imdb\n",
        "from tensorflow.keras.preprocessing import sequence\n",
        "from tensorflow.keras.preprocessing.text import Tokenizer\n",
        "from tensorflow.keras.preprocessing.sequence import pad_sequences\n",
        "from tensorflow.keras.models import Model\n",
        "from tensorflow.keras.layers import Flatten, Dense, Dropout\n",
        "from tensorflow.keras.layers import Embedding, Input, Concatenate\n",
        "from tensorflow.keras.layers import Conv1D, MaxPooling1D, GlobalAveragePooling1D\n",
        "from tensorflow.keras.layers import Subtract\n",
        "from tensorflow.keras.utils import plot_model\n",
        "from tensorflow.keras.optimizers.schedules import ExponentialDecay\n",
        "from sklearn import metrics as mt\n",
        "from matplotlib import pyplot as plt\n",
        "from tensorflow.keras.layers import MultiHeadAttention, LayerNormalization\n",
        "from tensorflow.keras import Sequential\n",
        "from tensorflow.keras.layers import Layer\n",
        "from sklearn.model_selection import train_test_split\n",
        "from sklearn import metrics as mt\n",
        "from matplotlib import pyplot as plt\n",
        "import tensorflow as tf\n",
        "from tensorflow import keras\n",
        "from sklearn.model_selection import train_test_split\n",
        "from sklearn.preprocessing import LabelEncoder\n",
        "from sklearn.linear_model import SGDClassifier\n",
        "import seaborn\n",
        "import re\n",
        "from sklearn.metrics import accuracy_score\n",
        "\n"
      ]
    },
    {
      "cell_type": "markdown",
      "id": "043e3052",
      "metadata": {},
      "source": [
        "### Intro\n",
        "\n",
        "In this notebook I'm going to be comparing the results from our in-class discussion and modeling to my results when using a trained transformer. This code is set up to run in google colab so some parts need to be commented out when running on my local system."
      ]
    },
    {
      "cell_type": "code",
      "execution_count": 2,
      "id": "UP33fbUA2UJJ",
      "metadata": {
        "colab": {
          "base_uri": "https://localhost:8080/"
        },
        "id": "UP33fbUA2UJJ",
        "outputId": "3c0c0c6f-558c-4791-d283-577a408b004e"
      },
      "outputs": [],
      "source": [
        "# Uncomment for use in colab\n",
        "# from google.colab import drive\n",
        "# drive.mount('/content/drive/')"
      ]
    },
    {
      "cell_type": "code",
      "execution_count": 3,
      "id": "38c1bea1",
      "metadata": {},
      "outputs": [
        {
          "name": "stdout",
          "output_type": "stream",
          "text": [
            "CPU times: total: 30.9 s\n",
            "Wall time: 37.4 s\n"
          ]
        },
        {
          "data": {
            "text/plain": [
              "(516782, 300)"
            ]
          },
          "execution_count": 3,
          "metadata": {},
          "output_type": "execute_result"
        }
      ],
      "source": [
        "%%time\n",
        "def load_embeddings(filename):\n",
        "    \"\"\"\n",
        "    Load a DataFrame from the generalized text format used by word2vec, GloVe,\n",
        "    fastText, and ConceptNet Numberbatch. The main point where they differ is\n",
        "    whether there is an initial line with the dimensions of the matrix.\n",
        "    \"\"\"\n",
        "    labels = []\n",
        "    rows = []\n",
        "    with open(filename, encoding='utf-8') as infile:\n",
        "        for i, line in enumerate(infile):\n",
        "            items = line.rstrip().split(' ')\n",
        "            if len(items) == 2:\n",
        "                # This is a header row giving the shape of the matrix\n",
        "                continue\n",
        "            labels.append(items[0])\n",
        "            values = np.array([float(x) for x in items[1:]], 'f')\n",
        "            rows.append(values)\n",
        "    \n",
        "    arr = np.vstack(rows)\n",
        "    return pd.DataFrame(arr, index=labels, dtype='f')\n",
        "\n",
        "# embeddings = load_embeddings('data/glove.840B.300d.txt') # course original\n",
        "embeddings = load_embeddings('../Data_Sources/numberbatch-en.txt') # local PC\n",
        "embeddings.shape"
      ]
    },
    {
      "cell_type": "code",
      "execution_count": 4,
      "id": "184a4fe4",
      "metadata": {},
      "outputs": [
        {
          "name": "stdout",
          "output_type": "stream",
          "text": [
            "2006 4783\n"
          ]
        }
      ],
      "source": [
        "# Source: In class notebook 01 ConceptNet\n",
        "def load_lexicon(filename):\n",
        "    \"\"\"\n",
        "    Load a file from Bing Liu's sentiment lexicon\n",
        "    (https://www.cs.uic.edu/~liub/FBS/sentiment-analysis.html), containing\n",
        "    English words in Latin-1 encoding.\n",
        "\n",
        "    One file contains a list of positive words, and the other contains\n",
        "    a list of negative words. The files contain comment lines starting\n",
        "    with ';' and blank lines, which should be skipped.\n",
        "    \"\"\"\n",
        "    lexicon = []\n",
        "    with open(filename, encoding='latin-1') as infile:\n",
        "        for line in infile:\n",
        "            line = line.rstrip()\n",
        "            if line and not line.startswith(';'):\n",
        "                lexicon.append(line)\n",
        "    return lexicon\n",
        "\n",
        "# For running on local system, use the following:\n",
        "pos_words = load_lexicon('../Data_Sources/positive-words.txt')\n",
        "neg_words = load_lexicon('../Data_Sources/negative-words.txt')\n",
        "\n",
        "# For running in colab, use the following:\n",
        "# pos_words = load_lexicon(r'/content/drive/MyDrive/Colab Notebooks/positive-words.txt') # colab version\n",
        "# neg_words = load_lexicon(r'/content/drive/MyDrive/Colab Notebooks/negative-words.txt') # colab version\n",
        "\n",
        "print(len(pos_words), len(neg_words))"
      ]
    },
    {
      "cell_type": "code",
      "execution_count": 5,
      "id": "b2d688ed",
      "metadata": {},
      "outputs": [],
      "source": [
        "NAMES_BY_ETHNICITY = {\n",
        "    # The first two lists are from the Caliskan et al. appendix describing the\n",
        "    # Word Embedding Association Test.\n",
        "    'White': [\n",
        "        'Adam', 'Chip', 'Harry', 'Josh', 'Roger', 'Alan', 'Frank', 'Ian', 'Justin',\n",
        "        'Ryan', 'Andrew', 'Fred', 'Jack', 'Matthew', 'Stephen', 'Brad', 'Greg', 'Jed',\n",
        "        'Paul', 'Todd', 'Brandon', 'Hank', 'Jonathan', 'Peter', 'Wilbur', 'Amanda',\n",
        "        'Courtney', 'Heather', 'Melanie', 'Sara', 'Amber', 'Crystal', 'Katie',\n",
        "        'Meredith', 'Shannon', 'Betsy', 'Donna', 'Kristin', 'Nancy', 'Stephanie',\n",
        "        'Ellen', 'Lauren', 'Peggy', 'Colleen', 'Emily',\n",
        "        'Megan', 'Rachel', 'Wendy'\n",
        "    ],\n",
        "\n",
        "    'Black': [\n",
        "        'Alonzo', 'Jamel', 'Theo', 'Alphonse', 'Jerome',\n",
        "        'Leroy', 'Torrance', 'Darnell', 'Lamar', 'Lionel',\n",
        "        'Tyree', 'Deion', 'Lamont', 'Malik', 'Terrence', 'Tyrone',\n",
        "        'Lavon', 'Marcellus', 'Wardell', #'Nichelle',\n",
        "        'Ebony', 'Shaniqua',\n",
        "        'Jasmine', 'Tanisha', 'Tia', 'Latoya',\n",
        "        'Yolanda', 'Malika', 'Yvette'\n",
        "    ],\n",
        "    #Larson Edit: had to remove a number of names that were not in the embedding\n",
        "\n",
        "    # This list comes from statistics about common Hispanic-origin names in the US.\n",
        "    'Hispanic': [\n",
        "        'Juan', 'José', 'Miguel', 'Jorge', 'Santiago',\n",
        "        'Mateo',  'Alejandro', 'Samuel', 'Diego', 'Daniel',\n",
        "        'Juana', 'Ana', 'Luisa', 'María', 'Elena', 'Isabella', 'Valentina',\n",
        "        'Camila', 'Valeria', 'Ximena', 'Luciana', 'Mariana', 'Victoria', 'Martina'\n",
        "    ],\n",
        "    #Larson Edit: had to remove a number of names that were not in the embedding\n",
        "\n",
        "    # The following list conflates religion and ethnicity, I'm aware. So do given names.\n",
        "    #\n",
        "    # This list was cobbled together from searching baby-name sites for common Muslim names,\n",
        "    # as spelled in English. I did not ultimately distinguish whether the origin of the name\n",
        "    # is Arabic or Urdu or another language.\n",
        "    #\n",
        "    # I'd be happy to replace it with something more authoritative, given a source.\n",
        "    'Arab/Muslim': [\n",
        "        'Mohammed', 'Omar', 'Ahmed', 'Ali', 'Youssef', 'Abdullah', 'Yasin', 'Hamza',\n",
        "        'Syed', 'Samar', 'Ahmad', 'Rayyan', 'Mariam',\n",
        "        'Jana', 'Malak', 'Salma', 'Nour', 'Lian', 'Fatima', 'Ayesha', 'Zahra', 'Sana',\n",
        "        'Zara', 'Alya', 'Shaista', 'Zoya', 'Yasmin'\n",
        "    ]\n",
        "}"
      ]
    },
    {
      "cell_type": "code",
      "execution_count": 6,
      "metadata": {},
      "outputs": [],
      "source": [
        "# # print(NAMES_BY_ETHNICITY.values())\n",
        "# full_name_list = []\n",
        "# for list in NAMES_BY_ETHNICITY.values():\n",
        "#     for name in list:\n",
        "#         full_name_list.append(name)\n",
        "\n",
        "# print(len(full_name_list))"
      ]
    },
    {
      "cell_type": "markdown",
      "id": "46f29baf",
      "metadata": {},
      "source": [
        "Note, vecs_to_sentiment is where the model prediction call is coming from in this code"
      ]
    },
    {
      "cell_type": "code",
      "execution_count": 7,
      "id": "b4e2d56a",
      "metadata": {},
      "outputs": [],
      "source": [
        "def vecs_to_sentiment(vecs):\n",
        "    # predict_log_proba gives the log probability for each class\n",
        "    predictions = model.predict_log_proba(vecs)\n",
        "\n",
        "    # To see an overall positive vs. negative classification in one number,\n",
        "    # we take the log probability of positive sentiment minus the log\n",
        "    # probability of negative sentiment.\n",
        "    # this is a logarithm of the max margin for the classifier,\n",
        "    # similar to odds ratio (but not exact) log(p_1/p_0) = log(p_1)-log(p_0)\n",
        "    return predictions[:, 1] - predictions[:, 0]\n",
        "\n",
        "\n",
        "def words_to_sentiment(words):\n",
        "    vecs = embeddings.loc[words].dropna()\n",
        "    log_odds = vecs_to_sentiment(vecs)\n",
        "    return pd.DataFrame({'sentiment': log_odds}, index=vecs.index)\n",
        "\n",
        "\n",
        "def name_sentiment_table():\n",
        "    frames = []\n",
        "    for group, name_list in sorted(NAMES_BY_ETHNICITY.items()):\n",
        "        lower_names = [name.lower() for name in name_list]\n",
        "        sentiments = words_to_sentiment(lower_names)\n",
        "        sentiments['group'] = group\n",
        "        frames.append(sentiments)\n",
        "\n",
        "    # Put together the data we got from each ethnic group into one big table\n",
        "    return pd.concat(frames)"
      ]
    },
    {
      "cell_type": "code",
      "execution_count": 8,
      "id": "c5161f58",
      "metadata": {},
      "outputs": [],
      "source": [
        "import scipy.stats as stats\n",
        "\n",
        "def retrain_model(new_embs, title = ''):\n",
        "    \"\"\"\n",
        "    Repeat the steps above with a new set of word embeddings.\n",
        "    \"\"\"\n",
        "    # use these from outside the function and update them globally\n",
        "    global model, embeddings, name_sentiments\n",
        "    embeddings = new_embs\n",
        "    # get the positive and negative embeddings\n",
        "    pos_words_common = list(set(pos_words) & set(embeddings.index))\n",
        "    neg_words_common = list(set(neg_words) & set(embeddings.index))\n",
        "    pos_vectors = embeddings.loc[pos_words_common]\n",
        "    neg_vectors = embeddings.loc[neg_words_common]\n",
        "    vectors = pd.concat([pos_vectors, neg_vectors])\n",
        "    targets = np.array([1 for entry in pos_vectors.index] + [-1 for entry in neg_vectors.index])\n",
        "    labels = list(pos_vectors.index) + list(neg_vectors.index)\n",
        "\n",
        "    # split the data\n",
        "    train_vectors, test_vectors, train_targets, test_targets, train_labels, test_labels = \\\n",
        "        train_test_split(vectors, targets, labels, test_size=0.1, random_state=0)\n",
        "\n",
        "    # train our model\n",
        "    model = SGDClassifier(loss='log_loss', random_state=0, max_iter=100)\n",
        "    model.fit(train_vectors, train_targets)\n",
        "\n",
        "    # print out a goodness of fit\n",
        "    accuracy = accuracy_score(model.predict(test_vectors), test_targets)\n",
        "    print(\"Accuracy of sentiment: {:.2%}\".format(accuracy))\n",
        "\n",
        "    # get the name table of different people's names and save embeddings\n",
        "    name_sentiments = name_sentiment_table()\n",
        "\n",
        "    stats.f_oneway(\n",
        "        name_sentiments['sentiment'][name_sentiments['group'] == 'White'],\n",
        "        name_sentiments['sentiment'][name_sentiments['group'] == 'Black'],\n",
        "        name_sentiments['sentiment'][name_sentiments['group'] == 'Hispanic'],\n",
        "        name_sentiments['sentiment'][name_sentiments['group'] == 'Arab/Muslim'],\n",
        "    )\n",
        "\n",
        "    name_sentiments = name_sentiment_table()\n",
        "\n",
        "    fstat,pval = stats.f_oneway(\n",
        "        name_sentiments['sentiment'][name_sentiments['group'] == 'White'],\n",
        "        name_sentiments['sentiment'][name_sentiments['group'] == 'Black'],\n",
        "        name_sentiments['sentiment'][name_sentiments['group'] == 'Hispanic'],\n",
        "        name_sentiments['sentiment'][name_sentiments['group'] == 'Arab/Muslim'],\n",
        "    )\n",
        "    print('F-statistic:',fstat,' With P-value:', pval)\n",
        "\n",
        "    # Show the results on a swarm plot, with a consistent Y-axis\n",
        "    matplotlib.pyplot.figure(figsize=(15,5))\n",
        "    matplotlib.pyplot.subplot(121)\n",
        "    plot = seaborn.swarmplot(x='group', y='sentiment', data=name_sentiments)\n",
        "    plot.set_ylim([-10, 10])\n",
        "    matplotlib.pyplot.subplot(122)\n",
        "    plot = seaborn.barplot(x='group', y='sentiment', data=name_sentiments, capsize=.1)\n",
        "    matplotlib.pyplot.suptitle(title, fontsize=16)\n",
        "\n",
        "    print(fstat)"
      ]
    },
    {
      "cell_type": "code",
      "execution_count": 9,
      "id": "c470e52a",
      "metadata": {},
      "outputs": [
        {
          "name": "stdout",
          "output_type": "stream",
          "text": [
            "Accuracy of sentiment: 97.63%\n",
            "F-statistic: 12.332152582324005  With P-value: 4.1596216681950755e-07\n",
            "12.332152582324005\n"
          ]
        },
        {
          "data": {
            "image/png": "[encoded data removed]",
            "text/plain": [
              "<Figure size 1500x500 with 2 Axes>"
            ]
          },
          "metadata": {},
          "output_type": "display_data"
        }
      ],
      "source": [
        "# Local PC version\n",
        "retrain_model(load_embeddings('../Data_Sources/numberbatch-en.txt'), title='ConceptNet Numberbatch')\n",
        "# Colab version\n",
        "# retrain_model(load_embeddings('/content/drive/MyDrive/Colab Notebooks/numberbatch-en.txt'), title='ConceptNet Numberbatch')"
      ]
    },
    {
      "cell_type": "markdown",
      "id": "a838b8b6",
      "metadata": {},
      "source": [
        "### Import and prepare the data for model training\n",
        "\n",
        "In this section of code I'm going to be training a transformer on the same lexicon used in the ConceptNet notebook from class. I'm going to manipulate some of the training data to make it compatible with the transformer. Instead of feeding in the actual word vectors as found in the embedding of choice, I need the words themselves, tokenized and one-hot encoded. They'll also be zero padded to ensure all entries are the same length."
      ]
    },
    {
      "cell_type": "markdown",
      "id": "91d802cc",
      "metadata": {},
      "source": [
        "## CNN"
      ]
    },
    {
      "cell_type": "code",
      "execution_count": 10,
      "id": "4c895f3b",
      "metadata": {},
      "outputs": [],
      "source": [
        "# Source: Modified from notebook 01 ConceptNet\n",
        "pos_words_common = list(set(pos_words) & set(embeddings.index))\n",
        "neg_words_common = list(set(neg_words) & set(embeddings.index))\n",
        "\n",
        "# I'll need the following to execute the code from class.\n",
        "# But, they won't play a role in my transformer training.\n",
        "pos_vectors = embeddings.loc[pos_words_common]\n",
        "neg_vectors = embeddings.loc[neg_words_common]\n",
        "\n",
        "# For the transformer I'm using the words themslves, not the vectors\n",
        "words = pos_words_common + neg_words_common\n",
        "\n",
        "# This portion is test code\n",
        "vectors = pd.concat([pos_vectors, neg_vectors])\n",
        "\n",
        "'''\n",
        "I'm going to use zero padding to ensure all words are the same length\n",
        "in the transformer. To do this, I need the max length of all the words.\n",
        "Then, I'll add two to it to ensure all words receive padding.\n",
        "'''\n",
        "lengths = [len(x) for x in words]\n",
        "maxlen = 2 + max(lengths) # add two to ensure every word gets padded\n",
        "\n",
        "# Source: ChatGPT to help with conversion from pd dataframe to dataset\n",
        "# train_ds = tf.data.Dataset.from_tensor_slices((train_vectors, train_targets))\n",
        "# test_ds = tf.data.Dataset.from_tensor_slices((test_vectors, test_targets))\n"
      ]
    },
    {
      "cell_type": "code",
      "execution_count": 14,
      "id": "0fe05c83",
      "metadata": {},
      "outputs": [],
      "source": [
        "# Source: in class notebook 01 ConceptNet\n",
        "vectors = pd.concat([pos_vectors, neg_vectors])\n",
        "targets = np.array([1 for entry in pos_vectors.index] + [-1 for entry in neg_vectors.index])\n",
        "labels = list(pos_vectors.index) + list(neg_vectors.index)"
      ]
    },
    {
      "cell_type": "code",
      "execution_count": 15,
      "id": "595ec7e6",
      "metadata": {},
      "outputs": [],
      "source": [
        "train_vectors, test_vectors, train_targets, test_targets, train_labels, test_labels = \\\n",
        "    train_test_split(vectors, targets, labels, test_size=0.1, random_state=0)"
      ]
    },
    {
      "cell_type": "code",
      "execution_count": null,
      "id": "b79dad83",
      "metadata": {},
      "outputs": [
        {
          "name": "stdout",
          "output_type": "stream",
          "text": [
            "(632,)\n"
          ]
        }
      ],
      "source": [
        "print(test_targets.shape)"
      ]
    },
    {
      "cell_type": "code",
      "execution_count": 16,
      "id": "85d5c00d",
      "metadata": {},
      "outputs": [
        {
          "name": "stdout",
          "output_type": "stream",
          "text": [
            "Shape of data tensor train: (5679, 300)\n",
            "Shape of data tensor for test: (632, 300)\n",
            "Shape of target tensor train: (5679, 2)\n",
            "Shape of target tensor for test: (632, 2)\n"
          ]
        }
      ],
      "source": [
        "# Source: modified from Notebook 13a cs7324\n",
        "\n",
        "# Encode and normalize the target values for the transformer\n",
        "'''\n",
        "I'm not 100% sure the eoncoding of the targets is necessary.\n",
        "They're already integers and maybe I could just skip straight\n",
        "to one-hot-encoding...\n",
        "'''\n",
        "\n",
        "# label_encoder = LabelEncoder()\n",
        "# train_targets_enc = label_encoder.fit_transform(train_targets)\n",
        "# test_targets_enc = label_encoder.fit_transform(test_targets)\n",
        "\n",
        "# One hot encode the target values\n",
        "train_targets_ohe = keras.utils.to_categorical(train_targets)\n",
        "test_targets_ohe = keras.utils.to_categorical(test_targets)\n",
        "\n",
        "# Check the shape of the data and labels to ensure they are correct\n",
        "print('Shape of data tensor train:', train_vectors.shape)\n",
        "print('Shape of data tensor for test:', test_vectors.shape)\n",
        "print('Shape of target tensor train:', train_targets_ohe.shape)\n",
        "print('Shape of target tensor for test:', test_targets_ohe.shape)"
      ]
    },
    {
      "cell_type": "code",
      "execution_count": 66,
      "id": "d8db6000",
      "metadata": {},
      "outputs": [
        {
          "data": {
            "text/plain": [
              "(516782, 300)"
            ]
          },
          "execution_count": 66,
          "metadata": {},
          "output_type": "execute_result"
        }
      ],
      "source": [
        "embedded_sequences.shape"
      ]
    },
    {
      "cell_type": "markdown",
      "id": "fa074fd5",
      "metadata": {},
      "source": [
        "#### Setting the numberbatch embeddings model as the embedding model"
      ]
    },
    {
      "cell_type": "code",
      "execution_count": 17,
      "id": "07f64227",
      "metadata": {},
      "outputs": [
        {
          "name": "stdout",
          "output_type": "stream",
          "text": [
            "Found 516783 word vectors.\n"
          ]
        },
        {
          "ename": "NameError",
          "evalue": "name 'word_index' is not defined",
          "output_type": "error",
          "traceback": [
            "\u001b[1;31m---------------------------------------------------------------------------\u001b[0m",
            "\u001b[1;31mNameError\u001b[0m                                 Traceback (most recent call last)",
            "File \u001b[1;32m<timed exec>:20\u001b[0m\n",
            "\u001b[1;31mNameError\u001b[0m: name 'word_index' is not defined"
          ]
        }
      ],
      "source": [
        "# %%time\n",
        "# # Source: Modified from in-class lecture notebook 13a cs7324\n",
        "# EMBED_SIZE = 300\n",
        "# # the embed size should match the file you load numberBatch from\n",
        "# embeddings_index = {}\n",
        "# f = open(r'../Data_Sources/numberbatch-en.txt')\n",
        "# # save key/array pairs of the embeddings\n",
        "# #  the key of the dictionary is the word, the array is the embedding\n",
        "# for line in f:\n",
        "#     values = line.split()\n",
        "#     word = values[0]\n",
        "#     coefs = np.asarray(values[1:], dtype='float32')\n",
        "#     embeddings_index[word] = coefs\n",
        "# f.close()\n",
        "\n",
        "# print('Found %s word vectors.' % len(embeddings_index))\n",
        "\n",
        "# # now fill in the matrix, using the ordering from the\n",
        "# #  keras word tokenizer from before\n",
        "# found_words = 0\n",
        "# embedding_matrix = np.zeros((len(word_index) + 1, EMBED_SIZE))\n",
        "# for word, i in word_index.items():\n",
        "#     embedding_vector = embeddings_index.get(word)\n",
        "#     if embedding_vector is not None:\n",
        "#         # words not found in embedding index will be ALL-ZEROS\n",
        "#         embedding_matrix[i] = embedding_vector\n",
        "#         found_words = found_words+1\n",
        "\n",
        "# print(\"Embedding Shape:\",embedding_matrix.shape, \"\\n\",\n",
        "#       \"Total words found:\",found_words, \"\\n\",\n",
        "#       \"Percentage:\",100*found_words/embedding_matrix.shape[0])"
      ]
    },
    {
      "cell_type": "code",
      "execution_count": 21,
      "id": "75e878c6",
      "metadata": {},
      "outputs": [
        {
          "name": "stdout",
          "output_type": "stream",
          "text": [
            "Found 516783 word vectors.\n",
            "Embedding Shape: (516783, 300) \n",
            " Total words found: 1 \n",
            " Percentage: 0.00019350481730242674\n",
            "CPU times: total: 26.2 s\n",
            "Wall time: 28.8 s\n"
          ]
        }
      ],
      "source": [
        "%%time\n",
        "# Source: Modified from in-class lecture notebook 13a cs7324\n",
        "EMBED_SIZE = 300\n",
        "# maxlen = 300\n",
        "# the embed size should match the file you load glove from\n",
        "embeddings_index = {}\n",
        "f = open(r'../Data_Sources/numberbatch-en.txt') # local PC version\n",
        "# f = open(r'/content/drive/MyDrive/Colab Notebooks/numberbatch-en.txt') # colab version\n",
        "# save key/array pairs of the embeddings\n",
        "#  the key of the dictionary is the word, the array is the embedding\n",
        "for line in f:\n",
        "    values = line.split()\n",
        "    word = values[0]\n",
        "    coefs = np.asarray(values[1:], dtype='float32')\n",
        "    embeddings_index[word] = coefs\n",
        "f.close()\n",
        "\n",
        "print('Found %s word vectors.' % len(embeddings_index))\n",
        "\n",
        "# now fill in the matrix, using the ordering from the\n",
        "#  keras word tokenizer from before\n",
        "vocab_size = len(embeddings_index)\n",
        "found_words = 0\n",
        "embedding_matrix = np.zeros((vocab_size, EMBED_SIZE))\n",
        "for word, i in word_index.items():\n",
        "    embedding_vector = embeddings_index.get(word)\n",
        "    if embedding_vector is not None:\n",
        "        # words not found in embedding index will be ALL-ZEROS\n",
        "        embedding_matrix[i] = embedding_vector\n",
        "        found_words = found_words+1\n",
        "\n",
        "print(\"Embedding Shape:\",embedding_matrix.shape, \"\\n\",\n",
        "      \"Total words found:\",found_words, \"\\n\",\n",
        "      \"Percentage:\",100*found_words/embedding_matrix.shape[0])"
      ]
    },
    {
      "cell_type": "code",
      "execution_count": 67,
      "id": "7f73a355",
      "metadata": {},
      "outputs": [
        {
          "ename": "AttributeError",
          "evalue": "'tuple' object has no attribute 'rank'",
          "output_type": "error",
          "traceback": [
            "\u001b[1;31m---------------------------------------------------------------------------\u001b[0m",
            "\u001b[1;31mAttributeError\u001b[0m                            Traceback (most recent call last)",
            "\u001b[1;32mc:\\Users\\Chip\\source\\repos\\cs8321_code\\Lab 1\\Henderson_48996654_Lab_1.ipynb Cell 22\u001b[0m line \u001b[0;36m9\n\u001b[0;32m      <a href='vscode-notebook-cell:/c%3A/Users/Chip/source/repos/cs8321_code/Lab%201/Henderson_48996654_Lab_1.ipynb#X64sZmlsZQ%3D%3D?line=6'>7</a>\u001b[0m \u001b[39m# embedded_sequences = embedding_layer(sequence_input) # from previous embedding\u001b[39;00m\n\u001b[0;32m      <a href='vscode-notebook-cell:/c%3A/Users/Chip/source/repos/cs8321_code/Lab%201/Henderson_48996654_Lab_1.ipynb#X64sZmlsZQ%3D%3D?line=7'>8</a>\u001b[0m embedded_sequences \u001b[39m=\u001b[39m embeddings\n\u001b[1;32m----> <a href='vscode-notebook-cell:/c%3A/Users/Chip/source/repos/cs8321_code/Lab%201/Henderson_48996654_Lab_1.ipynb#X64sZmlsZQ%3D%3D?line=8'>9</a>\u001b[0m x \u001b[39m=\u001b[39m Conv1D(\u001b[39m64\u001b[39;49m, \u001b[39m5\u001b[39;49m, activation\u001b[39m=\u001b[39;49m\u001b[39m'\u001b[39;49m\u001b[39mrelu\u001b[39;49m\u001b[39m'\u001b[39;49m,\n\u001b[0;32m     <a href='vscode-notebook-cell:/c%3A/Users/Chip/source/repos/cs8321_code/Lab%201/Henderson_48996654_Lab_1.ipynb#X64sZmlsZQ%3D%3D?line=9'>10</a>\u001b[0m            kernel_initializer\u001b[39m=\u001b[39;49m\u001b[39m'\u001b[39;49m\u001b[39mhe_uniform\u001b[39;49m\u001b[39m'\u001b[39;49m)(embedded_sequences)\n\u001b[0;32m     <a href='vscode-notebook-cell:/c%3A/Users/Chip/source/repos/cs8321_code/Lab%201/Henderson_48996654_Lab_1.ipynb#X64sZmlsZQ%3D%3D?line=11'>12</a>\u001b[0m \u001b[39m# after conv, size becomes: 500-4=496\u001b[39;00m\n\u001b[0;32m     <a href='vscode-notebook-cell:/c%3A/Users/Chip/source/repos/cs8321_code/Lab%201/Henderson_48996654_Lab_1.ipynb#X64sZmlsZQ%3D%3D?line=12'>13</a>\u001b[0m x \u001b[39m=\u001b[39m MaxPooling1D(\u001b[39m2\u001b[39m)(x) \u001b[39m# after max pool, 996/5 = 99\u001b[39;00m\n",
            "File \u001b[1;32m~\\AppData\\Roaming\\Python\\Python39\\site-packages\\keras\\utils\\traceback_utils.py:70\u001b[0m, in \u001b[0;36mfilter_traceback.<locals>.error_handler\u001b[1;34m(*args, **kwargs)\u001b[0m\n\u001b[0;32m     67\u001b[0m     filtered_tb \u001b[39m=\u001b[39m _process_traceback_frames(e\u001b[39m.\u001b[39m__traceback__)\n\u001b[0;32m     68\u001b[0m     \u001b[39m# To get the full stack trace, call:\u001b[39;00m\n\u001b[0;32m     69\u001b[0m     \u001b[39m# `tf.debugging.disable_traceback_filtering()`\u001b[39;00m\n\u001b[1;32m---> 70\u001b[0m     \u001b[39mraise\u001b[39;00m e\u001b[39m.\u001b[39mwith_traceback(filtered_tb) \u001b[39mfrom\u001b[39;00m \u001b[39mNone\u001b[39;00m\n\u001b[0;32m     71\u001b[0m \u001b[39mfinally\u001b[39;00m:\n\u001b[0;32m     72\u001b[0m     \u001b[39mdel\u001b[39;00m filtered_tb\n",
            "File \u001b[1;32m~\\AppData\\Roaming\\Python\\Python39\\site-packages\\keras\\engine\\input_spec.py:251\u001b[0m, in \u001b[0;36massert_input_compatibility\u001b[1;34m(input_spec, inputs, layer_name)\u001b[0m\n\u001b[0;32m    244\u001b[0m         \u001b[39mraise\u001b[39;00m \u001b[39mValueError\u001b[39;00m(\n\u001b[0;32m    245\u001b[0m             \u001b[39mf\u001b[39m\u001b[39m'\u001b[39m\u001b[39mInput \u001b[39m\u001b[39m{\u001b[39;00minput_index\u001b[39m}\u001b[39;00m\u001b[39m of layer \u001b[39m\u001b[39m\"\u001b[39m\u001b[39m{\u001b[39;00mlayer_name\u001b[39m}\u001b[39;00m\u001b[39m\"\u001b[39m\u001b[39m \u001b[39m\u001b[39m'\u001b[39m\n\u001b[0;32m    246\u001b[0m             \u001b[39m\"\u001b[39m\u001b[39mis incompatible with the layer: \u001b[39m\u001b[39m\"\u001b[39m\n\u001b[0;32m    247\u001b[0m             \u001b[39mf\u001b[39m\u001b[39m\"\u001b[39m\u001b[39mexpected max_ndim=\u001b[39m\u001b[39m{\u001b[39;00mspec\u001b[39m.\u001b[39mmax_ndim\u001b[39m}\u001b[39;00m\u001b[39m, \u001b[39m\u001b[39m\"\u001b[39m\n\u001b[0;32m    248\u001b[0m             \u001b[39mf\u001b[39m\u001b[39m\"\u001b[39m\u001b[39mfound ndim=\u001b[39m\u001b[39m{\u001b[39;00mndim\u001b[39m}\u001b[39;00m\u001b[39m\"\u001b[39m\n\u001b[0;32m    249\u001b[0m         )\n\u001b[0;32m    250\u001b[0m \u001b[39mif\u001b[39;00m spec\u001b[39m.\u001b[39mmin_ndim \u001b[39mis\u001b[39;00m \u001b[39mnot\u001b[39;00m \u001b[39mNone\u001b[39;00m:\n\u001b[1;32m--> 251\u001b[0m     ndim \u001b[39m=\u001b[39m x\u001b[39m.\u001b[39;49mshape\u001b[39m.\u001b[39;49mrank\n\u001b[0;32m    252\u001b[0m     \u001b[39mif\u001b[39;00m ndim \u001b[39mis\u001b[39;00m \u001b[39mnot\u001b[39;00m \u001b[39mNone\u001b[39;00m \u001b[39mand\u001b[39;00m ndim \u001b[39m<\u001b[39m spec\u001b[39m.\u001b[39mmin_ndim:\n\u001b[0;32m    253\u001b[0m         \u001b[39mraise\u001b[39;00m \u001b[39mValueError\u001b[39;00m(\n\u001b[0;32m    254\u001b[0m             \u001b[39mf\u001b[39m\u001b[39m'\u001b[39m\u001b[39mInput \u001b[39m\u001b[39m{\u001b[39;00minput_index\u001b[39m}\u001b[39;00m\u001b[39m of layer \u001b[39m\u001b[39m\"\u001b[39m\u001b[39m{\u001b[39;00mlayer_name\u001b[39m}\u001b[39;00m\u001b[39m\"\u001b[39m\u001b[39m \u001b[39m\u001b[39m'\u001b[39m\n\u001b[0;32m    255\u001b[0m             \u001b[39m\"\u001b[39m\u001b[39mis incompatible with the layer: \u001b[39m\u001b[39m\"\u001b[39m\n\u001b[1;32m   (...)\u001b[0m\n\u001b[0;32m    258\u001b[0m             \u001b[39mf\u001b[39m\u001b[39m\"\u001b[39m\u001b[39mFull shape received: \u001b[39m\u001b[39m{\u001b[39;00m\u001b[39mtuple\u001b[39m(shape)\u001b[39m}\u001b[39;00m\u001b[39m\"\u001b[39m\n\u001b[0;32m    259\u001b[0m         )\n",
            "\u001b[1;31mAttributeError\u001b[0m: 'tuple' object has no attribute 'rank'"
          ]
        }
      ],
      "source": [
        "# Source: Modified from in-class lecture, notebook 13a\n",
        "from tensorflow.keras.metrics import Precision\n",
        "\n",
        "EMBED_SIZE = 300  # same size as loaded from GLOVE\n",
        "NUM_CLASSES = 2\n",
        "sequence_input = Input(shape=(300,), dtype='int32')\n",
        "# embedded_sequences = embedding_layer(sequence_input) # from previous embedding\n",
        "embedded_sequences = embeddings\n",
        "x = Conv1D(64, 5, activation='relu',\n",
        "           kernel_initializer='he_uniform')(embedded_sequences)\n",
        "\n",
        "# after conv, size becomes: 500-4=496\n",
        "x = MaxPooling1D(2)(x) # after max pool, 996/5 = 99\n",
        "x = Dropout(0.2)(x) # after dropout, size is 95\n",
        "x = Conv1D(64, 5, activation='relu',\n",
        "           kernel_initializer='he_uniform')(x)\n",
        "\n",
        "# new size is 195\n",
        "x = MaxPooling1D(5)(x) # after max pool, size is 95/5 = 19\n",
        "x = Dropout(0.2)(x)\n",
        "x = Conv1D(64, 5, activation='relu',\n",
        "           kernel_initializer='he_uniform')(x)\n",
        "\n",
        "# after convolution, size becomes 15 elements long\n",
        "x = MaxPooling1D(5)(x) # this is the size to globally flatten, 15/5 = 3\n",
        "# flattened vector max pools across each of the 3 elements\n",
        "# so vectors is now 192 dimensions 3*64 = 192\n",
        "x = Flatten()(x)\n",
        "\n",
        "x = Dropout(0.2)(x)\n",
        "x = Dense(64, activation='relu',\n",
        "          kernel_initializer='he_uniform')(x)\n",
        "\n",
        "preds = Dense(NUM_CLASSES, activation='softmax',\n",
        "              kernel_initializer='glorot_uniform')(x)\n",
        "\n",
        "model_cnn_1 = Model(sequence_input, preds)\n",
        "\n",
        "# if representing as OHE, use categorical_crossentropy\n",
        "# if representing the class as an integer, use sparse_categorical_crossentropy\n",
        "model_cnn_1.compile(loss='categorical_crossentropy', \n",
        "              optimizer='rmsprop',\n",
        "              metrics=['Precision'])\n",
        "\n",
        "print(model_cnn_1.summary())\n",
        "\n",
        "cnn1_histories = []\n",
        "tmp = model_cnn_1.fit(X_train, y_train_ohe, validation_data=(X_test, y_test_ohe),\n",
        "          epochs=30, batch_size=128)\n",
        "cnn1_histories.append(tmp)"
      ]
    },
    {
      "cell_type": "code",
      "execution_count": null,
      "id": "823a8f20",
      "metadata": {},
      "outputs": [],
      "source": []
    },
    {
      "cell_type": "code",
      "execution_count": null,
      "id": "bfe0bab1",
      "metadata": {},
      "outputs": [],
      "source": []
    },
    {
      "cell_type": "code",
      "execution_count": null,
      "id": "1497d95c",
      "metadata": {},
      "outputs": [],
      "source": []
    },
    {
      "cell_type": "code",
      "execution_count": null,
      "id": "e41090f1",
      "metadata": {},
      "outputs": [],
      "source": []
    },
    {
      "cell_type": "markdown",
      "id": "17bd4d8e",
      "metadata": {},
      "source": [
        "## Transformer"
      ]
    },
    {
      "cell_type": "code",
      "execution_count": 27,
      "id": "1c6e80ca",
      "metadata": {
        "colab": {
          "base_uri": "https://localhost:8080/"
        },
        "id": "1c6e80ca",
        "outputId": "d3f01276-a9f1-45eb-820e-b96a20d36789"
      },
      "outputs": [],
      "source": [
        "# Source: Modified from notebook 01 ConceptNet\n",
        "pos_words_common = list(set(pos_words) & set(embeddings.index))\n",
        "neg_words_common = list(set(neg_words) & set(embeddings.index))\n",
        "\n",
        "# I'll need the following to execute the code from class.\n",
        "# But, they won't play a role in my transformer training.\n",
        "pos_vectors = embeddings.loc[pos_words_common]\n",
        "neg_vectors = embeddings.loc[neg_words_common]\n",
        "\n",
        "# For the transformer I'm using the words themslves, not the vectors\n",
        "words = pos_words_common + neg_words_common\n",
        "\n",
        "# This portion is test code\n",
        "vectors = pd.concat([pos_vectors, neg_vectors])\n",
        "\n",
        "'''\n",
        "I'm going to use zero padding to ensure all words are the same length\n",
        "in the transformer. To do this, I need the max length of all the words.\n",
        "Then, I'll add two to it to ensure all words receive padding.\n",
        "'''\n",
        "lengths = [len(x) for x in words]\n",
        "maxlen = 2 + max(lengths) # add two to ensure every word gets padded\n",
        "\n",
        "# Source: ChatGPT to help with conversion from pd dataframe to dataset\n",
        "# train_ds = tf.data.Dataset.from_tensor_slices((train_vectors, train_targets))\n",
        "# test_ds = tf.data.Dataset.from_tensor_slices((test_vectors, test_targets))\n"
      ]
    },
    {
      "cell_type": "code",
      "execution_count": 28,
      "metadata": {},
      "outputs": [],
      "source": [
        "\n",
        "# # Source: Modified from notebook 01 ConceptNet, cs8321\n",
        "# # get the positive and negative embeddings\n",
        "# pos_words_common = list(set(pos_words) & set(embeddings.index))\n",
        "# neg_words_common = list(set(neg_words) & set(embeddings.index))\n",
        "# pos_vectors = embeddings.loc[pos_words_common]\n",
        "# neg_vectors = embeddings.loc[neg_words_common]\n",
        "# vectors = pd.concat([pos_vectors, neg_vectors])\n",
        "# targets = np.array([1 for entry in pos_vectors.index] + [-1 for entry in neg_vectors.index])\n",
        "# labels = list(pos_vectors.index) + list(neg_vectors.index)\n",
        "\n",
        "# # split the data\n",
        "# train_vectors, test_vectors, train_targets, test_targets, train_labels, test_labels = \\\n",
        "#     train_test_split(vectors, targets, labels, test_size=0.1, random_state=0)\n",
        "\n",
        "# # Source: ChatGPT to help with conversion from pd dataframe to dataset\n",
        "# train_ds = tf.data.Dataset.from_tensor_slices((train_vectors, train_targets))\n",
        "# test_ds = tf.data.Dataset.from_tensor_slices((test_vectors, test_targets))\n",
        "\n",
        "# # One-hot encode the target values\n",
        "# train_targets_ohe = keras.utils.to_categorical(train_targets)\n",
        "# test_targets_ohe = keras.utils.to_categorical(test_targets)"
      ]
    },
    {
      "cell_type": "markdown",
      "id": "464ff713",
      "metadata": {},
      "source": [
        "The process of collecting the targets and labels remains unchanged."
      ]
    },
    {
      "cell_type": "code",
      "execution_count": 29,
      "id": "48490dd9",
      "metadata": {
        "id": "48490dd9"
      },
      "outputs": [],
      "source": [
        "# Source: in class notebook 01 ConceptNet\n",
        "# vectors = pd.concat([pos_vectors, neg_vectors])\n",
        "targets = np.array([1 for entry in pos_vectors.index] + [-1 for entry in neg_vectors.index])\n",
        "labels = list(pos_vectors.index) + list(neg_vectors.index)"
      ]
    },
    {
      "cell_type": "markdown",
      "id": "ea87e8ac",
      "metadata": {},
      "source": [
        "Below, I'm goign to set up the tokenizing of the lexicon words. This will also apply padding to the words once tokenized."
      ]
    },
    {
      "cell_type": "code",
      "execution_count": 30,
      "id": "bd73e721",
      "metadata": {
        "colab": {
          "base_uri": "https://localhost:8080/"
        },
        "id": "bd73e721",
        "outputId": "36cea842-2bed-4a17-93bd-58ae692421da"
      },
      "outputs": [
        {
          "name": "stdout",
          "output_type": "stream",
          "text": [
            "Found 6308 unique tokens. Distilled to 6308 top words.\n",
            "Shape of data tensor: (6311, 20)\n",
            "Shape of label tensor: (6311,)\n",
            "6308\n"
          ]
        }
      ],
      "source": [
        "# Source: Notebook 13a cs7324\n",
        "NUM_TOP_WORDS = None # use entire vocabulary!\n",
        "\n",
        "# Tokenze the text and get integer sequences for each word\n",
        "tokenizer = Tokenizer(num_words=NUM_TOP_WORDS)\n",
        "tokenizer.fit_on_texts(words)\n",
        "sequences = tokenizer.texts_to_sequences(words)\n",
        "\n",
        "# Note, I'm really not using a top words functionality here. Its a carry over from notebook 13a\n",
        "word_index = tokenizer.word_index\n",
        "NUM_TOP_WORDS = len(word_index) if NUM_TOP_WORDS==None else NUM_TOP_WORDS\n",
        "top_words = min((len(word_index),NUM_TOP_WORDS))\n",
        "print('Found %s unique tokens. Distilled to %d top words.' % (len(word_index),top_words))\n",
        "\n",
        "# Pad the sequences so they're all identical lengths.\n",
        "X = pad_sequences(sequences, maxlen=maxlen)\n",
        "y = targets\n",
        "\n",
        "print('Shape of data tensor:', X.shape)\n",
        "print('Shape of label tensor:', y.shape)\n",
        "print(np.max(X))\n"
      ]
    },
    {
      "cell_type": "code",
      "execution_count": 31,
      "id": "09e69b43",
      "metadata": {
        "id": "09e69b43"
      },
      "outputs": [],
      "source": [
        "# Source: Modified from 01 ConceptNet\n",
        "# Modification: there's really no reason to include the labels in the train_test_split.\n",
        "# They're captured in the targets data and labels are never used again in notebook 01 ConceptNet.\n",
        "train_words, test_words, train_targets, test_targets = train_test_split(X, y, test_size=0.1, random_state=0)"
      ]
    },
    {
      "cell_type": "code",
      "execution_count": 32,
      "id": "e6600921",
      "metadata": {
        "colab": {
          "base_uri": "https://localhost:8080/"
        },
        "id": "e6600921",
        "outputId": "60af98bd-ffc8-4c9f-8783-f400f679fe29"
      },
      "outputs": [
        {
          "name": "stdout",
          "output_type": "stream",
          "text": [
            "Shape of data tensor train: (5679, 20)\n",
            "Shape of data tensor for test: (632, 20)\n",
            "Shape of target tensor train: (5679, 2)\n",
            "Shape of target tensor for test: (632, 2)\n"
          ]
        }
      ],
      "source": [
        "# Source: modified from Notebook 13a cs7324\n",
        "\n",
        "# Encode and normalize the target values for the transformer\n",
        "'''\n",
        "I'm not 100% sure the eoncoding of the targets is necessary.\n",
        "They're already integers and maybe I could just skip straight\n",
        "to one-hot-encoding...\n",
        "'''\n",
        "\n",
        "label_encoder = LabelEncoder()\n",
        "train_targets_enc = label_encoder.fit_transform(train_targets)\n",
        "test_targets_enc = label_encoder.fit_transform(test_targets)\n",
        "\n",
        "# One hot encode the target values\n",
        "train_targets_ohe = keras.utils.to_categorical(train_targets_enc)\n",
        "test_targets_ohe = keras.utils.to_categorical(test_targets_enc)\n",
        "\n",
        "# Check the shape of the data and labels to ensure they are correct\n",
        "print('Shape of data tensor train:', train_words.shape)\n",
        "print('Shape of data tensor for test:', test_words.shape)\n",
        "print('Shape of target tensor train:', train_targets_ohe.shape)\n",
        "print('Shape of target tensor for test:', test_targets_ohe.shape)"
      ]
    },
    {
      "cell_type": "markdown",
      "id": "dfe6f6c4",
      "metadata": {},
      "source": [
        "Next, I'll import the embeddings file and set it up as a custom embedding layer for the transformer."
      ]
    },
    {
      "cell_type": "code",
      "execution_count": 33,
      "id": "13c73259",
      "metadata": {
        "colab": {
          "base_uri": "https://localhost:8080/"
        },
        "id": "13c73259",
        "outputId": "dbeb266c-0ffc-481f-9f0a-a382be8a71ca"
      },
      "outputs": [
        {
          "name": "stdout",
          "output_type": "stream",
          "text": [
            "Found 516783 word vectors.\n",
            "Embedding Shape: (6309, 300) \n",
            " Total words found: 6308 \n",
            " Percentage: 99.98414962751625\n",
            "CPU times: total: 26.9 s\n",
            "Wall time: 41.5 s\n"
          ]
        }
      ],
      "source": [
        "%%time\n",
        "# Source: Modified from in-class lecture notebook 13a cs7324\n",
        "EMBED_SIZE = 300\n",
        "# maxlen = 300\n",
        "# the embed size should match the file you load glove from\n",
        "embeddings_index = {}\n",
        "f = open(r'../Data_Sources/numberbatch-en.txt') # local PC version\n",
        "# f = open(r'/content/drive/MyDrive/Colab Notebooks/numberbatch-en.txt') # colab version\n",
        "# save key/array pairs of the embeddings\n",
        "#  the key of the dictionary is the word, the array is the embedding\n",
        "for line in f:\n",
        "    values = line.split()\n",
        "    word = values[0]\n",
        "    coefs = np.asarray(values[1:], dtype='float32')\n",
        "    embeddings_index[word] = coefs\n",
        "f.close()\n",
        "\n",
        "print('Found %s word vectors.' % len(embeddings_index))\n",
        "\n",
        "# now fill in the matrix, using the ordering from the\n",
        "#  keras word tokenizer from before\n",
        "found_words = 0\n",
        "embedding_matrix = np.zeros((len(word_index) + 1, EMBED_SIZE))\n",
        "for word, i in word_index.items():\n",
        "    embedding_vector = embeddings_index.get(word)\n",
        "    if embedding_vector is not None:\n",
        "        # words not found in embedding index will be ALL-ZEROS\n",
        "        embedding_matrix[i] = embedding_vector\n",
        "        found_words = found_words+1\n",
        "\n",
        "print(\"Embedding Shape:\",embedding_matrix.shape, \"\\n\",\n",
        "      \"Total words found:\",found_words, \"\\n\",\n",
        "      \"Percentage:\",100*found_words/embedding_matrix.shape[0])"
      ]
    },
    {
      "cell_type": "code",
      "execution_count": 34,
      "id": "AWR2aPlX1e6a",
      "metadata": {
        "id": "AWR2aPlX1e6a"
      },
      "outputs": [],
      "source": [
        "# Source: Modified from in-class notebook 13a cs7324\n",
        "# save this embedding now\n",
        "embedding_layer = Embedding(len(word_index) + 1,\n",
        "                            EMBED_SIZE,\n",
        "                            weights=[embedding_matrix],# here is the embedding getting saved\n",
        "                            input_length=maxlen,\n",
        "                            trainable=False)"
      ]
    },
    {
      "cell_type": "markdown",
      "id": "VXyrwMG61e6a",
      "metadata": {
        "id": "VXyrwMG61e6a"
      },
      "source": [
        "### Training the transformer"
      ]
    },
    {
      "cell_type": "code",
      "execution_count": 35,
      "id": "L-QVfCUb1e6a",
      "metadata": {
        "id": "L-QVfCUb1e6a"
      },
      "outputs": [],
      "source": [
        "# Source: In-class notebook 13a\n",
        "\n",
        "from tensorflow.keras.layers import MultiHeadAttention, LayerNormalization\n",
        "from tensorflow.keras import Sequential\n",
        "from tensorflow.keras.layers import Layer\n",
        "\n",
        "# The transformer architecture\n",
        "class TransformerBlock(Layer): # inherit from Keras Layer\n",
        "    def __init__(self, embed_dim, num_heads, ff_dim, rate=0.2):\n",
        "        super().__init__()\n",
        "        # setup the model heads and feedforward network\n",
        "        self.att = MultiHeadAttention(num_heads=num_heads,\n",
        "                                      key_dim=embed_dim)\n",
        "\n",
        "        # make a two layer network that processes the attention\n",
        "        self.ffn = Sequential()\n",
        "        self.ffn.add( Dense(ff_dim, activation='relu') )\n",
        "        self.ffn.add( Dense(embed_dim) )\n",
        "\n",
        "        self.layernorm1 = LayerNormalization(epsilon=1e-6)\n",
        "        self.layernorm2 = LayerNormalization(epsilon=1e-6)\n",
        "        self.dropout1 = Dropout(rate)\n",
        "        self.dropout2 = Dropout(rate)\n",
        "\n",
        "    def call(self, inputs, training):\n",
        "        # apply the layers as needed (similar to PyTorch)\n",
        "\n",
        "        # get the attention output from multi heads\n",
        "        # Using same inpout here is self-attention\n",
        "        # call inputs are (query, value, key)\n",
        "        # if only two inputs given, value and key are assumed the same\n",
        "        attn_output = self.att(inputs, inputs)\n",
        "\n",
        "        # create residual output, with attention\n",
        "        out1 = self.layernorm1(inputs + attn_output)\n",
        "\n",
        "        # apply dropout if training\n",
        "        out1 = self.dropout1(out1, training=training)\n",
        "\n",
        "        # place through feed forward after layer norm\n",
        "        ffn_output = self.ffn(out1)\n",
        "        out2 = self.layernorm2(out1 + ffn_output)\n",
        "\n",
        "        # apply dropout if training\n",
        "        out2 = self.dropout2(out2, training=training)\n",
        "        #return the residual from Dense layer\n",
        "        return out2\n",
        "\n",
        "class TokenAndPositionEmbedding(Layer):\n",
        "    def __init__(self, maxlen, vocab_size, embed_dim):\n",
        "        super().__init__()\n",
        "        # create two embeddings\n",
        "        # one for processing the tokens (words)\n",
        "        self.token_emb = Embedding(input_dim=vocab_size,\n",
        "                                   output_dim=embed_dim)\n",
        "        # another embedding for processing the position\n",
        "        self.pos_emb = Embedding(input_dim=maxlen,\n",
        "                                 output_dim=embed_dim)\n",
        "    def call(self, x):\n",
        "        # create a static position measure (input)\n",
        "        maxlen = tf.shape(x)[-1]\n",
        "        positions = tf.range(start=0, limit=maxlen, delta=1)\n",
        "        # positions now goes from 0 to 500 (for IMdB) by 1\n",
        "        positions = self.pos_emb(positions)# embed these positions\n",
        "        x = self.token_emb(x) # embed the tokens\n",
        "        return x + positions # add embeddngs to get final embedding\n",
        "\n"
      ]
    },
    {
      "cell_type": "code",
      "execution_count": 36,
      "id": "Alw220P21e6a",
      "metadata": {
        "id": "Alw220P21e6a"
      },
      "outputs": [],
      "source": [
        "\n",
        "# Source: In-class lecture notebook 13a\n",
        "# first, let's replace the original embedding in the xformer\n",
        "# with our custom Numberbatch embedding\n",
        "\n",
        "class NbTokenAndPositionEmbedding(Layer):\n",
        "    def __init__(self):\n",
        "        super().__init__()\n",
        "        # create two embeddings\n",
        "        # one for processing the tokens, pretrained (words)\n",
        "        self.token_emb = Embedding(len(word_index) + 1,\n",
        "                            EMBED_SIZE,\n",
        "                            weights=[embedding_matrix],# here is the embedding getting saved\n",
        "                            input_length=maxlen,\n",
        "                            trainable=False)\n",
        "\n",
        "        # another embedding for processing the position\n",
        "        self.pos_emb = Embedding(maxlen,\n",
        "                                 EMBED_SIZE,\n",
        "                                 input_length=maxlen,\n",
        "                                 trainable=True\n",
        "                                )\n",
        "\n",
        "    def call(self, x):\n",
        "        # create a static position measure (input)\n",
        "        maxlen = tf.shape(x)[-1]\n",
        "        positions = tf.range(start=0, limit=maxlen, delta=1)\n",
        "        positions = self.pos_emb(positions)# embed these positions\n",
        "        x = self.token_emb(x) # embed the tokens\n",
        "        return x + positions # add embeddngs to get final embedding"
      ]
    },
    {
      "cell_type": "code",
      "execution_count": 37,
      "id": "9daSa6cb1e6a",
      "metadata": {
        "colab": {
          "base_uri": "https://localhost:8080/"
        },
        "id": "9daSa6cb1e6a",
        "outputId": "f54a1bd8-e439-4f9e-aee7-96a019d77331"
      },
      "outputs": [
        {
          "name": "stdout",
          "output_type": "stream",
          "text": [
            "Model: \"model\"\n",
            "_________________________________________________________________\n",
            " Layer (type)                Output Shape              Param #   \n",
            "=================================================================\n",
            " input_1 (InputLayer)        [(None, 20)]              0         \n",
            "                                                                 \n",
            " nb_token_and_position_embed  (None, 20, 300)          1898700   \n",
            " ding (NbTokenAndPositionEmb                                     \n",
            " edding)                                                         \n",
            "                                                                 \n",
            " transformer_block (Transfor  (None, 20, 300)          1464632   \n",
            " merBlock)                                                       \n",
            "                                                                 \n",
            " global_average_pooling1d (G  (None, 300)              0         \n",
            " lobalAveragePooling1D)                                          \n",
            "                                                                 \n",
            " dropout_2 (Dropout)         (None, 300)               0         \n",
            "                                                                 \n",
            " dense_2 (Dense)             (None, 64)                19264     \n",
            "                                                                 \n",
            " dropout_3 (Dropout)         (None, 64)                0         \n",
            "                                                                 \n",
            " dense_3 (Dense)             (None, 2)                 130       \n",
            "                                                                 \n",
            "=================================================================\n",
            "Total params: 3,382,726\n",
            "Trainable params: 1,490,026\n",
            "Non-trainable params: 1,892,700\n",
            "_________________________________________________________________\n",
            "None\n"
          ]
        }
      ],
      "source": [
        "# Source: Modified from in-class lecture notebook 13a\n",
        "\n",
        "num_heads = 4  # Number of attention heads\n",
        "ff_dim = 32  # Hidden layer size in feed forward network inside transformer\n",
        "NUM_CLASSES = 2\n",
        "\n",
        "inputs = Input(shape=(train_words.shape[1],))\n",
        "x = NbTokenAndPositionEmbedding()(inputs)\n",
        "x = TransformerBlock(EMBED_SIZE, num_heads, ff_dim)(x)\n",
        "\n",
        "x = GlobalAveragePooling1D()(x)\n",
        "x = Dropout(0.2)(x)\n",
        "x = Dense(64, activation='relu')(x)\n",
        "x = Dropout(0.2)(x)\n",
        "preds = Dense(NUM_CLASSES, activation='softmax',\n",
        "              kernel_initializer='glorot_uniform')(x)\n",
        "\n",
        "model_xformer_nb = Model(inputs=inputs, outputs=preds)\n",
        "print(model_xformer_nb.summary())"
      ]
    },
    {
      "cell_type": "code",
      "execution_count": 38,
      "id": "X5eXYK-91e6a",
      "metadata": {
        "colab": {
          "base_uri": "https://localhost:8080/"
        },
        "id": "X5eXYK-91e6a",
        "outputId": "a3c212ca-4594-4d8e-d5b8-bc5d425eab73"
      },
      "outputs": [],
      "source": [
        "# Source: modified from in-class lecture notebook 13a\n",
        "\n",
        "# I don't want to train my model each time I run my notebook\n",
        "# Comment out the following conditional if training is desired\n",
        "if False: \n",
        "    model_xformer_nb.compile(\n",
        "        loss='categorical_crossentropy',\n",
        "        optimizer='adam',\n",
        "        metrics=['Precision']\n",
        "    )\n",
        "    histories_xformer_nb = []\n",
        "    tmp = model_xformer_nb.fit(train_words, train_targets_ohe,\n",
        "                    validation_data=(test_words, test_targets_ohe),\n",
        "                epochs=4, batch_size=16)\n",
        "    histories_xformer_nb.append(tmp)"
      ]
    },
    {
      "cell_type": "code",
      "execution_count": 39,
      "id": "_BWcjQfu1e6b",
      "metadata": {
        "colab": {
          "base_uri": "https://localhost:8080/",
          "height": 311
        },
        "id": "_BWcjQfu1e6b",
        "outputId": "fabd4208-c158-4a31-87e5-55cb9ea2354a"
      },
      "outputs": [],
      "source": [
        "if False:\n",
        "    %matplotlib inline\n",
        "    # Source: in class lecture notebook 13a\n",
        "    # combine all the history from training together\n",
        "    combined = dict()\n",
        "    for key in ['precision','val_precision','loss','val_loss']:\n",
        "        combined[key] = np.hstack([x.history[key] for x in histories_xformer_nb])\n",
        "\n",
        "    # summarize history for precision\n",
        "    plt.figure(figsize=(15,5))\n",
        "    plt.subplot(121)\n",
        "    plt.plot(combined['precision'])\n",
        "    plt.plot(combined['val_precision'])\n",
        "    plt.title('model precision')\n",
        "    plt.ylabel('precision')\n",
        "    plt.xlabel('epoch')\n",
        "    plt.legend(['train', 'test'], loc='upper left')\n",
        "\n",
        "    # summarize history for loss\n",
        "    plt.subplot(122)\n",
        "    plt.plot(combined['loss'])\n",
        "    plt.plot(combined['val_loss'])\n",
        "    plt.title('model loss')\n",
        "    plt.ylabel('loss')\n",
        "    plt.xlabel('epoch')\n",
        "    plt.legend(['train', 'test'], loc='upper left')\n",
        "    plt.show()"
      ]
    },
    {
      "cell_type": "markdown",
      "id": "ARfWj-df0UTL",
      "metadata": {
        "id": "ARfWj-df0UTL"
      },
      "source": [
        "The training on this model looks good. I may not be fully converged, but getting more than 97% precision out of the validation data is probably asking for a bit much. I'll save the weights so I can use them later."
      ]
    },
    {
      "cell_type": "code",
      "execution_count": 40,
      "id": "GYbIaAWwzfNA",
      "metadata": {
        "id": "GYbIaAWwzfNA"
      },
      "outputs": [],
      "source": [
        "if False: # I also don't want to save off new weights after training\n",
        "    model_xformer_nb.save_weights('bias_xformer_weights.h5')"
      ]
    },
    {
      "cell_type": "markdown",
      "id": "29b655a7",
      "metadata": {},
      "source": [
        "Let's pull the weights in and try to do the same predictions as done previously."
      ]
    },
    {
      "cell_type": "code",
      "execution_count": 41,
      "id": "f953b22a",
      "metadata": {},
      "outputs": [],
      "source": [
        "model_xformer_nb.load_weights('bias_xformer_weights.h5')"
      ]
    },
    {
      "cell_type": "code",
      "execution_count": 42,
      "id": "ababa60c",
      "metadata": {},
      "outputs": [],
      "source": [
        "# print out a goodness of fit\n",
        "# Note this isn't working quite right with the xformer\n",
        "# accuracy = accuracy_score(model_xformer_nb.predict(test_words), test_targets_ohe)\n",
        "# print(\"Accuracy of sentiment: {:.2%}\".format(accuracy))"
      ]
    },
    {
      "cell_type": "code",
      "execution_count": 43,
      "id": "6ce92cf8",
      "metadata": {},
      "outputs": [],
      "source": [
        "# # Source: Modified from notebook 01 ConceptNet\n",
        "# # Here I need to modify these functions to use my transformer\n",
        "# def vecs_to_sentiment_xformer(vecs):\n",
        "#     # predict_log_proba gives the log probability for each class\n",
        "#     predictions = model_xformer_nb.predict(vecs)\n",
        "\n",
        "#     # To see an overall positive vs. negative classification in one number,\n",
        "#     # we take the log probability of positive sentiment minus the log\n",
        "#     # probability of negative sentiment.\n",
        "#     # this is a logarithm of the max margin for the classifier,\n",
        "#     # similar to odds ratio (but not exact) log(p_1/p_0) = log(p_1)-log(p_0)\n",
        "#     return predictions[:, 1] - predictions[:, 0]\n",
        "\n",
        "\n",
        "# def words_to_sentiment(words):\n",
        "#     vecs = embeddings.loc[words].dropna()\n",
        "#     log_odds = vecs_to_sentiment_xformer(vecs)\n",
        "#     return pd.DataFrame({'sentiment': log_odds}, index=vecs.index)\n",
        "\n",
        "\n",
        "# def name_sentiment_table_xformer():\n",
        "#     frames = []\n",
        "#     for group, name_list in sorted(NAMES_BY_ETHNICITY.items()):\n",
        "#         lower_names = [name.lower() for name in name_list]\n",
        "#         sentiments = words_to_sentiment(lower_names)\n",
        "#         sentiments['group'] = group\n",
        "#         frames.append(sentiments)\n",
        "\n",
        "#     # Put together the data we got from each ethnic group into one big table\n",
        "#     return pd.concat(frames)"
      ]
    },
    {
      "cell_type": "code",
      "execution_count": null,
      "id": "d4af2bfe",
      "metadata": {},
      "outputs": [],
      "source": []
    },
    {
      "cell_type": "code",
      "execution_count": null,
      "id": "c868b52b",
      "metadata": {},
      "outputs": [],
      "source": []
    },
    {
      "cell_type": "code",
      "execution_count": 44,
      "id": "11b44cad",
      "metadata": {},
      "outputs": [],
      "source": [
        "def vecs_to_sentiment_xformer(vecs):\n",
        "    # predict_log_proba gives the log probability for each class\n",
        "    predictions = model_xformer_nb.predict(vecs)\n",
        "\n",
        "    # To see an overall positive vs. negative classification in one number,\n",
        "    # we take the log probability of positive sentiment minus the log\n",
        "    # probability of negative sentiment.\n",
        "    # this is a logarithm of the max margin for the classifier,\n",
        "    # similar to odds ratio (but not exact) log(p_1/p_0) = log(p_1)-log(p_0)\n",
        "    return predictions[:, 1] - predictions[:, 0]\n",
        "\n",
        "\n",
        "def words_to_sentiment_xformer(words):\n",
        "    # vecs = embeddings.loc[words].dropna()\n",
        "    tokenizer.fit_on_texts(words)\n",
        "    sequences = tokenizer.texts_to_sequences(words)\n",
        "    padded_sequences = pad_sequences(sequences, maxlen=maxlen)\n",
        "    log_odds = vecs_to_sentiment_xformer(padded_sequences)\n",
        "    return pd.DataFrame({'sentiment': log_odds}, index=sequences.index)\n",
        "\n",
        "\n",
        "def name_sentiment_table_xformer():\n",
        "    frames = []\n",
        "    for group, name_list in sorted(NAMES_BY_ETHNICITY.items()):\n",
        "        lower_names = [name.lower() for name in name_list]\n",
        "        sentiments = words_to_sentiment_xformer(lower_names)\n",
        "        sentiments['group'] = group\n",
        "        frames.append(sentiments)\n",
        "\n",
        "    # Put together the data we got from each ethnic group into one big table\n",
        "    return pd.concat(frames)"
      ]
    },
    {
      "cell_type": "markdown",
      "id": "4c952fe9",
      "metadata": {},
      "source": [
        "**Still need to word tokenize the names and 0 pad them**"
      ]
    },
    {
      "cell_type": "code",
      "execution_count": 45,
      "id": "4ab9857c",
      "metadata": {},
      "outputs": [
        {
          "ename": "InvalidArgumentError",
          "evalue": "Graph execution error:\n\nDetected at node 'model/nb_token_and_position_embedding/embedding_2/embedding_lookup' defined at (most recent call last):\n    File \"c:\\Users\\Chip\\anaconda3\\envs\\mlenv7324\\lib\\runpy.py\", line 197, in _run_module_as_main\n      return _run_code(code, main_globals, None,\n    File \"c:\\Users\\Chip\\anaconda3\\envs\\mlenv7324\\lib\\runpy.py\", line 87, in _run_code\n      exec(code, run_globals)\n    File \"c:\\Users\\Chip\\anaconda3\\envs\\mlenv7324\\lib\\site-packages\\ipykernel_launcher.py\", line 17, in <module>\n      app.launch_new_instance()\n    File \"c:\\Users\\Chip\\anaconda3\\envs\\mlenv7324\\lib\\site-packages\\traitlets\\config\\application.py\", line 992, in launch_instance\n      app.start()\n    File \"c:\\Users\\Chip\\anaconda3\\envs\\mlenv7324\\lib\\site-packages\\ipykernel\\kernelapp.py\", line 736, in start\n      self.io_loop.start()\n    File \"c:\\Users\\Chip\\anaconda3\\envs\\mlenv7324\\lib\\site-packages\\tornado\\platform\\asyncio.py\", line 195, in start\n      self.asyncio_loop.run_forever()\n    File \"c:\\Users\\Chip\\anaconda3\\envs\\mlenv7324\\lib\\asyncio\\base_events.py\", line 601, in run_forever\n      self._run_once()\n    File \"c:\\Users\\Chip\\anaconda3\\envs\\mlenv7324\\lib\\asyncio\\base_events.py\", line 1905, in _run_once\n      handle._run()\n    File \"c:\\Users\\Chip\\anaconda3\\envs\\mlenv7324\\lib\\asyncio\\events.py\", line 80, in _run\n      self._context.run(self._callback, *self._args)\n    File \"c:\\Users\\Chip\\anaconda3\\envs\\mlenv7324\\lib\\site-packages\\ipykernel\\kernelbase.py\", line 516, in dispatch_queue\n      await self.process_one()\n    File \"c:\\Users\\Chip\\anaconda3\\envs\\mlenv7324\\lib\\site-packages\\ipykernel\\kernelbase.py\", line 505, in process_one\n      await dispatch(*args)\n    File \"c:\\Users\\Chip\\anaconda3\\envs\\mlenv7324\\lib\\site-packages\\ipykernel\\kernelbase.py\", line 412, in dispatch_shell\n      await result\n    File \"c:\\Users\\Chip\\anaconda3\\envs\\mlenv7324\\lib\\site-packages\\ipykernel\\kernelbase.py\", line 740, in execute_request\n      reply_content = await reply_content\n    File \"c:\\Users\\Chip\\anaconda3\\envs\\mlenv7324\\lib\\site-packages\\ipykernel\\ipkernel.py\", line 422, in do_execute\n      res = shell.run_cell(\n    File \"c:\\Users\\Chip\\anaconda3\\envs\\mlenv7324\\lib\\site-packages\\ipykernel\\zmqshell.py\", line 546, in run_cell\n      return super().run_cell(*args, **kwargs)\n    File \"c:\\Users\\Chip\\anaconda3\\envs\\mlenv7324\\lib\\site-packages\\IPython\\core\\interactiveshell.py\", line 3024, in run_cell\n      result = self._run_cell(\n    File \"c:\\Users\\Chip\\anaconda3\\envs\\mlenv7324\\lib\\site-packages\\IPython\\core\\interactiveshell.py\", line 3079, in _run_cell\n      result = runner(coro)\n    File \"c:\\Users\\Chip\\anaconda3\\envs\\mlenv7324\\lib\\site-packages\\IPython\\core\\async_helpers.py\", line 129, in _pseudo_sync_runner\n      coro.send(None)\n    File \"c:\\Users\\Chip\\anaconda3\\envs\\mlenv7324\\lib\\site-packages\\IPython\\core\\interactiveshell.py\", line 3284, in run_cell_async\n      has_raised = await self.run_ast_nodes(code_ast.body, cell_name,\n    File \"c:\\Users\\Chip\\anaconda3\\envs\\mlenv7324\\lib\\site-packages\\IPython\\core\\interactiveshell.py\", line 3466, in run_ast_nodes\n      if await self.run_code(code, result, async_=asy):\n    File \"c:\\Users\\Chip\\anaconda3\\envs\\mlenv7324\\lib\\site-packages\\IPython\\core\\interactiveshell.py\", line 3526, in run_code\n      exec(code_obj, self.user_global_ns, self.user_ns)\n    File \"C:\\Users\\Chip\\AppData\\Local\\Temp\\ipykernel_13804\\2308350163.py\", line 2, in <module>\n      name_sentiments = name_sentiment_table_xformer()\n    File \"C:\\Users\\Chip\\AppData\\Local\\Temp\\ipykernel_13804\\1993612535.py\", line 26, in name_sentiment_table_xformer\n      sentiments = words_to_sentiment_xformer(lower_names)\n    File \"C:\\Users\\Chip\\AppData\\Local\\Temp\\ipykernel_13804\\1993612535.py\", line 18, in words_to_sentiment_xformer\n      log_odds = vecs_to_sentiment_xformer(padded_sequences)\n    File \"C:\\Users\\Chip\\AppData\\Local\\Temp\\ipykernel_13804\\1993612535.py\", line 3, in vecs_to_sentiment_xformer\n      predictions = model_xformer_nb.predict(vecs)\n    File \"C:\\Users\\Chip\\AppData\\Roaming\\Python\\Python39\\site-packages\\keras\\utils\\traceback_utils.py\", line 65, in error_handler\n      return fn(*args, **kwargs)\n    File \"C:\\Users\\Chip\\AppData\\Roaming\\Python\\Python39\\site-packages\\keras\\engine\\training.py\", line 2382, in predict\n      tmp_batch_outputs = self.predict_function(iterator)\n    File \"C:\\Users\\Chip\\AppData\\Roaming\\Python\\Python39\\site-packages\\keras\\engine\\training.py\", line 2169, in predict_function\n      return step_function(self, iterator)\n    File \"C:\\Users\\Chip\\AppData\\Roaming\\Python\\Python39\\site-packages\\keras\\engine\\training.py\", line 2155, in step_function\n      outputs = model.distribute_strategy.run(run_step, args=(data,))\n    File \"C:\\Users\\Chip\\AppData\\Roaming\\Python\\Python39\\site-packages\\keras\\engine\\training.py\", line 2143, in run_step\n      outputs = model.predict_step(data)\n    File \"C:\\Users\\Chip\\AppData\\Roaming\\Python\\Python39\\site-packages\\keras\\engine\\training.py\", line 2111, in predict_step\n      return self(x, training=False)\n    File \"C:\\Users\\Chip\\AppData\\Roaming\\Python\\Python39\\site-packages\\keras\\utils\\traceback_utils.py\", line 65, in error_handler\n      return fn(*args, **kwargs)\n    File \"C:\\Users\\Chip\\AppData\\Roaming\\Python\\Python39\\site-packages\\keras\\engine\\training.py\", line 558, in __call__\n      return super().__call__(*args, **kwargs)\n    File \"C:\\Users\\Chip\\AppData\\Roaming\\Python\\Python39\\site-packages\\keras\\utils\\traceback_utils.py\", line 65, in error_handler\n      return fn(*args, **kwargs)\n    File \"C:\\Users\\Chip\\AppData\\Roaming\\Python\\Python39\\site-packages\\keras\\engine\\base_layer.py\", line 1145, in __call__\n      outputs = call_fn(inputs, *args, **kwargs)\n    File \"C:\\Users\\Chip\\AppData\\Roaming\\Python\\Python39\\site-packages\\keras\\utils\\traceback_utils.py\", line 96, in error_handler\n      return fn(*args, **kwargs)\n    File \"C:\\Users\\Chip\\AppData\\Roaming\\Python\\Python39\\site-packages\\keras\\engine\\functional.py\", line 512, in call\n      return self._run_internal_graph(inputs, training=training, mask=mask)\n    File \"C:\\Users\\Chip\\AppData\\Roaming\\Python\\Python39\\site-packages\\keras\\engine\\functional.py\", line 669, in _run_internal_graph\n      outputs = node.layer(*args, **kwargs)\n    File \"C:\\Users\\Chip\\AppData\\Roaming\\Python\\Python39\\site-packages\\keras\\utils\\traceback_utils.py\", line 65, in error_handler\n      return fn(*args, **kwargs)\n    File \"C:\\Users\\Chip\\AppData\\Roaming\\Python\\Python39\\site-packages\\keras\\engine\\base_layer.py\", line 1145, in __call__\n      outputs = call_fn(inputs, *args, **kwargs)\n    File \"C:\\Users\\Chip\\AppData\\Roaming\\Python\\Python39\\site-packages\\keras\\utils\\traceback_utils.py\", line 96, in error_handler\n      return fn(*args, **kwargs)\n    File \"C:\\Users\\Chip\\AppData\\Local\\Temp\\ipykernel_13804\\1912540550.py\", line 28, in call\n      x = self.token_emb(x) # embed the tokens\n    File \"C:\\Users\\Chip\\AppData\\Roaming\\Python\\Python39\\site-packages\\keras\\utils\\traceback_utils.py\", line 65, in error_handler\n      return fn(*args, **kwargs)\n    File \"C:\\Users\\Chip\\AppData\\Roaming\\Python\\Python39\\site-packages\\keras\\engine\\base_layer.py\", line 1145, in __call__\n      outputs = call_fn(inputs, *args, **kwargs)\n    File \"C:\\Users\\Chip\\AppData\\Roaming\\Python\\Python39\\site-packages\\keras\\utils\\traceback_utils.py\", line 96, in error_handler\n      return fn(*args, **kwargs)\n    File \"C:\\Users\\Chip\\AppData\\Roaming\\Python\\Python39\\site-packages\\keras\\layers\\core\\embedding.py\", line 272, in call\n      out = tf.nn.embedding_lookup(self.embeddings, inputs)\nNode: 'model/nb_token_and_position_embedding/embedding_2/embedding_lookup'\nindices[6,19] = 6315 is not in [0, 6309)\n\t [[{{node model/nb_token_and_position_embedding/embedding_2/embedding_lookup}}]] [Op:__inference_predict_function_698]",
          "output_type": "error",
          "traceback": [
            "\u001b[1;31m---------------------------------------------------------------------------\u001b[0m",
            "\u001b[1;31mInvalidArgumentError\u001b[0m                      Traceback (most recent call last)",
            "\u001b[1;32mc:\\Users\\Chip\\source\\repos\\cs8321_code\\Lab 1\\Henderson_48996654_Lab_1.ipynb Cell 42\u001b[0m line \u001b[0;36m2\n\u001b[0;32m      <a href='vscode-notebook-cell:/c%3A/Users/Chip/source/repos/cs8321_code/Lab%201/Henderson_48996654_Lab_1.ipynb#X56sZmlsZQ%3D%3D?line=0'>1</a>\u001b[0m \u001b[39m# get the name table of different people's names and save embeddings\u001b[39;00m\n\u001b[1;32m----> <a href='vscode-notebook-cell:/c%3A/Users/Chip/source/repos/cs8321_code/Lab%201/Henderson_48996654_Lab_1.ipynb#X56sZmlsZQ%3D%3D?line=1'>2</a>\u001b[0m name_sentiments \u001b[39m=\u001b[39m name_sentiment_table_xformer()\n\u001b[0;32m      <a href='vscode-notebook-cell:/c%3A/Users/Chip/source/repos/cs8321_code/Lab%201/Henderson_48996654_Lab_1.ipynb#X56sZmlsZQ%3D%3D?line=3'>4</a>\u001b[0m stats\u001b[39m.\u001b[39mf_oneway(\n\u001b[0;32m      <a href='vscode-notebook-cell:/c%3A/Users/Chip/source/repos/cs8321_code/Lab%201/Henderson_48996654_Lab_1.ipynb#X56sZmlsZQ%3D%3D?line=4'>5</a>\u001b[0m     name_sentiments[\u001b[39m'\u001b[39m\u001b[39msentiment\u001b[39m\u001b[39m'\u001b[39m][name_sentiments[\u001b[39m'\u001b[39m\u001b[39mgroup\u001b[39m\u001b[39m'\u001b[39m] \u001b[39m==\u001b[39m \u001b[39m'\u001b[39m\u001b[39mWhite\u001b[39m\u001b[39m'\u001b[39m],\n\u001b[0;32m      <a href='vscode-notebook-cell:/c%3A/Users/Chip/source/repos/cs8321_code/Lab%201/Henderson_48996654_Lab_1.ipynb#X56sZmlsZQ%3D%3D?line=5'>6</a>\u001b[0m     name_sentiments[\u001b[39m'\u001b[39m\u001b[39msentiment\u001b[39m\u001b[39m'\u001b[39m][name_sentiments[\u001b[39m'\u001b[39m\u001b[39mgroup\u001b[39m\u001b[39m'\u001b[39m] \u001b[39m==\u001b[39m \u001b[39m'\u001b[39m\u001b[39mBlack\u001b[39m\u001b[39m'\u001b[39m],\n\u001b[0;32m      <a href='vscode-notebook-cell:/c%3A/Users/Chip/source/repos/cs8321_code/Lab%201/Henderson_48996654_Lab_1.ipynb#X56sZmlsZQ%3D%3D?line=6'>7</a>\u001b[0m     name_sentiments[\u001b[39m'\u001b[39m\u001b[39msentiment\u001b[39m\u001b[39m'\u001b[39m][name_sentiments[\u001b[39m'\u001b[39m\u001b[39mgroup\u001b[39m\u001b[39m'\u001b[39m] \u001b[39m==\u001b[39m \u001b[39m'\u001b[39m\u001b[39mHispanic\u001b[39m\u001b[39m'\u001b[39m],\n\u001b[0;32m      <a href='vscode-notebook-cell:/c%3A/Users/Chip/source/repos/cs8321_code/Lab%201/Henderson_48996654_Lab_1.ipynb#X56sZmlsZQ%3D%3D?line=7'>8</a>\u001b[0m     name_sentiments[\u001b[39m'\u001b[39m\u001b[39msentiment\u001b[39m\u001b[39m'\u001b[39m][name_sentiments[\u001b[39m'\u001b[39m\u001b[39mgroup\u001b[39m\u001b[39m'\u001b[39m] \u001b[39m==\u001b[39m \u001b[39m'\u001b[39m\u001b[39mArab/Muslim\u001b[39m\u001b[39m'\u001b[39m],\n\u001b[0;32m      <a href='vscode-notebook-cell:/c%3A/Users/Chip/source/repos/cs8321_code/Lab%201/Henderson_48996654_Lab_1.ipynb#X56sZmlsZQ%3D%3D?line=8'>9</a>\u001b[0m )\n\u001b[0;32m     <a href='vscode-notebook-cell:/c%3A/Users/Chip/source/repos/cs8321_code/Lab%201/Henderson_48996654_Lab_1.ipynb#X56sZmlsZQ%3D%3D?line=10'>11</a>\u001b[0m name_sentiments \u001b[39m=\u001b[39m name_sentiment_table_xformer()\n",
            "\u001b[1;32mc:\\Users\\Chip\\source\\repos\\cs8321_code\\Lab 1\\Henderson_48996654_Lab_1.ipynb Cell 42\u001b[0m line \u001b[0;36m2\n\u001b[0;32m     <a href='vscode-notebook-cell:/c%3A/Users/Chip/source/repos/cs8321_code/Lab%201/Henderson_48996654_Lab_1.ipynb#X56sZmlsZQ%3D%3D?line=23'>24</a>\u001b[0m \u001b[39mfor\u001b[39;00m group, name_list \u001b[39min\u001b[39;00m \u001b[39msorted\u001b[39m(NAMES_BY_ETHNICITY\u001b[39m.\u001b[39mitems()):\n\u001b[0;32m     <a href='vscode-notebook-cell:/c%3A/Users/Chip/source/repos/cs8321_code/Lab%201/Henderson_48996654_Lab_1.ipynb#X56sZmlsZQ%3D%3D?line=24'>25</a>\u001b[0m     lower_names \u001b[39m=\u001b[39m [name\u001b[39m.\u001b[39mlower() \u001b[39mfor\u001b[39;00m name \u001b[39min\u001b[39;00m name_list]\n\u001b[1;32m---> <a href='vscode-notebook-cell:/c%3A/Users/Chip/source/repos/cs8321_code/Lab%201/Henderson_48996654_Lab_1.ipynb#X56sZmlsZQ%3D%3D?line=25'>26</a>\u001b[0m     sentiments \u001b[39m=\u001b[39m words_to_sentiment_xformer(lower_names)\n\u001b[0;32m     <a href='vscode-notebook-cell:/c%3A/Users/Chip/source/repos/cs8321_code/Lab%201/Henderson_48996654_Lab_1.ipynb#X56sZmlsZQ%3D%3D?line=26'>27</a>\u001b[0m     sentiments[\u001b[39m'\u001b[39m\u001b[39mgroup\u001b[39m\u001b[39m'\u001b[39m] \u001b[39m=\u001b[39m group\n\u001b[0;32m     <a href='vscode-notebook-cell:/c%3A/Users/Chip/source/repos/cs8321_code/Lab%201/Henderson_48996654_Lab_1.ipynb#X56sZmlsZQ%3D%3D?line=27'>28</a>\u001b[0m     frames\u001b[39m.\u001b[39mappend(sentiments)\n",
            "\u001b[1;32mc:\\Users\\Chip\\source\\repos\\cs8321_code\\Lab 1\\Henderson_48996654_Lab_1.ipynb Cell 42\u001b[0m line \u001b[0;36m1\n\u001b[0;32m     <a href='vscode-notebook-cell:/c%3A/Users/Chip/source/repos/cs8321_code/Lab%201/Henderson_48996654_Lab_1.ipynb#X56sZmlsZQ%3D%3D?line=15'>16</a>\u001b[0m sequences \u001b[39m=\u001b[39m tokenizer\u001b[39m.\u001b[39mtexts_to_sequences(words)\n\u001b[0;32m     <a href='vscode-notebook-cell:/c%3A/Users/Chip/source/repos/cs8321_code/Lab%201/Henderson_48996654_Lab_1.ipynb#X56sZmlsZQ%3D%3D?line=16'>17</a>\u001b[0m padded_sequences \u001b[39m=\u001b[39m pad_sequences(sequences, maxlen\u001b[39m=\u001b[39mmaxlen)\n\u001b[1;32m---> <a href='vscode-notebook-cell:/c%3A/Users/Chip/source/repos/cs8321_code/Lab%201/Henderson_48996654_Lab_1.ipynb#X56sZmlsZQ%3D%3D?line=17'>18</a>\u001b[0m log_odds \u001b[39m=\u001b[39m vecs_to_sentiment_xformer(padded_sequences)\n\u001b[0;32m     <a href='vscode-notebook-cell:/c%3A/Users/Chip/source/repos/cs8321_code/Lab%201/Henderson_48996654_Lab_1.ipynb#X56sZmlsZQ%3D%3D?line=18'>19</a>\u001b[0m \u001b[39mreturn\u001b[39;00m pd\u001b[39m.\u001b[39mDataFrame({\u001b[39m'\u001b[39m\u001b[39msentiment\u001b[39m\u001b[39m'\u001b[39m: log_odds}, index\u001b[39m=\u001b[39msequences\u001b[39m.\u001b[39mindex)\n",
            "\u001b[1;32mc:\\Users\\Chip\\source\\repos\\cs8321_code\\Lab 1\\Henderson_48996654_Lab_1.ipynb Cell 42\u001b[0m line \u001b[0;36m3\n\u001b[0;32m      <a href='vscode-notebook-cell:/c%3A/Users/Chip/source/repos/cs8321_code/Lab%201/Henderson_48996654_Lab_1.ipynb#X56sZmlsZQ%3D%3D?line=0'>1</a>\u001b[0m \u001b[39mdef\u001b[39;00m \u001b[39mvecs_to_sentiment_xformer\u001b[39m(vecs):\n\u001b[0;32m      <a href='vscode-notebook-cell:/c%3A/Users/Chip/source/repos/cs8321_code/Lab%201/Henderson_48996654_Lab_1.ipynb#X56sZmlsZQ%3D%3D?line=1'>2</a>\u001b[0m     \u001b[39m# predict_log_proba gives the log probability for each class\u001b[39;00m\n\u001b[1;32m----> <a href='vscode-notebook-cell:/c%3A/Users/Chip/source/repos/cs8321_code/Lab%201/Henderson_48996654_Lab_1.ipynb#X56sZmlsZQ%3D%3D?line=2'>3</a>\u001b[0m     predictions \u001b[39m=\u001b[39m model_xformer_nb\u001b[39m.\u001b[39;49mpredict(vecs)\n\u001b[0;32m      <a href='vscode-notebook-cell:/c%3A/Users/Chip/source/repos/cs8321_code/Lab%201/Henderson_48996654_Lab_1.ipynb#X56sZmlsZQ%3D%3D?line=4'>5</a>\u001b[0m     \u001b[39m# To see an overall positive vs. negative classification in one number,\u001b[39;00m\n\u001b[0;32m      <a href='vscode-notebook-cell:/c%3A/Users/Chip/source/repos/cs8321_code/Lab%201/Henderson_48996654_Lab_1.ipynb#X56sZmlsZQ%3D%3D?line=5'>6</a>\u001b[0m     \u001b[39m# we take the log probability of positive sentiment minus the log\u001b[39;00m\n\u001b[0;32m      <a href='vscode-notebook-cell:/c%3A/Users/Chip/source/repos/cs8321_code/Lab%201/Henderson_48996654_Lab_1.ipynb#X56sZmlsZQ%3D%3D?line=6'>7</a>\u001b[0m     \u001b[39m# probability of negative sentiment.\u001b[39;00m\n\u001b[0;32m      <a href='vscode-notebook-cell:/c%3A/Users/Chip/source/repos/cs8321_code/Lab%201/Henderson_48996654_Lab_1.ipynb#X56sZmlsZQ%3D%3D?line=7'>8</a>\u001b[0m     \u001b[39m# this is a logarithm of the max margin for the classifier,\u001b[39;00m\n\u001b[0;32m      <a href='vscode-notebook-cell:/c%3A/Users/Chip/source/repos/cs8321_code/Lab%201/Henderson_48996654_Lab_1.ipynb#X56sZmlsZQ%3D%3D?line=8'>9</a>\u001b[0m     \u001b[39m# similar to odds ratio (but not exact) log(p_1/p_0) = log(p_1)-log(p_0)\u001b[39;00m\n\u001b[0;32m     <a href='vscode-notebook-cell:/c%3A/Users/Chip/source/repos/cs8321_code/Lab%201/Henderson_48996654_Lab_1.ipynb#X56sZmlsZQ%3D%3D?line=9'>10</a>\u001b[0m     \u001b[39mreturn\u001b[39;00m predictions[:, \u001b[39m1\u001b[39m] \u001b[39m-\u001b[39m predictions[:, \u001b[39m0\u001b[39m]\n",
            "File \u001b[1;32m~\\AppData\\Roaming\\Python\\Python39\\site-packages\\keras\\utils\\traceback_utils.py:70\u001b[0m, in \u001b[0;36mfilter_traceback.<locals>.error_handler\u001b[1;34m(*args, **kwargs)\u001b[0m\n\u001b[0;32m     67\u001b[0m     filtered_tb \u001b[39m=\u001b[39m _process_traceback_frames(e\u001b[39m.\u001b[39m__traceback__)\n\u001b[0;32m     68\u001b[0m     \u001b[39m# To get the full stack trace, call:\u001b[39;00m\n\u001b[0;32m     69\u001b[0m     \u001b[39m# `tf.debugging.disable_traceback_filtering()`\u001b[39;00m\n\u001b[1;32m---> 70\u001b[0m     \u001b[39mraise\u001b[39;00m e\u001b[39m.\u001b[39mwith_traceback(filtered_tb) \u001b[39mfrom\u001b[39;00m \u001b[39mNone\u001b[39;00m\n\u001b[0;32m     71\u001b[0m \u001b[39mfinally\u001b[39;00m:\n\u001b[0;32m     72\u001b[0m     \u001b[39mdel\u001b[39;00m filtered_tb\n",
            "File \u001b[1;32m~\\AppData\\Roaming\\Python\\Python39\\site-packages\\tensorflow\\python\\eager\\execute.py:52\u001b[0m, in \u001b[0;36mquick_execute\u001b[1;34m(op_name, num_outputs, inputs, attrs, ctx, name)\u001b[0m\n\u001b[0;32m     50\u001b[0m \u001b[39mtry\u001b[39;00m:\n\u001b[0;32m     51\u001b[0m   ctx\u001b[39m.\u001b[39mensure_initialized()\n\u001b[1;32m---> 52\u001b[0m   tensors \u001b[39m=\u001b[39m pywrap_tfe\u001b[39m.\u001b[39mTFE_Py_Execute(ctx\u001b[39m.\u001b[39m_handle, device_name, op_name,\n\u001b[0;32m     53\u001b[0m                                       inputs, attrs, num_outputs)\n\u001b[0;32m     54\u001b[0m \u001b[39mexcept\u001b[39;00m core\u001b[39m.\u001b[39m_NotOkStatusException \u001b[39mas\u001b[39;00m e:\n\u001b[0;32m     55\u001b[0m   \u001b[39mif\u001b[39;00m name \u001b[39mis\u001b[39;00m \u001b[39mnot\u001b[39;00m \u001b[39mNone\u001b[39;00m:\n",
            "\u001b[1;31mInvalidArgumentError\u001b[0m: Graph execution error:\n\nDetected at node 'model/nb_token_and_position_embedding/embedding_2/embedding_lookup' defined at (most recent call last):\n    File \"c:\\Users\\Chip\\anaconda3\\envs\\mlenv7324\\lib\\runpy.py\", line 197, in _run_module_as_main\n      return _run_code(code, main_globals, None,\n    File \"c:\\Users\\Chip\\anaconda3\\envs\\mlenv7324\\lib\\runpy.py\", line 87, in _run_code\n      exec(code, run_globals)\n    File \"c:\\Users\\Chip\\anaconda3\\envs\\mlenv7324\\lib\\site-packages\\ipykernel_launcher.py\", line 17, in <module>\n      app.launch_new_instance()\n    File \"c:\\Users\\Chip\\anaconda3\\envs\\mlenv7324\\lib\\site-packages\\traitlets\\config\\application.py\", line 992, in launch_instance\n      app.start()\n    File \"c:\\Users\\Chip\\anaconda3\\envs\\mlenv7324\\lib\\site-packages\\ipykernel\\kernelapp.py\", line 736, in start\n      self.io_loop.start()\n    File \"c:\\Users\\Chip\\anaconda3\\envs\\mlenv7324\\lib\\site-packages\\tornado\\platform\\asyncio.py\", line 195, in start\n      self.asyncio_loop.run_forever()\n    File \"c:\\Users\\Chip\\anaconda3\\envs\\mlenv7324\\lib\\asyncio\\base_events.py\", line 601, in run_forever\n      self._run_once()\n    File \"c:\\Users\\Chip\\anaconda3\\envs\\mlenv7324\\lib\\asyncio\\base_events.py\", line 1905, in _run_once\n      handle._run()\n    File \"c:\\Users\\Chip\\anaconda3\\envs\\mlenv7324\\lib\\asyncio\\events.py\", line 80, in _run\n      self._context.run(self._callback, *self._args)\n    File \"c:\\Users\\Chip\\anaconda3\\envs\\mlenv7324\\lib\\site-packages\\ipykernel\\kernelbase.py\", line 516, in dispatch_queue\n      await self.process_one()\n    File \"c:\\Users\\Chip\\anaconda3\\envs\\mlenv7324\\lib\\site-packages\\ipykernel\\kernelbase.py\", line 505, in process_one\n      await dispatch(*args)\n    File \"c:\\Users\\Chip\\anaconda3\\envs\\mlenv7324\\lib\\site-packages\\ipykernel\\kernelbase.py\", line 412, in dispatch_shell\n      await result\n    File \"c:\\Users\\Chip\\anaconda3\\envs\\mlenv7324\\lib\\site-packages\\ipykernel\\kernelbase.py\", line 740, in execute_request\n      reply_content = await reply_content\n    File \"c:\\Users\\Chip\\anaconda3\\envs\\mlenv7324\\lib\\site-packages\\ipykernel\\ipkernel.py\", line 422, in do_execute\n      res = shell.run_cell(\n    File \"c:\\Users\\Chip\\anaconda3\\envs\\mlenv7324\\lib\\site-packages\\ipykernel\\zmqshell.py\", line 546, in run_cell\n      return super().run_cell(*args, **kwargs)\n    File \"c:\\Users\\Chip\\anaconda3\\envs\\mlenv7324\\lib\\site-packages\\IPython\\core\\interactiveshell.py\", line 3024, in run_cell\n      result = self._run_cell(\n    File \"c:\\Users\\Chip\\anaconda3\\envs\\mlenv7324\\lib\\site-packages\\IPython\\core\\interactiveshell.py\", line 3079, in _run_cell\n      result = runner(coro)\n    File \"c:\\Users\\Chip\\anaconda3\\envs\\mlenv7324\\lib\\site-packages\\IPython\\core\\async_helpers.py\", line 129, in _pseudo_sync_runner\n      coro.send(None)\n    File \"c:\\Users\\Chip\\anaconda3\\envs\\mlenv7324\\lib\\site-packages\\IPython\\core\\interactiveshell.py\", line 3284, in run_cell_async\n      has_raised = await self.run_ast_nodes(code_ast.body, cell_name,\n    File \"c:\\Users\\Chip\\anaconda3\\envs\\mlenv7324\\lib\\site-packages\\IPython\\core\\interactiveshell.py\", line 3466, in run_ast_nodes\n      if await self.run_code(code, result, async_=asy):\n    File \"c:\\Users\\Chip\\anaconda3\\envs\\mlenv7324\\lib\\site-packages\\IPython\\core\\interactiveshell.py\", line 3526, in run_code\n      exec(code_obj, self.user_global_ns, self.user_ns)\n    File \"C:\\Users\\Chip\\AppData\\Local\\Temp\\ipykernel_13804\\2308350163.py\", line 2, in <module>\n      name_sentiments = name_sentiment_table_xformer()\n    File \"C:\\Users\\Chip\\AppData\\Local\\Temp\\ipykernel_13804\\1993612535.py\", line 26, in name_sentiment_table_xformer\n      sentiments = words_to_sentiment_xformer(lower_names)\n    File \"C:\\Users\\Chip\\AppData\\Local\\Temp\\ipykernel_13804\\1993612535.py\", line 18, in words_to_sentiment_xformer\n      log_odds = vecs_to_sentiment_xformer(padded_sequences)\n    File \"C:\\Users\\Chip\\AppData\\Local\\Temp\\ipykernel_13804\\1993612535.py\", line 3, in vecs_to_sentiment_xformer\n      predictions = model_xformer_nb.predict(vecs)\n    File \"C:\\Users\\Chip\\AppData\\Roaming\\Python\\Python39\\site-packages\\keras\\utils\\traceback_utils.py\", line 65, in error_handler\n      return fn(*args, **kwargs)\n    File \"C:\\Users\\Chip\\AppData\\Roaming\\Python\\Python39\\site-packages\\keras\\engine\\training.py\", line 2382, in predict\n      tmp_batch_outputs = self.predict_function(iterator)\n    File \"C:\\Users\\Chip\\AppData\\Roaming\\Python\\Python39\\site-packages\\keras\\engine\\training.py\", line 2169, in predict_function\n      return step_function(self, iterator)\n    File \"C:\\Users\\Chip\\AppData\\Roaming\\Python\\Python39\\site-packages\\keras\\engine\\training.py\", line 2155, in step_function\n      outputs = model.distribute_strategy.run(run_step, args=(data,))\n    File \"C:\\Users\\Chip\\AppData\\Roaming\\Python\\Python39\\site-packages\\keras\\engine\\training.py\", line 2143, in run_step\n      outputs = model.predict_step(data)\n    File \"C:\\Users\\Chip\\AppData\\Roaming\\Python\\Python39\\site-packages\\keras\\engine\\training.py\", line 2111, in predict_step\n      return self(x, training=False)\n    File \"C:\\Users\\Chip\\AppData\\Roaming\\Python\\Python39\\site-packages\\keras\\utils\\traceback_utils.py\", line 65, in error_handler\n      return fn(*args, **kwargs)\n    File \"C:\\Users\\Chip\\AppData\\Roaming\\Python\\Python39\\site-packages\\keras\\engine\\training.py\", line 558, in __call__\n      return super().__call__(*args, **kwargs)\n    File \"C:\\Users\\Chip\\AppData\\Roaming\\Python\\Python39\\site-packages\\keras\\utils\\traceback_utils.py\", line 65, in error_handler\n      return fn(*args, **kwargs)\n    File \"C:\\Users\\Chip\\AppData\\Roaming\\Python\\Python39\\site-packages\\keras\\engine\\base_layer.py\", line 1145, in __call__\n      outputs = call_fn(inputs, *args, **kwargs)\n    File \"C:\\Users\\Chip\\AppData\\Roaming\\Python\\Python39\\site-packages\\keras\\utils\\traceback_utils.py\", line 96, in error_handler\n      return fn(*args, **kwargs)\n    File \"C:\\Users\\Chip\\AppData\\Roaming\\Python\\Python39\\site-packages\\keras\\engine\\functional.py\", line 512, in call\n      return self._run_internal_graph(inputs, training=training, mask=mask)\n    File \"C:\\Users\\Chip\\AppData\\Roaming\\Python\\Python39\\site-packages\\keras\\engine\\functional.py\", line 669, in _run_internal_graph\n      outputs = node.layer(*args, **kwargs)\n    File \"C:\\Users\\Chip\\AppData\\Roaming\\Python\\Python39\\site-packages\\keras\\utils\\traceback_utils.py\", line 65, in error_handler\n      return fn(*args, **kwargs)\n    File \"C:\\Users\\Chip\\AppData\\Roaming\\Python\\Python39\\site-packages\\keras\\engine\\base_layer.py\", line 1145, in __call__\n      outputs = call_fn(inputs, *args, **kwargs)\n    File \"C:\\Users\\Chip\\AppData\\Roaming\\Python\\Python39\\site-packages\\keras\\utils\\traceback_utils.py\", line 96, in error_handler\n      return fn(*args, **kwargs)\n    File \"C:\\Users\\Chip\\AppData\\Local\\Temp\\ipykernel_13804\\1912540550.py\", line 28, in call\n      x = self.token_emb(x) # embed the tokens\n    File \"C:\\Users\\Chip\\AppData\\Roaming\\Python\\Python39\\site-packages\\keras\\utils\\traceback_utils.py\", line 65, in error_handler\n      return fn(*args, **kwargs)\n    File \"C:\\Users\\Chip\\AppData\\Roaming\\Python\\Python39\\site-packages\\keras\\engine\\base_layer.py\", line 1145, in __call__\n      outputs = call_fn(inputs, *args, **kwargs)\n    File \"C:\\Users\\Chip\\AppData\\Roaming\\Python\\Python39\\site-packages\\keras\\utils\\traceback_utils.py\", line 96, in error_handler\n      return fn(*args, **kwargs)\n    File \"C:\\Users\\Chip\\AppData\\Roaming\\Python\\Python39\\site-packages\\keras\\layers\\core\\embedding.py\", line 272, in call\n      out = tf.nn.embedding_lookup(self.embeddings, inputs)\nNode: 'model/nb_token_and_position_embedding/embedding_2/embedding_lookup'\nindices[6,19] = 6315 is not in [0, 6309)\n\t [[{{node model/nb_token_and_position_embedding/embedding_2/embedding_lookup}}]] [Op:__inference_predict_function_698]"
          ]
        }
      ],
      "source": [
        "# get the name table of different people's names and save embeddings\n",
        "name_sentiments = name_sentiment_table_xformer()\n",
        "\n",
        "stats.f_oneway(\n",
        "    name_sentiments['sentiment'][name_sentiments['group'] == 'White'],\n",
        "    name_sentiments['sentiment'][name_sentiments['group'] == 'Black'],\n",
        "    name_sentiments['sentiment'][name_sentiments['group'] == 'Hispanic'],\n",
        "    name_sentiments['sentiment'][name_sentiments['group'] == 'Arab/Muslim'],\n",
        ")\n",
        "\n",
        "name_sentiments = name_sentiment_table_xformer()\n",
        "\n",
        "fstat,pval = stats.f_oneway(\n",
        "    name_sentiments['sentiment'][name_sentiments['group'] == 'White'],\n",
        "    name_sentiments['sentiment'][name_sentiments['group'] == 'Black'],\n",
        "    name_sentiments['sentiment'][name_sentiments['group'] == 'Hispanic'],\n",
        "    name_sentiments['sentiment'][name_sentiments['group'] == 'Arab/Muslim'],\n",
        ")\n",
        "print('F-statistic:',fstat,' With P-value:', pval)\n",
        "\n",
        "# Show the results on a swarm plot, with a consistent Y-axis\n",
        "matplotlib.pyplot.figure(figsize=(15,5))\n",
        "matplotlib.pyplot.subplot(121)\n",
        "plot = seaborn.swarmplot(x='group', y='sentiment', data=name_sentiments)\n",
        "plot.set_ylim([-10, 10])\n",
        "matplotlib.pyplot.subplot(122)\n",
        "plot = seaborn.barplot(x='group', y='sentiment', data=name_sentiments, capsize=.1)\n",
        "matplotlib.pyplot.suptitle(title, fontsize=16)\n",
        "\n",
        "print(fstat)"
      ]
    }
  ],
  "metadata": {
    "accelerator": "GPU",
    "colab": {
      "gpuType": "T4",
      "provenance": []
    },
    "kernelspec": {
      "display_name": "Python 3",
      "name": "python3"
    },
    "language_info": {
      "codemirror_mode": {
        "name": "ipython",
        "version": 3
      },
      "file_extension": ".py",
      "mimetype": "text/x-python",
      "name": "python",
      "nbconvert_exporter": "python",
      "pygments_lexer": "ipython3",
      "version": "3.9.17"
    }
  },
  "nbformat": 4,
  "nbformat_minor": 5
}
