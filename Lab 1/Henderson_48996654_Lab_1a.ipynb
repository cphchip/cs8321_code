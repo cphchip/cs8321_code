{
  "cells": [
    {
      "cell_type": "markdown",
      "id": "1pBn63p31e6R",
      "metadata": {
        "id": "1pBn63p31e6R"
      },
      "source": [
        "# cs8321 Lab 1a - ConceptNet Ethics Testing"
      ]
    },
    {
      "cell_type": "markdown",
      "id": "xbjDEuY51e6T",
      "metadata": {
        "id": "xbjDEuY51e6T"
      },
      "source": [
        "#### Chip Henderson - 48996654\n"
      ]
    },
    {
      "cell_type": "code",
      "execution_count": 7,
      "id": "KmfPJxru1e6T",
      "metadata": {
        "id": "KmfPJxru1e6T"
      },
      "outputs": [],
      "source": [
        "# Import everything\n",
        "import numpy as np\n",
        "import pandas as pd\n",
        "import matplotlib\n",
        "# from tensorflow.keras.datasets import imdb\n",
        "from tensorflow.keras.preprocessing import sequence\n",
        "from tensorflow.keras.preprocessing.text import Tokenizer\n",
        "from tensorflow.keras.preprocessing.sequence import pad_sequences\n",
        "from tensorflow.keras.models import Model\n",
        "from tensorflow.keras.layers import Flatten, Dense, Dropout\n",
        "from tensorflow.keras.layers import Embedding, Input, Concatenate\n",
        "from tensorflow.keras.layers import Conv1D, MaxPooling1D, GlobalAveragePooling1D\n",
        "from tensorflow.keras.layers import Subtract\n",
        "from tensorflow.keras.utils import plot_model\n",
        "from tensorflow.keras.optimizers.schedules import ExponentialDecay\n",
        "from sklearn import metrics as mt\n",
        "from matplotlib import pyplot as plt\n",
        "from tensorflow.keras.layers import MultiHeadAttention, LayerNormalization\n",
        "from tensorflow.keras import Sequential\n",
        "from tensorflow.keras.layers import Layer\n",
        "from sklearn.model_selection import train_test_split\n",
        "from sklearn import metrics as mt\n",
        "from matplotlib import pyplot as plt\n",
        "import tensorflow as tf\n",
        "from tensorflow import keras\n",
        "from sklearn.model_selection import train_test_split\n",
        "from sklearn.preprocessing import LabelEncoder\n",
        "from sklearn.linear_model import SGDClassifier\n",
        "import seaborn\n",
        "import re\n",
        "from sklearn.metrics import accuracy_score\n",
        "\n"
      ]
    },
    {
      "cell_type": "markdown",
      "id": "043e3052",
      "metadata": {},
      "source": [
        "### Intro\n",
        "\n",
        "In this notebook I'm going to be comparing the results from our in-class discussion and modeling to my results when using a trained transformer. This code is set up to run in google colab so some parts need to be commented out when running on my local system."
      ]
    },
    {
      "cell_type": "code",
      "execution_count": 8,
      "id": "UP33fbUA2UJJ",
      "metadata": {
        "colab": {
          "base_uri": "https://localhost:8080/"
        },
        "id": "UP33fbUA2UJJ",
        "outputId": "3c0c0c6f-558c-4791-d283-577a408b004e"
      },
      "outputs": [],
      "source": [
        "# Uncomment for use in colab\n",
        "# from google.colab import drive\n",
        "# drive.mount('/content/drive/')"
      ]
    },
    {
      "cell_type": "code",
      "execution_count": 9,
      "id": "38c1bea1",
      "metadata": {},
      "outputs": [
        {
          "name": "stdout",
          "output_type": "stream",
          "text": [
            "CPU times: total: 23.9 s\n",
            "Wall time: 41.5 s\n"
          ]
        },
        {
          "data": {
            "text/plain": [
              "(516782, 300)"
            ]
          },
          "execution_count": 9,
          "metadata": {},
          "output_type": "execute_result"
        }
      ],
      "source": [
        "%%time\n",
        "def load_embeddings(filename):\n",
        "    \"\"\"\n",
        "    Load a DataFrame from the generalized text format used by word2vec, GloVe,\n",
        "    fastText, and ConceptNet Numberbatch. The main point where they differ is\n",
        "    whether there is an initial line with the dimensions of the matrix.\n",
        "    \"\"\"\n",
        "    labels = []\n",
        "    rows = []\n",
        "    with open(filename, encoding='utf-8') as infile:\n",
        "        for i, line in enumerate(infile):\n",
        "            items = line.rstrip().split(' ')\n",
        "            if len(items) == 2:\n",
        "                # This is a header row giving the shape of the matrix\n",
        "                continue\n",
        "            labels.append(items[0])\n",
        "            values = np.array([float(x) for x in items[1:]], 'f')\n",
        "            rows.append(values)\n",
        "    \n",
        "    arr = np.vstack(rows)\n",
        "    return pd.DataFrame(arr, index=labels, dtype='f')\n",
        "\n",
        "# embeddings = load_embeddings('data/glove.840B.300d.txt') # course original\n",
        "embeddings = load_embeddings('../Data_Sources/numberbatch-en.txt') # local PC\n",
        "embeddings.shape"
      ]
    },
    {
      "cell_type": "code",
      "execution_count": 10,
      "id": "184a4fe4",
      "metadata": {},
      "outputs": [
        {
          "name": "stdout",
          "output_type": "stream",
          "text": [
            "2006 4783\n"
          ]
        }
      ],
      "source": [
        "# Source: In class notebook 01 ConceptNet\n",
        "def load_lexicon(filename):\n",
        "    \"\"\"\n",
        "    Load a file from Bing Liu's sentiment lexicon\n",
        "    (https://www.cs.uic.edu/~liub/FBS/sentiment-analysis.html), containing\n",
        "    English words in Latin-1 encoding.\n",
        "\n",
        "    One file contains a list of positive words, and the other contains\n",
        "    a list of negative words. The files contain comment lines starting\n",
        "    with ';' and blank lines, which should be skipped.\n",
        "    \"\"\"\n",
        "    lexicon = []\n",
        "    with open(filename, encoding='latin-1') as infile:\n",
        "        for line in infile:\n",
        "            line = line.rstrip()\n",
        "            if line and not line.startswith(';'):\n",
        "                lexicon.append(line)\n",
        "    return lexicon\n",
        "\n",
        "# For running on local system, use the following:\n",
        "pos_words = load_lexicon('../Data_Sources/positive-words.txt')\n",
        "neg_words = load_lexicon('../Data_Sources/negative-words.txt')\n",
        "\n",
        "# For running in colab, use the following:\n",
        "# pos_words = load_lexicon(r'/content/drive/MyDrive/Colab Notebooks/positive-words.txt') # colab version\n",
        "# neg_words = load_lexicon(r'/content/drive/MyDrive/Colab Notebooks/negative-words.txt') # colab version\n",
        "\n",
        "print(len(pos_words), len(neg_words))"
      ]
    },
    {
      "cell_type": "code",
      "execution_count": 11,
      "id": "b2d688ed",
      "metadata": {},
      "outputs": [],
      "source": [
        "NAMES_BY_ETHNICITY = {\n",
        "    # The first two lists are from the Caliskan et al. appendix describing the\n",
        "    # Word Embedding Association Test.\n",
        "    'White': [\n",
        "        'Adam', 'Chip', 'Harry', 'Josh', 'Roger', 'Alan', 'Frank', 'Ian', 'Justin',\n",
        "        'Ryan', 'Andrew', 'Fred', 'Jack', 'Matthew', 'Stephen', 'Brad', 'Greg', 'Jed',\n",
        "        'Paul', 'Todd', 'Brandon', 'Hank', 'Jonathan', 'Peter', 'Wilbur', 'Amanda',\n",
        "        'Courtney', 'Heather', 'Melanie', 'Sara', 'Amber', 'Crystal', 'Katie',\n",
        "        'Meredith', 'Shannon', 'Betsy', 'Donna', 'Kristin', 'Nancy', 'Stephanie',\n",
        "        'Ellen', 'Lauren', 'Peggy', 'Colleen', 'Emily',\n",
        "        'Megan', 'Rachel', 'Wendy'\n",
        "    ],\n",
        "\n",
        "    'Black': [\n",
        "        'Alonzo', 'Jamel', 'Theo', 'Alphonse', 'Jerome',\n",
        "        'Leroy', 'Torrance', 'Darnell', 'Lamar', 'Lionel',\n",
        "        'Tyree', 'Deion', 'Lamont', 'Malik', 'Terrence', 'Tyrone',\n",
        "        'Lavon', 'Marcellus', 'Wardell', #'Nichelle',\n",
        "        'Ebony', 'Shaniqua',\n",
        "        'Jasmine', 'Tanisha', 'Tia', 'Latoya',\n",
        "        'Yolanda', 'Malika', 'Yvette'\n",
        "    ],\n",
        "    #Larson Edit: had to remove a number of names that were not in the embedding\n",
        "\n",
        "    # This list comes from statistics about common Hispanic-origin names in the US.\n",
        "    'Hispanic': [\n",
        "        'Juan', 'José', 'Miguel', 'Jorge', 'Santiago',\n",
        "        'Mateo',  'Alejandro', 'Samuel', 'Diego', 'Daniel',\n",
        "        'Juana', 'Ana', 'Luisa', 'María', 'Elena', 'Isabella', 'Valentina',\n",
        "        'Camila', 'Valeria', 'Ximena', 'Luciana', 'Mariana', 'Victoria', 'Martina'\n",
        "    ],\n",
        "    #Larson Edit: had to remove a number of names that were not in the embedding\n",
        "\n",
        "    # The following list conflates religion and ethnicity, I'm aware. So do given names.\n",
        "    #\n",
        "    # This list was cobbled together from searching baby-name sites for common Muslim names,\n",
        "    # as spelled in English. I did not ultimately distinguish whether the origin of the name\n",
        "    # is Arabic or Urdu or another language.\n",
        "    #\n",
        "    # I'd be happy to replace it with something more authoritative, given a source.\n",
        "    'Arab/Muslim': [\n",
        "        'Mohammed', 'Omar', 'Ahmed', 'Ali', 'Youssef', 'Abdullah', 'Yasin', 'Hamza',\n",
        "        'Syed', 'Samar', 'Ahmad', 'Rayyan', 'Mariam',\n",
        "        'Jana', 'Malak', 'Salma', 'Nour', 'Lian', 'Fatima', 'Ayesha', 'Zahra', 'Sana',\n",
        "        'Zara', 'Alya', 'Shaista', 'Zoya', 'Yasmin'\n",
        "    ]\n",
        "}"
      ]
    },
    {
      "cell_type": "code",
      "execution_count": 12,
      "id": "80ffb86c",
      "metadata": {},
      "outputs": [],
      "source": [
        "# # print(NAMES_BY_ETHNICITY.values())\n",
        "# full_name_list = []\n",
        "# for list in NAMES_BY_ETHNICITY.values():\n",
        "#     for name in list:\n",
        "#         full_name_list.append(name)\n",
        "\n",
        "# print(len(full_name_list))"
      ]
    },
    {
      "cell_type": "markdown",
      "id": "46f29baf",
      "metadata": {},
      "source": [
        "Note, vecs_to_sentiment is where the model prediction call is coming from in this code"
      ]
    },
    {
      "cell_type": "code",
      "execution_count": 13,
      "id": "b4e2d56a",
      "metadata": {},
      "outputs": [],
      "source": [
        "def vecs_to_sentiment(vecs):\n",
        "    # predict_log_proba gives the log probability for each class\n",
        "    predictions = model.predict_log_proba(vecs)\n",
        "\n",
        "    # To see an overall positive vs. negative classification in one number,\n",
        "    # we take the log probability of positive sentiment minus the log\n",
        "    # probability of negative sentiment.\n",
        "    # this is a logarithm of the max margin for the classifier,\n",
        "    # similar to odds ratio (but not exact) log(p_1/p_0) = log(p_1)-log(p_0)\n",
        "    return predictions[:, 1] - predictions[:, 0]\n",
        "\n",
        "\n",
        "def words_to_sentiment(words):\n",
        "    vecs = embeddings.loc[words].dropna()\n",
        "    log_odds = vecs_to_sentiment(vecs)\n",
        "    return pd.DataFrame({'sentiment': log_odds}, index=vecs.index)\n",
        "\n",
        "\n",
        "def name_sentiment_table():\n",
        "    frames = []\n",
        "    for group, name_list in sorted(NAMES_BY_ETHNICITY.items()):\n",
        "        lower_names = [name.lower() for name in name_list]\n",
        "        sentiments = words_to_sentiment(lower_names)\n",
        "        sentiments['group'] = group\n",
        "        frames.append(sentiments)\n",
        "\n",
        "    # Put together the data we got from each ethnic group into one big table\n",
        "    return pd.concat(frames)"
      ]
    },
    {
      "cell_type": "code",
      "execution_count": 14,
      "id": "c5161f58",
      "metadata": {},
      "outputs": [],
      "source": [
        "import scipy.stats as stats\n",
        "\n",
        "def retrain_model(new_embs, title = ''):\n",
        "    \"\"\"\n",
        "    Repeat the steps above with a new set of word embeddings.\n",
        "    \"\"\"\n",
        "    # use these from outside the function and update them globally\n",
        "    global model, embeddings, name_sentiments\n",
        "    embeddings = new_embs\n",
        "    # get the positive and negative embeddings\n",
        "    pos_words_common = list(set(pos_words) & set(embeddings.index))\n",
        "    neg_words_common = list(set(neg_words) & set(embeddings.index))\n",
        "    pos_vectors = embeddings.loc[pos_words_common]\n",
        "    neg_vectors = embeddings.loc[neg_words_common]\n",
        "    vectors = pd.concat([pos_vectors, neg_vectors])\n",
        "    targets = np.array([1 for entry in pos_vectors.index] + [-1 for entry in neg_vectors.index])\n",
        "    labels = list(pos_vectors.index) + list(neg_vectors.index)\n",
        "\n",
        "    # split the data\n",
        "    train_vectors, test_vectors, train_targets, test_targets, train_labels, test_labels = \\\n",
        "        train_test_split(vectors, targets, labels, test_size=0.1, random_state=0)\n",
        "\n",
        "    # train our model\n",
        "    model = SGDClassifier(loss='log_loss', random_state=0, max_iter=100)\n",
        "    model.fit(train_vectors, train_targets)\n",
        "\n",
        "    # print out a goodness of fit\n",
        "    accuracy = accuracy_score(model.predict(test_vectors), test_targets)\n",
        "    print(\"Accuracy of sentiment: {:.2%}\".format(accuracy))\n",
        "\n",
        "    # get the name table of different people's names and save embeddings\n",
        "    name_sentiments = name_sentiment_table()\n",
        "\n",
        "    stats.f_oneway(\n",
        "        name_sentiments['sentiment'][name_sentiments['group'] == 'White'],\n",
        "        name_sentiments['sentiment'][name_sentiments['group'] == 'Black'],\n",
        "        name_sentiments['sentiment'][name_sentiments['group'] == 'Hispanic'],\n",
        "        name_sentiments['sentiment'][name_sentiments['group'] == 'Arab/Muslim'],\n",
        "    )\n",
        "\n",
        "    name_sentiments = name_sentiment_table()\n",
        "\n",
        "    fstat,pval = stats.f_oneway(\n",
        "        name_sentiments['sentiment'][name_sentiments['group'] == 'White'],\n",
        "        name_sentiments['sentiment'][name_sentiments['group'] == 'Black'],\n",
        "        name_sentiments['sentiment'][name_sentiments['group'] == 'Hispanic'],\n",
        "        name_sentiments['sentiment'][name_sentiments['group'] == 'Arab/Muslim'],\n",
        "    )\n",
        "    print('F-statistic:',fstat,' With P-value:', pval)\n",
        "\n",
        "    # Show the results on a swarm plot, with a consistent Y-axis\n",
        "    matplotlib.pyplot.figure(figsize=(15,5))\n",
        "    matplotlib.pyplot.subplot(121)\n",
        "    plot = seaborn.swarmplot(x='group', y='sentiment', data=name_sentiments)\n",
        "    plot.set_ylim([-10, 10])\n",
        "    matplotlib.pyplot.subplot(122)\n",
        "    plot = seaborn.barplot(x='group', y='sentiment', data=name_sentiments, capsize=.1)\n",
        "    matplotlib.pyplot.suptitle(title, fontsize=16)\n",
        "\n",
        "    print(fstat)"
      ]
    },
    {
      "cell_type": "code",
      "execution_count": 15,
      "id": "c470e52a",
      "metadata": {},
      "outputs": [
        {
          "name": "stdout",
          "output_type": "stream",
          "text": [
            "Accuracy of sentiment: 97.78%\n",
            "F-statistic: 10.877995114514858  With P-value: 2.1757247157518317e-06\n",
            "10.877995114514858\n"
          ]
        },
        {
          "data": {
            "image/png": "[encoded data removed]",
            "text/plain": [
              "<Figure size 1500x500 with 2 Axes>"
            ]
          },
          "metadata": {},
          "output_type": "display_data"
        }
      ],
      "source": [
        "# Local PC version\n",
        "retrain_model(load_embeddings('../Data_Sources/numberbatch-en.txt'), title='ConceptNet Numberbatch')\n",
        "# Colab version\n",
        "# retrain_model(load_embeddings('/content/drive/MyDrive/Colab Notebooks/numberbatch-en.txt'), title='ConceptNet Numberbatch')"
      ]
    },
    {
      "cell_type": "markdown",
      "id": "c3891edc",
      "metadata": {},
      "source": [
        "Let's create some similar groupings for different ages."
      ]
    },
    {
      "cell_type": "code",
      "execution_count": 40,
      "id": "ed4aab35",
      "metadata": {},
      "outputs": [],
      "source": [
        "# source:https://www.britannica.com/dictionary/eb/qa/Age-by-Decade#:~:text=A%20person%20between%2020%20and,59%20is%20called%20a%20quinquagenarian.\n",
        "# source: https://www.ncbi.nlm.nih.gov/books/NBK556096/\n",
        "# source: https://langeek.co/en/vocab/subcategory/900/word-list\n",
        "'''\n",
        "There are a lot of words that can be used to describe different stages of life.\n",
        "I'm going to use the national library of medicine to define some of these groupings.\n",
        "There are also a lot of words with multiple meanings and attemptint to not\n",
        "unintentionally skew the data can be challenging. It's hard to stay away from \n",
        "adjectives which by definition describes or defines a noun and therefore impart\n",
        "sentiment.\n",
        "'''\n",
        "AGE_BY_CATEGORY = {\n",
        "    # The first two lists are from the Caliskan et al. appendix describing the\n",
        "    # Word Embedding Association Test.\n",
        "    'Young': [\n",
        "        'infant','child','toddler','preschooler','girlhood',\n",
        "        'youth','neonate','preteen','neonate','boyhood'\n",
        "        ],\n",
        "    'Teen': [\n",
        "        'teenager','denarian','minor','juvenile','teen',\n",
        "        'stripling','adolescent','fledgling','adolescence'\n",
        "        ],\n",
        "    'Adult': [\n",
        "        'vicenarian','tricenarian','adult','quadragenarian',\n",
        "        'manhood','womanhood',''\n",
        "        ],\n",
        "    'Old': [\n",
        "        'retiree','elder','experienced','old','geriatric',\n",
        "        'octogenarian','Nonagenarian','septuagenarian'\n",
        "        ]\n",
        "}"
      ]
    },
    {
      "cell_type": "code",
      "execution_count": 41,
      "id": "2e387e84",
      "metadata": {},
      "outputs": [],
      "source": [
        "def vecs_to_sentiment(vecs):\n",
        "    # predict_log_proba gives the log probability for each class\n",
        "    predictions = model.predict_log_proba(vecs)\n",
        "\n",
        "    # To see an overall positive vs. negative classification in one number,\n",
        "    # we take the log probability of positive sentiment minus the log\n",
        "    # probability of negative sentiment.\n",
        "    # this is a logarithm of the max margin for the classifier,\n",
        "    # similar to odds ratio (but not exact) log(p_1/p_0) = log(p_1)-log(p_0)\n",
        "    return predictions[:, 1] - predictions[:, 0]\n",
        "\n",
        "\n",
        "def words_to_sentiment(words):\n",
        "    vecs = embeddings.loc[words].dropna()\n",
        "    log_odds = vecs_to_sentiment(vecs)\n",
        "    return pd.DataFrame({'sentiment': log_odds}, index=vecs.index)\n",
        "\n",
        "\n",
        "def age_sentiment_table():\n",
        "    frames = []\n",
        "    for group, name_list in sorted(AGE_BY_CATEGORY.items()):\n",
        "        lower_names = [name.lower() for name in name_list]\n",
        "        sentiments = words_to_sentiment(lower_names)\n",
        "        sentiments['group'] = group\n",
        "        frames.append(sentiments)\n",
        "\n",
        "    # Put together the data we got from each ethnic group into one big table\n",
        "    return pd.concat(frames)"
      ]
    },
    {
      "cell_type": "code",
      "execution_count": 42,
      "id": "3beda7c9",
      "metadata": {},
      "outputs": [],
      "source": [
        "import scipy.stats as stats\n",
        "\n",
        "def retrain_model_age(new_embs, title = ''):\n",
        "    \"\"\"\n",
        "    Repeat the steps above with a new set of word embeddings.\n",
        "    \"\"\"\n",
        "    # use these from outside the function and update them globally\n",
        "    global model, embeddings, age_sentmient\n",
        "    embeddings = new_embs\n",
        "    # get the positive and negative embeddings\n",
        "    pos_words_common = list(set(pos_words) & set(embeddings.index))\n",
        "    neg_words_common = list(set(neg_words) & set(embeddings.index))\n",
        "    pos_vectors = embeddings.loc[pos_words_common]\n",
        "    neg_vectors = embeddings.loc[neg_words_common]\n",
        "    vectors = pd.concat([pos_vectors, neg_vectors])\n",
        "    targets = np.array([1 for entry in pos_vectors.index] + [-1 for entry in neg_vectors.index])\n",
        "    labels = list(pos_vectors.index) + list(neg_vectors.index)\n",
        "\n",
        "    # split the data\n",
        "    train_vectors, test_vectors, train_targets, test_targets, train_labels, test_labels = \\\n",
        "        train_test_split(vectors, targets, labels, test_size=0.1, random_state=0)\n",
        "\n",
        "    # train our model\n",
        "    model = SGDClassifier(loss='log_loss', random_state=0, max_iter=100)\n",
        "    model.fit(train_vectors, train_targets)\n",
        "\n",
        "    # print out a goodness of fit\n",
        "    accuracy = accuracy_score(model.predict(test_vectors), test_targets)\n",
        "    print(\"Accuracy of sentiment: {:.2%}\".format(accuracy))\n",
        "\n",
        "    # get the name table of different people's names and save embeddings\n",
        "    age_sentiment = age_sentiment_table()\n",
        "\n",
        "    stats.f_oneway(\n",
        "        age_sentiment['sentiment'][age_sentiment['group'] == 'White'],\n",
        "        age_sentiment['sentiment'][age_sentiment['group'] == 'Black'],\n",
        "        age_sentiment['sentiment'][age_sentiment['group'] == 'Hispanic'],\n",
        "        age_sentiment['sentiment'][age_sentiment['group'] == 'Arab/Muslim'],\n",
        "    )\n",
        "\n",
        "    age_sentiments = age_sentiment_table()\n",
        "\n",
        "    fstat,pval = stats.f_oneway(\n",
        "        age_sentiments['sentiment'][age_sentiments['group'] == 'White'],\n",
        "        age_sentiments['sentiment'][age_sentiments['group'] == 'Black'],\n",
        "        age_sentiments['sentiment'][age_sentiments['group'] == 'Hispanic'],\n",
        "        age_sentiments['sentiment'][age_sentiments['group'] == 'Arab/Muslim'],\n",
        "    )\n",
        "    print('F-statistic:',fstat,' With P-value:', pval)\n",
        "\n",
        "    # Show the results on a swarm plot, with a consistent Y-axis\n",
        "    matplotlib.pyplot.figure(figsize=(15,5))\n",
        "    matplotlib.pyplot.subplot(121)\n",
        "    plot = seaborn.swarmplot(x='group', y='sentiment', data=age_sentiments)\n",
        "    plot.set_ylim([-10, 10])\n",
        "    matplotlib.pyplot.subplot(122)\n",
        "    plot = seaborn.barplot(x='group', y='sentiment', data=age_sentiments, capsize=.1)\n",
        "    matplotlib.pyplot.suptitle(title, fontsize=16)\n",
        "\n",
        "    print(fstat)"
      ]
    },
    {
      "cell_type": "code",
      "execution_count": 43,
      "id": "be41366a",
      "metadata": {},
      "outputs": [
        {
          "name": "stdout",
          "output_type": "stream",
          "text": [
            "Accuracy of sentiment: 97.78%\n",
            "F-statistic: nan  With P-value: nan\n",
            "nan\n"
          ]
        },
        {
          "name": "stderr",
          "output_type": "stream",
          "text": [
            "c:\\Users\\Chip\\anaconda3\\envs\\mlenv7324\\lib\\site-packages\\scipy\\stats\\_stats_py.py:4133: DegenerateDataWarning: at least one input has length 0\n",
            "  warnings.warn(stats.DegenerateDataWarning('at least one input '\n",
            "c:\\Users\\Chip\\anaconda3\\envs\\mlenv7324\\lib\\site-packages\\scipy\\stats\\_stats_py.py:4133: DegenerateDataWarning: at least one input has length 0\n",
            "  warnings.warn(stats.DegenerateDataWarning('at least one input '\n"
          ]
        },
        {
          "data": {
            "image/png": "[encoded data removed]",
            "text/plain": [
              "<Figure size 1500x500 with 2 Axes>"
            ]
          },
          "metadata": {},
          "output_type": "display_data"
        }
      ],
      "source": [
        "# Local PC version\n",
        "retrain_model_age(load_embeddings('../Data_Sources/numberbatch-en.txt'), title='ConceptNet Numberbatch')\n",
        "# Colab version\n",
        "# retrain_model(load_embeddings('/content/drive/MyDrive/Colab Notebooks/numberbatch-en.txt'), title='ConceptNet Numberbatch')"
      ]
    },
    {
      "cell_type": "code",
      "execution_count": 44,
      "id": "e1b7ba3d",
      "metadata": {},
      "outputs": [
        {
          "name": "stdout",
          "output_type": "stream",
          "text": [
            "dict_items([('Young', ['infant', 'infancy', 'child', 'toddler', 'preschooler', 'youth', 'neonate', 'preteen']), ('Teen', ['teenager', 'denarian', 'minor', 'juvenile', 'teen', 'stripling', 'adolescent', 'fledgling']), ('Adult', ['vicenarian', 'tricenarian', 'adult', 'quadragenarian', 'manhood', 'womanhood']), ('Old', ['retiree', 'elder', 'experienced', 'old', 'geriatric', 'octogenarian', 'Nonagenarian', 'septuagenarian'])])\n"
          ]
        }
      ],
      "source": [
        "print(AGE_BY_CATEGORY.items())"
      ]
    }
  ],
  "metadata": {
    "accelerator": "GPU",
    "colab": {
      "gpuType": "T4",
      "provenance": []
    },
    "kernelspec": {
      "display_name": "Python 3",
      "name": "python3"
    },
    "language_info": {
      "codemirror_mode": {
        "name": "ipython",
        "version": 3
      },
      "file_extension": ".py",
      "mimetype": "text/x-python",
      "name": "python",
      "nbconvert_exporter": "python",
      "pygments_lexer": "ipython3",
      "version": "3.9.17"
    }
  },
  "nbformat": 4,
  "nbformat_minor": 5
}
