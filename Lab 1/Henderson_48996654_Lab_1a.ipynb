{
  "cells": [
    {
      "cell_type": "markdown",
      "id": "1pBn63p31e6R",
      "metadata": {
        "id": "1pBn63p31e6R"
      },
      "source": [
        "# cs8321 Lab 1 - ConceptNet Ethics Testing"
      ]
    },
    {
      "cell_type": "markdown",
      "id": "xbjDEuY51e6T",
      "metadata": {
        "id": "xbjDEuY51e6T"
      },
      "source": [
        "#### Chip Henderson - 48996654\n"
      ]
    },
    {
      "cell_type": "markdown",
      "id": "043e3052",
      "metadata": {},
      "source": [
        "### Overview of Bias Investigation\n",
        "\n",
        "The topic ageism has never been more prominent than it is today. The 2024 presidential election will see at least two candidates that would be in their 80's at the end of their terms, leading to overarching narratives and concern on their ability to perform the role of president. However, ageism is nothing new. \"The term ageism was coined in 1968 by Robert Butler—a Pulitzer Prize winning gerontologist who founded the National Institute on Aging. Dr. Butler described ageism as a process of systematic stereotyping and discrimination against people because they are old\" (Butler, 1969). Further, a Harvard Business Review article titled \"Am I Old Enough to Be Taken Seriously?\" (Waldman, 2020) states that the most common form of ageism found in the workplace is reverse ageism, the discrimination against workers because of their youth.\n",
        "\n",
        "With the advent of Large Language Models (LLMs) as a form of generative Artificial Intelligence (AI) in the workplace, it is appropriate to explore and understand how particular models may impart ageism on their generated results. This type of discrimination could manifest itself, albeit unintentionally, in workplace related content that perpetuates these beliefs. Additionally, the ability of LLMs to quicky generate content that can flood websites and unreliable news outlets needs to be accounted for so that it can be understood and mitigated."
      ]
    },
    {
      "cell_type": "markdown",
      "id": "58d3df8b",
      "metadata": {},
      "source": [
        "### Research Question and Hypothesis\n",
        "\n",
        "This notebook intends to explore the pervasiveness of ageism in various embedding models. Beyond simply measuring the sentiment of age related nouns present in an particular embedding model, I will seek to demonstrate ageism is not necessarily the caused directly via training of the embedding's models, but of the sentiment of words in most common usage, and therefore a human linguistic problem.\n",
        "\n",
        "To do this, I'll utilize similar investigative styles presented in SMU CS8321 course notebook 01 ConceptNet. This will include the same data and sources for lexicon and embedding models. However, I will introduce unigram frequency data provided by Kaggle to assist in showing that given the selection of different words, the presence of ageism is reduced. Therefore, if ageism bias is known to exist it can be directly mitigated through word substitution."
      ]
    },
    {
      "cell_type": "markdown",
      "id": "f24f41df",
      "metadata": {},
      "source": [
        "### Analysis and Model Training\n",
        "\n",
        "I'll start by importing the same datasets used in the 01 ConceptNet notebook from class. "
      ]
    },
    {
      "cell_type": "code",
      "execution_count": 393,
      "id": "UP33fbUA2UJJ",
      "metadata": {
        "colab": {
          "base_uri": "https://localhost:8080/"
        },
        "id": "UP33fbUA2UJJ",
        "outputId": "3c0c0c6f-558c-4791-d283-577a408b004e"
      },
      "outputs": [],
      "source": [
        "# Uncomment for use in colab\n",
        "# from google.colab import drive\n",
        "# drive.mount('/content/drive/')"
      ]
    },
    {
      "cell_type": "code",
      "execution_count": 394,
      "id": "e4e51001",
      "metadata": {},
      "outputs": [],
      "source": [
        "import numpy as np\n",
        "import pandas as pd\n",
        "import matplotlib\n",
        "import seaborn\n",
        "import re\n",
        "\n",
        "from sklearn.linear_model import SGDClassifier\n",
        "from sklearn.model_selection import train_test_split\n",
        "from sklearn.metrics import accuracy_score\n",
        "from IPython.display import display, Math"
      ]
    },
    {
      "cell_type": "code",
      "execution_count": 395,
      "id": "38c1bea1",
      "metadata": {},
      "outputs": [
        {
          "name": "stdout",
          "output_type": "stream",
          "text": [
            "CPU times: total: 0 ns\n",
            "Wall time: 0 ns\n"
          ]
        }
      ],
      "source": [
        "%%time\n",
        "# Source: cs8321 notebook 01 ConceptNet\n",
        "def load_embeddings(filename):\n",
        "    \"\"\"\n",
        "    Load a DataFrame from the generalized text format used by word2vec, GloVe,\n",
        "    fastText, and ConceptNet Numberbatch. The main point where they differ is\n",
        "    whether there is an initial line with the dimensions of the matrix.\n",
        "    \"\"\"\n",
        "    labels = []\n",
        "    rows = []\n",
        "    with open(filename, encoding='utf-8') as infile:\n",
        "        for i, line in enumerate(infile):\n",
        "            items = line.rstrip().split(' ')\n",
        "            if len(items) == 2:\n",
        "                # This is a header row giving the shape of the matrix\n",
        "                continue\n",
        "            labels.append(items[0])\n",
        "            values = np.array([float(x) for x in items[1:]], 'f')\n",
        "            rows.append(values)\n",
        "    \n",
        "    arr = np.vstack(rows)\n",
        "    return pd.DataFrame(arr, index=labels, dtype='f')\n",
        "\n",
        "# embeddings = load_embeddings('data/glove.840B.300d.txt') # course original\n",
        "# embeddings = load_embeddings('../Data_Sources/numberbatch-en.txt') # local PC\n",
        "# embeddings.shape"
      ]
    },
    {
      "cell_type": "code",
      "execution_count": 396,
      "id": "184a4fe4",
      "metadata": {},
      "outputs": [
        {
          "name": "stdout",
          "output_type": "stream",
          "text": [
            "2006 4783\n"
          ]
        }
      ],
      "source": [
        "# Source: cs8321 notebook 01 ConceptNet\n",
        "def load_lexicon(filename):\n",
        "    \"\"\"\n",
        "    Load a file from Bing Liu's sentiment lexicon\n",
        "    (https://www.cs.uic.edu/~liub/FBS/sentiment-analysis.html), containing\n",
        "    English words in Latin-1 encoding.\n",
        "\n",
        "    One file contains a list of positive words, and the other contains\n",
        "    a list of negative words. The files contain comment lines starting\n",
        "    with ';' and blank lines, which should be skipped.\n",
        "    \"\"\"\n",
        "    lexicon = []\n",
        "    with open(filename, encoding='latin-1') as infile:\n",
        "        for line in infile:\n",
        "            line = line.rstrip()\n",
        "            if line and not line.startswith(';'):\n",
        "                lexicon.append(line)\n",
        "    return lexicon\n",
        "\n",
        "# For running on local system, use the following:\n",
        "pos_words = load_lexicon('../Data_Sources/positive-words.txt')\n",
        "neg_words = load_lexicon('../Data_Sources/negative-words.txt')\n",
        "\n",
        "# For running in colab, use the following:\n",
        "# pos_words = load_lexicon(r'/content/drive/MyDrive/Colab Notebooks/positive-words.txt') # colab version\n",
        "# neg_words = load_lexicon(r'/content/drive/MyDrive/Colab Notebooks/negative-words.txt') # colab version\n",
        "\n",
        "print(len(pos_words), len(neg_words))"
      ]
    },
    {
      "cell_type": "markdown",
      "id": "6800c0ae",
      "metadata": {},
      "source": [
        "I'll add frequency of use data now provided by Kaggle."
      ]
    },
    {
      "cell_type": "code",
      "execution_count": 397,
      "id": "2134054f",
      "metadata": {},
      "outputs": [
        {
          "data": {
            "text/html": [
              "<div>\n",
              "<style scoped>\n",
              "    .dataframe tbody tr th:only-of-type {\n",
              "        vertical-align: middle;\n",
              "    }\n",
              "\n",
              "    .dataframe tbody tr th {\n",
              "        vertical-align: top;\n",
              "    }\n",
              "\n",
              "    .dataframe thead th {\n",
              "        text-align: right;\n",
              "    }\n",
              "</style>\n",
              "<table border=\"1\" class=\"dataframe\">\n",
              "  <thead>\n",
              "    <tr style=\"text-align: right;\">\n",
              "      <th></th>\n",
              "      <th>word</th>\n",
              "      <th>count</th>\n",
              "    </tr>\n",
              "  </thead>\n",
              "  <tbody>\n",
              "    <tr>\n",
              "      <th>0</th>\n",
              "      <td>the</td>\n",
              "      <td>23135851162</td>\n",
              "    </tr>\n",
              "    <tr>\n",
              "      <th>1</th>\n",
              "      <td>of</td>\n",
              "      <td>13151942776</td>\n",
              "    </tr>\n",
              "    <tr>\n",
              "      <th>2</th>\n",
              "      <td>and</td>\n",
              "      <td>12997637966</td>\n",
              "    </tr>\n",
              "    <tr>\n",
              "      <th>3</th>\n",
              "      <td>to</td>\n",
              "      <td>12136980858</td>\n",
              "    </tr>\n",
              "    <tr>\n",
              "      <th>4</th>\n",
              "      <td>a</td>\n",
              "      <td>9081174698</td>\n",
              "    </tr>\n",
              "  </tbody>\n",
              "</table>\n",
              "</div>"
            ],
            "text/plain": [
              "  word        count\n",
              "0  the  23135851162\n",
              "1   of  13151942776\n",
              "2  and  12997637966\n",
              "3   to  12136980858\n",
              "4    a   9081174698"
            ]
          },
          "execution_count": 397,
          "metadata": {},
          "output_type": "execute_result"
        }
      ],
      "source": [
        "# Source: https://www.kaggle.com/datasets/rtatman/english-word-frequency?resource=download\n",
        "\n",
        "word_frequency_df = pd.read_csv(r'../Data_Sources/unigram_freq.csv')\n",
        "word_frequency_df.head()"
      ]
    },
    {
      "cell_type": "markdown",
      "id": "d7cb41ab",
      "metadata": {},
      "source": [
        "The data in this dataset is comprised of \"333,333 most commonly-used single words on the English language web as derived from the Google Web Trillion Word Corpus.\" (https://www.kaggle.com/datasets/rtatman/english-word-frequency)"
      ]
    },
    {
      "cell_type": "markdown",
      "id": "c3891edc",
      "metadata": {},
      "source": [
        "Let's create some groupings for different ages. Selecting words for this research can be challenging. I want to focus primarily on using nouns and not adjectives. However, many words have multiple meanings and can have multiple Parts of Speech (PoS). Take the word \"old\" for example. It can be both a noun, referring to a group of people, and an adjective, describing the age of a person. I want to avoid these words as they connotate negativity with disproportionate frequency than their opposites. It wouldn't be uncommon to describe your car as old, and one can assume it is done with some frequency. It would be odd, however, to describe your car as young as this word is typically reserved for referring to living things. So the term young may occur with less frequency as it tends to only apply to a particular subset of words.\n",
        "\n",
        "Let's see if that's plausible with the words \"young\" and \"old.\""
      ]
    },
    {
      "cell_type": "code",
      "execution_count": 398,
      "id": "9e842765",
      "metadata": {},
      "outputs": [
        {
          "name": "stdout",
          "output_type": "stream",
          "text": [
            "      word      count\n",
            "570  young  136341684\n",
            "\n",
            "\n",
            "    word      count\n",
            "370  old  199694226\n"
          ]
        }
      ],
      "source": [
        "print(word_frequency_df[word_frequency_df['word'] == 'young'])\n",
        "print(\"\\n\")\n",
        "print(word_frequency_df[word_frequency_df['word'] == 'old'])"
      ]
    },
    {
      "cell_type": "markdown",
      "id": "910ff8f1",
      "metadata": {},
      "source": [
        "As expected, the word \"old\" occurs with greater frequency than the word \"young.\" This highlights the challenges in developing a significantly robust evaluation set for this subject."
      ]
    },
    {
      "cell_type": "markdown",
      "id": "f3b5da30",
      "metadata": {},
      "source": [
        "I'm going to make 4 very general groups to contain my age related nouns. These will consist of\n",
        " -  Young: Describing those before teenage years\n",
        " -  Teen: Describing those within their teenage years\n",
        " -  Adult: Describing post teenage maturity\n",
        " -  Old: Describing generally those at retirement age, mid 60's and beyond\n",
        "\n",
        "To differentiate between the \"young\" and \"teen\" categories I am defering any terms not specific to childhood to be \"Teen\" terms. Therefore words like \"toddler\" apply to the young category and words like \"minor\" apply to the \"Teen\" category. The groupings are guided by the National Library of Medicine, \"Ericksons Stages of Psychosocial Development\" (Orenstein, Lewis, 2022) referenced in the next block."
      ]
    },
    {
      "cell_type": "code",
      "execution_count": 399,
      "id": "ed4aab35",
      "metadata": {},
      "outputs": [],
      "source": [
        "# source:https://www.britannica.com/dictionary/eb/qa/Age-by-Decade#:~:text=A%20person%20between%2020%20and,59%20is%20called%20a%20quinquagenarian.\n",
        "# source: https://www.ncbi.nlm.nih.gov/books/NBK556096/\n",
        "# source: https://langeek.co/en/vocab/subcategory/900/word-list\n",
        "'''\n",
        "There are a lot of words that can be used to describe different stages of life.\n",
        "I'm going to use the national library of medicine to define some of these groupings.\n",
        "There are also a lot of words with multiple meanings and attemptint to not\n",
        "unintentionally skew the data can be challenging. It's hard to stay away from \n",
        "adjectives which by definition describes or defines a noun and thereby imparting\n",
        "sentiment. Some words are both nouns and adjectives, like juvenile.\n",
        "'''\n",
        "AGE_BY_CATEGORY = {\n",
        "\n",
        "    'Young': [\n",
        "        'infant','child','toddler','preschooler','girlhood','new','baby','youngling',\n",
        "        'youth','neonate','preteen','boyhood','young','newborn','kid','tyke',\n",
        "        'tween'\n",
        "        ],\n",
        "    'Teen': [\n",
        "        'teenager','minor','juvenile','teen','stripling','youngster',\n",
        "        'adolescent','fledgling','adolescence','pubescent','junior'\n",
        "        ],\n",
        "    'Adult': [\n",
        "        'vicenarian','tricenarian','adult','quadragenarian','sexagenarian',\n",
        "        'manhood','womanhood','maturity','quinquagenarian','prime'\n",
        "        ],\n",
        "    'Old': [\n",
        "        'retiree','elder','experienced','geriatric', 'centenarian','oldster',\n",
        "        'octogenarian','nonagenarian','septuagenarian','senior','pensioner'\n",
        "        ]\n",
        "}"
      ]
    },
    {
      "cell_type": "markdown",
      "id": "7173d082",
      "metadata": {},
      "source": [
        "With only 333,333 words in my frequency dataframe, I'd like to see which of my listed words do not appear. If they do not appear, it is safe to assume they were not found as part of the corpus of frequently used words and therefore would occur somewhere beyond 333,333. To account for these, I'll append them to the dataset in no specific order past 333,333."
      ]
    },
    {
      "cell_type": "code",
      "execution_count": 400,
      "id": "65a098b9",
      "metadata": {},
      "outputs": [
        {
          "data": {
            "text/html": [
              "<div>\n",
              "<style scoped>\n",
              "    .dataframe tbody tr th:only-of-type {\n",
              "        vertical-align: middle;\n",
              "    }\n",
              "\n",
              "    .dataframe tbody tr th {\n",
              "        vertical-align: top;\n",
              "    }\n",
              "\n",
              "    .dataframe thead th {\n",
              "        text-align: right;\n",
              "    }\n",
              "</style>\n",
              "<table border=\"1\" class=\"dataframe\">\n",
              "  <thead>\n",
              "    <tr style=\"text-align: right;\">\n",
              "      <th></th>\n",
              "      <th>word</th>\n",
              "      <th>count</th>\n",
              "    </tr>\n",
              "  </thead>\n",
              "  <tbody>\n",
              "    <tr>\n",
              "      <th>333333</th>\n",
              "      <td>youngling</td>\n",
              "      <td>12711</td>\n",
              "    </tr>\n",
              "    <tr>\n",
              "      <th>333334</th>\n",
              "      <td>vicenarian</td>\n",
              "      <td>12710</td>\n",
              "    </tr>\n",
              "    <tr>\n",
              "      <th>333335</th>\n",
              "      <td>tricenarian</td>\n",
              "      <td>12709</td>\n",
              "    </tr>\n",
              "    <tr>\n",
              "      <th>333336</th>\n",
              "      <td>quadragenarian</td>\n",
              "      <td>12708</td>\n",
              "    </tr>\n",
              "    <tr>\n",
              "      <th>333337</th>\n",
              "      <td>sexagenarian</td>\n",
              "      <td>12707</td>\n",
              "    </tr>\n",
              "    <tr>\n",
              "      <th>333338</th>\n",
              "      <td>quinquagenarian</td>\n",
              "      <td>12706</td>\n",
              "    </tr>\n",
              "    <tr>\n",
              "      <th>333339</th>\n",
              "      <td>oldster</td>\n",
              "      <td>12705</td>\n",
              "    </tr>\n",
              "    <tr>\n",
              "      <th>333340</th>\n",
              "      <td>nonagenarian</td>\n",
              "      <td>12704</td>\n",
              "    </tr>\n",
              "  </tbody>\n",
              "</table>\n",
              "</div>"
            ],
            "text/plain": [
              "                   word  count\n",
              "333333        youngling  12711\n",
              "333334       vicenarian  12710\n",
              "333335      tricenarian  12709\n",
              "333336   quadragenarian  12708\n",
              "333337     sexagenarian  12707\n",
              "333338  quinquagenarian  12706\n",
              "333339          oldster  12705\n",
              "333340     nonagenarian  12704"
            ]
          },
          "execution_count": 400,
          "metadata": {},
          "output_type": "execute_result"
        }
      ],
      "source": [
        "# Get a list of my nouns that might not be in the frequency data\n",
        "infrequent_words = []\n",
        "for group, noun_list in AGE_BY_CATEGORY.items():\n",
        "    for noun in noun_list:\n",
        "         if word_frequency_df[word_frequency_df['word'] == noun].empty:\n",
        "            infrequent_words.append(noun)\n",
        "\n",
        "# Append the new nouns to the frequency data\n",
        "# I'll separate each word by an arbitrary value 1 for the count decreasing.\n",
        "# First, let's get the very last count value in the current data:\n",
        "last_count = word_frequency_df['count'].iloc[-1]\n",
        "\n",
        "# Now let's append some data after that value\n",
        "infrequent_df = pd.DataFrame(columns=['word','count'])\n",
        "infrequent_counts = []\n",
        "infrequent_dict = {}\n",
        "for i, word in enumerate(infrequent_words):\n",
        "    infrequent_counts.append(last_count-i)\n",
        "\n",
        "infrequent_dict['word'] = infrequent_words \n",
        "infrequent_dict['count'] = infrequent_counts\n",
        "infrequent_df = pd.DataFrame.from_dict(infrequent_dict)\n",
        "\n",
        "# Concatenate the infrequent words with the frequent ones\n",
        "word_frequency_df = pd.concat([word_frequency_df,infrequent_df], ignore_index=True)\n",
        "\n",
        "word_frequency_df.tail(len(infrequent_words))"
      ]
    },
    {
      "cell_type": "markdown",
      "id": "94e5e9ac",
      "metadata": {},
      "source": [
        "### Training the model\n",
        "\n",
        "First, I'm going to be copying some of the functions from the ConceptNet notebook from class to make processing the model training earlier. I'll take the functions that captured sentiments for each word as well as the code that built the Lexicon and vector dataframes. I'm going to modify a few aspects of the functions to make them work with my data."
      ]
    },
    {
      "cell_type": "code",
      "execution_count": 401,
      "id": "2e387e84",
      "metadata": {},
      "outputs": [],
      "source": [
        "# Source: Modified from cs8321 01 ConceptNet notebook\n",
        "# I'm adjusting these functions to reference by age related dictionary\n",
        "def vecs_to_sentiment(vecs):\n",
        "    # predict_log_proba gives the log probability for each class\n",
        "    predictions = model.predict_log_proba(vecs)\n",
        "\n",
        "    # To see an overall positive vs. negative classification in one number,\n",
        "    # we take the log probability of positive sentiment minus the log\n",
        "    # probability of negative sentiment.\n",
        "    # this is a logarithm of the max margin for the classifier,\n",
        "    # similar to odds ratio (but not exact) log(p_1/p_0) = log(p_1)-log(p_0)\n",
        "    return predictions[:, 1] - predictions[:, 0]\n",
        "\n",
        "\n",
        "def words_to_sentiment(words):\n",
        "    vecs = embeddings.loc[words].dropna()\n",
        "    log_odds = vecs_to_sentiment(vecs)\n",
        "    return pd.DataFrame({'sentiment': log_odds}, index=vecs.index)\n",
        "\n",
        "\n",
        "def age_sentiment_table():\n",
        "    frames = []\n",
        "    # for group, age_list in sorted(AGE_BY_CATEGORY.items()):\n",
        "    for group, age_list in AGE_BY_CATEGORY.items():\n",
        "        lower_names = [name.lower() for name in age_list]\n",
        "        sentiments = words_to_sentiment(lower_names)\n",
        "        sentiments['group'] = group\n",
        "        frames.append(sentiments)\n",
        "\n",
        "    # Put together the data we got from each ethnic group into one big table\n",
        "    return pd.concat(frames)"
      ]
    },
    {
      "cell_type": "code",
      "execution_count": 402,
      "id": "7c5008f0",
      "metadata": {},
      "outputs": [],
      "source": [
        "# Source: Modified from cs8321 01 ConceptNet notebook\n",
        "# I'm splitting out the plotting functions so I can access them directly\n",
        "import scipy.stats as stats\n",
        "\n",
        "def retrain_model_age(new_embs, title = ''):\n",
        "    # use these from outside the function and update them globally\n",
        "    global model, embeddings, age_sentiments\n",
        "    embeddings = new_embs\n",
        "    # get the positive and negative embeddings\n",
        "    pos_words_common = list(set(pos_words) & set(embeddings.index)) \n",
        "    neg_words_common = list(set(neg_words) & set(embeddings.index)) \n",
        "    pos_vectors = embeddings.loc[pos_words_common]\n",
        "    neg_vectors = embeddings.loc[neg_words_common]\n",
        "    vectors = pd.concat([pos_vectors, neg_vectors])\n",
        "    targets = np.array([1 for entry in pos_vectors.index] + [-1 for entry in neg_vectors.index])\n",
        "    labels = list(pos_vectors.index) + list(neg_vectors.index)\n",
        "\n",
        "    # split the data\n",
        "    train_vectors, test_vectors, train_targets, test_targets, train_labels, test_labels = \\\n",
        "        train_test_split(vectors, targets, labels, test_size=0.1, random_state=0)\n",
        "    \n",
        "    # train our model\n",
        "    model = SGDClassifier(loss='log_loss', random_state=0, max_iter=100)\n",
        "    model.fit(train_vectors, train_targets)\n",
        "    \n",
        "    # print out a goodness of fit\n",
        "    accuracy = accuracy_score(model.predict(test_vectors), test_targets)\n",
        "    print(\"Accuracy of sentiment: {:.2%}\".format(accuracy))\n",
        "    \n",
        "    # get the name table of different people's names and save embeddings\n",
        "    age_sentiments = age_sentiment_table()\n",
        "    age_sentiments = pd.merge(age_sentiments, word_frequency_df, left_index=True, right_on='word')\n",
        "\n",
        "    return(age_sentiments)"
      ]
    },
    {
      "cell_type": "markdown",
      "id": "ee713bfd",
      "metadata": {},
      "source": [
        "Now, let's train our model for the first time using the NumberBatch data and lexicon loaded previously."
      ]
    },
    {
      "cell_type": "code",
      "execution_count": 403,
      "id": "be41366a",
      "metadata": {},
      "outputs": [
        {
          "name": "stdout",
          "output_type": "stream",
          "text": [
            "Accuracy of sentiment: 96.99%\n"
          ]
        }
      ],
      "source": [
        "# Local PC version\n",
        "# retrain_model_age(load_embeddings('../Data_Sources/numberbatch-en.txt'), title='ConceptNet Numberbatch')\n",
        "nb_results = retrain_model_age(load_embeddings('../Data_Sources/numberbatch-en.txt'), title='ConceptNet Numberbatch')\n",
        "\n",
        "# Colab version\n",
        "# retrain_model(load_embeddings('/content/drive/MyDrive/Colab Notebooks/numberbatch-en.txt'), title='ConceptNet Numberbatch')"
      ]
    },
    {
      "cell_type": "markdown",
      "id": "b4181ede",
      "metadata": {},
      "source": [
        "### Analysis"
      ]
    },
    {
      "cell_type": "markdown",
      "id": "cc3e385c",
      "metadata": {},
      "source": [
        "Because I'm going to be introducing a second numeric value to my data in the form of frequency, I want to make sure the data is plotted on the same scale. Therefore I'm going to normalize my data. "
      ]
    },
    {
      "cell_type": "code",
      "execution_count": 404,
      "id": "191e2e11",
      "metadata": {},
      "outputs": [
        {
          "data": {
            "text/html": [
              "<div>\n",
              "<style scoped>\n",
              "    .dataframe tbody tr th:only-of-type {\n",
              "        vertical-align: middle;\n",
              "    }\n",
              "\n",
              "    .dataframe tbody tr th {\n",
              "        vertical-align: top;\n",
              "    }\n",
              "\n",
              "    .dataframe thead th {\n",
              "        text-align: right;\n",
              "    }\n",
              "</style>\n",
              "<table border=\"1\" class=\"dataframe\">\n",
              "  <thead>\n",
              "    <tr style=\"text-align: right;\">\n",
              "      <th></th>\n",
              "      <th>sentiment</th>\n",
              "      <th>group</th>\n",
              "      <th>word</th>\n",
              "      <th>count</th>\n",
              "      <th>sentiment_norm</th>\n",
              "      <th>frequency_norm</th>\n",
              "    </tr>\n",
              "  </thead>\n",
              "  <tbody>\n",
              "    <tr>\n",
              "      <th>5081</th>\n",
              "      <td>-0.860151</td>\n",
              "      <td>Young</td>\n",
              "      <td>infant</td>\n",
              "      <td>12959639</td>\n",
              "      <td>0.380721</td>\n",
              "      <td>0.008346</td>\n",
              "    </tr>\n",
              "    <tr>\n",
              "      <th>654</th>\n",
              "      <td>-1.077202</td>\n",
              "      <td>Young</td>\n",
              "      <td>child</td>\n",
              "      <td>119747393</td>\n",
              "      <td>0.338949</td>\n",
              "      <td>0.077186</td>\n",
              "    </tr>\n",
              "    <tr>\n",
              "      <th>8702</th>\n",
              "      <td>-0.860008</td>\n",
              "      <td>Young</td>\n",
              "      <td>toddler</td>\n",
              "      <td>6223093</td>\n",
              "      <td>0.380748</td>\n",
              "      <td>0.004003</td>\n",
              "    </tr>\n",
              "    <tr>\n",
              "      <th>55164</th>\n",
              "      <td>-0.463123</td>\n",
              "      <td>Young</td>\n",
              "      <td>preschooler</td>\n",
              "      <td>281628</td>\n",
              "      <td>0.457129</td>\n",
              "      <td>0.000173</td>\n",
              "    </tr>\n",
              "    <tr>\n",
              "      <th>101756</th>\n",
              "      <td>0.959620</td>\n",
              "      <td>Young</td>\n",
              "      <td>girlhood</td>\n",
              "      <td>96165</td>\n",
              "      <td>0.730936</td>\n",
              "      <td>0.000054</td>\n",
              "    </tr>\n",
              "  </tbody>\n",
              "</table>\n",
              "</div>"
            ],
            "text/plain": [
              "        sentiment  group         word      count  sentiment_norm  \\\n",
              "5081    -0.860151  Young       infant   12959639        0.380721   \n",
              "654     -1.077202  Young        child  119747393        0.338949   \n",
              "8702    -0.860008  Young      toddler    6223093        0.380748   \n",
              "55164   -0.463123  Young  preschooler     281628        0.457129   \n",
              "101756   0.959620  Young     girlhood      96165        0.730936   \n",
              "\n",
              "        frequency_norm  \n",
              "5081          0.008346  \n",
              "654           0.077186  \n",
              "8702          0.004003  \n",
              "55164         0.000173  \n",
              "101756        0.000054  "
            ]
          },
          "execution_count": 404,
          "metadata": {},
          "output_type": "execute_result"
        }
      ],
      "source": [
        "# Source: ChatGPT for applying standard scaling\n",
        "from sklearn.preprocessing import MinMaxScaler\n",
        "\n",
        "# Assign the scaler object to a variable\n",
        "scaler = MinMaxScaler()\n",
        "\n",
        "# Apply fit-transform function to the data of interest\n",
        "nb_results['sentiment_norm'] = scaler.fit_transform(nb_results[['sentiment']])\n",
        "nb_results['frequency_norm'] = scaler.fit_transform(nb_results[['count']])\n",
        "\n",
        "# We could drop the original values now, but there aren't a ton of columns. \n",
        "# So, I'll just keep everything.\n",
        "nb_results.head()"
      ]
    },
    {
      "cell_type": "code",
      "execution_count": 405,
      "id": "6c7a2440",
      "metadata": {},
      "outputs": [],
      "source": [
        "# Source: Modified from cs8321 01 ConceptNet notebook\n",
        "# I'm making the plotting function unique and more dynamic by allowing\n",
        "# me to specify the values I want to plot. This will be necessary\n",
        "# to compare my altered data.\n",
        "\n",
        "def plot_values(title, data, values): # age_sentiments = age_sentiment_table()\n",
        "    stats.f_oneway(\n",
        "        data[values][data['group'] == 'Young'],\n",
        "        data[values][data['group'] == 'Teen'],\n",
        "        data[values][data['group'] == 'Adult'],\n",
        "        data[values][data['group'] == 'Old'],\n",
        "    )\n",
        "\n",
        "    fstat,pval = stats.f_oneway(\n",
        "        data[values][data['group'] == 'Young'],\n",
        "        data[values][data['group'] == 'Teen'],\n",
        "        data[values][data['group'] == 'Adult'],\n",
        "        data[values][data['group'] == 'Old'],\n",
        "    )\n",
        "    print('F-statistic:',fstat,' With P-value:', pval)\n",
        "\n",
        "    # Show the results on a swarm plot, with a consistent Y-axis\n",
        "    matplotlib.pyplot.figure(figsize=(15,5))\n",
        "    matplotlib.pyplot.subplot(121)\n",
        "    plot = seaborn.swarmplot(x='group', y=values, data=data)\n",
        "    plot.set_ylim([-5, 5])\n",
        "    matplotlib.pyplot.subplot(122)\n",
        "    plot = seaborn.barplot(x='group', y=values, data=data, capsize=.1)\n",
        "    matplotlib.pyplot.suptitle(title, fontsize=16)"
      ]
    },
    {
      "cell_type": "markdown",
      "id": "c09e0214",
      "metadata": {},
      "source": [
        "Let's take a look at the intial measurements of my ageism sentiments."
      ]
    },
    {
      "cell_type": "code",
      "execution_count": 406,
      "id": "15b22f3e",
      "metadata": {},
      "outputs": [
        {
          "name": "stdout",
          "output_type": "stream",
          "text": [
            "F-statistic: 1.4412920317144369  With P-value: 0.24331206496499738\n"
          ]
        },
        {
          "data": {
            "image/png": "[encoded data removed]",
            "text/plain": [
              "<Figure size 1500x500 with 2 Axes>"
            ]
          },
          "metadata": {},
          "output_type": "display_data"
        }
      ],
      "source": [
        "plot_values('ConceptNet Numberbatch',nb_results,values='sentiment')"
      ]
    },
    {
      "cell_type": "markdown",
      "id": "8610bc25",
      "metadata": {},
      "source": [
        "This initial look at the data shows me that Old and Teen groups tend to have the worst negative sentiments. There is a lot of overalp as well with the adult bar, though it ranges far more into positive territory than the the others. Young is the least negative. Could this data be improved by introducing the word frequency? Could we see more overlap of the error bars and an alignment of mean values?\n",
        "\n",
        "To bring the frequency count into play, we'll setup a weighted average value and replot."
      ]
    },
    {
      "cell_type": "markdown",
      "id": "024a64bf",
      "metadata": {},
      "source": [
        "#### Introduction of Unigram Frequency"
      ]
    },
    {
      "cell_type": "markdown",
      "id": "6a2c8767",
      "metadata": {},
      "source": [
        "Let's add a new value consisting of a weighted average of both frequency and sentiment. I need to answer the question of what weights I assign to each value. Arbitrarily guessing would look like confirmation bias, however this is a proof of concept. What I intend to show that the selection of words in our high frequency vocabulary is driving potential ageism results in machine learning models. That given a different nomenclature the bias can be mitigated. Therefore I won't be basing my weighting values on statistical analysis and will instead be making an educated guess.\n",
        "\n",
        "Knowing that certain words carry negative sentiment connotation could allow data scientists to mitigate this bias by balancing the impact that synonyms could play in generating results.\n",
        "\n",
        "I'm going to be using the formula below for weighted average. I want to apply more weight to words less frequently used, so I'll subtract the frequency values from 1 before multiplying by the frequency weight. "
      ]
    },
    {
      "cell_type": "code",
      "execution_count": 407,
      "id": "c3b3341f",
      "metadata": {},
      "outputs": [
        {
          "data": {
            "text/latex": [
              "$\\displaystyle \\text{Weighted\\_average} = (\\text{sentiment\\_weight} \\times \\text{sentiment\\_value}) + (\\text{frequency\\_weight} \\times (1 - \\text{frequency\\_value}))$"
            ],
            "text/plain": [
              "<IPython.core.display.Math object>"
            ]
          },
          "metadata": {},
          "output_type": "display_data"
        },
        {
          "data": {
            "text/html": [
              "<div>\n",
              "<style scoped>\n",
              "    .dataframe tbody tr th:only-of-type {\n",
              "        vertical-align: middle;\n",
              "    }\n",
              "\n",
              "    .dataframe tbody tr th {\n",
              "        vertical-align: top;\n",
              "    }\n",
              "\n",
              "    .dataframe thead th {\n",
              "        text-align: right;\n",
              "    }\n",
              "</style>\n",
              "<table border=\"1\" class=\"dataframe\">\n",
              "  <thead>\n",
              "    <tr style=\"text-align: right;\">\n",
              "      <th></th>\n",
              "      <th>sentiment</th>\n",
              "      <th>group</th>\n",
              "      <th>word</th>\n",
              "      <th>count</th>\n",
              "      <th>sentiment_norm</th>\n",
              "      <th>frequency_norm</th>\n",
              "      <th>weighted_avg</th>\n",
              "    </tr>\n",
              "  </thead>\n",
              "  <tbody>\n",
              "    <tr>\n",
              "      <th>5081</th>\n",
              "      <td>-0.860151</td>\n",
              "      <td>Young</td>\n",
              "      <td>infant</td>\n",
              "      <td>12959639</td>\n",
              "      <td>0.380721</td>\n",
              "      <td>0.008346</td>\n",
              "      <td>0.790046</td>\n",
              "    </tr>\n",
              "    <tr>\n",
              "      <th>654</th>\n",
              "      <td>-1.077202</td>\n",
              "      <td>Young</td>\n",
              "      <td>child</td>\n",
              "      <td>119747393</td>\n",
              "      <td>0.338949</td>\n",
              "      <td>0.077186</td>\n",
              "      <td>0.730139</td>\n",
              "    </tr>\n",
              "    <tr>\n",
              "      <th>8702</th>\n",
              "      <td>-0.860008</td>\n",
              "      <td>Young</td>\n",
              "      <td>toddler</td>\n",
              "      <td>6223093</td>\n",
              "      <td>0.380748</td>\n",
              "      <td>0.004003</td>\n",
              "      <td>0.792965</td>\n",
              "    </tr>\n",
              "    <tr>\n",
              "      <th>55164</th>\n",
              "      <td>-0.463123</td>\n",
              "      <td>Young</td>\n",
              "      <td>preschooler</td>\n",
              "      <td>281628</td>\n",
              "      <td>0.457129</td>\n",
              "      <td>0.000173</td>\n",
              "      <td>0.820736</td>\n",
              "    </tr>\n",
              "    <tr>\n",
              "      <th>101756</th>\n",
              "      <td>0.959620</td>\n",
              "      <td>Young</td>\n",
              "      <td>girlhood</td>\n",
              "      <td>96165</td>\n",
              "      <td>0.730936</td>\n",
              "      <td>0.000054</td>\n",
              "      <td>0.911173</td>\n",
              "    </tr>\n",
              "  </tbody>\n",
              "</table>\n",
              "</div>"
            ],
            "text/plain": [
              "        sentiment  group         word      count  sentiment_norm  \\\n",
              "5081    -0.860151  Young       infant   12959639        0.380721   \n",
              "654     -1.077202  Young        child  119747393        0.338949   \n",
              "8702    -0.860008  Young      toddler    6223093        0.380748   \n",
              "55164   -0.463123  Young  preschooler     281628        0.457129   \n",
              "101756   0.959620  Young     girlhood      96165        0.730936   \n",
              "\n",
              "        frequency_norm  weighted_avg  \n",
              "5081          0.008346      0.790046  \n",
              "654           0.077186      0.730139  \n",
              "8702          0.004003      0.792965  \n",
              "55164         0.000173      0.820736  \n",
              "101756        0.000054      0.911173  "
            ]
          },
          "execution_count": 407,
          "metadata": {},
          "output_type": "execute_result"
        }
      ],
      "source": [
        "from copy import deepcopy\n",
        "display(Math(r'\\text{Weighted\\_average} = (\\text{sentiment\\_weight} \\times \\text{sentiment\\_value}) + (\\text{frequency\\_weight} \\times (1 - \\text{frequency\\_value}))'))\n",
        "nb_results_weighted = deepcopy(nb_results)\n",
        "# Let's start with weighting the frequency of use twice as high as sentiment\n",
        "nb_results_weighted['weighted_avg'] = (0.33*nb_results_weighted['sentiment_norm']) + (0.67*(1-nb_results_weighted['frequency_norm']))\n",
        "# nb_results_weighted['weighted_avg'] = (0.75*nb_results_weighted['sentiment_norm']) + (0.25*(1-nb_results_weighted['frequency_norm']))\n",
        "\n",
        "nb_results_weighted.head()"
      ]
    },
    {
      "cell_type": "markdown",
      "id": "f210814b",
      "metadata": {},
      "source": [
        "Now let's check our results again. I'll plot the two charts right next to each other for easy visual analysis."
      ]
    },
    {
      "cell_type": "code",
      "execution_count": 408,
      "id": "41bd2ef3",
      "metadata": {},
      "outputs": [
        {
          "name": "stdout",
          "output_type": "stream",
          "text": [
            "F-statistic: 0.3306006225591922  With P-value: 0.8032334686616392\n",
            "F-statistic: 1.4412920317144369  With P-value: 0.24331206496499738\n"
          ]
        },
        {
          "data": {
            "image/png": "[encoded data removed]",
            "text/plain": [
              "<Figure size 1500x500 with 2 Axes>"
            ]
          },
          "metadata": {},
          "output_type": "display_data"
        },
        {
          "data": {
            "image/png": "[encoded data removed]",
            "text/plain": [
              "<Figure size 1500x500 with 2 Axes>"
            ]
          },
          "metadata": {},
          "output_type": "display_data"
        }
      ],
      "source": [
        "plot_values('ConceptNet Numberbatch Weighted Avg',nb_results_weighted,values='weighted_avg')\n",
        "plot_values('ConceptNet Numberbatch',nb_results,values='sentiment')"
      ]
    },
    {
      "cell_type": "markdown",
      "id": "f100f7c1",
      "metadata": {},
      "source": [
        "Based on these results, I can see that using a weighted average of unigram frequency and sentiment has allowed me to make it so that all of the error bars share significant overlap. With respect to my research question I can at least visually state that it seems plausible that word substitution would provide mitigaion for ageism bias in ConceptNet numberbatch."
      ]
    },
    {
      "cell_type": "code",
      "execution_count": null,
      "id": "3de9d632",
      "metadata": {},
      "outputs": [],
      "source": []
    },
    {
      "cell_type": "markdown",
      "id": "0a8d9bb9",
      "metadata": {},
      "source": [
        "### Statistical Comparison\n",
        "\n",
        "I don't believe direct statistical comparison is the most appropriate measurement between these two datasets. I'm not comparing the same data directly to one another. In one dataframe I have the pure sentiment values derived from the log_proba function and in the other I have a sentiment weighted average that takes into account frequency of word occurrence. For the sake of completeness I wanted to go ahead and perform this analysis and discuss the results."
      ]
    },
    {
      "cell_type": "code",
      "execution_count": 409,
      "id": "c4fe3b30",
      "metadata": {},
      "outputs": [
        {
          "name": "stdout",
          "output_type": "stream",
          "text": [
            "Category: Adult\n",
            "t-statistic: -2.0939859360056357\n",
            "p-value: 0.05068373580591861\n",
            "There is no statistically significant difference in sentiment between the two datasets for this group.\n",
            "\n",
            "Category: Old\n",
            "t-statistic: -5.273111639152407\n",
            "p-value: 3.6804471856233294e-05\n",
            "There is a statistically significant difference in sentiment between the two datasets for this group.\n",
            "\n",
            "Category: Teen\n",
            "t-statistic: -5.829634875671074\n",
            "p-value: 1.0546415849333665e-05\n",
            "There is a statistically significant difference in sentiment between the two datasets for this group.\n",
            "\n",
            "Category: Young\n",
            "t-statistic: -5.633573627606267\n",
            "p-value: 3.1435183481667292e-06\n",
            "There is a statistically significant difference in sentiment between the two datasets for this group.\n",
            "\n"
          ]
        }
      ],
      "source": [
        "# Source: ChatGPT for performing the t-test\n",
        "from scipy import stats\n",
        "\n",
        "# Assuming df1 and df2 are your dataframes\n",
        "# Each dataframe should have columns representing sentiment values and categorical groups\n",
        "\n",
        "# Group data by category\n",
        "grouped_df1 = nb_results.groupby('group')\n",
        "grouped_df2 = nb_results_weighted.groupby('group')\n",
        "\n",
        "# Perform t-test for each group\n",
        "for group, data1 in grouped_df1:\n",
        "    data2 = grouped_df2.get_group(group)\n",
        "    \n",
        "    t_statistic, p_value = stats.ttest_ind(data1['sentiment'], data2['weighted_avg'])\n",
        "    \n",
        "    print(f\"Category: {group}\")\n",
        "    print(\"t-statistic:\", t_statistic)\n",
        "    print(\"p-value:\", p_value)\n",
        "    if p_value < 0.05:\n",
        "        print(\"There is a statistically significant difference in sentiment between the two datasets for this group.\\n\")\n",
        "    else:\n",
        "        print(\"There is no statistically significant difference in sentiment between the two datasets for this group.\\n\")\n",
        "\n"
      ]
    },
    {
      "cell_type": "markdown",
      "id": "47330126",
      "metadata": {},
      "source": [
        "Based on the data above I see that the only grouping not indicating statistical difference is my Adult group. This was the group that had the widest 95% confidence interval in the initial plots. Therefore I believe this is at least partially why I don't have a statistically significant difference. \n",
        "\n",
        "As a data scientist or machine learning practicioner trying to prove the viability of word substitution as a means of mitigating bias I would want to keep my groupings statistically unaltered by the implementation of the weighted average. This would ensure that I haven't altered the results by applying the mitigation technique. The data above seems to indicate that alteration has occurred. While I can say that visually I have accomplished my task of aligning all bias to be equal across my groupings, I believe more effort is needed on the statistical analysis side to prove the hypothesis completely."
      ]
    },
    {
      "cell_type": "markdown",
      "id": "951d9aa2",
      "metadata": {},
      "source": [
        "### Recommended Scientific Journals and Conferences\n",
        "\n",
        "I believe research in this area would be of interest to the following:\n",
        " -  AI, Ethics, and Society (AIES): https://www.aies-conference.com/2023/\n",
        "    -  This organization is supported by many of the larger names in AI and machine learning such as Google, Sony, IBM, and many others. Their focus on ethics and society make them an excellent target for this type of research\n",
        " -  The AI Rpbotics Ethics Society (AIRES): https://www.theaires.org/\n",
        "    -  AIRES has an ethics journal as well as conferences throughout the year. There are chapters representing their interests at major US universities including Cornell, UCLA, USCE, Caltech, Brown, and Stanford.\n",
        "    -  Their mission is to focus on educating tomorrow's AI leaders in ethical AI principles to ensure AI is created ethically and responsibly.\n",
        "\n"
      ]
    },
    {
      "cell_type": "markdown",
      "id": "aa7218fe",
      "metadata": {},
      "source": [
        "### Conclusions\n",
        "\n",
        "I set out to examine whether something as simple as substitution could be a method to tame ethical concerns of ageism in machine learning models. However the concept doesn't necessarily need to stop at ageism. It's a concept that could potentially work across areas of concern. When machine learning models are trained on common text, they inherently \"learn\" preexisting biases with the most common words and their context. However, if we take synonyms of less frequent use, and substitue them for the trained word, we have an opportunity to mitigate biases and still achieve the desired end result. \n",
        "\n",
        "In this notebook I showed that it is possible to put together the components necessary to align sentiment values, and to use unigram frequency to create this alignment across groups. I had wanted to pull in more data samples using several embedding models, however I was continuously faced with some words not being available across all models which would have forced me to continually create a customized set of age related nouns, thereby negating meaningful comparison across models. I believe this is an interesting area that warrants further consideration."
      ]
    }
  ],
  "metadata": {
    "accelerator": "GPU",
    "colab": {
      "gpuType": "T4",
      "provenance": []
    },
    "kernelspec": {
      "display_name": "Python 3",
      "name": "python3"
    },
    "language_info": {
      "codemirror_mode": {
        "name": "ipython",
        "version": 3
      },
      "file_extension": ".py",
      "mimetype": "text/x-python",
      "name": "python",
      "nbconvert_exporter": "python",
      "pygments_lexer": "ipython3",
      "version": "3.9.17"
    }
  },
  "nbformat": 4,
  "nbformat_minor": 5
}
