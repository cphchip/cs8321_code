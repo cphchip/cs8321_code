{
 "cells": [
  {
   "cell_type": "markdown",
   "id": "1pBn63p31e6R",
   "metadata": {
    "id": "1pBn63p31e6R"
   },
   "source": [
    "# cs8321 Lab 1 - ConceptNet Ethics Testing"
   ]
  },
  {
   "cell_type": "markdown",
   "id": "xbjDEuY51e6T",
   "metadata": {
    "id": "xbjDEuY51e6T"
   },
   "source": [
    "#### Chip Henderson - 48996654\n"
   ]
  },
  {
   "cell_type": "code",
   "execution_count": 94,
   "id": "KmfPJxru1e6T",
   "metadata": {
    "id": "KmfPJxru1e6T"
   },
   "outputs": [],
   "source": [
    "# Import everything\n",
    "import numpy as np\n",
    "import pandas as pd\n",
    "import matplotlib\n",
    "# from tensorflow.keras.datasets import imdb\n",
    "from tensorflow.keras.preprocessing import sequence\n",
    "from tensorflow.keras.preprocessing.text import Tokenizer\n",
    "from tensorflow.keras.preprocessing.sequence import pad_sequences\n",
    "from tensorflow.keras.models import Model\n",
    "from tensorflow.keras.layers import Flatten, Dense, Dropout\n",
    "from tensorflow.keras.layers import Embedding, Input, Concatenate\n",
    "from tensorflow.keras.layers import Conv1D, MaxPooling1D, GlobalAveragePooling1D\n",
    "from tensorflow.keras.layers import Subtract\n",
    "from tensorflow.keras.utils import plot_model\n",
    "from tensorflow.keras.optimizers.schedules import ExponentialDecay\n",
    "from sklearn import metrics as mt\n",
    "from matplotlib import pyplot as plt\n",
    "from tensorflow.keras.layers import MultiHeadAttention, LayerNormalization\n",
    "from tensorflow.keras import Sequential\n",
    "from tensorflow.keras.layers import Layer\n",
    "from sklearn.model_selection import train_test_split\n",
    "from sklearn import metrics as mt\n",
    "from matplotlib import pyplot as plt\n",
    "import tensorflow as tf\n",
    "from tensorflow import keras\n",
    "from sklearn.model_selection import train_test_split\n",
    "from sklearn.preprocessing import LabelEncoder\n",
    "from sklearn.linear_model import SGDClassifier\n",
    "import seaborn\n",
    "import re\n",
    "from sklearn.metrics import accuracy_score\n",
    "\n"
   ]
  },
  {
   "cell_type": "markdown",
   "id": "043e3052",
   "metadata": {},
   "source": [
    "### Intro\n",
    "\n",
    "In this notebook I'm going to be comparing the results from our in-class discussion and modeling to my results when using a trained transformer. This code is set up to run in google colab so some parts need to be commented out when running on my local system."
   ]
  },
  {
   "cell_type": "code",
   "execution_count": 95,
   "id": "UP33fbUA2UJJ",
   "metadata": {
    "colab": {
     "base_uri": "https://localhost:8080/"
    },
    "id": "UP33fbUA2UJJ",
    "outputId": "3c0c0c6f-558c-4791-d283-577a408b004e"
   },
   "outputs": [],
   "source": [
    "# Uncomment for use in colab\n",
    "# from google.colab import drive\n",
    "# drive.mount('/content/drive/')"
   ]
  },
  {
   "cell_type": "code",
   "execution_count": 96,
   "id": "38c1bea1",
   "metadata": {},
   "outputs": [
    {
     "name": "stdout",
     "output_type": "stream",
     "text": [
      "CPU times: total: 35.7 s\n",
      "Wall time: 48.7 s\n"
     ]
    },
    {
     "data": {
      "text/plain": [
       "(516782, 300)"
      ]
     },
     "execution_count": 96,
     "metadata": {},
     "output_type": "execute_result"
    }
   ],
   "source": [
    "%%time\n",
    "def load_embeddings(filename):\n",
    "    \"\"\"\n",
    "    Load a DataFrame from the generalized text format used by word2vec, GloVe,\n",
    "    fastText, and ConceptNet Numberbatch. The main point where they differ is\n",
    "    whether there is an initial line with the dimensions of the matrix.\n",
    "    \"\"\"\n",
    "    labels = []\n",
    "    rows = []\n",
    "    with open(filename, encoding='utf-8') as infile:\n",
    "        for i, line in enumerate(infile):\n",
    "            items = line.rstrip().split(' ')\n",
    "            if len(items) == 2:\n",
    "                # This is a header row giving the shape of the matrix\n",
    "                continue\n",
    "            labels.append(items[0])\n",
    "            values = np.array([float(x) for x in items[1:]], 'f')\n",
    "            rows.append(values)\n",
    "    \n",
    "    arr = np.vstack(rows)\n",
    "    return pd.DataFrame(arr, index=labels, dtype='f')\n",
    "\n",
    "# embeddings = load_embeddings('data/glove.840B.300d.txt') # course original\n",
    "embeddings = load_embeddings('../Data_Sources/numberbatch-en.txt') # local PC\n",
    "embeddings.shape"
   ]
  },
  {
   "cell_type": "code",
   "execution_count": 97,
   "id": "184a4fe4",
   "metadata": {},
   "outputs": [
    {
     "name": "stdout",
     "output_type": "stream",
     "text": [
      "2006 4783\n"
     ]
    }
   ],
   "source": [
    "# Source: In class notebook 01 ConceptNet\n",
    "def load_lexicon(filename):\n",
    "    \"\"\"\n",
    "    Load a file from Bing Liu's sentiment lexicon\n",
    "    (https://www.cs.uic.edu/~liub/FBS/sentiment-analysis.html), containing\n",
    "    English words in Latin-1 encoding.\n",
    "\n",
    "    One file contains a list of positive words, and the other contains\n",
    "    a list of negative words. The files contain comment lines starting\n",
    "    with ';' and blank lines, which should be skipped.\n",
    "    \"\"\"\n",
    "    lexicon = []\n",
    "    with open(filename, encoding='latin-1') as infile:\n",
    "        for line in infile:\n",
    "            line = line.rstrip()\n",
    "            if line and not line.startswith(';'):\n",
    "                lexicon.append(line)\n",
    "    return lexicon\n",
    "\n",
    "# For running on local system, use the following:\n",
    "pos_words = load_lexicon('../Data_Sources/positive-words.txt')\n",
    "neg_words = load_lexicon('../Data_Sources/negative-words.txt')\n",
    "\n",
    "# For running in colab, use the following:\n",
    "# pos_words = load_lexicon(r'/content/drive/MyDrive/Colab Notebooks/positive-words.txt') # colab version\n",
    "# neg_words = load_lexicon(r'/content/drive/MyDrive/Colab Notebooks/negative-words.txt') # colab version\n",
    "\n",
    "print(len(pos_words), len(neg_words))"
   ]
  },
  {
   "cell_type": "code",
   "execution_count": 98,
   "id": "b2d688ed",
   "metadata": {},
   "outputs": [],
   "source": [
    "NAMES_BY_ETHNICITY = {\n",
    "    # The first two lists are from the Caliskan et al. appendix describing the\n",
    "    # Word Embedding Association Test.\n",
    "    'White': [\n",
    "        'Adam', 'Chip', 'Harry', 'Josh', 'Roger', 'Alan', 'Frank', 'Ian', 'Justin',\n",
    "        'Ryan', 'Andrew', 'Fred', 'Jack', 'Matthew', 'Stephen', 'Brad', 'Greg', 'Jed',\n",
    "        'Paul', 'Todd', 'Brandon', 'Hank', 'Jonathan', 'Peter', 'Wilbur', 'Amanda',\n",
    "        'Courtney', 'Heather', 'Melanie', 'Sara', 'Amber', 'Crystal', 'Katie',\n",
    "        'Meredith', 'Shannon', 'Betsy', 'Donna', 'Kristin', 'Nancy', 'Stephanie',\n",
    "        'Ellen', 'Lauren', 'Peggy', 'Colleen', 'Emily',\n",
    "        'Megan', 'Rachel', 'Wendy'\n",
    "    ],\n",
    "\n",
    "    'Black': [\n",
    "        'Alonzo', 'Jamel', 'Theo', 'Alphonse', 'Jerome',\n",
    "        'Leroy', 'Torrance', 'Darnell', 'Lamar', 'Lionel',\n",
    "        'Tyree', 'Deion', 'Lamont', 'Malik', 'Terrence', 'Tyrone',\n",
    "        'Lavon', 'Marcellus', 'Wardell', #'Nichelle',\n",
    "        'Ebony', 'Shaniqua',\n",
    "        'Jasmine', 'Tanisha', 'Tia', 'Latoya',\n",
    "        'Yolanda', 'Malika', 'Yvette'\n",
    "    ],\n",
    "    #Larson Edit: had to remove a number of names that were not in the embedding\n",
    "\n",
    "    # This list comes from statistics about common Hispanic-origin names in the US.\n",
    "    'Hispanic': [\n",
    "        'Juan', 'José', 'Miguel', 'Jorge', 'Santiago',\n",
    "        'Mateo',  'Alejandro', 'Samuel', 'Diego', 'Daniel',\n",
    "        'Juana', 'Ana', 'Luisa', 'María', 'Elena', 'Isabella', 'Valentina',\n",
    "        'Camila', 'Valeria', 'Ximena', 'Luciana', 'Mariana', 'Victoria', 'Martina'\n",
    "    ],\n",
    "    #Larson Edit: had to remove a number of names that were not in the embedding\n",
    "\n",
    "    # The following list conflates religion and ethnicity, I'm aware. So do given names.\n",
    "    #\n",
    "    # This list was cobbled together from searching baby-name sites for common Muslim names,\n",
    "    # as spelled in English. I did not ultimately distinguish whether the origin of the name\n",
    "    # is Arabic or Urdu or another language.\n",
    "    #\n",
    "    # I'd be happy to replace it with something more authoritative, given a source.\n",
    "    'Arab/Muslim': [\n",
    "        'Mohammed', 'Omar', 'Ahmed', 'Ali', 'Youssef', 'Abdullah', 'Yasin', 'Hamza',\n",
    "        'Syed', 'Samar', 'Ahmad', 'Rayyan', 'Mariam',\n",
    "        'Jana', 'Malak', 'Salma', 'Nour', 'Lian', 'Fatima', 'Ayesha', 'Zahra', 'Sana',\n",
    "        'Zara', 'Alya', 'Shaista', 'Zoya', 'Yasmin'\n",
    "    ]\n",
    "}"
   ]
  },
  {
   "cell_type": "code",
   "execution_count": 99,
   "id": "8a256a7b",
   "metadata": {},
   "outputs": [],
   "source": [
    "# # print(NAMES_BY_ETHNICITY.values())\n",
    "# full_name_list = []\n",
    "# for list in NAMES_BY_ETHNICITY.values():\n",
    "#     for name in list:\n",
    "#         full_name_list.append(name)\n",
    "\n",
    "# print(len(full_name_list))"
   ]
  },
  {
   "cell_type": "markdown",
   "id": "46f29baf",
   "metadata": {},
   "source": [
    "Note, vecs_to_sentiment is where the model prediction call is coming from in this code"
   ]
  },
  {
   "cell_type": "code",
   "execution_count": 100,
   "id": "b4e2d56a",
   "metadata": {},
   "outputs": [],
   "source": [
    "def vecs_to_sentiment(vecs):\n",
    "    # predict_log_proba gives the log probability for each class\n",
    "    predictions = model.predict_log_proba(vecs)\n",
    "\n",
    "    # To see an overall positive vs. negative classification in one number,\n",
    "    # we take the log probability of positive sentiment minus the log\n",
    "    # probability of negative sentiment.\n",
    "    # this is a logarithm of the max margin for the classifier,\n",
    "    # similar to odds ratio (but not exact) log(p_1/p_0) = log(p_1)-log(p_0)\n",
    "    return predictions[:, 1] - predictions[:, 0]\n",
    "\n",
    "\n",
    "def words_to_sentiment(words):\n",
    "    vecs = embeddings.loc[words].dropna()\n",
    "    log_odds = vecs_to_sentiment(vecs)\n",
    "    return pd.DataFrame({'sentiment': log_odds}, index=vecs.index)\n",
    "\n",
    "\n",
    "def name_sentiment_table():\n",
    "    frames = []\n",
    "    for group, name_list in sorted(NAMES_BY_ETHNICITY.items()):\n",
    "        lower_names = [name.lower() for name in name_list]\n",
    "        sentiments = words_to_sentiment(lower_names)\n",
    "        sentiments['group'] = group\n",
    "        frames.append(sentiments)\n",
    "\n",
    "    # Put together the data we got from each ethnic group into one big table\n",
    "    return pd.concat(frames)"
   ]
  },
  {
   "cell_type": "code",
   "execution_count": 101,
   "id": "c5161f58",
   "metadata": {},
   "outputs": [],
   "source": [
    "import scipy.stats as stats\n",
    "\n",
    "def retrain_model(new_embs, title = ''):\n",
    "    \"\"\"\n",
    "    Repeat the steps above with a new set of word embeddings.\n",
    "    \"\"\"\n",
    "    # use these from outside the function and update them globally\n",
    "    global model, embeddings, name_sentiments\n",
    "    embeddings = new_embs\n",
    "    # get the positive and negative embeddings\n",
    "    pos_words_common = list(set(pos_words) & set(embeddings.index))\n",
    "    neg_words_common = list(set(neg_words) & set(embeddings.index))\n",
    "    pos_vectors = embeddings.loc[pos_words_common]\n",
    "    neg_vectors = embeddings.loc[neg_words_common]\n",
    "    vectors = pd.concat([pos_vectors, neg_vectors])\n",
    "    targets = np.array([1 for entry in pos_vectors.index] + [-1 for entry in neg_vectors.index])\n",
    "    labels = list(pos_vectors.index) + list(neg_vectors.index)\n",
    "\n",
    "    # split the data\n",
    "    train_vectors, test_vectors, train_targets, test_targets, train_labels, test_labels = \\\n",
    "        train_test_split(vectors, targets, labels, test_size=0.1, random_state=0)\n",
    "\n",
    "    # train our model\n",
    "    model = SGDClassifier(loss='log_loss', random_state=0, max_iter=100)\n",
    "    model.fit(train_vectors, train_targets)\n",
    "\n",
    "    # print out a goodness of fit\n",
    "    accuracy = accuracy_score(model.predict(test_vectors), test_targets)\n",
    "    print(\"Accuracy of sentiment: {:.2%}\".format(accuracy))\n",
    "\n",
    "    # get the name table of different people's names and save embeddings\n",
    "    name_sentiments = name_sentiment_table()\n",
    "\n",
    "    stats.f_oneway(\n",
    "        name_sentiments['sentiment'][name_sentiments['group'] == 'White'],\n",
    "        name_sentiments['sentiment'][name_sentiments['group'] == 'Black'],\n",
    "        name_sentiments['sentiment'][name_sentiments['group'] == 'Hispanic'],\n",
    "        name_sentiments['sentiment'][name_sentiments['group'] == 'Arab/Muslim'],\n",
    "    )\n",
    "\n",
    "    name_sentiments = name_sentiment_table()\n",
    "\n",
    "    fstat,pval = stats.f_oneway(\n",
    "        name_sentiments['sentiment'][name_sentiments['group'] == 'White'],\n",
    "        name_sentiments['sentiment'][name_sentiments['group'] == 'Black'],\n",
    "        name_sentiments['sentiment'][name_sentiments['group'] == 'Hispanic'],\n",
    "        name_sentiments['sentiment'][name_sentiments['group'] == 'Arab/Muslim'],\n",
    "    )\n",
    "    print('F-statistic:',fstat,' With P-value:', pval)\n",
    "\n",
    "    # Show the results on a swarm plot, with a consistent Y-axis\n",
    "    matplotlib.pyplot.figure(figsize=(15,5))\n",
    "    matplotlib.pyplot.subplot(121)\n",
    "    plot = seaborn.swarmplot(x='group', y='sentiment', data=name_sentiments)\n",
    "    plot.set_ylim([-10, 10])\n",
    "    matplotlib.pyplot.subplot(122)\n",
    "    plot = seaborn.barplot(x='group', y='sentiment', data=name_sentiments, capsize=.1)\n",
    "    matplotlib.pyplot.suptitle(title, fontsize=16)\n",
    "\n",
    "    print(fstat)"
   ]
  },
  {
   "cell_type": "code",
   "execution_count": 102,
   "id": "c470e52a",
   "metadata": {},
   "outputs": [
    {
     "name": "stdout",
     "output_type": "stream",
     "text": [
      "Accuracy of sentiment: 97.78%\n",
      "F-statistic: 13.299584966184112  With P-value: 1.4145309159235203e-07\n",
      "13.299584966184112\n"
     ]
    },
    {
     "data": {
      "image/png": "[encoded data removed]",
      "text/plain": [
       "<Figure size 1500x500 with 2 Axes>"
      ]
     },
     "metadata": {},
     "output_type": "display_data"
    }
   ],
   "source": [
    "# Local PC version\n",
    "retrain_model(load_embeddings('../Data_Sources/numberbatch-en.txt'), title='ConceptNet Numberbatch')\n",
    "# Colab version\n",
    "# retrain_model(load_embeddings('/content/drive/MyDrive/Colab Notebooks/numberbatch-en.txt'), title='ConceptNet Numberbatch')"
   ]
  },
  {
   "cell_type": "markdown",
   "id": "a838b8b6",
   "metadata": {},
   "source": [
    "### Import and prepare the data for model training"
   ]
  },
  {
   "cell_type": "code",
   "execution_count": 103,
   "id": "4c895f3b",
   "metadata": {},
   "outputs": [],
   "source": [
    "# Source: Modified from notebook 01 ConceptNet\n",
    "pos_words_common = list(set(pos_words) & set(embeddings.index))\n",
    "neg_words_common = list(set(neg_words) & set(embeddings.index))\n",
    "\n",
    "# I'll need the following to execute the code from class.\n",
    "# But, they won't play a role in my transformer training.\n",
    "pos_vectors = embeddings.loc[pos_words_common]\n",
    "neg_vectors = embeddings.loc[neg_words_common]\n",
    "\n",
    "# For the transformer I'm using the words themslves, not the vectors\n",
    "words = pos_words_common + neg_words_common\n",
    "\n",
    "# This portion is test code\n",
    "vectors = pd.concat([pos_vectors, neg_vectors])\n",
    "\n",
    "# Source: ChatGPT to help with conversion from pd dataframe to dataset\n",
    "# train_ds = tf.data.Dataset.from_tensor_slices((train_vectors, train_targets))\n",
    "# test_ds = tf.data.Dataset.from_tensor_slices((test_vectors, test_targets))\n"
   ]
  },
  {
   "cell_type": "code",
   "execution_count": 104,
   "id": "0fe05c83",
   "metadata": {},
   "outputs": [],
   "source": [
    "# Source: in class notebook 01 ConceptNet\n",
    "vectors = pd.concat([pos_vectors, neg_vectors])\n",
    "targets = np.array([1 for entry in pos_vectors.index] + [-1 for entry in neg_vectors.index])\n",
    "labels = list(pos_vectors.index) + list(neg_vectors.index)"
   ]
  },
  {
   "cell_type": "code",
   "execution_count": 106,
   "id": "595ec7e6",
   "metadata": {},
   "outputs": [],
   "source": [
    "train_vectors, test_vectors, train_targets, test_targets, train_labels, test_labels = \\\n",
    "    train_test_split(vectors, targets, labels, test_size=0.1, random_state=0)"
   ]
  },
  {
   "cell_type": "code",
   "execution_count": 108,
   "id": "85d5c00d",
   "metadata": {},
   "outputs": [
    {
     "name": "stdout",
     "output_type": "stream",
     "text": [
      "Shape of data tensor train: (5679, 300)\n",
      "Shape of data tensor for test: (632, 300)\n",
      "Shape of target tensor train: (5679, 2)\n",
      "Shape of target tensor for test: (632, 2)\n"
     ]
    }
   ],
   "source": [
    "# Source: modified from Notebook 13a cs7324\n",
    "\n",
    "# One hot encode the target values\n",
    "train_targets_ohe = keras.utils.to_categorical(train_targets)\n",
    "test_targets_ohe = keras.utils.to_categorical(test_targets)\n",
    "\n",
    "# Convert the training and testing data to tensorflow datasets\n",
    "# train_ds = tf.data.Dataset.from_tensor_slices((train_vectors, train_targets))\n",
    "# test_ds = tf.data.Dataset.from_tensor_slices((test_vectors, test_targets))\n",
    "\n",
    "X_train = train_vectors.values\n",
    "X_test = test_vectors.values\n",
    "\n",
    "# Check the shape of the data and labels to ensure they are correct\n",
    "print('Shape of data tensor train:', X_train.shape)\n",
    "print('Shape of data tensor for test:', X_test.shape)\n",
    "print('Shape of target tensor train:', train_targets_ohe.shape)\n",
    "print('Shape of target tensor for test:', test_targets_ohe.shape)"
   ]
  },
  {
   "cell_type": "markdown",
   "id": "fa074fd5",
   "metadata": {},
   "source": [
    "#### Setting the numberbatch embeddings model as the embedding layer\n",
    "\n",
    "To train the more advanced models I need to have a word index. I already have a dataframe that has the lexicon and associated embeddings in it. So I'm going to use that to start creating my word index."
   ]
  },
  {
   "cell_type": "code",
   "execution_count": 110,
   "id": "5c3c0652",
   "metadata": {},
   "outputs": [],
   "source": [
    "# Source: chatGPT for creating a word index from existing pandas dataframe\n",
    "words = vectors.index.tolist()\n",
    "word_index = {word: index + 1 for index, word in enumerate(words)}\n",
    "# word_index = word_indices"
   ]
  },
  {
   "cell_type": "code",
   "execution_count": 127,
   "id": "75e878c6",
   "metadata": {},
   "outputs": [
    {
     "name": "stdout",
     "output_type": "stream",
     "text": [
      "Found 516783 word vectors.\n",
      "Embedding Shape: (6312, 300) \n",
      " Total words found: 6308 \n",
      " Percentage: 99.93662864385298\n",
      "CPU times: total: 25.4 s\n",
      "Wall time: 33.1 s\n"
     ]
    }
   ],
   "source": [
    "%%time\n",
    "# Source: Modified from in-class lecture notebook 13a cs7324\n",
    "'''\n",
    "This block is a little repetetive. These actions are technically done previoulsy.\n",
    "However, I need some of the variables here to make my transformer block function\n",
    "correctly. So I'm going to repeat them in lieu of trying beautify by excluding.\n",
    "'''\n",
    "\n",
    "# This portion of the code loads the numberbatch embeddings\n",
    "EMBED_SIZE = 300\n",
    "embeddings_index = {}\n",
    "f = open(r'../Data_Sources/numberbatch-en.txt') # local PC version\n",
    "# f = open(r'/content/drive/MyDrive/Colab Notebooks/numberbatch-en.txt') # colab version\n",
    "# save key/array pairs of the embeddings\n",
    "#  the key of the dictionary is the word, the array is the embedding\n",
    "for line in f:\n",
    "    values = line.split()\n",
    "    word = values[0]\n",
    "    coefs = np.asarray(values[1:], dtype='float32')\n",
    "    embeddings_index[word] = coefs\n",
    "f.close()\n",
    "\n",
    "print('Found %s word vectors.' % len(embeddings_index))\n",
    "\n",
    "# This portion aligns the lexicon to the numberbatch embeddings\n",
    "vocab_size = len(vectors)+1\n",
    "found_words = 0\n",
    "embedding_matrix = np.zeros((vocab_size, EMBED_SIZE))\n",
    "for word, i in word_index.items():\n",
    "    embedding_vector = embeddings_index.get(word)\n",
    "    if embedding_vector is not None:\n",
    "        # words not found in embedding index will be ALL-ZEROS\n",
    "        embedding_matrix[i] = embedding_vector\n",
    "        found_words = found_words+1\n",
    "\n",
    "print(\"Embedding Shape:\",embedding_matrix.shape, \"\\n\",\n",
    "      \"Total words found:\",found_words, \"\\n\",\n",
    "      \"Percentage:\",100*found_words/embedding_matrix.shape[0])"
   ]
  },
  {
   "cell_type": "markdown",
   "id": "72f7b3c8",
   "metadata": {},
   "source": [
    "Interestingly, it didn't find every word in the lexicon. This could be due to misspellings that might be present. I'll keep an eye on this in case it plays a role later.\n",
    "\n",
    "Next, we'll need to create the embedding layer for the model. To do this I'll use the keras Embedding() function."
   ]
  },
  {
   "cell_type": "markdown",
   "id": "17bd4d8e",
   "metadata": {},
   "source": [
    "## Transformer"
   ]
  },
  {
   "cell_type": "code",
   "execution_count": 118,
   "id": "bd73e721",
   "metadata": {
    "colab": {
     "base_uri": "https://localhost:8080/"
    },
    "id": "bd73e721",
    "outputId": "36cea842-2bed-4a17-93bd-58ae692421da"
   },
   "outputs": [],
   "source": [
    "if False: # This shouldn't be needed now\n",
    "    # Source: Notebook 13a cs7324\n",
    "    NUM_TOP_WORDS = None # use entire vocabulary!\n",
    "\n",
    "    # Tokenze the text and get integer sequences for each word\n",
    "    tokenizer = Tokenizer(num_words=NUM_TOP_WORDS)\n",
    "    tokenizer.fit_on_texts(words)\n",
    "    sequences = tokenizer.texts_to_sequences(words)\n",
    "\n",
    "    # Note, I'm really not using a top words functionality here. Its a carry over from notebook 13a\n",
    "    word_index = tokenizer.word_index\n",
    "    NUM_TOP_WORDS = len(word_index) if NUM_TOP_WORDS==None else NUM_TOP_WORDS\n",
    "    top_words = min((len(word_index),NUM_TOP_WORDS))\n",
    "    print('Found %s unique tokens. Distilled to %d top words.' % (len(word_index),top_words))\n",
    "\n",
    "    # Pad the sequences so they're all identical lengths.\n",
    "    X = pad_sequences(sequences, maxlen=maxlen)\n",
    "    y = targets\n",
    "\n",
    "    print('Shape of data tensor:', X.shape)\n",
    "    print('Shape of label tensor:', y.shape)\n",
    "    print(np.max(X))"
   ]
  },
  {
   "cell_type": "markdown",
   "id": "dfe6f6c4",
   "metadata": {},
   "source": [
    "Next, I'll import the embeddings file and set it up as a custom embedding layer for the transformer."
   ]
  },
  {
   "cell_type": "markdown",
   "id": "VXyrwMG61e6a",
   "metadata": {
    "id": "VXyrwMG61e6a"
   },
   "source": [
    "### Training the transformer"
   ]
  },
  {
   "cell_type": "code",
   "execution_count": 129,
   "id": "L-QVfCUb1e6a",
   "metadata": {
    "id": "L-QVfCUb1e6a"
   },
   "outputs": [],
   "source": [
    "# Source: In-class notebook 13a\n",
    "\n",
    "from tensorflow.keras.layers import MultiHeadAttention, LayerNormalization\n",
    "from tensorflow.keras import Sequential\n",
    "from tensorflow.keras.layers import Layer\n",
    "\n",
    "# The transformer architecture\n",
    "class TransformerBlock(Layer): # inherit from Keras Layer\n",
    "    def __init__(self, embed_dim, num_heads, ff_dim, rate=0.2):\n",
    "        super().__init__()\n",
    "        # setup the model heads and feedforward network\n",
    "        self.att = MultiHeadAttention(num_heads=num_heads,\n",
    "                                      key_dim=embed_dim)\n",
    "\n",
    "        # make a two layer network that processes the attention\n",
    "        self.ffn = Sequential()\n",
    "        self.ffn.add( Dense(ff_dim, activation='relu') )\n",
    "        self.ffn.add( Dense(embed_dim) )\n",
    "\n",
    "        self.layernorm1 = LayerNormalization(epsilon=1e-6)\n",
    "        self.layernorm2 = LayerNormalization(epsilon=1e-6)\n",
    "        self.dropout1 = Dropout(rate)\n",
    "        self.dropout2 = Dropout(rate)\n",
    "\n",
    "    def call(self, inputs, training):\n",
    "        # apply the layers as needed (similar to PyTorch)\n",
    "\n",
    "        # get the attention output from multi heads\n",
    "        # Using same inpout here is self-attention\n",
    "        # call inputs are (query, value, key)\n",
    "        # if only two inputs given, value and key are assumed the same\n",
    "        attn_output = self.att(inputs, inputs)\n",
    "\n",
    "        # create residual output, with attention\n",
    "        out1 = self.layernorm1(inputs + attn_output)\n",
    "\n",
    "        # apply dropout if training\n",
    "        out1 = self.dropout1(out1, training=training)\n",
    "\n",
    "        # place through feed forward after layer norm\n",
    "        ffn_output = self.ffn(out1)\n",
    "        out2 = self.layernorm2(out1 + ffn_output)\n",
    "\n",
    "        # apply dropout if training\n",
    "        out2 = self.dropout2(out2, training=training)\n",
    "        #return the residual from Dense layer\n",
    "        return out2\n",
    "\n",
    "class TokenAndPositionEmbedding(Layer):\n",
    "    def __init__(self, maxlen, vocab_size, embed_dim):\n",
    "        super().__init__()\n",
    "        # create two embeddings\n",
    "        # one for processing the tokens (words)\n",
    "        self.token_emb = Embedding(input_dim=vocab_size,\n",
    "                                   output_dim=embed_dim)\n",
    "        # another embedding for processing the position\n",
    "        self.pos_emb = Embedding(input_dim=maxlen,\n",
    "                                 output_dim=embed_dim)\n",
    "    def call(self, x):\n",
    "        # create a static position measure (input)\n",
    "        maxlen = tf.shape(x)[-1]\n",
    "        positions = tf.range(start=0, limit=maxlen, delta=1)\n",
    "        # positions now goes from 0 to 500 (for IMdB) by 1\n",
    "        positions = self.pos_emb(positions)# embed these positions\n",
    "        x = self.token_emb(x) # embed the tokens\n",
    "        return x + positions # add embeddngs to get final embedding\n",
    "\n"
   ]
  },
  {
   "cell_type": "code",
   "execution_count": 130,
   "id": "Alw220P21e6a",
   "metadata": {
    "id": "Alw220P21e6a"
   },
   "outputs": [],
   "source": [
    "\n",
    "# Source: In-class lecture notebook 13a\n",
    "# first, let's replace the original embedding in the xformer\n",
    "# with our custom Numberbatch embedding\n",
    "\n",
    "class NbTokenAndPositionEmbedding(Layer):\n",
    "    def __init__(self):\n",
    "        super().__init__()\n",
    "        # create two embeddings\n",
    "        # one for processing the tokens, pretrained (words)\n",
    "        self.token_emb = Embedding(len(word_index) + 1,\n",
    "                            EMBED_SIZE,\n",
    "                            weights=[embedding_matrix], # embeddings provided by Nb\n",
    "                            input_length=300, # dimension of embeddings\n",
    "                            trainable=False)\n",
    "\n",
    "        # another embedding for processing the position\n",
    "        self.pos_emb = Embedding(maxlen,\n",
    "                                 EMBED_SIZE,\n",
    "                                 input_length=maxlen,\n",
    "                                 trainable=True\n",
    "                                )\n",
    "\n",
    "    def call(self, x):\n",
    "        # create a static position measure (input)\n",
    "        maxlen = tf.shape(x)[-1]\n",
    "        positions = tf.range(start=0, limit=maxlen, delta=1)\n",
    "        positions = self.pos_emb(positions)# embed these positions\n",
    "        x = self.token_emb(x) # embed the tokens\n",
    "        return x + positions # add embeddngs to get final embedding"
   ]
  },
  {
   "cell_type": "code",
   "execution_count": 136,
   "id": "b064cf26",
   "metadata": {},
   "outputs": [
    {
     "name": "stdout",
     "output_type": "stream",
     "text": [
      "[  0 715 748]\n"
     ]
    }
   ],
   "source": [
    "# Source: ChatGPT for figuring out how to drop specific rows\n",
    "'''\n",
    "I need to drop 3 rows from my matrix because it doesn't align with \n",
    "the transformer body values. I'm not totally sure why this is. It\n",
    "appears the transformer block comes up with 6309,300 for the embedding\n",
    "shape and I'm feeding in 6312,300. The numbers themselves make sense,\n",
    "6309 and 6312. However I'm not sure how else to force the right size\n",
    "than the code below.\n",
    "'''\n",
    "\n",
    "zero_rows_indices = np.all(embedding_matrix == 0, axis=1)\n",
    "zero_list = np.where(zero_rows_indices)[0]\n",
    "zero_list = zero_list[0:3]\n"
   ]
  },
  {
   "cell_type": "code",
   "execution_count": 137,
   "id": "583ae3f2",
   "metadata": {},
   "outputs": [
    {
     "name": "stdout",
     "output_type": "stream",
     "text": [
      "(6309, 300)\n"
     ]
    }
   ],
   "source": [
    "embedding_matrix = np.delete(embedding_matrix, zero_list, axis=0)\n",
    "\n",
    "print(embedding_matrix.shape)"
   ]
  },
  {
   "cell_type": "code",
   "execution_count": 138,
   "id": "9daSa6cb1e6a",
   "metadata": {
    "colab": {
     "base_uri": "https://localhost:8080/"
    },
    "id": "9daSa6cb1e6a",
    "outputId": "f54a1bd8-e439-4f9e-aee7-96a019d77331"
   },
   "outputs": [
    {
     "name": "stdout",
     "output_type": "stream",
     "text": [
      "Model: \"model\"\n",
      "_________________________________________________________________\n",
      " Layer (type)                Output Shape              Param #   \n",
      "=================================================================\n",
      " input_13 (InputLayer)       [(None, 300)]             0         \n",
      "                                                                 \n",
      " nb_token_and_position_embed  (None, 300, 300)         1982700   \n",
      " ding_12 (NbTokenAndPosition                                     \n",
      " Embedding)                                                      \n",
      "                                                                 \n",
      " transformer_block (Transfor  (None, 300, 300)         1464632   \n",
      " merBlock)                                                       \n",
      "                                                                 \n",
      " global_average_pooling1d (G  (None, 300)              0         \n",
      " lobalAveragePooling1D)                                          \n",
      "                                                                 \n",
      " dropout_2 (Dropout)         (None, 300)               0         \n",
      "                                                                 \n",
      " dense_2 (Dense)             (None, 64)                19264     \n",
      "                                                                 \n",
      " dropout_3 (Dropout)         (None, 64)                0         \n",
      "                                                                 \n",
      " dense_3 (Dense)             (None, 2)                 130       \n",
      "                                                                 \n",
      "=================================================================\n",
      "Total params: 3,466,726\n",
      "Trainable params: 1,574,026\n",
      "Non-trainable params: 1,892,700\n",
      "_________________________________________________________________\n",
      "None\n"
     ]
    }
   ],
   "source": [
    "# Source: Modified from in-class lecture notebook 13a\n",
    "\n",
    "maxlen=300\n",
    "num_heads = 4  # Number of attention heads\n",
    "ff_dim = 32  # Hidden layer size in feed forward network inside transformer\n",
    "NUM_CLASSES = 2\n",
    "\n",
    "inputs = Input(shape=(X_train.shape[1],))\n",
    "x = NbTokenAndPositionEmbedding()(inputs)\n",
    "x = TransformerBlock(EMBED_SIZE, num_heads, ff_dim)(x)\n",
    "\n",
    "x = GlobalAveragePooling1D()(x)\n",
    "x = Dropout(0.2)(x)\n",
    "x = Dense(64, activation='relu')(x)\n",
    "x = Dropout(0.2)(x)\n",
    "preds = Dense(NUM_CLASSES, activation='softmax',\n",
    "              kernel_initializer='glorot_uniform')(x)\n",
    "\n",
    "model_xformer_nb = Model(inputs=inputs, outputs=preds)\n",
    "print(model_xformer_nb.summary())"
   ]
  },
  {
   "cell_type": "code",
   "execution_count": 140,
   "id": "X5eXYK-91e6a",
   "metadata": {
    "colab": {
     "base_uri": "https://localhost:8080/"
    },
    "id": "X5eXYK-91e6a",
    "outputId": "a3c212ca-4594-4d8e-d5b8-bc5d425eab73"
   },
   "outputs": [
    {
     "name": "stdout",
     "output_type": "stream",
     "text": [
      "Epoch 1/4\n",
      "355/355 [==============================] - 198s 537ms/step - loss: 0.0017 - precision: 0.9989 - val_loss: 0.0000e+00 - val_precision: 1.0000\n",
      "Epoch 2/4\n",
      "355/355 [==============================] - 216s 608ms/step - loss: 1.3959e-08 - precision: 1.0000 - val_loss: 0.0000e+00 - val_precision: 1.0000\n",
      "Epoch 3/4\n",
      "355/355 [==============================] - 2505s 7s/step - loss: 7.2630e-09 - precision: 1.0000 - val_loss: 0.0000e+00 - val_precision: 1.0000\n",
      "Epoch 4/4\n",
      "355/355 [==============================] - 196s 552ms/step - loss: 2.8758e-09 - precision: 1.0000 - val_loss: 0.0000e+00 - val_precision: 1.0000\n"
     ]
    }
   ],
   "source": [
    "# Source: modified from in-class lecture notebook 13a\n",
    "\n",
    "# I don't want to train my model each time I run my notebook\n",
    "# Comment out the following conditional if training is desired\n",
    "\n",
    "model_xformer_nb.compile(\n",
    "    loss='categorical_crossentropy',\n",
    "    optimizer='adam',\n",
    "    metrics=['Precision']\n",
    ")\n",
    "histories_xformer_nb = []\n",
    "tmp = model_xformer_nb.fit(X_train, train_targets_ohe,\n",
    "                validation_data=(X_test, test_targets_ohe),\n",
    "            epochs=4, batch_size=16)\n",
    "histories_xformer_nb.append(tmp)"
   ]
  },
  {
   "cell_type": "code",
   "execution_count": 141,
   "id": "_BWcjQfu1e6b",
   "metadata": {
    "colab": {
     "base_uri": "https://localhost:8080/",
     "height": 311
    },
    "id": "_BWcjQfu1e6b",
    "outputId": "fabd4208-c158-4a31-87e5-55cb9ea2354a"
   },
   "outputs": [
    {
     "data": {
      "image/png": "[encoded data removed]",
      "text/plain": [
       "<Figure size 1500x500 with 2 Axes>"
      ]
     },
     "metadata": {},
     "output_type": "display_data"
    }
   ],
   "source": [
    "%matplotlib inline\n",
    "# Source: in class lecture notebook 13a\n",
    "# combine all the history from training together\n",
    "combined = dict()\n",
    "for key in ['precision','val_precision','loss','val_loss']:\n",
    "    combined[key] = np.hstack([x.history[key] for x in histories_xformer_nb])\n",
    "\n",
    "# summarize history for precision\n",
    "plt.figure(figsize=(15,5))\n",
    "plt.subplot(121)\n",
    "plt.plot(combined['precision'])\n",
    "plt.plot(combined['val_precision'])\n",
    "plt.title('model precision')\n",
    "plt.ylabel('precision')\n",
    "plt.xlabel('epoch')\n",
    "plt.legend(['train', 'test'], loc='upper left')\n",
    "\n",
    "# summarize history for loss\n",
    "plt.subplot(122)\n",
    "plt.plot(combined['loss'])\n",
    "plt.plot(combined['val_loss'])\n",
    "plt.title('model loss')\n",
    "plt.ylabel('loss')\n",
    "plt.xlabel('epoch')\n",
    "plt.legend(['train', 'test'], loc='upper left')\n",
    "plt.show()"
   ]
  },
  {
   "cell_type": "markdown",
   "id": "ARfWj-df0UTL",
   "metadata": {
    "id": "ARfWj-df0UTL"
   },
   "source": [
    "The training on this model looks good. I may not be fully converged, but getting more than 97% precision out of the validation data is probably asking for a bit much. I'll save the weights so I can use them later."
   ]
  },
  {
   "cell_type": "code",
   "execution_count": null,
   "id": "GYbIaAWwzfNA",
   "metadata": {
    "id": "GYbIaAWwzfNA"
   },
   "outputs": [],
   "source": [
    "if False: # I also don't want to save off new weights after training\n",
    "    model_xformer_nb.save_weights('bias_xformer_weights.h5')"
   ]
  },
  {
   "cell_type": "markdown",
   "id": "29b655a7",
   "metadata": {},
   "source": [
    "Let's pull the weights in and try to do the same predictions as done previously."
   ]
  },
  {
   "cell_type": "code",
   "execution_count": 142,
   "id": "f953b22a",
   "metadata": {},
   "outputs": [],
   "source": [
    "# model_xformer_nb.load_weights('bias_xformer_weights.h5')"
   ]
  },
  {
   "cell_type": "code",
   "execution_count": null,
   "id": "ababa60c",
   "metadata": {},
   "outputs": [],
   "source": [
    "# print out a goodness of fit\n",
    "# Note this isn't working quite right with the xformer\n",
    "# accuracy = accuracy_score(model_xformer_nb.predict(test_words), test_targets_ohe)\n",
    "# print(\"Accuracy of sentiment: {:.2%}\".format(accuracy))"
   ]
  },
  {
   "cell_type": "code",
   "execution_count": 143,
   "id": "6ce92cf8",
   "metadata": {},
   "outputs": [],
   "source": [
    "# Source: Modified from notebook 01 ConceptNet\n",
    "# Here I need to modify these functions to use my transformer\n",
    "def vecs_to_sentiment_xformer(vecs):\n",
    "    # predict_log_proba gives the log probability for each class\n",
    "    predictions = model_xformer_nb.predict(vecs)\n",
    "\n",
    "    # To see an overall positive vs. negative classification in one number,\n",
    "    # we take the log probability of positive sentiment minus the log\n",
    "    # probability of negative sentiment.\n",
    "    # this is a logarithm of the max margin for the classifier,\n",
    "    # similar to odds ratio (but not exact) log(p_1/p_0) = log(p_1)-log(p_0)\n",
    "    return predictions[:, 1] - predictions[:, 0]\n",
    "\n",
    "\n",
    "def words_to_sentiment(words):\n",
    "    vecs = embeddings.loc[words].dropna()\n",
    "    log_odds = vecs_to_sentiment_xformer(vecs)\n",
    "    return pd.DataFrame({'sentiment': log_odds}, index=vecs.index)\n",
    "\n",
    "\n",
    "def name_sentiment_table_xformer():\n",
    "    frames = []\n",
    "    for group, name_list in sorted(NAMES_BY_ETHNICITY.items()):\n",
    "        lower_names = [name.lower() for name in name_list]\n",
    "        sentiments = words_to_sentiment(lower_names)\n",
    "        sentiments['group'] = group\n",
    "        frames.append(sentiments)\n",
    "\n",
    "    # Put together the data we got from each ethnic group into one big table\n",
    "    return pd.concat(frames)"
   ]
  },
  {
   "cell_type": "markdown",
   "id": "4c952fe9",
   "metadata": {},
   "source": [
    "**Still need to word tokenize the names and 0 pad them**"
   ]
  },
  {
   "cell_type": "code",
   "execution_count": 144,
   "id": "4ab9857c",
   "metadata": {},
   "outputs": [
    {
     "name": "stdout",
     "output_type": "stream",
     "text": [
      "1/1 [==============================] - 2s 2s/step\n",
      "1/1 [==============================] - 0s 300ms/step\n",
      "1/1 [==============================] - 0s 256ms/step\n",
      "2/2 [==============================] - 0s 159ms/step\n"
     ]
    },
    {
     "name": "stderr",
     "output_type": "stream",
     "text": [
      "c:\\Users\\Chip\\anaconda3\\envs\\mlenv7324\\lib\\site-packages\\scipy\\stats\\_stats_py.py:4167: ConstantInputWarning: Each of the input arrays is constant;the F statistic is not defined or infinite\n",
      "  warnings.warn(stats.ConstantInputWarning(msg))\n"
     ]
    },
    {
     "name": "stdout",
     "output_type": "stream",
     "text": [
      "1/1 [==============================] - 0s 280ms/step\n",
      "1/1 [==============================] - 0s 273ms/step\n",
      "1/1 [==============================] - 0s 244ms/step\n",
      "2/2 [==============================] - 0s 155ms/step\n",
      "F-statistic: nan  With P-value: nan\n"
     ]
    },
    {
     "name": "stderr",
     "output_type": "stream",
     "text": [
      "c:\\Users\\Chip\\anaconda3\\envs\\mlenv7324\\lib\\site-packages\\scipy\\stats\\_stats_py.py:4167: ConstantInputWarning: Each of the input arrays is constant;the F statistic is not defined or infinite\n",
      "  warnings.warn(stats.ConstantInputWarning(msg))\n",
      "c:\\Users\\Chip\\anaconda3\\envs\\mlenv7324\\lib\\site-packages\\seaborn\\categorical.py:3544: UserWarning: 37.0% of the points cannot be placed; you may want to decrease the size of the markers or use stripplot.\n",
      "  warnings.warn(msg, UserWarning)\n",
      "c:\\Users\\Chip\\anaconda3\\envs\\mlenv7324\\lib\\site-packages\\seaborn\\categorical.py:3544: UserWarning: 39.3% of the points cannot be placed; you may want to decrease the size of the markers or use stripplot.\n",
      "  warnings.warn(msg, UserWarning)\n",
      "c:\\Users\\Chip\\anaconda3\\envs\\mlenv7324\\lib\\site-packages\\seaborn\\categorical.py:3544: UserWarning: 29.2% of the points cannot be placed; you may want to decrease the size of the markers or use stripplot.\n",
      "  warnings.warn(msg, UserWarning)\n",
      "c:\\Users\\Chip\\anaconda3\\envs\\mlenv7324\\lib\\site-packages\\seaborn\\categorical.py:3544: UserWarning: 64.6% of the points cannot be placed; you may want to decrease the size of the markers or use stripplot.\n",
      "  warnings.warn(msg, UserWarning)\n"
     ]
    },
    {
     "ename": "NameError",
     "evalue": "name 'title' is not defined",
     "output_type": "error",
     "traceback": [
      "\u001b[1;31m---------------------------------------------------------------------------\u001b[0m",
      "\u001b[1;31mNameError\u001b[0m                                 Traceback (most recent call last)",
      "\u001b[1;32mc:\\Users\\Chip\\source\\repos\\cs8321_code\\Lab 1\\Henderson_48996654_Lab_1.ipynb Cell 57\u001b[0m line \u001b[0;36m2\n\u001b[0;32m     <a href='vscode-notebook-cell:/c%3A/Users/Chip/source/repos/cs8321_code/Lab%201/Henderson_48996654_Lab_1.ipynb#Y104sZmlsZQ%3D%3D?line=25'>26</a>\u001b[0m matplotlib\u001b[39m.\u001b[39mpyplot\u001b[39m.\u001b[39msubplot(\u001b[39m122\u001b[39m)\n\u001b[0;32m     <a href='vscode-notebook-cell:/c%3A/Users/Chip/source/repos/cs8321_code/Lab%201/Henderson_48996654_Lab_1.ipynb#Y104sZmlsZQ%3D%3D?line=26'>27</a>\u001b[0m plot \u001b[39m=\u001b[39m seaborn\u001b[39m.\u001b[39mbarplot(x\u001b[39m=\u001b[39m\u001b[39m'\u001b[39m\u001b[39mgroup\u001b[39m\u001b[39m'\u001b[39m, y\u001b[39m=\u001b[39m\u001b[39m'\u001b[39m\u001b[39msentiment\u001b[39m\u001b[39m'\u001b[39m, data\u001b[39m=\u001b[39mname_sentiments, capsize\u001b[39m=\u001b[39m\u001b[39m.1\u001b[39m)\n\u001b[1;32m---> <a href='vscode-notebook-cell:/c%3A/Users/Chip/source/repos/cs8321_code/Lab%201/Henderson_48996654_Lab_1.ipynb#Y104sZmlsZQ%3D%3D?line=27'>28</a>\u001b[0m matplotlib\u001b[39m.\u001b[39mpyplot\u001b[39m.\u001b[39msuptitle(title, fontsize\u001b[39m=\u001b[39m\u001b[39m16\u001b[39m)\n\u001b[0;32m     <a href='vscode-notebook-cell:/c%3A/Users/Chip/source/repos/cs8321_code/Lab%201/Henderson_48996654_Lab_1.ipynb#Y104sZmlsZQ%3D%3D?line=29'>30</a>\u001b[0m \u001b[39mprint\u001b[39m(fstat)\n",
      "\u001b[1;31mNameError\u001b[0m: name 'title' is not defined"
     ]
    },
    {
     "name": "stderr",
     "output_type": "stream",
     "text": [
      "c:\\Users\\Chip\\anaconda3\\envs\\mlenv7324\\lib\\site-packages\\seaborn\\categorical.py:3544: UserWarning: 44.4% of the points cannot be placed; you may want to decrease the size of the markers or use stripplot.\n",
      "  warnings.warn(msg, UserWarning)\n",
      "c:\\Users\\Chip\\anaconda3\\envs\\mlenv7324\\lib\\site-packages\\seaborn\\categorical.py:3544: UserWarning: 46.4% of the points cannot be placed; you may want to decrease the size of the markers or use stripplot.\n",
      "  warnings.warn(msg, UserWarning)\n",
      "c:\\Users\\Chip\\anaconda3\\envs\\mlenv7324\\lib\\site-packages\\seaborn\\categorical.py:3544: UserWarning: 37.5% of the points cannot be placed; you may want to decrease the size of the markers or use stripplot.\n",
      "  warnings.warn(msg, UserWarning)\n",
      "c:\\Users\\Chip\\anaconda3\\envs\\mlenv7324\\lib\\site-packages\\seaborn\\categorical.py:3544: UserWarning: 68.8% of the points cannot be placed; you may want to decrease the size of the markers or use stripplot.\n",
      "  warnings.warn(msg, UserWarning)\n"
     ]
    },
    {
     "data": {
      "image/png": "[encoded data removed]",
      "text/plain": [
       "<Figure size 1500x500 with 2 Axes>"
      ]
     },
     "metadata": {},
     "output_type": "display_data"
    }
   ],
   "source": [
    "# get the name table of different people's names and save embeddings\n",
    "name_sentiments = name_sentiment_table_xformer()\n",
    "\n",
    "stats.f_oneway(\n",
    "    name_sentiments['sentiment'][name_sentiments['group'] == 'White'],\n",
    "    name_sentiments['sentiment'][name_sentiments['group'] == 'Black'],\n",
    "    name_sentiments['sentiment'][name_sentiments['group'] == 'Hispanic'],\n",
    "    name_sentiments['sentiment'][name_sentiments['group'] == 'Arab/Muslim'],\n",
    ")\n",
    "\n",
    "name_sentiments = name_sentiment_table_xformer()\n",
    "\n",
    "fstat,pval = stats.f_oneway(\n",
    "    name_sentiments['sentiment'][name_sentiments['group'] == 'White'],\n",
    "    name_sentiments['sentiment'][name_sentiments['group'] == 'Black'],\n",
    "    name_sentiments['sentiment'][name_sentiments['group'] == 'Hispanic'],\n",
    "    name_sentiments['sentiment'][name_sentiments['group'] == 'Arab/Muslim'],\n",
    ")\n",
    "print('F-statistic:',fstat,' With P-value:', pval)\n",
    "\n",
    "# Show the results on a swarm plot, with a consistent Y-axis\n",
    "matplotlib.pyplot.figure(figsize=(15,5))\n",
    "matplotlib.pyplot.subplot(121)\n",
    "plot = seaborn.swarmplot(x='group', y='sentiment', data=name_sentiments)\n",
    "plot.set_ylim([-10, 10])\n",
    "matplotlib.pyplot.subplot(122)\n",
    "plot = seaborn.barplot(x='group', y='sentiment', data=name_sentiments, capsize=.1)\n",
    "matplotlib.pyplot.suptitle(title, fontsize=16)\n",
    "\n",
    "print(fstat)"
   ]
  }
 ],
 "metadata": {
  "accelerator": "GPU",
  "celltoolbar": "Tags",
  "colab": {
   "gpuType": "T4",
   "provenance": []
  },
  "kernelspec": {
   "display_name": "Python 3 (ipykernel)",
   "language": "python",
   "name": "python3"
  },
  "language_info": {
   "codemirror_mode": {
    "name": "ipython",
    "version": 3
   },
   "file_extension": ".py",
   "mimetype": "text/x-python",
   "name": "python",
   "nbconvert_exporter": "python",
   "pygments_lexer": "ipython3",
   "version": "3.9.17"
  }
 },
 "nbformat": 4,
 "nbformat_minor": 5
}
