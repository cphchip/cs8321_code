{
  "cells": [
    {
      "cell_type": "markdown",
      "metadata": {
        "id": "zAXjym-6H3Zi"
      },
      "source": [
        "# cs8321 Lab 2 - Transfer Learning and Transformers"
      ]
    },
    {
      "cell_type": "markdown",
      "metadata": {
        "id": "cfzvDKYIH3Zj"
      },
      "source": [
        "#### Chip Henderson - 48996654"
      ]
    },
    {
      "cell_type": "markdown",
      "metadata": {
        "id": "n2cZzaCbH3Zj"
      },
      "source": [
        "## [2.0 points] Dataset Overview"
      ]
    },
    {
      "cell_type": "markdown",
      "metadata": {
        "id": "mgbHEjGRH3Zk"
      },
      "source": [
        "In this dataset, I'll be working on a sentiment classification. This is a many to one classifier of Amazon reviews. I'll be working with categories of negative, netral, and positive.\n",
        "\n",
        "Thhis version of the Amazon reviews dataset is was updated in 2018 from an original version in 2014. It consists of more than 230 million customer reviews from 1996 to 2018."
      ]
    },
    {
      "cell_type": "markdown",
      "metadata": {
        "id": "TNOBQmamH3Zk"
      },
      "source": [
        "**What is the feature data? Who collected the data? Why? When? Is it multimodal?**"
      ]
    },
    {
      "cell_type": "markdown",
      "metadata": {
        "id": "cNjO5JzbH3Zk"
      },
      "source": [
        "**What evaluation criteria will you be using, why?**"
      ]
    },
    {
      "cell_type": "markdown",
      "metadata": {
        "id": "l01RLyJTH3Zk"
      },
      "source": [
        "## [2.0 points] Describe the foundational model that you will be using to transfer learn from"
      ]
    },
    {
      "cell_type": "markdown",
      "metadata": {
        "id": "qfayZGDCH3Zk"
      },
      "source": [
        "I'll be using the bert-base-uncased model for my foundation model. This model's architecture consists of:\n",
        "* 12 layers\n",
        "* 768 hidden\n",
        "* 12-heads\n",
        "* 110 million parameters\n",
        "\n",
        "and trained on lower-cased English text per the [hugging face repo](https://huggingface.co/transformers/v3.3.1/pretrained_models.html)."
      ]
    },
    {
      "cell_type": "markdown",
      "metadata": {
        "id": "3UybHNh7H3Zk"
      },
      "source": [
        "**What tasks was the foundational model trained from?**"
      ]
    },
    {
      "cell_type": "markdown",
      "metadata": {
        "id": "JYQ_iYspH3Zk"
      },
      "source": [
        "Per the hugging face [blog site](https://huggingface.co/google-bert/bert-base-uncased?text=The+goal+of+a+dog%27s+life+is+%5BMASK%5D), \"the BERT model was pretrained on BookCorpus, a dataset consisting of 11,038 unpublished books and English Wikipedia. It is also known as the Toronto Book Corpus, and consists of the text of around 7,000 self-published books scraped from the indie ebook distribution website Smashwords [per wikipedia](https://en.wikipedia.org/wiki/BookCorpus). The dataset consists of around 985 million words across a large span of genres."
      ]
    },
    {
      "cell_type": "markdown",
      "metadata": {
        "id": "OLiY3K2BH3Zk"
      },
      "source": [
        "**Explain if the new task is within the same domain, across domains, etc.**"
      ]
    },
    {
      "cell_type": "markdown",
      "metadata": {
        "id": "760cTIuaH3Zl"
      },
      "source": []
    },
    {
      "cell_type": "markdown",
      "metadata": {
        "id": "mHsS5OABH3Zl"
      },
      "source": [
        "## [1.0 points] Split the data into training and testing"
      ]
    },
    {
      "cell_type": "markdown",
      "metadata": {
        "id": "gkXRV9TjH3Zl"
      },
      "source": [
        "We'll start by importing the data from the source. I'll use a pandas dataframe initially due to its ease of understanding the labels and data types in the dataset."
      ]
    },
    {
      "cell_type": "code",
      "execution_count": 1,
      "metadata": {
        "colab": {
          "base_uri": "https://localhost:8080/"
        },
        "id": "DsTDbDGqJVFX",
        "outputId": "ed97edf7-11bc-45af-f572-c1a1cc258a38"
      },
      "outputs": [],
      "source": [
        "# Uncomment for use in colab\n",
        "# from google.colab import drive\n",
        "# drive.mount('/content/drive/')"
      ]
    },
    {
      "cell_type": "code",
      "execution_count": 2,
      "metadata": {
        "colab": {
          "base_uri": "https://localhost:8080/"
        },
        "id": "iN02bwtkH3Zl",
        "outputId": "0a1be7ac-bf36-4224-ba31-0b5fb86a1602"
      },
      "outputs": [],
      "source": [
        "%%time\n",
        "# Source: modified from https://nijianmo.github.io/amazon/index.html for\n",
        "# importing data. Customized path and df name\n",
        "import pandas as pd\n",
        "import gzip\n",
        "import json\n",
        "\n",
        "path = \"../Data_sources/Electronics_5.json.gz\" # local\n",
        "# path = \"/content/drive/MyDrive/Colab Notebooks/Data_sources/Electronics_5.json.gz\" # colab\n",
        "\n",
        "def parse(path):\n",
        "  g = gzip.open(path, 'rb')\n",
        "  for l in g:\n",
        "    yield json.loads(l)\n",
        "\n",
        "def getDF(path):\n",
        "  i = 0\n",
        "  df = {}\n",
        "  for d in parse(path):\n",
        "    df[i] = d\n",
        "    i += 1\n",
        "  return pd.DataFrame.from_dict(df, orient='index')\n",
        "\n",
        "init_df = getDF(path)\n"
      ]
    },
    {
      "cell_type": "code",
      "execution_count": null,
      "metadata": {
        "colab": {
          "base_uri": "https://localhost:8080/",
          "height": 539
        },
        "id": "CFplCd0JH3Zm",
        "outputId": "6fb5b770-27f4-421d-b180-1f9ca713777c"
      },
      "outputs": [
        {
          "data": {
            "application/vnd.google.colaboratory.intrinsic+json": {
              "type": "dataframe",
              "variable_name": "init_df"
            },
            "text/html": [
              "\n",
              "  <div id=\"df-7f9b3a47-50da-4271-b9bf-55cfb4c77a79\" class=\"colab-df-container\">\n",
              "    <div>\n",
              "<style scoped>\n",
              "    .dataframe tbody tr th:only-of-type {\n",
              "        vertical-align: middle;\n",
              "    }\n",
              "\n",
              "    .dataframe tbody tr th {\n",
              "        vertical-align: top;\n",
              "    }\n",
              "\n",
              "    .dataframe thead th {\n",
              "        text-align: right;\n",
              "    }\n",
              "</style>\n",
              "<table border=\"1\" class=\"dataframe\">\n",
              "  <thead>\n",
              "    <tr style=\"text-align: right;\">\n",
              "      <th></th>\n",
              "      <th>overall</th>\n",
              "      <th>vote</th>\n",
              "      <th>verified</th>\n",
              "      <th>reviewTime</th>\n",
              "      <th>reviewerID</th>\n",
              "      <th>asin</th>\n",
              "      <th>style</th>\n",
              "      <th>reviewerName</th>\n",
              "      <th>reviewText</th>\n",
              "      <th>summary</th>\n",
              "      <th>unixReviewTime</th>\n",
              "      <th>image</th>\n",
              "    </tr>\n",
              "  </thead>\n",
              "  <tbody>\n",
              "    <tr>\n",
              "      <th>0</th>\n",
              "      <td>5.0</td>\n",
              "      <td>67</td>\n",
              "      <td>True</td>\n",
              "      <td>09 18, 1999</td>\n",
              "      <td>AAP7PPBU72QFM</td>\n",
              "      <td>0151004714</td>\n",
              "      <td>{'Format:': ' Hardcover'}</td>\n",
              "      <td>D. C. Carrad</td>\n",
              "      <td>This is the best novel I have read in 2 or 3 y...</td>\n",
              "      <td>A star is born</td>\n",
              "      <td>937612800</td>\n",
              "      <td>NaN</td>\n",
              "    </tr>\n",
              "    <tr>\n",
              "      <th>1</th>\n",
              "      <td>3.0</td>\n",
              "      <td>5</td>\n",
              "      <td>True</td>\n",
              "      <td>10 23, 2013</td>\n",
              "      <td>A2E168DTVGE6SV</td>\n",
              "      <td>0151004714</td>\n",
              "      <td>{'Format:': ' Kindle Edition'}</td>\n",
              "      <td>Evy</td>\n",
              "      <td>Pages and pages of introspection, in the style...</td>\n",
              "      <td>A stream of consciousness novel</td>\n",
              "      <td>1382486400</td>\n",
              "      <td>NaN</td>\n",
              "    </tr>\n",
              "    <tr>\n",
              "      <th>2</th>\n",
              "      <td>5.0</td>\n",
              "      <td>4</td>\n",
              "      <td>False</td>\n",
              "      <td>09 2, 2008</td>\n",
              "      <td>A1ER5AYS3FQ9O3</td>\n",
              "      <td>0151004714</td>\n",
              "      <td>{'Format:': ' Paperback'}</td>\n",
              "      <td>Kcorn</td>\n",
              "      <td>This is the kind of novel to read when you hav...</td>\n",
              "      <td>I'm a huge fan of the author and this one did ...</td>\n",
              "      <td>1220313600</td>\n",
              "      <td>NaN</td>\n",
              "    </tr>\n",
              "    <tr>\n",
              "      <th>3</th>\n",
              "      <td>5.0</td>\n",
              "      <td>13</td>\n",
              "      <td>False</td>\n",
              "      <td>09 4, 2000</td>\n",
              "      <td>A1T17LMQABMBN5</td>\n",
              "      <td>0151004714</td>\n",
              "      <td>{'Format:': ' Hardcover'}</td>\n",
              "      <td>Caf Girl Writes</td>\n",
              "      <td>What gorgeous language! What an incredible wri...</td>\n",
              "      <td>The most beautiful book I have ever read!</td>\n",
              "      <td>968025600</td>\n",
              "      <td>NaN</td>\n",
              "    </tr>\n",
              "    <tr>\n",
              "      <th>4</th>\n",
              "      <td>3.0</td>\n",
              "      <td>8</td>\n",
              "      <td>True</td>\n",
              "      <td>02 4, 2000</td>\n",
              "      <td>A3QHJ0FXK33OBE</td>\n",
              "      <td>0151004714</td>\n",
              "      <td>{'Format:': ' Hardcover'}</td>\n",
              "      <td>W. Shane Schmidt</td>\n",
              "      <td>I was taken in by reviews that compared this b...</td>\n",
              "      <td>A dissenting view--In part.</td>\n",
              "      <td>949622400</td>\n",
              "      <td>NaN</td>\n",
              "    </tr>\n",
              "  </tbody>\n",
              "</table>\n",
              "</div>\n",
              "    <div class=\"colab-df-buttons\">\n",
              "\n",
              "  <div class=\"colab-df-container\">\n",
              "    <button class=\"colab-df-convert\" onclick=\"convertToInteractive('df-7f9b3a47-50da-4271-b9bf-55cfb4c77a79')\"\n",
              "            title=\"Convert this dataframe to an interactive table.\"\n",
              "            style=\"display:none;\">\n",
              "\n",
              "  <svg xmlns=\"http://www.w3.org/2000/svg\" height=\"24px\" viewBox=\"0 -960 960 960\">\n",
              "    <path d=\"M120-120v-720h720v720H120Zm60-500h600v-160H180v160Zm220 220h160v-160H400v160Zm0 220h160v-160H400v160ZM180-400h160v-160H180v160Zm440 0h160v-160H620v160ZM180-180h160v-160H180v160Zm440 0h160v-160H620v160Z\"/>\n",
              "  </svg>\n",
              "    </button>\n",
              "\n",
              "  <style>\n",
              "    .colab-df-container {\n",
              "      display:flex;\n",
              "      gap: 12px;\n",
              "    }\n",
              "\n",
              "    .colab-df-convert {\n",
              "      background-color: #E8F0FE;\n",
              "      border: none;\n",
              "      border-radius: 50%;\n",
              "      cursor: pointer;\n",
              "      display: none;\n",
              "      fill: #1967D2;\n",
              "      height: 32px;\n",
              "      padding: 0 0 0 0;\n",
              "      width: 32px;\n",
              "    }\n",
              "\n",
              "    .colab-df-convert:hover {\n",
              "      background-color: #E2EBFA;\n",
              "      box-shadow: 0px 1px 2px rgba(60, 64, 67, 0.3), 0px 1px 3px 1px rgba(60, 64, 67, 0.15);\n",
              "      fill: #174EA6;\n",
              "    }\n",
              "\n",
              "    .colab-df-buttons div {\n",
              "      margin-bottom: 4px;\n",
              "    }\n",
              "\n",
              "    [theme=dark] .colab-df-convert {\n",
              "      background-color: #3B4455;\n",
              "      fill: #D2E3FC;\n",
              "    }\n",
              "\n",
              "    [theme=dark] .colab-df-convert:hover {\n",
              "      background-color: #434B5C;\n",
              "      box-shadow: 0px 1px 3px 1px rgba(0, 0, 0, 0.15);\n",
              "      filter: drop-shadow(0px 1px 2px rgba(0, 0, 0, 0.3));\n",
              "      fill: #FFFFFF;\n",
              "    }\n",
              "  </style>\n",
              "\n",
              "    <script>\n",
              "      const buttonEl =\n",
              "        document.querySelector('#df-7f9b3a47-50da-4271-b9bf-55cfb4c77a79 button.colab-df-convert');\n",
              "      buttonEl.style.display =\n",
              "        google.colab.kernel.accessAllowed ? 'block' : 'none';\n",
              "\n",
              "      async function convertToInteractive(key) {\n",
              "        const element = document.querySelector('#df-7f9b3a47-50da-4271-b9bf-55cfb4c77a79');\n",
              "        const dataTable =\n",
              "          await google.colab.kernel.invokeFunction('convertToInteractive',\n",
              "                                                    [key], {});\n",
              "        if (!dataTable) return;\n",
              "\n",
              "        const docLinkHtml = 'Like what you see? Visit the ' +\n",
              "          '<a target=\"_blank\" href=https://colab.research.google.com/notebooks/data_table.ipynb>data table notebook</a>'\n",
              "          + ' to learn more about interactive tables.';\n",
              "        element.innerHTML = '';\n",
              "        dataTable['output_type'] = 'display_data';\n",
              "        await google.colab.output.renderOutput(dataTable, element);\n",
              "        const docLink = document.createElement('div');\n",
              "        docLink.innerHTML = docLinkHtml;\n",
              "        element.appendChild(docLink);\n",
              "      }\n",
              "    </script>\n",
              "  </div>\n",
              "\n",
              "\n",
              "<div id=\"df-ac24ad1a-cc68-405d-9fe4-7d2a55b2eb43\">\n",
              "  <button class=\"colab-df-quickchart\" onclick=\"quickchart('df-ac24ad1a-cc68-405d-9fe4-7d2a55b2eb43')\"\n",
              "            title=\"Suggest charts\"\n",
              "            style=\"display:none;\">\n",
              "\n",
              "<svg xmlns=\"http://www.w3.org/2000/svg\" height=\"24px\"viewBox=\"0 0 24 24\"\n",
              "     width=\"24px\">\n",
              "    <g>\n",
              "        <path d=\"M19 3H5c-1.1 0-2 .9-2 2v14c0 1.1.9 2 2 2h14c1.1 0 2-.9 2-2V5c0-1.1-.9-2-2-2zM9 17H7v-7h2v7zm4 0h-2V7h2v10zm4 0h-2v-4h2v4z\"/>\n",
              "    </g>\n",
              "</svg>\n",
              "  </button>\n",
              "\n",
              "<style>\n",
              "  .colab-df-quickchart {\n",
              "      --bg-color: #E8F0FE;\n",
              "      --fill-color: #1967D2;\n",
              "      --hover-bg-color: #E2EBFA;\n",
              "      --hover-fill-color: #174EA6;\n",
              "      --disabled-fill-color: #AAA;\n",
              "      --disabled-bg-color: #DDD;\n",
              "  }\n",
              "\n",
              "  [theme=dark] .colab-df-quickchart {\n",
              "      --bg-color: #3B4455;\n",
              "      --fill-color: #D2E3FC;\n",
              "      --hover-bg-color: #434B5C;\n",
              "      --hover-fill-color: #FFFFFF;\n",
              "      --disabled-bg-color: #3B4455;\n",
              "      --disabled-fill-color: #666;\n",
              "  }\n",
              "\n",
              "  .colab-df-quickchart {\n",
              "    background-color: var(--bg-color);\n",
              "    border: none;\n",
              "    border-radius: 50%;\n",
              "    cursor: pointer;\n",
              "    display: none;\n",
              "    fill: var(--fill-color);\n",
              "    height: 32px;\n",
              "    padding: 0;\n",
              "    width: 32px;\n",
              "  }\n",
              "\n",
              "  .colab-df-quickchart:hover {\n",
              "    background-color: var(--hover-bg-color);\n",
              "    box-shadow: 0 1px 2px rgba(60, 64, 67, 0.3), 0 1px 3px 1px rgba(60, 64, 67, 0.15);\n",
              "    fill: var(--button-hover-fill-color);\n",
              "  }\n",
              "\n",
              "  .colab-df-quickchart-complete:disabled,\n",
              "  .colab-df-quickchart-complete:disabled:hover {\n",
              "    background-color: var(--disabled-bg-color);\n",
              "    fill: var(--disabled-fill-color);\n",
              "    box-shadow: none;\n",
              "  }\n",
              "\n",
              "  .colab-df-spinner {\n",
              "    border: 2px solid var(--fill-color);\n",
              "    border-color: transparent;\n",
              "    border-bottom-color: var(--fill-color);\n",
              "    animation:\n",
              "      spin 1s steps(1) infinite;\n",
              "  }\n",
              "\n",
              "  @keyframes spin {\n",
              "    0% {\n",
              "      border-color: transparent;\n",
              "      border-bottom-color: var(--fill-color);\n",
              "      border-left-color: var(--fill-color);\n",
              "    }\n",
              "    20% {\n",
              "      border-color: transparent;\n",
              "      border-left-color: var(--fill-color);\n",
              "      border-top-color: var(--fill-color);\n",
              "    }\n",
              "    30% {\n",
              "      border-color: transparent;\n",
              "      border-left-color: var(--fill-color);\n",
              "      border-top-color: var(--fill-color);\n",
              "      border-right-color: var(--fill-color);\n",
              "    }\n",
              "    40% {\n",
              "      border-color: transparent;\n",
              "      border-right-color: var(--fill-color);\n",
              "      border-top-color: var(--fill-color);\n",
              "    }\n",
              "    60% {\n",
              "      border-color: transparent;\n",
              "      border-right-color: var(--fill-color);\n",
              "    }\n",
              "    80% {\n",
              "      border-color: transparent;\n",
              "      border-right-color: var(--fill-color);\n",
              "      border-bottom-color: var(--fill-color);\n",
              "    }\n",
              "    90% {\n",
              "      border-color: transparent;\n",
              "      border-bottom-color: var(--fill-color);\n",
              "    }\n",
              "  }\n",
              "</style>\n",
              "\n",
              "  <script>\n",
              "    async function quickchart(key) {\n",
              "      const quickchartButtonEl =\n",
              "        document.querySelector('#' + key + ' button');\n",
              "      quickchartButtonEl.disabled = true;  // To prevent multiple clicks.\n",
              "      quickchartButtonEl.classList.add('colab-df-spinner');\n",
              "      try {\n",
              "        const charts = await google.colab.kernel.invokeFunction(\n",
              "            'suggestCharts', [key], {});\n",
              "      } catch (error) {\n",
              "        console.error('Error during call to suggestCharts:', error);\n",
              "      }\n",
              "      quickchartButtonEl.classList.remove('colab-df-spinner');\n",
              "      quickchartButtonEl.classList.add('colab-df-quickchart-complete');\n",
              "    }\n",
              "    (() => {\n",
              "      let quickchartButtonEl =\n",
              "        document.querySelector('#df-ac24ad1a-cc68-405d-9fe4-7d2a55b2eb43 button');\n",
              "      quickchartButtonEl.style.display =\n",
              "        google.colab.kernel.accessAllowed ? 'block' : 'none';\n",
              "    })();\n",
              "  </script>\n",
              "</div>\n",
              "\n",
              "    </div>\n",
              "  </div>\n"
            ],
            "text/plain": [
              "   overall vote  verified   reviewTime      reviewerID        asin  \\\n",
              "0      5.0   67      True  09 18, 1999   AAP7PPBU72QFM  0151004714   \n",
              "1      3.0    5      True  10 23, 2013  A2E168DTVGE6SV  0151004714   \n",
              "2      5.0    4     False   09 2, 2008  A1ER5AYS3FQ9O3  0151004714   \n",
              "3      5.0   13     False   09 4, 2000  A1T17LMQABMBN5  0151004714   \n",
              "4      3.0    8      True   02 4, 2000  A3QHJ0FXK33OBE  0151004714   \n",
              "\n",
              "                            style      reviewerName  \\\n",
              "0       {'Format:': ' Hardcover'}      D. C. Carrad   \n",
              "1  {'Format:': ' Kindle Edition'}               Evy   \n",
              "2       {'Format:': ' Paperback'}             Kcorn   \n",
              "3       {'Format:': ' Hardcover'}   Caf Girl Writes   \n",
              "4       {'Format:': ' Hardcover'}  W. Shane Schmidt   \n",
              "\n",
              "                                          reviewText  \\\n",
              "0  This is the best novel I have read in 2 or 3 y...   \n",
              "1  Pages and pages of introspection, in the style...   \n",
              "2  This is the kind of novel to read when you hav...   \n",
              "3  What gorgeous language! What an incredible wri...   \n",
              "4  I was taken in by reviews that compared this b...   \n",
              "\n",
              "                                             summary  unixReviewTime image  \n",
              "0                                     A star is born       937612800   NaN  \n",
              "1                    A stream of consciousness novel      1382486400   NaN  \n",
              "2  I'm a huge fan of the author and this one did ...      1220313600   NaN  \n",
              "3          The most beautiful book I have ever read!       968025600   NaN  \n",
              "4                        A dissenting view--In part.       949622400   NaN  "
            ]
          },
          "execution_count": 3,
          "metadata": {},
          "output_type": "execute_result"
        }
      ],
      "source": [
        "init_df.head()"
      ]
    },
    {
      "cell_type": "markdown",
      "metadata": {
        "id": "nTuEI0kmH3Zm"
      },
      "source": [
        "### Dimensionality Reduction"
      ]
    },
    {
      "cell_type": "markdown",
      "metadata": {
        "id": "5Du-sp65H3Zm"
      },
      "source": [
        "This is a big dataset, and there are a number of columns I don't need. To keep operations faster I'm going to drop everything I don't need."
      ]
    },
    {
      "cell_type": "code",
      "execution_count": null,
      "metadata": {
        "colab": {
          "base_uri": "https://localhost:8080/",
          "height": 206
        },
        "id": "SsGntGwPH3Zm",
        "outputId": "37b458f7-7db3-4f3f-d629-1d3620e29dd1"
      },
      "outputs": [
        {
          "data": {
            "application/vnd.google.colaboratory.intrinsic+json": {
              "type": "dataframe",
              "variable_name": "df"
            },
            "text/html": [
              "\n",
              "  <div id=\"df-71e01ddc-3f83-4b82-bfe3-5ab9083c6ebe\" class=\"colab-df-container\">\n",
              "    <div>\n",
              "<style scoped>\n",
              "    .dataframe tbody tr th:only-of-type {\n",
              "        vertical-align: middle;\n",
              "    }\n",
              "\n",
              "    .dataframe tbody tr th {\n",
              "        vertical-align: top;\n",
              "    }\n",
              "\n",
              "    .dataframe thead th {\n",
              "        text-align: right;\n",
              "    }\n",
              "</style>\n",
              "<table border=\"1\" class=\"dataframe\">\n",
              "  <thead>\n",
              "    <tr style=\"text-align: right;\">\n",
              "      <th></th>\n",
              "      <th>overall</th>\n",
              "      <th>reviewText</th>\n",
              "    </tr>\n",
              "  </thead>\n",
              "  <tbody>\n",
              "    <tr>\n",
              "      <th>0</th>\n",
              "      <td>5.0</td>\n",
              "      <td>This is the best novel I have read in 2 or 3 y...</td>\n",
              "    </tr>\n",
              "    <tr>\n",
              "      <th>1</th>\n",
              "      <td>3.0</td>\n",
              "      <td>Pages and pages of introspection, in the style...</td>\n",
              "    </tr>\n",
              "    <tr>\n",
              "      <th>2</th>\n",
              "      <td>5.0</td>\n",
              "      <td>This is the kind of novel to read when you hav...</td>\n",
              "    </tr>\n",
              "    <tr>\n",
              "      <th>3</th>\n",
              "      <td>5.0</td>\n",
              "      <td>What gorgeous language! What an incredible wri...</td>\n",
              "    </tr>\n",
              "    <tr>\n",
              "      <th>4</th>\n",
              "      <td>3.0</td>\n",
              "      <td>I was taken in by reviews that compared this b...</td>\n",
              "    </tr>\n",
              "  </tbody>\n",
              "</table>\n",
              "</div>\n",
              "    <div class=\"colab-df-buttons\">\n",
              "\n",
              "  <div class=\"colab-df-container\">\n",
              "    <button class=\"colab-df-convert\" onclick=\"convertToInteractive('df-71e01ddc-3f83-4b82-bfe3-5ab9083c6ebe')\"\n",
              "            title=\"Convert this dataframe to an interactive table.\"\n",
              "            style=\"display:none;\">\n",
              "\n",
              "  <svg xmlns=\"http://www.w3.org/2000/svg\" height=\"24px\" viewBox=\"0 -960 960 960\">\n",
              "    <path d=\"M120-120v-720h720v720H120Zm60-500h600v-160H180v160Zm220 220h160v-160H400v160Zm0 220h160v-160H400v160ZM180-400h160v-160H180v160Zm440 0h160v-160H620v160ZM180-180h160v-160H180v160Zm440 0h160v-160H620v160Z\"/>\n",
              "  </svg>\n",
              "    </button>\n",
              "\n",
              "  <style>\n",
              "    .colab-df-container {\n",
              "      display:flex;\n",
              "      gap: 12px;\n",
              "    }\n",
              "\n",
              "    .colab-df-convert {\n",
              "      background-color: #E8F0FE;\n",
              "      border: none;\n",
              "      border-radius: 50%;\n",
              "      cursor: pointer;\n",
              "      display: none;\n",
              "      fill: #1967D2;\n",
              "      height: 32px;\n",
              "      padding: 0 0 0 0;\n",
              "      width: 32px;\n",
              "    }\n",
              "\n",
              "    .colab-df-convert:hover {\n",
              "      background-color: #E2EBFA;\n",
              "      box-shadow: 0px 1px 2px rgba(60, 64, 67, 0.3), 0px 1px 3px 1px rgba(60, 64, 67, 0.15);\n",
              "      fill: #174EA6;\n",
              "    }\n",
              "\n",
              "    .colab-df-buttons div {\n",
              "      margin-bottom: 4px;\n",
              "    }\n",
              "\n",
              "    [theme=dark] .colab-df-convert {\n",
              "      background-color: #3B4455;\n",
              "      fill: #D2E3FC;\n",
              "    }\n",
              "\n",
              "    [theme=dark] .colab-df-convert:hover {\n",
              "      background-color: #434B5C;\n",
              "      box-shadow: 0px 1px 3px 1px rgba(0, 0, 0, 0.15);\n",
              "      filter: drop-shadow(0px 1px 2px rgba(0, 0, 0, 0.3));\n",
              "      fill: #FFFFFF;\n",
              "    }\n",
              "  </style>\n",
              "\n",
              "    <script>\n",
              "      const buttonEl =\n",
              "        document.querySelector('#df-71e01ddc-3f83-4b82-bfe3-5ab9083c6ebe button.colab-df-convert');\n",
              "      buttonEl.style.display =\n",
              "        google.colab.kernel.accessAllowed ? 'block' : 'none';\n",
              "\n",
              "      async function convertToInteractive(key) {\n",
              "        const element = document.querySelector('#df-71e01ddc-3f83-4b82-bfe3-5ab9083c6ebe');\n",
              "        const dataTable =\n",
              "          await google.colab.kernel.invokeFunction('convertToInteractive',\n",
              "                                                    [key], {});\n",
              "        if (!dataTable) return;\n",
              "\n",
              "        const docLinkHtml = 'Like what you see? Visit the ' +\n",
              "          '<a target=\"_blank\" href=https://colab.research.google.com/notebooks/data_table.ipynb>data table notebook</a>'\n",
              "          + ' to learn more about interactive tables.';\n",
              "        element.innerHTML = '';\n",
              "        dataTable['output_type'] = 'display_data';\n",
              "        await google.colab.output.renderOutput(dataTable, element);\n",
              "        const docLink = document.createElement('div');\n",
              "        docLink.innerHTML = docLinkHtml;\n",
              "        element.appendChild(docLink);\n",
              "      }\n",
              "    </script>\n",
              "  </div>\n",
              "\n",
              "\n",
              "<div id=\"df-6189571b-b6a6-484a-ad89-44b33cb72d27\">\n",
              "  <button class=\"colab-df-quickchart\" onclick=\"quickchart('df-6189571b-b6a6-484a-ad89-44b33cb72d27')\"\n",
              "            title=\"Suggest charts\"\n",
              "            style=\"display:none;\">\n",
              "\n",
              "<svg xmlns=\"http://www.w3.org/2000/svg\" height=\"24px\"viewBox=\"0 0 24 24\"\n",
              "     width=\"24px\">\n",
              "    <g>\n",
              "        <path d=\"M19 3H5c-1.1 0-2 .9-2 2v14c0 1.1.9 2 2 2h14c1.1 0 2-.9 2-2V5c0-1.1-.9-2-2-2zM9 17H7v-7h2v7zm4 0h-2V7h2v10zm4 0h-2v-4h2v4z\"/>\n",
              "    </g>\n",
              "</svg>\n",
              "  </button>\n",
              "\n",
              "<style>\n",
              "  .colab-df-quickchart {\n",
              "      --bg-color: #E8F0FE;\n",
              "      --fill-color: #1967D2;\n",
              "      --hover-bg-color: #E2EBFA;\n",
              "      --hover-fill-color: #174EA6;\n",
              "      --disabled-fill-color: #AAA;\n",
              "      --disabled-bg-color: #DDD;\n",
              "  }\n",
              "\n",
              "  [theme=dark] .colab-df-quickchart {\n",
              "      --bg-color: #3B4455;\n",
              "      --fill-color: #D2E3FC;\n",
              "      --hover-bg-color: #434B5C;\n",
              "      --hover-fill-color: #FFFFFF;\n",
              "      --disabled-bg-color: #3B4455;\n",
              "      --disabled-fill-color: #666;\n",
              "  }\n",
              "\n",
              "  .colab-df-quickchart {\n",
              "    background-color: var(--bg-color);\n",
              "    border: none;\n",
              "    border-radius: 50%;\n",
              "    cursor: pointer;\n",
              "    display: none;\n",
              "    fill: var(--fill-color);\n",
              "    height: 32px;\n",
              "    padding: 0;\n",
              "    width: 32px;\n",
              "  }\n",
              "\n",
              "  .colab-df-quickchart:hover {\n",
              "    background-color: var(--hover-bg-color);\n",
              "    box-shadow: 0 1px 2px rgba(60, 64, 67, 0.3), 0 1px 3px 1px rgba(60, 64, 67, 0.15);\n",
              "    fill: var(--button-hover-fill-color);\n",
              "  }\n",
              "\n",
              "  .colab-df-quickchart-complete:disabled,\n",
              "  .colab-df-quickchart-complete:disabled:hover {\n",
              "    background-color: var(--disabled-bg-color);\n",
              "    fill: var(--disabled-fill-color);\n",
              "    box-shadow: none;\n",
              "  }\n",
              "\n",
              "  .colab-df-spinner {\n",
              "    border: 2px solid var(--fill-color);\n",
              "    border-color: transparent;\n",
              "    border-bottom-color: var(--fill-color);\n",
              "    animation:\n",
              "      spin 1s steps(1) infinite;\n",
              "  }\n",
              "\n",
              "  @keyframes spin {\n",
              "    0% {\n",
              "      border-color: transparent;\n",
              "      border-bottom-color: var(--fill-color);\n",
              "      border-left-color: var(--fill-color);\n",
              "    }\n",
              "    20% {\n",
              "      border-color: transparent;\n",
              "      border-left-color: var(--fill-color);\n",
              "      border-top-color: var(--fill-color);\n",
              "    }\n",
              "    30% {\n",
              "      border-color: transparent;\n",
              "      border-left-color: var(--fill-color);\n",
              "      border-top-color: var(--fill-color);\n",
              "      border-right-color: var(--fill-color);\n",
              "    }\n",
              "    40% {\n",
              "      border-color: transparent;\n",
              "      border-right-color: var(--fill-color);\n",
              "      border-top-color: var(--fill-color);\n",
              "    }\n",
              "    60% {\n",
              "      border-color: transparent;\n",
              "      border-right-color: var(--fill-color);\n",
              "    }\n",
              "    80% {\n",
              "      border-color: transparent;\n",
              "      border-right-color: var(--fill-color);\n",
              "      border-bottom-color: var(--fill-color);\n",
              "    }\n",
              "    90% {\n",
              "      border-color: transparent;\n",
              "      border-bottom-color: var(--fill-color);\n",
              "    }\n",
              "  }\n",
              "</style>\n",
              "\n",
              "  <script>\n",
              "    async function quickchart(key) {\n",
              "      const quickchartButtonEl =\n",
              "        document.querySelector('#' + key + ' button');\n",
              "      quickchartButtonEl.disabled = true;  // To prevent multiple clicks.\n",
              "      quickchartButtonEl.classList.add('colab-df-spinner');\n",
              "      try {\n",
              "        const charts = await google.colab.kernel.invokeFunction(\n",
              "            'suggestCharts', [key], {});\n",
              "      } catch (error) {\n",
              "        console.error('Error during call to suggestCharts:', error);\n",
              "      }\n",
              "      quickchartButtonEl.classList.remove('colab-df-spinner');\n",
              "      quickchartButtonEl.classList.add('colab-df-quickchart-complete');\n",
              "    }\n",
              "    (() => {\n",
              "      let quickchartButtonEl =\n",
              "        document.querySelector('#df-6189571b-b6a6-484a-ad89-44b33cb72d27 button');\n",
              "      quickchartButtonEl.style.display =\n",
              "        google.colab.kernel.accessAllowed ? 'block' : 'none';\n",
              "    })();\n",
              "  </script>\n",
              "</div>\n",
              "\n",
              "    </div>\n",
              "  </div>\n"
            ],
            "text/plain": [
              "   overall                                         reviewText\n",
              "0      5.0  This is the best novel I have read in 2 or 3 y...\n",
              "1      3.0  Pages and pages of introspection, in the style...\n",
              "2      5.0  This is the kind of novel to read when you hav...\n",
              "3      5.0  What gorgeous language! What an incredible wri...\n",
              "4      3.0  I was taken in by reviews that compared this b..."
            ]
          },
          "execution_count": 4,
          "metadata": {},
          "output_type": "execute_result"
        }
      ],
      "source": [
        "features_to_keep = ['overall','reviewText']\n",
        "features_to_drop = [feature for feature in init_df.columns if feature not in features_to_keep]\n",
        "df = init_df.drop(features_to_drop,axis=1)\n",
        "\n",
        "del init_df # memory management\n",
        "df.head()"
      ]
    },
    {
      "cell_type": "code",
      "execution_count": null,
      "metadata": {
        "colab": {
          "base_uri": "https://localhost:8080/"
        },
        "id": "joZi_rj9H3Zm",
        "outputId": "f2cb9cc1-dd0c-4470-c712-47926fa9749b"
      },
      "outputs": [
        {
          "name": "stdout",
          "output_type": "stream",
          "text": [
            "<class 'pandas.core.frame.DataFrame'>\n",
            "RangeIndex: 67396 entries, 0 to 67395\n",
            "Data columns (total 2 columns):\n",
            " #   Column      Non-Null Count  Dtype  \n",
            "---  ------      --------------  -----  \n",
            " 0   overall     67396 non-null  float64\n",
            " 1   reviewText  67378 non-null  object \n",
            "dtypes: float64(1), object(1)\n",
            "memory usage: 1.0+ MB\n"
          ]
        }
      ],
      "source": [
        "df = df.sample(frac=0.01,replace=False) # local\n",
        "# Colab could run 5% of the data but it completely maxed out the 51 GB of RAM\n",
        "# df = df.sample(frac=0.05,replace=False) # colab\n",
        "df.reset_index(drop=True,inplace=True)\n",
        "df.info()"
      ]
    },
    {
      "cell_type": "markdown",
      "metadata": {
        "id": "EXlbq0HWH3Zm"
      },
      "source": [
        "I'm also going to remove any stop words from the review text. Stop words are words like \"a,” “the,” “is,” “are,\" and don't add a lot of contextual value. So they're a good way to reduce the size of the reviews. Before I can do that I need to make sure there aren't any unrecognized characters so I'll do some additional processing on the review text."
      ]
    },
    {
      "cell_type": "code",
      "execution_count": null,
      "metadata": {
        "colab": {
          "base_uri": "https://localhost:8080/"
        },
        "id": "2OkD6qlDH3Zn",
        "outputId": "7c53c5c6-2a87-4113-d77d-4ff9564ec855"
      },
      "outputs": [
        {
          "name": "stdout",
          "output_type": "stream",
          "text": [
            "<class 'pandas.core.frame.DataFrame'>\n",
            "RangeIndex: 67396 entries, 0 to 67395\n",
            "Data columns (total 3 columns):\n",
            " #   Column          Non-Null Count  Dtype  \n",
            "---  ------          --------------  -----  \n",
            " 0   overall         67396 non-null  float64\n",
            " 1   reviewText      67378 non-null  object \n",
            " 2   str_reviewText  67396 non-null  object \n",
            "dtypes: float64(1), object(2)\n",
            "memory usage: 1.5+ MB\n"
          ]
        }
      ],
      "source": [
        "# Note: Built in pandas functionality didn't seem to\n",
        "df['reviewText'] = df['reviewText'].str.strip()\n",
        "# df['str_reviewText'] = df['reviewText'].apply(lambda x: str(x)) # source ChatGPT\n",
        "df['str_reviewText'] = df['reviewText'].astype(str)\n",
        "\n",
        "df.info()"
      ]
    },
    {
      "cell_type": "code",
      "execution_count": null,
      "metadata": {
        "colab": {
          "base_uri": "https://localhost:8080/"
        },
        "id": "sZtC6natH3Zn",
        "outputId": "f643ed4c-241d-4ae6-9adb-c8891b5346a1"
      },
      "outputs": [
        {
          "name": "stderr",
          "output_type": "stream",
          "text": [
            "[nltk_data] Downloading package punkt to /root/nltk_data...\n",
            "[nltk_data]   Unzipping tokenizers/punkt.zip.\n",
            "[nltk_data] Downloading package stopwords to /root/nltk_data...\n",
            "[nltk_data]   Unzipping corpora/stopwords.zip.\n"
          ]
        },
        {
          "name": "stdout",
          "output_type": "stream",
          "text": [
            "0        It works well, responsive trackpad good backli...\n",
            "1        The soundstage first thing grabbed me. Spaciou...\n",
            "2                                            Great product\n",
            "3        This great road trip recently. It however brea...\n",
            "4        The product name \"Nikon D600 24.3 MP CMOS FX-F...\n",
            "                               ...                        \n",
            "67391    I'm fan OEM battery Fuji. I've two aftermarket...\n",
            "67392                Works great friends Bluetooth speaker\n",
            "67393                              Good product good price\n",
            "67394    An ellellent find excellent device multi featu...\n",
            "67395    I bought USB adapter connect second Tivo home ...\n",
            "Name: str_reviewText, Length: 67396, dtype: object\n",
            "CPU times: user 1.85 s, sys: 1.32 s, total: 3.17 s\n",
            "Wall time: 2.55 s\n"
          ]
        }
      ],
      "source": [
        "%%time\n",
        "# Use NLTK to remove stopwords\n",
        "import nltk\n",
        "# import re\n",
        "nltk.download('punkt')\n",
        "nltk.download('stopwords')\n",
        "from nltk.corpus import stopwords\n",
        "\n",
        "stop_words = set(stopwords.words(\"english\"))\n",
        "\n",
        "def remove_stop_words(review):\n",
        "    # no_tags = re.sub(pattern,'',tweet)\n",
        "    no_stop_words = [word for word in review.split() if word not in stop_words]\n",
        "    return ' '.join(no_stop_words)\n",
        "\n",
        "\n",
        "# Apply the pattern to remove those tags from tweets\n",
        "df['str_reviewText'] = df['str_reviewText'].apply(remove_stop_words)\n",
        "\n",
        "print(df['str_reviewText'])"
      ]
    },
    {
      "cell_type": "markdown",
      "metadata": {
        "id": "Rd20GEygH3Zn"
      },
      "source": [
        "Strangely, these don't all seem like electronics reviews...but for my purposes it really doesn't matter. Also, there's no obvious sentiment labels in the dataset. So I'm going to use the overall rating as my sentiments. I'll set up the following categories:\n",
        " -  0-2: Negative\n",
        " -  3: Neutral\n",
        " -  4-5: Positive\n",
        "\n",
        "After grouping, I'll plot the distributions using a pie chart to visually observe how many samples are in each group."
      ]
    },
    {
      "cell_type": "code",
      "execution_count": null,
      "metadata": {
        "colab": {
          "base_uri": "https://localhost:8080/",
          "height": 428
        },
        "id": "PbloInReH3Zn",
        "outputId": "883226dd-6bb6-4960-dd18-b4dc0bf85816"
      },
      "outputs": [
        {
          "data": {
            "image/png": "[encoded data removed]",
            "text/plain": [
              "<Figure size 640x480 with 1 Axes>"
            ]
          },
          "metadata": {},
          "output_type": "display_data"
        }
      ],
      "source": [
        "import matplotlib\n",
        "import matplotlib.pyplot as plt\n",
        "\n",
        "# Bracket the sentiments based on Overall value\n",
        "df['sentiment'] = pd.cut(df['overall'], [0,2,3,5], labels=['negative','neutral','positive'])\n",
        "\n",
        "# Group the data by sentiment for purposes of charting\n",
        "sentiments = df.groupby(['sentiment'])\n",
        "pie_data = sentiments.size()\n",
        "\n",
        "# Set the pie chart parameters\n",
        "plt.pie(pie_data, labels=pie_data.index, autopct='%1.1f%%', labeldistance=1.1, startangle=90)\n",
        "\n",
        "plt.title(\"Quantity of Each Sentiment\")\n",
        "plt.axis('equal')  # Equal aspect ratio ensures that pie is drawn as a circle.\n",
        "\n",
        "plt.show()\n",
        "\n",
        "# Get the exact count of each value to provide further information\n",
        "df.value_counts(['sentiment'])\n",
        "\n",
        "del sentiments # memory management"
      ]
    },
    {
      "cell_type": "markdown",
      "metadata": {
        "id": "bh1KREOPH3Zn"
      },
      "source": [
        "There is a significant misbalance of my classes, so I'm going to need to make sure I stratify the data so that the data is well represented. Before I do that, I'll tokenize the reviews and and prepare the data for splitting by narrowing down to fields of interest.\n",
        "\n",
        "To get started with tokenizing, I need to know the max length I'll encounter in the reviews."
      ]
    },
    {
      "cell_type": "code",
      "execution_count": null,
      "metadata": {
        "colab": {
          "base_uri": "https://localhost:8080/"
        },
        "id": "uhGv6ut4H3Zn",
        "outputId": "0a83712c-cb81-4c29-fde6-949d71885571"
      },
      "outputs": [
        {
          "name": "stdout",
          "output_type": "stream",
          "text": [
            "The longest review is 23257 characters\n"
          ]
        }
      ],
      "source": [
        "# Determine longest review length\n",
        "print(f\"The longest review is {len(max(df['str_reviewText'], key=len))} characters\")"
      ]
    },
    {
      "cell_type": "markdown",
      "metadata": {
        "id": "wgxadxMCH3Zo"
      },
      "source": [
        "In order for all the data going into the model to be same length, I'll need to zero-pad the sequences. For data consistency, I want all reviews to have some zero-padding. If my longest review length is 26,673 characters, I'll round up to 26,680 for my max length."
      ]
    },
    {
      "cell_type": "code",
      "execution_count": null,
      "metadata": {
        "colab": {
          "base_uri": "https://localhost:8080/"
        },
        "id": "jo_BH8ZlH3Zo",
        "outputId": "10c1bc02-6b6e-4105-f8a8-4dba4c5a3a55"
      },
      "outputs": [
        {
          "name": "stdout",
          "output_type": "stream",
          "text": [
            "Found 52681 unique tokens. Distilled to 52681 top words.\n",
            "Shape of data tensor: (67396, 26680)\n",
            "Shape of label tensor: (67396,)\n",
            "52681\n",
            "CPU times: user 7.4 s, sys: 1.46 s, total: 8.86 s\n",
            "Wall time: 8.76 s\n"
          ]
        }
      ],
      "source": [
        "%%time\n",
        "# Source: cs7324 lab 7\n",
        "from tensorflow.keras.preprocessing.text import Tokenizer\n",
        "from tensorflow.keras.preprocessing.sequence import pad_sequences\n",
        "import numpy as np\n",
        "\n",
        "NUM_TOP_WORDS = None # use entire vocabulary!\n",
        "MAX_REVIEW_LEN = 26680  # maximum and minimum number of words\n",
        "\n",
        "#tokenize the text\n",
        "tokenizer = Tokenizer(num_words=NUM_TOP_WORDS)\n",
        "tokenizer.fit_on_texts(df['str_reviewText'])\n",
        "# save as sequences with integers replacing words\n",
        "sequences = tokenizer.texts_to_sequences(df['str_reviewText'])\n",
        "\n",
        "word_index = tokenizer.word_index\n",
        "NUM_TOP_WORDS = len(word_index) if NUM_TOP_WORDS==None else NUM_TOP_WORDS\n",
        "top_words = min((len(word_index),NUM_TOP_WORDS))\n",
        "print('Found %s unique tokens. Distilled to %d top words.' % (len(word_index),top_words))\n",
        "\n",
        "X = pad_sequences(sequences, maxlen=MAX_REVIEW_LEN)\n",
        "y = df.sentiment.values\n",
        "print('Shape of data tensor:', X.shape)\n",
        "print('Shape of label tensor:', y.shape)\n",
        "print(np.max(X))\n"
      ]
    },
    {
      "cell_type": "code",
      "execution_count": null,
      "metadata": {
        "id": "d9mnkyW2H3Zo"
      },
      "outputs": [],
      "source": []
    },
    {
      "cell_type": "code",
      "execution_count": null,
      "metadata": {
        "id": "D9w4zUpmH3Zo"
      },
      "outputs": [],
      "source": [
        "from sklearn.model_selection import train_test_split\n",
        "X_train, X_test, y_train, y_test = train_test_split(X, y, train_size = 0.8, test_size=0.2, stratify=y)"
      ]
    },
    {
      "cell_type": "code",
      "execution_count": null,
      "metadata": {
        "colab": {
          "base_uri": "https://localhost:8080/"
        },
        "id": "ZEPsnKT3qEB4",
        "outputId": "ad1f51be-2b54-4ec4-90ee-5e1a69009423"
      },
      "outputs": [
        {
          "name": "stdout",
          "output_type": "stream",
          "text": [
            "Shape of data tensor train: (53916, 26680)\n",
            "Shape of data tensor for test: (13480, 26680)\n",
            "Shape of label tensor train: (53916, 3)\n",
            "Shape of label tensor for test: (13480, 3)\n"
          ]
        }
      ],
      "source": [
        "# Source: in class lecture notebook cs7324 13a\n",
        "\n",
        "from sklearn.preprocessing import LabelEncoder\n",
        "from tensorflow import keras\n",
        "\n",
        "# Use label encoder to get my data into integer form\n",
        "label_encoder = LabelEncoder()\n",
        "y_enc_train = label_encoder.fit_transform(y_train)\n",
        "y_enc_test = label_encoder.fit_transform(y_test)\n",
        "\n",
        "# One-hot encode the encoded labels\n",
        "y_train_ohe = keras.utils.to_categorical(y_enc_train)\n",
        "y_test_ohe = keras.utils.to_categorical(y_enc_test)\n",
        "\n",
        "# Check the shape of the data and labels to ensure they are correct\n",
        "print('Shape of data tensor train:', X_train.shape)\n",
        "print('Shape of data tensor for test:', X_test.shape)\n",
        "print('Shape of label tensor train:', y_train_ohe.shape)\n",
        "print('Shape of label tensor for test:', y_test_ohe.shape)"
      ]
    },
    {
      "cell_type": "markdown",
      "metadata": {
        "id": "0lY8WnXVH3Zo"
      },
      "source": []
    },
    {
      "cell_type": "markdown",
      "metadata": {
        "id": "2prjLIV3H3Zo"
      },
      "source": []
    },
    {
      "cell_type": "markdown",
      "metadata": {
        "id": "2MhPiRGYH3Zp"
      },
      "source": [
        "**explain how you performed this operation and why you think it is reasonable to split this particular dataset this way**"
      ]
    },
    {
      "cell_type": "markdown",
      "metadata": {
        "id": "D6Fe0vVKH3Zp"
      },
      "source": [
        "**For multi-task datasets, be sure to explain if it is appropriate to stratify within each task.**"
      ]
    },
    {
      "cell_type": "markdown",
      "metadata": {
        "id": "i90fmHulH3Zp"
      },
      "source": [
        "**If the dataset is already split for you, explain how the split was achieved and how it is stratified.**"
      ]
    },
    {
      "cell_type": "markdown",
      "metadata": {
        "id": "iWftAZDfH3Zp"
      },
      "source": [
        "## [2.0 points] Train a model from scratch to perform the classification task (this does NOT need to be a transformer)."
      ]
    },
    {
      "cell_type": "markdown",
      "metadata": {
        "id": "kfsrVV76H3Zp"
      },
      "source": [
        "**Verify the model converges (even if the model is overfit).**"
      ]
    },
    {
      "cell_type": "markdown",
      "metadata": {
        "id": "T5gceFPGH3Zq"
      },
      "source": [
        "#### Convolutional Neural Network 1 (CNN-1)\n",
        "\n",
        "The first CNN I'll run will consist of 64 filters with a width of 5. I'm changing the filter size from the in-class example because my dataset is quite a bit smaller. So my thought being I won't need so many filters to get good results."
      ]
    },
    {
      "cell_type": "markdown",
      "metadata": {
        "id": "sTvq6IlJaFKy"
      },
      "source": []
    },
    {
      "cell_type": "code",
      "execution_count": null,
      "metadata": {
        "colab": {
          "base_uri": "https://localhost:8080/"
        },
        "id": "ctQgoTDHaEkN",
        "outputId": "d88b350b-b4e0-4911-cb90-3a5fd49f30ab"
      },
      "outputs": [
        {
          "name": "stdout",
          "output_type": "stream",
          "text": [
            "Found 400000 word vectors.\n",
            "Embedding Shape: (52682, 300) \n",
            " Total words found: 31107 \n",
            " Percentage: 59.04673322956607\n",
            "CPU times: user 23.5 s, sys: 1.03 s, total: 24.5 s\n",
            "Wall time: 27.7 s\n"
          ]
        }
      ],
      "source": [
        "%%time\n",
        "# Source: Modified from in-class lecture notebook 13a\n",
        "EMBED_SIZE = 300\n",
        "# the embed size should match the file you load glove from\n",
        "embeddings_index = {}\n",
        "# f = open(r'C:\\Users\\Chip\\source\\repos\\cs7324_code\\Data_Sources\\glove.6B\\glove.6B.50d.txt')\n",
        "f = open(r'/content/drive/MyDrive/Colab Notebooks/Data_sources/glove.6B.300d.txt') # colab\n",
        "# save key/array pairs of the embeddings\n",
        "#  the key of the dictionary is the word, the array is the embedding\n",
        "for line in f:\n",
        "    values = line.split()\n",
        "    word = values[0]\n",
        "    coefs = np.asarray(values[1:], dtype='float32')\n",
        "    embeddings_index[word] = coefs\n",
        "f.close()\n",
        "\n",
        "print('Found %s word vectors.' % len(embeddings_index))\n",
        "\n",
        "# now fill in the matrix, using the ordering from the\n",
        "#  keras word tokenizer from before\n",
        "found_words = 0\n",
        "embedding_matrix = np.zeros((len(word_index) + 1, EMBED_SIZE))\n",
        "for word, i in word_index.items():\n",
        "    embedding_vector = embeddings_index.get(word)\n",
        "    if embedding_vector is not None:\n",
        "        # words not found in embedding index will be ALL-ZEROS\n",
        "        embedding_matrix[i] = embedding_vector\n",
        "        found_words = found_words+1\n",
        "\n",
        "print(\"Embedding Shape:\",embedding_matrix.shape, \"\\n\",\n",
        "      \"Total words found:\",found_words, \"\\n\",\n",
        "      \"Percentage:\",100*found_words/embedding_matrix.shape[0])"
      ]
    },
    {
      "cell_type": "code",
      "execution_count": null,
      "metadata": {
        "id": "bRd_DzxwjUVU"
      },
      "outputs": [],
      "source": [
        "# Source: Modified from in-class notebook 13a\n",
        "# save this embedding now\n",
        "from tensorflow.keras.layers import Embedding, Input, Concatenate\n",
        "embedding_layer = Embedding(len(word_index) + 1,\n",
        "                            EMBED_SIZE,\n",
        "                            weights=[embedding_matrix],# here is the embedding getting saved\n",
        "                            input_length=MAX_REVIEW_LEN,\n",
        "                            trainable=False)"
      ]
    },
    {
      "cell_type": "code",
      "execution_count": null,
      "metadata": {
        "id": "ikL1cOUPH3Zq"
      },
      "outputs": [],
      "source": [
        "if False:\n",
        "        # Source: Modified from in-class lecture, cs7324, notebook 13a\n",
        "        from tensorflow.keras.metrics import Precision\n",
        "        from tensorflow.keras.models import Model\n",
        "        from tensorflow.keras.layers import Conv1D, MaxPooling1D, GlobalAveragePooling1D\n",
        "        from tensorflow.keras.layers import Flatten, Dense, Dropout\n",
        "\n",
        "\n",
        "        EMBED_SIZE = 300  # same size as loaded from GLOVE\n",
        "        NUM_CLASSES = 3\n",
        "        sequence_input = Input(shape=(MAX_REVIEW_LEN,), dtype='int32')\n",
        "        # starting size: 500\n",
        "        embedded_sequences = embedding_layer(sequence_input) # from previous embedding\n",
        "        x = Conv1D(64, 5, activation='relu',\n",
        "                kernel_initializer='he_uniform')(embedded_sequences)\n",
        "\n",
        "        # after conv, size becomes: 500-4=496\n",
        "        x = MaxPooling1D(5)(x) # after max pool, 996/5 = 99\n",
        "        x = Dropout(0.2)(x) # after dropout, size is 95\n",
        "        x = Conv1D(64, 5, activation='relu',\n",
        "                kernel_initializer='he_uniform')(x)\n",
        "\n",
        "        # new size is 195\n",
        "        x = MaxPooling1D(5)(x) # after max pool, size is 95/5 = 19\n",
        "        x = Dropout(0.2)(x)\n",
        "        x = Conv1D(64, 5, activation='relu',\n",
        "                kernel_initializer='he_uniform')(x)\n",
        "\n",
        "        # after convolution, size becomes 15 elements long\n",
        "        x = MaxPooling1D(5)(x) # this is the size to globally flatten, 15/5 = 3\n",
        "        # flattened vector max pools across each of the 3 elements\n",
        "        # so vectors is now 192 dimensions 3*64 = 192\n",
        "        x = Flatten()(x)\n",
        "\n",
        "        x = Dropout(0.2)(x)\n",
        "        x = Dense(64, activation='relu',\n",
        "                kernel_initializer='he_uniform')(x)\n",
        "\n",
        "        preds = Dense(NUM_CLASSES, activation='softmax',\n",
        "                kernel_initializer='glorot_uniform')(x)\n",
        "\n",
        "        model_cnn_1 = Model(sequence_input, preds)\n",
        "\n",
        "        # if representing as OHE, use categorical_crossentropy\n",
        "        # if representing the class as an integer, use sparse_categorical_crossentropy\n",
        "        model_cnn_1.compile(loss='categorical_crossentropy',\n",
        "                optimizer='rmsprop',\n",
        "                metrics=['Precision'])\n",
        "\n",
        "        print(model_cnn_1.summary())\n",
        "\n",
        "        cnn1_histories = []\n",
        "        tmp = model_cnn_1.fit(X_train, y_train_ohe, validation_data=(X_test, y_test_ohe),\n",
        "                epochs=30, batch_size=128)\n",
        "        cnn1_histories.append(tmp)"
      ]
    },
    {
      "cell_type": "code",
      "execution_count": null,
      "metadata": {
        "colab": {
          "base_uri": "https://localhost:8080/"
        },
        "id": "1jr8K0dZmfRz",
        "outputId": "0f800e8a-3c4d-479a-fe20-8215042f9513"
      },
      "outputs": [
        {
          "name": "stdout",
          "output_type": "stream",
          "text": [
            "Model: \"model\"\n",
            "__________________________________________________________________________________________________\n",
            " Layer (type)                Output Shape                 Param #   Connected to                  \n",
            "==================================================================================================\n",
            " input_5 (InputLayer)        [(None, 26680)]              0         []                            \n",
            "                                                                                                  \n",
            " embedding (Embedding)       (None, 26680, 300)           1580460   ['input_5[0][0]']             \n",
            "                                                          0                                       \n",
            "                                                                                                  \n",
            " conv1d_7 (Conv1D)           (None, 26676, 64)            96064     ['embedding[4][0]']           \n",
            "                                                                                                  \n",
            " max_pooling1d_5 (MaxPoolin  (None, 5335, 64)             0         ['conv1d_7[0][0]']            \n",
            " g1D)                                                                                             \n",
            "                                                                                                  \n",
            " dropout_5 (Dropout)         (None, 5335, 64)             0         ['max_pooling1d_5[0][0]']     \n",
            "                                                                                                  \n",
            " conv1d_8 (Conv1D)           (None, 5331, 64)             20544     ['dropout_5[0][0]']           \n",
            "                                                                                                  \n",
            " max_pooling1d_6 (MaxPoolin  (None, 1066, 64)             0         ['conv1d_8[0][0]']            \n",
            " g1D)                                                                                             \n",
            "                                                                                                  \n",
            " dropout_6 (Dropout)         (None, 1066, 64)             0         ['max_pooling1d_6[0][0]']     \n",
            "                                                                                                  \n",
            " conv1d_9 (Conv1D)           (None, 1062, 64)             20544     ['dropout_6[0][0]']           \n",
            "                                                                                                  \n",
            " global_average_pooling1d_3  (None, 64)                   0         ['conv1d_9[0][0]']            \n",
            "  (GlobalAveragePooling1D)                                                                        \n",
            "                                                                                                  \n",
            " subtract_1 (Subtract)       (None, 1062, 64)             0         ['conv1d_9[0][0]',            \n",
            "                                                                     'global_average_pooling1d_3[0\n",
            "                                                                    ][0]']                        \n",
            "                                                                                                  \n",
            " tf.math.pow_1 (TFOpLambda)  (None, 1062, 64)             0         ['subtract_1[0][0]']          \n",
            "                                                                                                  \n",
            " global_average_pooling1d_4  (None, 64)                   0         ['tf.math.pow_1[0][0]']       \n",
            "  (GlobalAveragePooling1D)                                                                        \n",
            "                                                                                                  \n",
            " concat_1 (Concatenate)      (None, 128)                  0         ['global_average_pooling1d_3[0\n",
            "                                                                    ][0]',                        \n",
            "                                                                     'global_average_pooling1d_4[0\n",
            "                                                                    ][0]']                        \n",
            "                                                                                                  \n",
            " dense_1 (Dense)             (None, 64)                   8256      ['concat_1[0][0]']            \n",
            "                                                                                                  \n",
            " dropout_7 (Dropout)         (None, 64)                   0         ['dense_1[0][0]']             \n",
            "                                                                                                  \n",
            " dense_2 (Dense)             (None, 3)                    195       ['dropout_7[0][0]']           \n",
            "                                                                                                  \n",
            "==================================================================================================\n",
            "Total params: 15950203 (60.85 MB)\n",
            "Trainable params: 145603 (568.76 KB)\n",
            "Non-trainable params: 15804600 (60.29 MB)\n",
            "__________________________________________________________________________________________________\n",
            "None\n",
            "Epoch 1/10\n",
            "422/422 [==============================] - 53s 101ms/step - loss: 0.6119 - precision: 0.8188 - val_loss: 0.5283 - val_precision: 0.8449\n",
            "Epoch 2/10\n",
            "422/422 [==============================] - 36s 85ms/step - loss: 0.5096 - precision: 0.8540 - val_loss: 0.4953 - val_precision: 0.8727\n",
            "Epoch 3/10\n",
            "422/422 [==============================] - 36s 85ms/step - loss: 0.4695 - precision: 0.8687 - val_loss: 0.4789 - val_precision: 0.8714\n",
            "Epoch 4/10\n",
            "422/422 [==============================] - 36s 85ms/step - loss: 0.4430 - precision: 0.8775 - val_loss: 0.4717 - val_precision: 0.8664\n",
            "Epoch 5/10\n",
            "422/422 [==============================] - 36s 85ms/step - loss: 0.4179 - precision: 0.8867 - val_loss: 0.4699 - val_precision: 0.8655\n",
            "Epoch 6/10\n",
            "422/422 [==============================] - 36s 85ms/step - loss: 0.3921 - precision: 0.8942 - val_loss: 0.4799 - val_precision: 0.8638\n",
            "Epoch 7/10\n",
            "422/422 [==============================] - 36s 85ms/step - loss: 0.3690 - precision: 0.9017 - val_loss: 0.5003 - val_precision: 0.8661\n",
            "Epoch 8/10\n",
            "422/422 [==============================] - 36s 85ms/step - loss: 0.3520 - precision: 0.9063 - val_loss: 0.4993 - val_precision: 0.8648\n",
            "Epoch 9/10\n",
            "422/422 [==============================] - 36s 85ms/step - loss: 0.3345 - precision: 0.9101 - val_loss: 0.5340 - val_precision: 0.8604\n",
            "Epoch 10/10\n",
            "422/422 [==============================] - 36s 85ms/step - loss: 0.3219 - precision: 0.9115 - val_loss: 0.5455 - val_precision: 0.8599\n"
          ]
        }
      ],
      "source": [
        "# Source: Modified from in class notebook 13a\n",
        "if False: # don't retrain the model\n",
        "    from tensorflow.keras.metrics import Precision\n",
        "    from tensorflow.keras.models import Model\n",
        "    from tensorflow.keras.layers import Conv1D, MaxPooling1D, GlobalAveragePooling1D\n",
        "    from tensorflow.keras.layers import Flatten, Dense, Dropout\n",
        "    from tensorflow.keras.layers import Subtract\n",
        "\n",
        "\n",
        "    EMBED_SIZE = 300  # same size as loaded from GLOVE\n",
        "    NUM_CLASSES = 3 # positive, negative, neutral\n",
        "    sequence_input = Input(shape=(MAX_REVIEW_LEN,), dtype='int32')\n",
        "    # starting size: 1000\n",
        "    embedded_sequences = embedding_layer(sequence_input) # from previous embedding\n",
        "    x = Conv1D(64, 5, activation='relu',\n",
        "            kernel_initializer='he_uniform')(embedded_sequences)\n",
        "\n",
        "    # after conv, size becomes: 1000-4=996\n",
        "    x = MaxPooling1D(5)(x)# after max pool, 996/5 = 199\n",
        "    x = Dropout(0.2)(x)\n",
        "    x = Conv1D(64, 5, activation='relu',\n",
        "            kernel_initializer='he_uniform')(x)\n",
        "\n",
        "    # new size is 195\n",
        "    x = MaxPooling1D(5)(x) # after max pool, size is 195/5 = 39\n",
        "    x = Dropout(0.2)(x)\n",
        "    x = Conv1D(64, 5, activation='relu',\n",
        "            kernel_initializer='he_uniform')(x)\n",
        "\n",
        "    # after convolution, size becomes 15 elements long\n",
        "    # Take the mean of these elements across features, result is 128 elements\n",
        "    x_mean = GlobalAveragePooling1D()(x) # this is the size to globally flatten\n",
        "\n",
        "    # Take the variance of these elements across features, result is 128 elements\n",
        "    x_tmp = Subtract()([x,x_mean])\n",
        "    x_std = GlobalAveragePooling1D()(x_tmp**2)\n",
        "\n",
        "    x = Concatenate(name='concat_1')([x_mean,x_std])\n",
        "\n",
        "\n",
        "    x = Dense(64, activation='relu',\n",
        "            kernel_initializer='he_uniform')(x)\n",
        "\n",
        "    x = Dropout(0.2)(x)\n",
        "\n",
        "    preds = Dense(NUM_CLASSES, activation='softmax',\n",
        "                kernel_initializer='glorot_uniform')(x)\n",
        "\n",
        "    model_xvec = Model(sequence_input, preds)\n",
        "\n",
        "    # if representing as OHE, use categorical_crossentropy\n",
        "    # if representing the class as an integer, use sparse_categorical_crossentropy\n",
        "    model_xvec.compile(loss='categorical_crossentropy',\n",
        "                optimizer='adam',\n",
        "                metrics=['Precision'])\n",
        "\n",
        "    print(model_xvec.summary())\n",
        "\n",
        "    model_xvec_histories = []\n",
        "    tmp = model_xvec.fit(X_train, y_train_ohe, validation_data=(X_test, y_test_ohe),\n",
        "            epochs=10, batch_size=128)\n",
        "    model_xvec_histories.append(tmp)"
      ]
    },
    {
      "cell_type": "code",
      "execution_count": null,
      "metadata": {
        "colab": {
          "base_uri": "https://localhost:8080/",
          "height": 427
        },
        "id": "d9VwJVa7aGxg",
        "outputId": "1800e5e8-08d9-47ab-a5be-36a5ce389976"
      },
      "outputs": [
        {
          "data": {
            "image/png": "[encoded data removed]",
            "text/plain": [
              "<Figure size 1500x500 with 2 Axes>"
            ]
          },
          "metadata": {},
          "output_type": "display_data"
        }
      ],
      "source": [
        "# Source: in class lecture notebook 13a\n",
        "if False: # Don't clear out the diagram\n",
        "    %matplotlib inline\n",
        "\n",
        "    # combine all the history from training together\n",
        "    combined = dict()\n",
        "    for key in ['precision','val_precision','loss','val_loss']:\n",
        "        combined[key] = np.hstack([x.history[key] for x in model_xvec_histories])\n",
        "\n",
        "    # summarize history for precision\n",
        "    plt.figure(figsize=(15,5))\n",
        "    plt.subplot(121)\n",
        "    plt.plot(combined['precision'])\n",
        "    plt.plot(combined['val_precision'])\n",
        "    plt.title('model precision')\n",
        "    plt.ylabel('precision')\n",
        "    plt.xlabel('epoch')\n",
        "    plt.legend(['train', 'test'], loc='upper left')\n",
        "\n",
        "    # summarize history for loss\n",
        "    plt.subplot(122)\n",
        "    plt.plot(combined['loss'])\n",
        "    plt.plot(combined['val_loss'])\n",
        "    plt.title('model loss')\n",
        "    plt.ylabel('loss')\n",
        "    plt.xlabel('epoch')\n",
        "    plt.legend(['train', 'test'], loc='upper left')\n",
        "    plt.show()"
      ]
    },
    {
      "cell_type": "markdown",
      "metadata": {
        "id": "nx-qL71RH3Zq"
      },
      "source": [
        "## [2.0 points] Transfer Learning"
      ]
    },
    {
      "cell_type": "code",
      "execution_count": null,
      "metadata": {
        "id": "T44lrsHaH3Zq"
      },
      "outputs": [],
      "source": [
        "%time\n",
        "# Source: https://huggingface.co/google-bert/bert-base-uncased\n",
        "\n",
        "from transformers import BertTokenizer, TFBertModel\n",
        "tokenizer = BertTokenizer.from_pretrained('bert-base-uncased')\n",
        "model = TFBertModel.from_pretrained(\"bert-base-uncased\")\n",
        "text = \"Replace me by any text you'd like.\"\n",
        "encoded_input = tokenizer(text, return_tensors='tf')\n",
        "output = model(encoded_input)"
      ]
    },
    {
      "cell_type": "markdown",
      "metadata": {
        "id": "6t25vAx_H3Zq"
      },
      "source": [
        "**Train a model by transfer learning from your foundational model.**"
      ]
    },
    {
      "cell_type": "markdown",
      "metadata": {
        "id": "e-A4mRB4H3Zq"
      },
      "source": [
        "**Verify that the new model converges. You only need to train a model using the bottleneck features for this step.**"
      ]
    },
    {
      "cell_type": "markdown",
      "metadata": {
        "id": "C377UiG4H3Zq"
      },
      "source": [
        "## [2.0 points] Fine Tuning"
      ]
    },
    {
      "cell_type": "markdown",
      "metadata": {
        "id": "wuvIP3-gH3Zr"
      },
      "source": [
        "**Perform fine tuning upon the model by training some layers within the foundational model**"
      ]
    },
    {
      "cell_type": "markdown",
      "metadata": {
        "id": "pGlYaFNlH3Zr"
      },
      "source": [
        "**Verify that the model converges.**"
      ]
    },
    {
      "cell_type": "markdown",
      "metadata": {
        "id": "kH2cAUBCH3Zr"
      },
      "source": [
        "## [4.0 points] Report the results"
      ]
    },
    {
      "cell_type": "markdown",
      "metadata": {
        "id": "0SUC_mSIH3Zr"
      },
      "source": [
        "**Report the results of all models using the evaluation procedure that you argued for at the beginning of the lab.**"
      ]
    },
    {
      "cell_type": "markdown",
      "metadata": {
        "id": "nazxUQlUH3Zr"
      },
      "source": [
        "**Compare the convergence of the models and the running time.**"
      ]
    },
    {
      "cell_type": "markdown",
      "metadata": {
        "id": "K-FD2wYiH3Zr"
      },
      "source": [
        "**Results should be reported with proper statistical comparisons and proper visualizations.**"
      ]
    },
    {
      "cell_type": "markdown",
      "metadata": {
        "id": "yUCw7rE8H3Zr"
      },
      "source": [
        "## Sources"
      ]
    },
    {
      "cell_type": "code",
      "execution_count": null,
      "metadata": {
        "id": "1w30SJfZH3Zr"
      },
      "outputs": [],
      "source": [
        "https://www.tensorflow.org/text/tutorials/classify_text_with_bert\n",
        "https://keras.io/examples/nlp/pretraining_BERT/\n",
        "https://www.smashwords.com/about\n",
        "https://huggingface.co/google-bert/bert-base-uncased?text=The+goal+of+a+dog%27s+life+is+%5BMASK%5D.\n",
        "https://keras.io/guides/keras_nlp/transformer_pretraining/\n",
        "https://huggingface.co/transformers/v3.3.1/pretrained_models.html\n",
        "https://www.analyticsvidhya.com/blog/2021/05/all-you-need-to-know-about-bert/#:~:text=The%20BERTBase%20model%20uses,has%20around%20110M%20trainable%20parameters."
      ]
    }
  ],
  "metadata": {
    "accelerator": "GPU",
    "colab": {
      "gpuType": "A100",
      "machine_shape": "hm",
      "provenance": []
    },
    "kernelspec": {
      "display_name": "Python 3",
      "name": "python3"
    },
    "language_info": {
      "codemirror_mode": {
        "name": "ipython",
        "version": 3
      },
      "file_extension": ".py",
      "mimetype": "text/x-python",
      "name": "python",
      "nbconvert_exporter": "python",
      "pygments_lexer": "ipython3",
      "version": "3.9.17"
    }
  },
  "nbformat": 4,
  "nbformat_minor": 0
}
