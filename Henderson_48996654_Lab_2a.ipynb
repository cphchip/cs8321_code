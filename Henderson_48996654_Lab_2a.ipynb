{
  "cells": [
    {
      "cell_type": "markdown",
      "metadata": {
        "id": "view-in-github",
        "colab_type": "text"
      },
      "source": [
        "<a href=\"https://colab.research.google.com/github/cphchip/cs8321_code/blob/main/Henderson_48996654_Lab_2a.ipynb\" target=\"_parent\"><img src=\"https://colab.research.google.com/assets/colab-badge.svg\" alt=\"Open In Colab\"/></a>"
      ]
    },
    {
      "cell_type": "markdown",
      "metadata": {
        "id": "zAXjym-6H3Zi"
      },
      "source": [
        "# cs8321 Lab 2 - Transfer Learning and Transformers"
      ]
    },
    {
      "cell_type": "markdown",
      "metadata": {
        "id": "cfzvDKYIH3Zj"
      },
      "source": [
        "#### Chip Henderson - 48996654"
      ]
    },
    {
      "cell_type": "markdown",
      "metadata": {
        "id": "n2cZzaCbH3Zj"
      },
      "source": [
        "## [2.0 points] Dataset Overview"
      ]
    },
    {
      "cell_type": "markdown",
      "metadata": {
        "id": "mgbHEjGRH3Zk"
      },
      "source": [
        "In this dataset, I'll be working on a sentiment classification. This is a many to one classifier of Amazon reviews. I'll be working with categories of negative, netral, and positive.\n",
        "\n",
        "Thhis version of the Amazon reviews dataset is was updated in 2018 from an original version in 2014. It consists of more than 230 million customer reviews from 1996 to 2018."
      ]
    },
    {
      "cell_type": "markdown",
      "metadata": {
        "id": "TNOBQmamH3Zk"
      },
      "source": [
        "**What is the feature data? Who collected the data? Why? When? Is it multimodal?**"
      ]
    },
    {
      "cell_type": "markdown",
      "metadata": {
        "id": "cNjO5JzbH3Zk"
      },
      "source": [
        "**What evaluation criteria will you be using, why?**"
      ]
    },
    {
      "cell_type": "markdown",
      "metadata": {
        "id": "l01RLyJTH3Zk"
      },
      "source": [
        "## [2.0 points] Describe the foundational model that you will be using to transfer learn from"
      ]
    },
    {
      "cell_type": "markdown",
      "metadata": {
        "id": "qfayZGDCH3Zk"
      },
      "source": [
        "I'll be using the bert-base-uncased model for my foundation model. This model's architecture consists of:\n",
        "* 12 layers\n",
        "* 768 hidden\n",
        "* 12-heads\n",
        "* 110 million parameters\n",
        "\n",
        "and trained on lower-cased English text per the [hugging face repo](https://huggingface.co/transformers/v3.3.1/pretrained_models.html)."
      ]
    },
    {
      "cell_type": "markdown",
      "metadata": {
        "id": "3UybHNh7H3Zk"
      },
      "source": [
        "**What tasks was the foundational model trained from?**"
      ]
    },
    {
      "cell_type": "markdown",
      "metadata": {
        "id": "JYQ_iYspH3Zk"
      },
      "source": [
        "Per the hugging face [blog site](https://huggingface.co/google-bert/bert-base-uncased?text=The+goal+of+a+dog%27s+life+is+%5BMASK%5D), \"the BERT model was pretrained on BookCorpus, a dataset consisting of 11,038 unpublished books and English Wikipedia. It is also known as the Toronto Book Corpus, and consists of the text of around 7,000 self-published books scraped from the indie ebook distribution website Smashwords [per wikipedia](https://en.wikipedia.org/wiki/BookCorpus). The dataset consists of around 985 million words across a large span of genres."
      ]
    },
    {
      "cell_type": "markdown",
      "metadata": {
        "id": "OLiY3K2BH3Zk"
      },
      "source": [
        "**Explain if the new task is within the same domain, across domains, etc.**"
      ]
    },
    {
      "cell_type": "markdown",
      "metadata": {
        "id": "760cTIuaH3Zl"
      },
      "source": []
    },
    {
      "cell_type": "markdown",
      "metadata": {
        "id": "mHsS5OABH3Zl"
      },
      "source": [
        "## [1.0 points] Split the data into training and testing"
      ]
    },
    {
      "cell_type": "markdown",
      "metadata": {
        "id": "gkXRV9TjH3Zl"
      },
      "source": [
        "We'll start by importing the data from the source. I'll use a pandas dataframe initially due to its ease of understanding the labels and data types in the dataset."
      ]
    },
    {
      "cell_type": "code",
      "execution_count": null,
      "metadata": {
        "id": "WbvrzYe87FWk"
      },
      "outputs": [],
      "source": []
    },
    {
      "cell_type": "code",
      "execution_count": null,
      "metadata": {
        "id": "_QDS-aVJPNVl"
      },
      "outputs": [],
      "source": []
    },
    {
      "cell_type": "code",
      "execution_count": null,
      "metadata": {
        "colab": {
          "base_uri": "https://localhost:8080/"
        },
        "id": "DsTDbDGqJVFX",
        "outputId": "554e7710-5e5b-4243-b02a-8dd97388e16d"
      },
      "outputs": [
        {
          "output_type": "stream",
          "name": "stdout",
          "text": [
            "Mounted at /content/drive/\n"
          ]
        }
      ],
      "source": [
        "# Uncomment for use in colab\n",
        "from google.colab import drive\n",
        "drive.mount('/content/drive/')"
      ]
    },
    {
      "cell_type": "code",
      "execution_count": null,
      "metadata": {
        "colab": {
          "base_uri": "https://localhost:8080/"
        },
        "id": "iN02bwtkH3Zl",
        "outputId": "eaf28a8e-5e87-4b8d-95d9-6a01047f6803"
      },
      "outputs": [
        {
          "output_type": "stream",
          "name": "stdout",
          "text": [
            "CPU times: user 12.4 s, sys: 1.2 s, total: 13.6 s\n",
            "Wall time: 14.1 s\n"
          ]
        }
      ],
      "source": [
        "%%time\n",
        "# Source: modified from https://nijianmo.github.io/amazon/index.html for\n",
        "# importing data. Customized path and df name\n",
        "import pandas as pd\n",
        "import gzip\n",
        "import json\n",
        "\n",
        "# path = \"../Data_sources/Video_Games_5.json.gz\" # local\n",
        "path = \"/content/drive/MyDrive/Colab Notebooks/Data_sources/Video_Games_5.json.gz\" # colab\n",
        "\n",
        "def parse(path):\n",
        "  g = gzip.open(path, 'rb')\n",
        "  for l in g:\n",
        "    yield json.loads(l)\n",
        "\n",
        "def getDF(path):\n",
        "  i = 0\n",
        "  df = {}\n",
        "  for d in parse(path):\n",
        "    df[i] = d\n",
        "    i += 1\n",
        "  return pd.DataFrame.from_dict(df, orient='index')\n",
        "\n",
        "init_df = getDF(path)\n"
      ]
    },
    {
      "cell_type": "code",
      "execution_count": null,
      "metadata": {
        "colab": {
          "base_uri": "https://localhost:8080/",
          "height": 206
        },
        "id": "CFplCd0JH3Zm",
        "outputId": "169781f1-90d2-4378-cf0b-a81f00de4ef2"
      },
      "outputs": [
        {
          "output_type": "execute_result",
          "data": {
            "text/plain": [
              "   overall  verified   reviewTime      reviewerID        asin  \\\n",
              "0      5.0      True  10 17, 2015  A1HP7NVNPFMA4N  0700026657   \n",
              "1      4.0     False  07 27, 2015  A1JGAP0185YJI6  0700026657   \n",
              "2      3.0      True  02 23, 2015  A1YJWEXHQBWK2B  0700026657   \n",
              "3      2.0      True  02 20, 2015  A2204E1TH211HT  0700026657   \n",
              "4      5.0      True  12 25, 2014  A2RF5B5H74JLPE  0700026657   \n",
              "\n",
              "        reviewerName                                         reviewText  \\\n",
              "0        Ambrosia075  This game is a bit hard to get the hang of, bu...   \n",
              "1             travis  I played it a while but it was alright. The st...   \n",
              "2  Vincent G. Mezera                                           ok game.   \n",
              "3         Grandma KR  found the game a bit too complicated, not what...   \n",
              "4                jon  great game, I love it and have played it since...   \n",
              "\n",
              "                                       summary  unixReviewTime vote style  \\\n",
              "0                  but when you do it's great.      1445040000  NaN   NaN   \n",
              "1  But in spite of that it was fun, I liked it      1437955200  NaN   NaN   \n",
              "2                                  Three Stars      1424649600  NaN   NaN   \n",
              "3                                    Two Stars      1424390400  NaN   NaN   \n",
              "4                               love this game      1419465600  NaN   NaN   \n",
              "\n",
              "  image  \n",
              "0   NaN  \n",
              "1   NaN  \n",
              "2   NaN  \n",
              "3   NaN  \n",
              "4   NaN  "
            ],
            "text/html": [
              "\n",
              "  <div id=\"df-3b908e8f-0da9-4603-a50a-c5c8d66d0ee7\" class=\"colab-df-container\">\n",
              "    <div>\n",
              "<style scoped>\n",
              "    .dataframe tbody tr th:only-of-type {\n",
              "        vertical-align: middle;\n",
              "    }\n",
              "\n",
              "    .dataframe tbody tr th {\n",
              "        vertical-align: top;\n",
              "    }\n",
              "\n",
              "    .dataframe thead th {\n",
              "        text-align: right;\n",
              "    }\n",
              "</style>\n",
              "<table border=\"1\" class=\"dataframe\">\n",
              "  <thead>\n",
              "    <tr style=\"text-align: right;\">\n",
              "      <th></th>\n",
              "      <th>overall</th>\n",
              "      <th>verified</th>\n",
              "      <th>reviewTime</th>\n",
              "      <th>reviewerID</th>\n",
              "      <th>asin</th>\n",
              "      <th>reviewerName</th>\n",
              "      <th>reviewText</th>\n",
              "      <th>summary</th>\n",
              "      <th>unixReviewTime</th>\n",
              "      <th>vote</th>\n",
              "      <th>style</th>\n",
              "      <th>image</th>\n",
              "    </tr>\n",
              "  </thead>\n",
              "  <tbody>\n",
              "    <tr>\n",
              "      <th>0</th>\n",
              "      <td>5.0</td>\n",
              "      <td>True</td>\n",
              "      <td>10 17, 2015</td>\n",
              "      <td>A1HP7NVNPFMA4N</td>\n",
              "      <td>0700026657</td>\n",
              "      <td>Ambrosia075</td>\n",
              "      <td>This game is a bit hard to get the hang of, bu...</td>\n",
              "      <td>but when you do it's great.</td>\n",
              "      <td>1445040000</td>\n",
              "      <td>NaN</td>\n",
              "      <td>NaN</td>\n",
              "      <td>NaN</td>\n",
              "    </tr>\n",
              "    <tr>\n",
              "      <th>1</th>\n",
              "      <td>4.0</td>\n",
              "      <td>False</td>\n",
              "      <td>07 27, 2015</td>\n",
              "      <td>A1JGAP0185YJI6</td>\n",
              "      <td>0700026657</td>\n",
              "      <td>travis</td>\n",
              "      <td>I played it a while but it was alright. The st...</td>\n",
              "      <td>But in spite of that it was fun, I liked it</td>\n",
              "      <td>1437955200</td>\n",
              "      <td>NaN</td>\n",
              "      <td>NaN</td>\n",
              "      <td>NaN</td>\n",
              "    </tr>\n",
              "    <tr>\n",
              "      <th>2</th>\n",
              "      <td>3.0</td>\n",
              "      <td>True</td>\n",
              "      <td>02 23, 2015</td>\n",
              "      <td>A1YJWEXHQBWK2B</td>\n",
              "      <td>0700026657</td>\n",
              "      <td>Vincent G. Mezera</td>\n",
              "      <td>ok game.</td>\n",
              "      <td>Three Stars</td>\n",
              "      <td>1424649600</td>\n",
              "      <td>NaN</td>\n",
              "      <td>NaN</td>\n",
              "      <td>NaN</td>\n",
              "    </tr>\n",
              "    <tr>\n",
              "      <th>3</th>\n",
              "      <td>2.0</td>\n",
              "      <td>True</td>\n",
              "      <td>02 20, 2015</td>\n",
              "      <td>A2204E1TH211HT</td>\n",
              "      <td>0700026657</td>\n",
              "      <td>Grandma KR</td>\n",
              "      <td>found the game a bit too complicated, not what...</td>\n",
              "      <td>Two Stars</td>\n",
              "      <td>1424390400</td>\n",
              "      <td>NaN</td>\n",
              "      <td>NaN</td>\n",
              "      <td>NaN</td>\n",
              "    </tr>\n",
              "    <tr>\n",
              "      <th>4</th>\n",
              "      <td>5.0</td>\n",
              "      <td>True</td>\n",
              "      <td>12 25, 2014</td>\n",
              "      <td>A2RF5B5H74JLPE</td>\n",
              "      <td>0700026657</td>\n",
              "      <td>jon</td>\n",
              "      <td>great game, I love it and have played it since...</td>\n",
              "      <td>love this game</td>\n",
              "      <td>1419465600</td>\n",
              "      <td>NaN</td>\n",
              "      <td>NaN</td>\n",
              "      <td>NaN</td>\n",
              "    </tr>\n",
              "  </tbody>\n",
              "</table>\n",
              "</div>\n",
              "    <div class=\"colab-df-buttons\">\n",
              "\n",
              "  <div class=\"colab-df-container\">\n",
              "    <button class=\"colab-df-convert\" onclick=\"convertToInteractive('df-3b908e8f-0da9-4603-a50a-c5c8d66d0ee7')\"\n",
              "            title=\"Convert this dataframe to an interactive table.\"\n",
              "            style=\"display:none;\">\n",
              "\n",
              "  <svg xmlns=\"http://www.w3.org/2000/svg\" height=\"24px\" viewBox=\"0 -960 960 960\">\n",
              "    <path d=\"M120-120v-720h720v720H120Zm60-500h600v-160H180v160Zm220 220h160v-160H400v160Zm0 220h160v-160H400v160ZM180-400h160v-160H180v160Zm440 0h160v-160H620v160ZM180-180h160v-160H180v160Zm440 0h160v-160H620v160Z\"/>\n",
              "  </svg>\n",
              "    </button>\n",
              "\n",
              "  <style>\n",
              "    .colab-df-container {\n",
              "      display:flex;\n",
              "      gap: 12px;\n",
              "    }\n",
              "\n",
              "    .colab-df-convert {\n",
              "      background-color: #E8F0FE;\n",
              "      border: none;\n",
              "      border-radius: 50%;\n",
              "      cursor: pointer;\n",
              "      display: none;\n",
              "      fill: #1967D2;\n",
              "      height: 32px;\n",
              "      padding: 0 0 0 0;\n",
              "      width: 32px;\n",
              "    }\n",
              "\n",
              "    .colab-df-convert:hover {\n",
              "      background-color: #E2EBFA;\n",
              "      box-shadow: 0px 1px 2px rgba(60, 64, 67, 0.3), 0px 1px 3px 1px rgba(60, 64, 67, 0.15);\n",
              "      fill: #174EA6;\n",
              "    }\n",
              "\n",
              "    .colab-df-buttons div {\n",
              "      margin-bottom: 4px;\n",
              "    }\n",
              "\n",
              "    [theme=dark] .colab-df-convert {\n",
              "      background-color: #3B4455;\n",
              "      fill: #D2E3FC;\n",
              "    }\n",
              "\n",
              "    [theme=dark] .colab-df-convert:hover {\n",
              "      background-color: #434B5C;\n",
              "      box-shadow: 0px 1px 3px 1px rgba(0, 0, 0, 0.15);\n",
              "      filter: drop-shadow(0px 1px 2px rgba(0, 0, 0, 0.3));\n",
              "      fill: #FFFFFF;\n",
              "    }\n",
              "  </style>\n",
              "\n",
              "    <script>\n",
              "      const buttonEl =\n",
              "        document.querySelector('#df-3b908e8f-0da9-4603-a50a-c5c8d66d0ee7 button.colab-df-convert');\n",
              "      buttonEl.style.display =\n",
              "        google.colab.kernel.accessAllowed ? 'block' : 'none';\n",
              "\n",
              "      async function convertToInteractive(key) {\n",
              "        const element = document.querySelector('#df-3b908e8f-0da9-4603-a50a-c5c8d66d0ee7');\n",
              "        const dataTable =\n",
              "          await google.colab.kernel.invokeFunction('convertToInteractive',\n",
              "                                                    [key], {});\n",
              "        if (!dataTable) return;\n",
              "\n",
              "        const docLinkHtml = 'Like what you see? Visit the ' +\n",
              "          '<a target=\"_blank\" href=https://colab.research.google.com/notebooks/data_table.ipynb>data table notebook</a>'\n",
              "          + ' to learn more about interactive tables.';\n",
              "        element.innerHTML = '';\n",
              "        dataTable['output_type'] = 'display_data';\n",
              "        await google.colab.output.renderOutput(dataTable, element);\n",
              "        const docLink = document.createElement('div');\n",
              "        docLink.innerHTML = docLinkHtml;\n",
              "        element.appendChild(docLink);\n",
              "      }\n",
              "    </script>\n",
              "  </div>\n",
              "\n",
              "\n",
              "<div id=\"df-fa1be9f6-2d7b-43fd-adc2-50b747e9349a\">\n",
              "  <button class=\"colab-df-quickchart\" onclick=\"quickchart('df-fa1be9f6-2d7b-43fd-adc2-50b747e9349a')\"\n",
              "            title=\"Suggest charts\"\n",
              "            style=\"display:none;\">\n",
              "\n",
              "<svg xmlns=\"http://www.w3.org/2000/svg\" height=\"24px\"viewBox=\"0 0 24 24\"\n",
              "     width=\"24px\">\n",
              "    <g>\n",
              "        <path d=\"M19 3H5c-1.1 0-2 .9-2 2v14c0 1.1.9 2 2 2h14c1.1 0 2-.9 2-2V5c0-1.1-.9-2-2-2zM9 17H7v-7h2v7zm4 0h-2V7h2v10zm4 0h-2v-4h2v4z\"/>\n",
              "    </g>\n",
              "</svg>\n",
              "  </button>\n",
              "\n",
              "<style>\n",
              "  .colab-df-quickchart {\n",
              "      --bg-color: #E8F0FE;\n",
              "      --fill-color: #1967D2;\n",
              "      --hover-bg-color: #E2EBFA;\n",
              "      --hover-fill-color: #174EA6;\n",
              "      --disabled-fill-color: #AAA;\n",
              "      --disabled-bg-color: #DDD;\n",
              "  }\n",
              "\n",
              "  [theme=dark] .colab-df-quickchart {\n",
              "      --bg-color: #3B4455;\n",
              "      --fill-color: #D2E3FC;\n",
              "      --hover-bg-color: #434B5C;\n",
              "      --hover-fill-color: #FFFFFF;\n",
              "      --disabled-bg-color: #3B4455;\n",
              "      --disabled-fill-color: #666;\n",
              "  }\n",
              "\n",
              "  .colab-df-quickchart {\n",
              "    background-color: var(--bg-color);\n",
              "    border: none;\n",
              "    border-radius: 50%;\n",
              "    cursor: pointer;\n",
              "    display: none;\n",
              "    fill: var(--fill-color);\n",
              "    height: 32px;\n",
              "    padding: 0;\n",
              "    width: 32px;\n",
              "  }\n",
              "\n",
              "  .colab-df-quickchart:hover {\n",
              "    background-color: var(--hover-bg-color);\n",
              "    box-shadow: 0 1px 2px rgba(60, 64, 67, 0.3), 0 1px 3px 1px rgba(60, 64, 67, 0.15);\n",
              "    fill: var(--button-hover-fill-color);\n",
              "  }\n",
              "\n",
              "  .colab-df-quickchart-complete:disabled,\n",
              "  .colab-df-quickchart-complete:disabled:hover {\n",
              "    background-color: var(--disabled-bg-color);\n",
              "    fill: var(--disabled-fill-color);\n",
              "    box-shadow: none;\n",
              "  }\n",
              "\n",
              "  .colab-df-spinner {\n",
              "    border: 2px solid var(--fill-color);\n",
              "    border-color: transparent;\n",
              "    border-bottom-color: var(--fill-color);\n",
              "    animation:\n",
              "      spin 1s steps(1) infinite;\n",
              "  }\n",
              "\n",
              "  @keyframes spin {\n",
              "    0% {\n",
              "      border-color: transparent;\n",
              "      border-bottom-color: var(--fill-color);\n",
              "      border-left-color: var(--fill-color);\n",
              "    }\n",
              "    20% {\n",
              "      border-color: transparent;\n",
              "      border-left-color: var(--fill-color);\n",
              "      border-top-color: var(--fill-color);\n",
              "    }\n",
              "    30% {\n",
              "      border-color: transparent;\n",
              "      border-left-color: var(--fill-color);\n",
              "      border-top-color: var(--fill-color);\n",
              "      border-right-color: var(--fill-color);\n",
              "    }\n",
              "    40% {\n",
              "      border-color: transparent;\n",
              "      border-right-color: var(--fill-color);\n",
              "      border-top-color: var(--fill-color);\n",
              "    }\n",
              "    60% {\n",
              "      border-color: transparent;\n",
              "      border-right-color: var(--fill-color);\n",
              "    }\n",
              "    80% {\n",
              "      border-color: transparent;\n",
              "      border-right-color: var(--fill-color);\n",
              "      border-bottom-color: var(--fill-color);\n",
              "    }\n",
              "    90% {\n",
              "      border-color: transparent;\n",
              "      border-bottom-color: var(--fill-color);\n",
              "    }\n",
              "  }\n",
              "</style>\n",
              "\n",
              "  <script>\n",
              "    async function quickchart(key) {\n",
              "      const quickchartButtonEl =\n",
              "        document.querySelector('#' + key + ' button');\n",
              "      quickchartButtonEl.disabled = true;  // To prevent multiple clicks.\n",
              "      quickchartButtonEl.classList.add('colab-df-spinner');\n",
              "      try {\n",
              "        const charts = await google.colab.kernel.invokeFunction(\n",
              "            'suggestCharts', [key], {});\n",
              "      } catch (error) {\n",
              "        console.error('Error during call to suggestCharts:', error);\n",
              "      }\n",
              "      quickchartButtonEl.classList.remove('colab-df-spinner');\n",
              "      quickchartButtonEl.classList.add('colab-df-quickchart-complete');\n",
              "    }\n",
              "    (() => {\n",
              "      let quickchartButtonEl =\n",
              "        document.querySelector('#df-fa1be9f6-2d7b-43fd-adc2-50b747e9349a button');\n",
              "      quickchartButtonEl.style.display =\n",
              "        google.colab.kernel.accessAllowed ? 'block' : 'none';\n",
              "    })();\n",
              "  </script>\n",
              "</div>\n",
              "\n",
              "    </div>\n",
              "  </div>\n"
            ],
            "application/vnd.google.colaboratory.intrinsic+json": {
              "type": "dataframe",
              "variable_name": "init_df"
            }
          },
          "metadata": {},
          "execution_count": 3
        }
      ],
      "source": [
        "init_df.head()"
      ]
    },
    {
      "cell_type": "markdown",
      "metadata": {
        "id": "nTuEI0kmH3Zm"
      },
      "source": [
        "### Dimensionality Reduction"
      ]
    },
    {
      "cell_type": "markdown",
      "metadata": {
        "id": "5Du-sp65H3Zm"
      },
      "source": [
        "This is a big dataset, and there are a number of columns I don't need. To keep operations faster I'm going to drop everything I don't need."
      ]
    },
    {
      "cell_type": "code",
      "execution_count": null,
      "metadata": {
        "colab": {
          "base_uri": "https://localhost:8080/",
          "height": 206
        },
        "id": "SsGntGwPH3Zm",
        "outputId": "109b2963-c9ea-4aec-b346-7eb5d9e1d947"
      },
      "outputs": [
        {
          "output_type": "execute_result",
          "data": {
            "text/plain": [
              "   overall                                         reviewText\n",
              "0      5.0  This game is a bit hard to get the hang of, bu...\n",
              "1      4.0  I played it a while but it was alright. The st...\n",
              "2      3.0                                           ok game.\n",
              "3      2.0  found the game a bit too complicated, not what...\n",
              "4      5.0  great game, I love it and have played it since..."
            ],
            "text/html": [
              "\n",
              "  <div id=\"df-7f9a5734-598d-4bb8-9c25-9a5b3aaab8c8\" class=\"colab-df-container\">\n",
              "    <div>\n",
              "<style scoped>\n",
              "    .dataframe tbody tr th:only-of-type {\n",
              "        vertical-align: middle;\n",
              "    }\n",
              "\n",
              "    .dataframe tbody tr th {\n",
              "        vertical-align: top;\n",
              "    }\n",
              "\n",
              "    .dataframe thead th {\n",
              "        text-align: right;\n",
              "    }\n",
              "</style>\n",
              "<table border=\"1\" class=\"dataframe\">\n",
              "  <thead>\n",
              "    <tr style=\"text-align: right;\">\n",
              "      <th></th>\n",
              "      <th>overall</th>\n",
              "      <th>reviewText</th>\n",
              "    </tr>\n",
              "  </thead>\n",
              "  <tbody>\n",
              "    <tr>\n",
              "      <th>0</th>\n",
              "      <td>5.0</td>\n",
              "      <td>This game is a bit hard to get the hang of, bu...</td>\n",
              "    </tr>\n",
              "    <tr>\n",
              "      <th>1</th>\n",
              "      <td>4.0</td>\n",
              "      <td>I played it a while but it was alright. The st...</td>\n",
              "    </tr>\n",
              "    <tr>\n",
              "      <th>2</th>\n",
              "      <td>3.0</td>\n",
              "      <td>ok game.</td>\n",
              "    </tr>\n",
              "    <tr>\n",
              "      <th>3</th>\n",
              "      <td>2.0</td>\n",
              "      <td>found the game a bit too complicated, not what...</td>\n",
              "    </tr>\n",
              "    <tr>\n",
              "      <th>4</th>\n",
              "      <td>5.0</td>\n",
              "      <td>great game, I love it and have played it since...</td>\n",
              "    </tr>\n",
              "  </tbody>\n",
              "</table>\n",
              "</div>\n",
              "    <div class=\"colab-df-buttons\">\n",
              "\n",
              "  <div class=\"colab-df-container\">\n",
              "    <button class=\"colab-df-convert\" onclick=\"convertToInteractive('df-7f9a5734-598d-4bb8-9c25-9a5b3aaab8c8')\"\n",
              "            title=\"Convert this dataframe to an interactive table.\"\n",
              "            style=\"display:none;\">\n",
              "\n",
              "  <svg xmlns=\"http://www.w3.org/2000/svg\" height=\"24px\" viewBox=\"0 -960 960 960\">\n",
              "    <path d=\"M120-120v-720h720v720H120Zm60-500h600v-160H180v160Zm220 220h160v-160H400v160Zm0 220h160v-160H400v160ZM180-400h160v-160H180v160Zm440 0h160v-160H620v160ZM180-180h160v-160H180v160Zm440 0h160v-160H620v160Z\"/>\n",
              "  </svg>\n",
              "    </button>\n",
              "\n",
              "  <style>\n",
              "    .colab-df-container {\n",
              "      display:flex;\n",
              "      gap: 12px;\n",
              "    }\n",
              "\n",
              "    .colab-df-convert {\n",
              "      background-color: #E8F0FE;\n",
              "      border: none;\n",
              "      border-radius: 50%;\n",
              "      cursor: pointer;\n",
              "      display: none;\n",
              "      fill: #1967D2;\n",
              "      height: 32px;\n",
              "      padding: 0 0 0 0;\n",
              "      width: 32px;\n",
              "    }\n",
              "\n",
              "    .colab-df-convert:hover {\n",
              "      background-color: #E2EBFA;\n",
              "      box-shadow: 0px 1px 2px rgba(60, 64, 67, 0.3), 0px 1px 3px 1px rgba(60, 64, 67, 0.15);\n",
              "      fill: #174EA6;\n",
              "    }\n",
              "\n",
              "    .colab-df-buttons div {\n",
              "      margin-bottom: 4px;\n",
              "    }\n",
              "\n",
              "    [theme=dark] .colab-df-convert {\n",
              "      background-color: #3B4455;\n",
              "      fill: #D2E3FC;\n",
              "    }\n",
              "\n",
              "    [theme=dark] .colab-df-convert:hover {\n",
              "      background-color: #434B5C;\n",
              "      box-shadow: 0px 1px 3px 1px rgba(0, 0, 0, 0.15);\n",
              "      filter: drop-shadow(0px 1px 2px rgba(0, 0, 0, 0.3));\n",
              "      fill: #FFFFFF;\n",
              "    }\n",
              "  </style>\n",
              "\n",
              "    <script>\n",
              "      const buttonEl =\n",
              "        document.querySelector('#df-7f9a5734-598d-4bb8-9c25-9a5b3aaab8c8 button.colab-df-convert');\n",
              "      buttonEl.style.display =\n",
              "        google.colab.kernel.accessAllowed ? 'block' : 'none';\n",
              "\n",
              "      async function convertToInteractive(key) {\n",
              "        const element = document.querySelector('#df-7f9a5734-598d-4bb8-9c25-9a5b3aaab8c8');\n",
              "        const dataTable =\n",
              "          await google.colab.kernel.invokeFunction('convertToInteractive',\n",
              "                                                    [key], {});\n",
              "        if (!dataTable) return;\n",
              "\n",
              "        const docLinkHtml = 'Like what you see? Visit the ' +\n",
              "          '<a target=\"_blank\" href=https://colab.research.google.com/notebooks/data_table.ipynb>data table notebook</a>'\n",
              "          + ' to learn more about interactive tables.';\n",
              "        element.innerHTML = '';\n",
              "        dataTable['output_type'] = 'display_data';\n",
              "        await google.colab.output.renderOutput(dataTable, element);\n",
              "        const docLink = document.createElement('div');\n",
              "        docLink.innerHTML = docLinkHtml;\n",
              "        element.appendChild(docLink);\n",
              "      }\n",
              "    </script>\n",
              "  </div>\n",
              "\n",
              "\n",
              "<div id=\"df-5a9ee077-29a8-4bce-9309-87e2ecc1fae8\">\n",
              "  <button class=\"colab-df-quickchart\" onclick=\"quickchart('df-5a9ee077-29a8-4bce-9309-87e2ecc1fae8')\"\n",
              "            title=\"Suggest charts\"\n",
              "            style=\"display:none;\">\n",
              "\n",
              "<svg xmlns=\"http://www.w3.org/2000/svg\" height=\"24px\"viewBox=\"0 0 24 24\"\n",
              "     width=\"24px\">\n",
              "    <g>\n",
              "        <path d=\"M19 3H5c-1.1 0-2 .9-2 2v14c0 1.1.9 2 2 2h14c1.1 0 2-.9 2-2V5c0-1.1-.9-2-2-2zM9 17H7v-7h2v7zm4 0h-2V7h2v10zm4 0h-2v-4h2v4z\"/>\n",
              "    </g>\n",
              "</svg>\n",
              "  </button>\n",
              "\n",
              "<style>\n",
              "  .colab-df-quickchart {\n",
              "      --bg-color: #E8F0FE;\n",
              "      --fill-color: #1967D2;\n",
              "      --hover-bg-color: #E2EBFA;\n",
              "      --hover-fill-color: #174EA6;\n",
              "      --disabled-fill-color: #AAA;\n",
              "      --disabled-bg-color: #DDD;\n",
              "  }\n",
              "\n",
              "  [theme=dark] .colab-df-quickchart {\n",
              "      --bg-color: #3B4455;\n",
              "      --fill-color: #D2E3FC;\n",
              "      --hover-bg-color: #434B5C;\n",
              "      --hover-fill-color: #FFFFFF;\n",
              "      --disabled-bg-color: #3B4455;\n",
              "      --disabled-fill-color: #666;\n",
              "  }\n",
              "\n",
              "  .colab-df-quickchart {\n",
              "    background-color: var(--bg-color);\n",
              "    border: none;\n",
              "    border-radius: 50%;\n",
              "    cursor: pointer;\n",
              "    display: none;\n",
              "    fill: var(--fill-color);\n",
              "    height: 32px;\n",
              "    padding: 0;\n",
              "    width: 32px;\n",
              "  }\n",
              "\n",
              "  .colab-df-quickchart:hover {\n",
              "    background-color: var(--hover-bg-color);\n",
              "    box-shadow: 0 1px 2px rgba(60, 64, 67, 0.3), 0 1px 3px 1px rgba(60, 64, 67, 0.15);\n",
              "    fill: var(--button-hover-fill-color);\n",
              "  }\n",
              "\n",
              "  .colab-df-quickchart-complete:disabled,\n",
              "  .colab-df-quickchart-complete:disabled:hover {\n",
              "    background-color: var(--disabled-bg-color);\n",
              "    fill: var(--disabled-fill-color);\n",
              "    box-shadow: none;\n",
              "  }\n",
              "\n",
              "  .colab-df-spinner {\n",
              "    border: 2px solid var(--fill-color);\n",
              "    border-color: transparent;\n",
              "    border-bottom-color: var(--fill-color);\n",
              "    animation:\n",
              "      spin 1s steps(1) infinite;\n",
              "  }\n",
              "\n",
              "  @keyframes spin {\n",
              "    0% {\n",
              "      border-color: transparent;\n",
              "      border-bottom-color: var(--fill-color);\n",
              "      border-left-color: var(--fill-color);\n",
              "    }\n",
              "    20% {\n",
              "      border-color: transparent;\n",
              "      border-left-color: var(--fill-color);\n",
              "      border-top-color: var(--fill-color);\n",
              "    }\n",
              "    30% {\n",
              "      border-color: transparent;\n",
              "      border-left-color: var(--fill-color);\n",
              "      border-top-color: var(--fill-color);\n",
              "      border-right-color: var(--fill-color);\n",
              "    }\n",
              "    40% {\n",
              "      border-color: transparent;\n",
              "      border-right-color: var(--fill-color);\n",
              "      border-top-color: var(--fill-color);\n",
              "    }\n",
              "    60% {\n",
              "      border-color: transparent;\n",
              "      border-right-color: var(--fill-color);\n",
              "    }\n",
              "    80% {\n",
              "      border-color: transparent;\n",
              "      border-right-color: var(--fill-color);\n",
              "      border-bottom-color: var(--fill-color);\n",
              "    }\n",
              "    90% {\n",
              "      border-color: transparent;\n",
              "      border-bottom-color: var(--fill-color);\n",
              "    }\n",
              "  }\n",
              "</style>\n",
              "\n",
              "  <script>\n",
              "    async function quickchart(key) {\n",
              "      const quickchartButtonEl =\n",
              "        document.querySelector('#' + key + ' button');\n",
              "      quickchartButtonEl.disabled = true;  // To prevent multiple clicks.\n",
              "      quickchartButtonEl.classList.add('colab-df-spinner');\n",
              "      try {\n",
              "        const charts = await google.colab.kernel.invokeFunction(\n",
              "            'suggestCharts', [key], {});\n",
              "      } catch (error) {\n",
              "        console.error('Error during call to suggestCharts:', error);\n",
              "      }\n",
              "      quickchartButtonEl.classList.remove('colab-df-spinner');\n",
              "      quickchartButtonEl.classList.add('colab-df-quickchart-complete');\n",
              "    }\n",
              "    (() => {\n",
              "      let quickchartButtonEl =\n",
              "        document.querySelector('#df-5a9ee077-29a8-4bce-9309-87e2ecc1fae8 button');\n",
              "      quickchartButtonEl.style.display =\n",
              "        google.colab.kernel.accessAllowed ? 'block' : 'none';\n",
              "    })();\n",
              "  </script>\n",
              "</div>\n",
              "\n",
              "    </div>\n",
              "  </div>\n"
            ],
            "application/vnd.google.colaboratory.intrinsic+json": {
              "type": "dataframe",
              "variable_name": "df"
            }
          },
          "metadata": {},
          "execution_count": 4
        }
      ],
      "source": [
        "features_to_keep = ['overall','reviewText']\n",
        "features_to_drop = [feature for feature in init_df.columns if feature not in features_to_keep]\n",
        "df = init_df.drop(features_to_drop,axis=1)\n",
        "\n",
        "del init_df # memory management\n",
        "df.head()"
      ]
    },
    {
      "cell_type": "code",
      "execution_count": null,
      "metadata": {
        "colab": {
          "base_uri": "https://localhost:8080/"
        },
        "id": "joZi_rj9H3Zm",
        "outputId": "66936dc1-7982-446b-aad3-21a92f590185"
      },
      "outputs": [
        {
          "output_type": "stream",
          "name": "stdout",
          "text": [
            "<class 'pandas.core.frame.DataFrame'>\n",
            "RangeIndex: 49758 entries, 0 to 49757\n",
            "Data columns (total 2 columns):\n",
            " #   Column      Non-Null Count  Dtype  \n",
            "---  ------      --------------  -----  \n",
            " 0   overall     49758 non-null  float64\n",
            " 1   reviewText  49741 non-null  object \n",
            "dtypes: float64(1), object(1)\n",
            "memory usage: 777.6+ KB\n"
          ]
        }
      ],
      "source": [
        "# df = df.sample(frac=0.01,replace=False) # local\n",
        "df = df.sample(frac=0.1,replace=False) # local or colab\n",
        "\n",
        "# Colab could run 5% of the data but it completely maxed out the 51 GB of RAM\n",
        "# df = df.sample(frac=0.05,replace=False) # colab\n",
        "df.reset_index(drop=True,inplace=True)\n",
        "df.info()"
      ]
    },
    {
      "cell_type": "markdown",
      "metadata": {
        "id": "EXlbq0HWH3Zm"
      },
      "source": [
        "I'm also going to remove any stop words from the review text. Stop words are words like \"a,” “the,” “is,” “are,\" and don't add a lot of contextual value. So they're a good way to reduce the size of the reviews. Before I can do that I need to make sure there aren't any unrecognized characters so I'll do some additional processing on the review text."
      ]
    },
    {
      "cell_type": "code",
      "execution_count": null,
      "metadata": {
        "colab": {
          "base_uri": "https://localhost:8080/"
        },
        "id": "2OkD6qlDH3Zn",
        "outputId": "a4f1d0f6-ec93-468d-fc88-7b424d691f09"
      },
      "outputs": [
        {
          "output_type": "stream",
          "name": "stdout",
          "text": [
            "<class 'pandas.core.frame.DataFrame'>\n",
            "RangeIndex: 49758 entries, 0 to 49757\n",
            "Data columns (total 3 columns):\n",
            " #   Column          Non-Null Count  Dtype  \n",
            "---  ------          --------------  -----  \n",
            " 0   overall         49758 non-null  float64\n",
            " 1   reviewText      49741 non-null  object \n",
            " 2   str_reviewText  49758 non-null  object \n",
            "dtypes: float64(1), object(2)\n",
            "memory usage: 1.1+ MB\n"
          ]
        }
      ],
      "source": [
        "# The text of this dataset was an object datatype and wouldn't process as strings\n",
        "# So I'll need to convert it to a string\n",
        "df['reviewText'] = df['reviewText'].str.strip()\n",
        "df['str_reviewText'] = df['reviewText'].astype(str)\n",
        "\n",
        "df.info()"
      ]
    },
    {
      "cell_type": "code",
      "execution_count": null,
      "metadata": {
        "colab": {
          "base_uri": "https://localhost:8080/"
        },
        "id": "sZtC6natH3Zn",
        "outputId": "994af2de-746e-4665-a51f-e08e53a536b6"
      },
      "outputs": [
        {
          "output_type": "stream",
          "name": "stderr",
          "text": [
            "[nltk_data] Downloading package punkt to /root/nltk_data...\n",
            "[nltk_data]   Unzipping tokenizers/punkt.zip.\n",
            "[nltk_data] Downloading package stopwords to /root/nltk_data...\n",
            "[nltk_data]   Unzipping corpora/stopwords.zip.\n"
          ]
        },
        {
          "output_type": "stream",
          "name": "stdout",
          "text": [
            "0                                                    great\n",
            "1                                                 Fun all.\n",
            "2        If buy actual Gamster flood light extremely ha...\n",
            "3                                   My son loves product!!\n",
            "4        Never saw guy stores. A LOT larger I expected....\n",
            "                               ...                        \n",
            "49753    Right fitted good cover Xbox prevent regular w...\n",
            "49754    Still getting used game, storyline quite hilar...\n",
            "49755    First 2 episodes boring...bottle searching wor...\n",
            "49756    I loved game .The best way play try get silent...\n",
            "49757    This fun game. My kids played Skylanders games...\n",
            "Name: str_reviewText, Length: 49758, dtype: object\n",
            "CPU times: user 2.81 s, sys: 4.02 s, total: 6.83 s\n",
            "Wall time: 3.39 s\n"
          ]
        }
      ],
      "source": [
        "%%time\n",
        "# Use NLTK to remove stopwords\n",
        "import nltk\n",
        "# import re\n",
        "nltk.download('punkt')\n",
        "nltk.download('stopwords')\n",
        "from nltk.corpus import stopwords\n",
        "\n",
        "stop_words = set(stopwords.words(\"english\"))\n",
        "\n",
        "def remove_stop_words(review):\n",
        "    # no_tags = re.sub(pattern,'',tweet)\n",
        "    no_stop_words = [word for word in review.split() if word not in stop_words]\n",
        "    return ' '.join(no_stop_words)\n",
        "\n",
        "\n",
        "# Apply the pattern to remove those tags from tweets\n",
        "df['str_reviewText'] = df['str_reviewText'].apply(remove_stop_words)\n",
        "df['reviewText'].drop\n",
        "\n",
        "print(df['str_reviewText'])"
      ]
    },
    {
      "cell_type": "markdown",
      "metadata": {
        "id": "Rd20GEygH3Zn"
      },
      "source": [
        "Strangely, these don't all seem like electronics reviews...but for my purposes it really doesn't matter. Also, there's no obvious sentiment labels in the dataset. So I'm going to use the overall rating as my sentiments. I'll set up the following categories:\n",
        " -  0-2: Negative\n",
        " -  3: Neutral\n",
        " -  4-5: Positive\n",
        "\n",
        "After grouping, I'll plot the distributions using a pie chart to visually observe how many samples are in each group."
      ]
    },
    {
      "cell_type": "code",
      "execution_count": null,
      "metadata": {
        "colab": {
          "base_uri": "https://localhost:8080/",
          "height": 428
        },
        "id": "PbloInReH3Zn",
        "outputId": "6eecde19-bccd-4ee8-f572-4a951169f066"
      },
      "outputs": [
        {
          "output_type": "display_data",
          "data": {
            "text/plain": [
              "<Figure size 640x480 with 1 Axes>"
            ],
            "image/png": "[encoded data removed]"
          },
          "metadata": {}
        }
      ],
      "source": [
        "import matplotlib\n",
        "import matplotlib.pyplot as plt\n",
        "\n",
        "# Bracket the sentiments based on Overall value\n",
        "df['sentiment'] = pd.cut(df['overall'], [0,2,3,5], labels=['negative','neutral','positive'])\n",
        "\n",
        "# Group the data by sentiment for purposes of charting\n",
        "sentiments = df.groupby(['sentiment'])\n",
        "pie_data = sentiments.size()\n",
        "\n",
        "# Set the pie chart parameters\n",
        "plt.pie(pie_data, labels=pie_data.index, autopct='%1.1f%%', labeldistance=1.1, startangle=90)\n",
        "\n",
        "plt.title(\"Quantity of Each Sentiment\")\n",
        "plt.axis('equal')  # Equal aspect ratio ensures that pie is drawn as a circle.\n",
        "\n",
        "plt.show()\n",
        "\n",
        "# Get the exact count of each value to provide further information\n",
        "df.value_counts(['sentiment'])\n",
        "\n",
        "del sentiments # memory management"
      ]
    },
    {
      "cell_type": "markdown",
      "metadata": {
        "id": "bh1KREOPH3Zn"
      },
      "source": [
        "There is a significant misbalance of my classes, so I'm going to need to make sure I stratify the data so that the data is well represented. Before I do that, I'll tokenize the reviews and and prepare the data for splitting by narrowing down to fields of interest.\n",
        "\n",
        "To get started with tokenizing, I need to know the max length I'll encounter in the reviews."
      ]
    },
    {
      "cell_type": "code",
      "execution_count": null,
      "metadata": {
        "colab": {
          "base_uri": "https://localhost:8080/"
        },
        "id": "uhGv6ut4H3Zn",
        "outputId": "38edc3e7-8cb7-47ea-8e57-c72b90ebb00e"
      },
      "outputs": [
        {
          "output_type": "stream",
          "name": "stdout",
          "text": [
            "The longest review is 2974 words\n"
          ]
        }
      ],
      "source": [
        "# Determine longest review length\n",
        "# print(f\"The longest review is {len(max(df['str_reviewText'], key=len))} characters\")\n",
        "print(f\"The longest review is {max(len(review.split()) for review in df['str_reviewText'])} words\")\n"
      ]
    },
    {
      "cell_type": "markdown",
      "metadata": {
        "id": "wgxadxMCH3Zo"
      },
      "source": [
        "To the extent possible, I'm going to keep my initial model and my BERT model on equal footing. The BERT model has a token limit of 512. But, I quickly learned that trying to run the max through BERT was very time consuming on my hardware. Therefore I'll limit my max length to be 50 for my models."
      ]
    },
    {
      "cell_type": "code",
      "execution_count": null,
      "metadata": {
        "id": "jo_BH8ZlH3Zo",
        "colab": {
          "base_uri": "https://localhost:8080/"
        },
        "outputId": "929dc1d3-ea47-4d3f-f34d-4659a308dc55"
      },
      "outputs": [
        {
          "output_type": "stream",
          "name": "stdout",
          "text": [
            "Found 68001 unique tokens. Distilled to 68001 top words.\n",
            "Shape of data tensor: (49758, 3000)\n",
            "Shape of label tensor: (49758,)\n",
            "68001\n",
            "CPU times: user 7.71 s, sys: 295 ms, total: 8.01 s\n",
            "Wall time: 7.98 s\n"
          ]
        }
      ],
      "source": [
        "%%time\n",
        "# Source: cs7324 lab 7\n",
        "from tensorflow.keras.preprocessing.text import Tokenizer\n",
        "from tensorflow.keras.preprocessing.sequence import pad_sequences\n",
        "import numpy as np\n",
        "\n",
        "NUM_TOP_WORDS = None # use entire vocabulary!\n",
        "MAX_REVIEW_LEN = 3000 # limit to 100 words\n",
        "\n",
        "#tokenize the text\n",
        "tokenizer = Tokenizer(num_words=NUM_TOP_WORDS)\n",
        "tokenizer.fit_on_texts(df['str_reviewText'])\n",
        "# save as sequences with integers replacing words\n",
        "sequences = tokenizer.texts_to_sequences(df['str_reviewText'])\n",
        "\n",
        "word_index = tokenizer.word_index\n",
        "NUM_TOP_WORDS = len(word_index) if NUM_TOP_WORDS==None else NUM_TOP_WORDS\n",
        "top_words = min((len(word_index),NUM_TOP_WORDS))\n",
        "print('Found %s unique tokens. Distilled to %d top words.' % (len(word_index),top_words))\n",
        "\n",
        "X = pad_sequences(sequences, maxlen=MAX_REVIEW_LEN)\n",
        "y = df.sentiment.values\n",
        "print('Shape of data tensor:', X.shape)\n",
        "print('Shape of label tensor:', y.shape)\n",
        "print(np.max(X))\n"
      ]
    },
    {
      "cell_type": "code",
      "execution_count": null,
      "metadata": {
        "id": "D9w4zUpmH3Zo"
      },
      "outputs": [],
      "source": [
        "from sklearn.model_selection import train_test_split\n",
        "X_train, X_test, y_train, y_test = train_test_split(X, y, train_size = 0.8, test_size=0.2, stratify=y)"
      ]
    },
    {
      "cell_type": "code",
      "execution_count": null,
      "metadata": {
        "id": "ZEPsnKT3qEB4",
        "colab": {
          "base_uri": "https://localhost:8080/"
        },
        "outputId": "f96999f7-1b5e-455c-932f-095c66bbe23c"
      },
      "outputs": [
        {
          "output_type": "stream",
          "name": "stdout",
          "text": [
            "Shape of data tensor train: (39806, 3000)\n",
            "Shape of data tensor for test: (9952, 3000)\n",
            "Shape of label tensor train: (39806, 3)\n",
            "Shape of label tensor for test: (9952, 3)\n"
          ]
        }
      ],
      "source": [
        "# Source: in class lecture notebook cs7324 13a\n",
        "from sklearn.preprocessing import LabelEncoder\n",
        "from tensorflow import keras\n",
        "\n",
        "# Use label encoder to get my data into integer form\n",
        "label_encoder = LabelEncoder()\n",
        "y_enc_train = label_encoder.fit_transform(y_train)\n",
        "y_enc_test = label_encoder.fit_transform(y_test)\n",
        "\n",
        "# One-hot encode the encoded labels\n",
        "y_train_ohe = keras.utils.to_categorical(y_enc_train)\n",
        "y_test_ohe = keras.utils.to_categorical(y_enc_test)\n",
        "\n",
        "# Check the shape of the data and labels to ensure they are correct\n",
        "print('Shape of data tensor train:', X_train.shape)\n",
        "print('Shape of data tensor for test:', X_test.shape)\n",
        "print('Shape of label tensor train:', y_train_ohe.shape)\n",
        "print('Shape of label tensor for test:', y_test_ohe.shape)"
      ]
    },
    {
      "cell_type": "markdown",
      "metadata": {
        "id": "0lY8WnXVH3Zo"
      },
      "source": []
    },
    {
      "cell_type": "markdown",
      "metadata": {
        "id": "2prjLIV3H3Zo"
      },
      "source": []
    },
    {
      "cell_type": "markdown",
      "metadata": {
        "id": "2MhPiRGYH3Zp"
      },
      "source": [
        "**explain how you performed this operation and why you think it is reasonable to split this particular dataset this way**"
      ]
    },
    {
      "cell_type": "markdown",
      "metadata": {
        "id": "D6Fe0vVKH3Zp"
      },
      "source": [
        "**For multi-task datasets, be sure to explain if it is appropriate to stratify within each task.**"
      ]
    },
    {
      "cell_type": "markdown",
      "metadata": {
        "id": "i90fmHulH3Zp"
      },
      "source": [
        "**If the dataset is already split for you, explain how the split was achieved and how it is stratified.**"
      ]
    },
    {
      "cell_type": "markdown",
      "metadata": {
        "id": "iWftAZDfH3Zp"
      },
      "source": [
        "## [2.0 points] Train a model from scratch to perform the classification task (this does NOT need to be a transformer)."
      ]
    },
    {
      "cell_type": "markdown",
      "metadata": {
        "id": "kfsrVV76H3Zp"
      },
      "source": [
        "**Verify the model converges (even if the model is overfit).**"
      ]
    },
    {
      "cell_type": "markdown",
      "metadata": {
        "id": "T5gceFPGH3Zq"
      },
      "source": [
        "#### Convolutional Neural Network 1 (CNN-1)\n",
        "\n",
        "The first CNN I'll run will consist of 64 filters with a width of 5. I'm changing the filter size from the in-class example because my dataset is quite a bit smaller. So my thought being I won't need so many filters to get good results."
      ]
    },
    {
      "cell_type": "markdown",
      "metadata": {
        "id": "sTvq6IlJaFKy"
      },
      "source": []
    },
    {
      "cell_type": "code",
      "execution_count": null,
      "metadata": {
        "id": "ctQgoTDHaEkN",
        "colab": {
          "base_uri": "https://localhost:8080/"
        },
        "outputId": "35d968cf-8d08-4d73-c9f9-cc49764f555d"
      },
      "outputs": [
        {
          "output_type": "stream",
          "name": "stdout",
          "text": [
            "Found 400000 word vectors.\n",
            "Embedding Shape: (68002, 300) \n",
            " Total words found: 42934 \n",
            " Percentage: 63.136378341813476\n",
            "CPU times: user 24.1 s, sys: 1.2 s, total: 25.3 s\n",
            "Wall time: 25.5 s\n"
          ]
        }
      ],
      "source": [
        "%%time\n",
        "# Source: Modified from in-class lecture notebook 13a\n",
        "EMBED_SIZE = 300\n",
        "# the embed size should match the file you load glove from\n",
        "embeddings_index = {}\n",
        "# f = open(r'../Data_sources/glove.6B.300d.txt') # local\n",
        "f = open(r'/content/drive/MyDrive/Colab Notebooks/Data_sources/glove.6B.300d.txt') # colab\n",
        "# save key/array pairs of the embeddings\n",
        "#  the key of the dictionary is the word, the array is the embedding\n",
        "for line in f:\n",
        "    values = line.split()\n",
        "    word = values[0]\n",
        "    coefs = np.asarray(values[1:], dtype='float32')\n",
        "    embeddings_index[word] = coefs\n",
        "f.close()\n",
        "\n",
        "print('Found %s word vectors.' % len(embeddings_index))\n",
        "\n",
        "# now fill in the matrix, using the ordering from the\n",
        "#  keras word tokenizer from before\n",
        "found_words = 0\n",
        "embedding_matrix = np.zeros((len(word_index) + 1, EMBED_SIZE))\n",
        "for word, i in word_index.items():\n",
        "    embedding_vector = embeddings_index.get(word)\n",
        "    if embedding_vector is not None:\n",
        "        # words not found in embedding index will be ALL-ZEROS\n",
        "        embedding_matrix[i] = embedding_vector\n",
        "        found_words = found_words+1\n",
        "\n",
        "print(\"Embedding Shape:\",embedding_matrix.shape, \"\\n\",\n",
        "    \"Total words found:\",found_words, \"\\n\",\n",
        "    \"Percentage:\",100*found_words/embedding_matrix.shape[0])"
      ]
    },
    {
      "cell_type": "code",
      "execution_count": null,
      "metadata": {
        "id": "bRd_DzxwjUVU"
      },
      "outputs": [],
      "source": [
        "# Source: Modified from in-class notebook 13a\n",
        "# save this embedding now\n",
        "from tensorflow.keras.layers import Embedding, Input, Concatenate\n",
        "embedding_layer = Embedding(len(word_index) + 1,\n",
        "                            EMBED_SIZE,\n",
        "                            weights=[embedding_matrix],# here is the embedding getting saved\n",
        "                            input_length=MAX_REVIEW_LEN,\n",
        "                            trainable=False)"
      ]
    },
    {
      "cell_type": "code",
      "execution_count": null,
      "metadata": {
        "id": "nox7TH_PZm5G"
      },
      "outputs": [],
      "source": [
        "NUM_CLASSES = 3 # positive, negative, neutral\n",
        "EMBED_SIZE = 300 # same size as loaded from GLOVE\n",
        "\n",
        "from tensorflow.keras.metrics import Precision\n",
        "from tensorflow.keras.models import Model\n",
        "from tensorflow.keras.layers import Conv1D, MaxPooling1D, GlobalAveragePooling1D\n",
        "from tensorflow.keras.layers import Flatten, Dense, Dropout\n",
        "from tensorflow.keras.layers import Subtract"
      ]
    },
    {
      "cell_type": "code",
      "source": [
        "from keras.callbacks import CSVLogger\n",
        "\n",
        "csv_logger_cnn = CSVLogger('/content/drive/MyDrive/Colab Notebooks/cnn_training.csv')"
      ],
      "metadata": {
        "id": "u7IRIKKyFmP3"
      },
      "execution_count": null,
      "outputs": []
    },
    {
      "cell_type": "code",
      "execution_count": null,
      "metadata": {
        "colab": {
          "base_uri": "https://localhost:8080/"
        },
        "id": "1jr8K0dZmfRz",
        "outputId": "7b3d4bbd-bca7-46c6-a64c-bdac35587ce7"
      },
      "outputs": [
        {
          "output_type": "stream",
          "name": "stdout",
          "text": [
            "Model: \"model\"\n",
            "__________________________________________________________________________________________________\n",
            " Layer (type)                Output Shape                 Param #   Connected to                  \n",
            "==================================================================================================\n",
            " input_1 (InputLayer)        [(None, 3000)]               0         []                            \n",
            "                                                                                                  \n",
            " embedding (Embedding)       (None, 3000, 300)            2048220   ['input_1[0][0]']             \n",
            "                                                          0                                       \n",
            "                                                                                                  \n",
            " conv1d (Conv1D)             (None, 2996, 64)             96064     ['embedding[0][0]']           \n",
            "                                                                                                  \n",
            " max_pooling1d (MaxPooling1  (None, 599, 64)              0         ['conv1d[0][0]']              \n",
            " D)                                                                                               \n",
            "                                                                                                  \n",
            " dropout (Dropout)           (None, 599, 64)              0         ['max_pooling1d[0][0]']       \n",
            "                                                                                                  \n",
            " conv1d_1 (Conv1D)           (None, 595, 64)              20544     ['dropout[0][0]']             \n",
            "                                                                                                  \n",
            " max_pooling1d_1 (MaxPoolin  (None, 119, 64)              0         ['conv1d_1[0][0]']            \n",
            " g1D)                                                                                             \n",
            "                                                                                                  \n",
            " dropout_1 (Dropout)         (None, 119, 64)              0         ['max_pooling1d_1[0][0]']     \n",
            "                                                                                                  \n",
            " conv1d_2 (Conv1D)           (None, 115, 32)              10272     ['dropout_1[0][0]']           \n",
            "                                                                                                  \n",
            " global_average_pooling1d (  (None, 32)                   0         ['conv1d_2[0][0]']            \n",
            " GlobalAveragePooling1D)                                                                          \n",
            "                                                                                                  \n",
            " subtract (Subtract)         (None, 115, 32)              0         ['conv1d_2[0][0]',            \n",
            "                                                                     'global_average_pooling1d[0][\n",
            "                                                                    0]']                          \n",
            "                                                                                                  \n",
            " tf.math.pow (TFOpLambda)    (None, 115, 32)              0         ['subtract[0][0]']            \n",
            "                                                                                                  \n",
            " global_average_pooling1d_1  (None, 32)                   0         ['tf.math.pow[0][0]']         \n",
            "  (GlobalAveragePooling1D)                                                                        \n",
            "                                                                                                  \n",
            " concat_1 (Concatenate)      (None, 64)                   0         ['global_average_pooling1d[0][\n",
            "                                                                    0]',                          \n",
            "                                                                     'global_average_pooling1d_1[0\n",
            "                                                                    ][0]']                        \n",
            "                                                                                                  \n",
            " dense (Dense)               (None, 16)                   1040      ['concat_1[0][0]']            \n",
            "                                                                                                  \n",
            " dropout_2 (Dropout)         (None, 16)                   0         ['dense[0][0]']               \n",
            "                                                                                                  \n",
            " dense_1 (Dense)             (None, 3)                    51        ['dropout_2[0][0]']           \n",
            "                                                                                                  \n",
            "==================================================================================================\n",
            "Total params: 20610171 (78.62 MB)\n",
            "Trainable params: 127971 (499.89 KB)\n",
            "Non-trainable params: 20482200 (78.13 MB)\n",
            "__________________________________________________________________________________________________\n",
            "None\n",
            "Epoch 1/7\n",
            "311/311 [==============================] - 16s 32ms/step - loss: 0.6765 - precision: 0.7971 - val_loss: 0.5594 - val_precision: 0.8478\n",
            "Epoch 2/7\n",
            "311/311 [==============================] - 8s 27ms/step - loss: 0.5502 - precision: 0.8433 - val_loss: 0.5059 - val_precision: 0.8714\n",
            "Epoch 3/7\n",
            "311/311 [==============================] - 9s 27ms/step - loss: 0.4935 - precision: 0.8632 - val_loss: 0.4997 - val_precision: 0.8506\n",
            "Epoch 4/7\n",
            "311/311 [==============================] - 8s 27ms/step - loss: 0.4629 - precision: 0.8760 - val_loss: 0.4651 - val_precision: 0.8732\n",
            "Epoch 5/7\n",
            "311/311 [==============================] - 8s 27ms/step - loss: 0.4338 - precision: 0.8828 - val_loss: 0.4738 - val_precision: 0.8681\n",
            "Epoch 6/7\n",
            "311/311 [==============================] - 8s 27ms/step - loss: 0.4046 - precision: 0.8929 - val_loss: 0.4636 - val_precision: 0.8766\n",
            "Epoch 7/7\n",
            "311/311 [==============================] - 8s 27ms/step - loss: 0.3799 - precision: 0.8998 - val_loss: 0.4715 - val_precision: 0.8713\n"
          ]
        }
      ],
      "source": [
        "# Source: Modified from in class notebook 13a\n",
        "from tensorflow.keras.metrics import Precision\n",
        "from tensorflow.keras.models import Model\n",
        "from tensorflow.keras.layers import Conv1D, MaxPooling1D, GlobalAveragePooling1D\n",
        "from tensorflow.keras.layers import Flatten, Dense, Dropout\n",
        "from tensorflow.keras.layers import Subtract\n",
        "\n",
        "\n",
        "# EMBED_SIZE = 300  # same size as loaded from GLOVE\n",
        "sequence_input = Input(shape=(MAX_REVIEW_LEN,), dtype='int32')\n",
        "# starting size: 1000\n",
        "embedded_sequences = embedding_layer(sequence_input) # from previous embedding\n",
        "x = Conv1D(64, 5, activation='relu',\n",
        "        kernel_initializer='he_uniform')(embedded_sequences)\n",
        "\n",
        "# after conv, size becomes: 1000-4=996\n",
        "x = MaxPooling1D(5)(x)# after max pool, 996/5 = 199\n",
        "x = Dropout(0.2)(x)\n",
        "x = Conv1D(64, 5, activation='relu',\n",
        "        kernel_initializer='he_uniform')(x)\n",
        "\n",
        "# new size is 195\n",
        "x = MaxPooling1D(5)(x) # after max pool, size is 195/5 = 39\n",
        "x = Dropout(0.2)(x)\n",
        "x = Conv1D(32, 5, activation='relu',\n",
        "        kernel_initializer='he_uniform')(x)\n",
        "\n",
        "# after convolution, size becomes 15 elements long\n",
        "# Take the mean of these elements across features, result is 128 elements\n",
        "x_mean = GlobalAveragePooling1D()(x) # this is the size to globally flatten\n",
        "\n",
        "# Take the variance of these elements across features, result is 128 elements\n",
        "x_tmp = Subtract()([x,x_mean])\n",
        "x_std = GlobalAveragePooling1D()(x_tmp**2)\n",
        "\n",
        "x = Concatenate(name='concat_1')([x_mean,x_std])\n",
        "\n",
        "\n",
        "x = Dense(16, activation='relu',\n",
        "        kernel_initializer='he_uniform')(x)\n",
        "\n",
        "x = Dropout(0.2)(x)\n",
        "\n",
        "preds = Dense(NUM_CLASSES, activation='softmax',\n",
        "        kernel_initializer='glorot_uniform')(x)\n",
        "\n",
        "model_xvec = Model(sequence_input, preds)\n",
        "\n",
        "# if representing as OHE, use categorical_crossentropy\n",
        "# if representing the class as an integer, use sparse_categorical_crossentropy\n",
        "model_xvec.compile(loss='categorical_crossentropy',\n",
        "        optimizer='adam',\n",
        "        metrics=['Precision'])\n",
        "\n",
        "print(model_xvec.summary())\n",
        "\n",
        "model_xvec_histories = []\n",
        "tmp = model_xvec.fit(X_train, y_train_ohe, validation_data=(X_test, y_test_ohe),\n",
        "        epochs=7, batch_size=128, callbacks=[csv_logger_cnn])\n",
        "model_xvec_histories.append(tmp)"
      ]
    },
    {
      "cell_type": "code",
      "execution_count": null,
      "metadata": {
        "colab": {
          "base_uri": "https://localhost:8080/",
          "height": 487
        },
        "id": "d9VwJVa7aGxg",
        "outputId": "11bf0054-25fa-4913-87fc-4d190a16a0f8"
      },
      "outputs": [
        {
          "output_type": "display_data",
          "data": {
            "text/plain": [
              "<Figure size 1500x500 with 2 Axes>"
            ],
            "image/png": "[encoded data removed]"
          },
          "metadata": {}
        }
      ],
      "source": [
        "# Source: in class lecture notebook 13a\n",
        "\n",
        "%matplotlib inline\n",
        "# combine all the history from training together\n",
        "combined = dict()\n",
        "for key in ['precision','val_precision','loss','val_loss']:\n",
        "  combined[key] = np.hstack([x.history[key] for x in model_xvec_histories])\n",
        "\n",
        "# summarize history for precision\n",
        "plt.figure(figsize=(15,5))\n",
        "plt.subplot(121)\n",
        "plt.plot(combined['precision'])\n",
        "plt.plot(combined['val_precision'])\n",
        "plt.title('model precision')\n",
        "plt.ylabel('precision')\n",
        "plt.xlabel('epoch')\n",
        "plt.legend(['train', 'test'], loc='upper left')\n",
        "\n",
        "# summarize history for loss\n",
        "plt.subplot(122)\n",
        "plt.plot(combined['loss'])\n",
        "plt.plot(combined['val_loss'])\n",
        "plt.title('model loss')\n",
        "plt.ylabel('loss')\n",
        "plt.xlabel('epoch')\n",
        "plt.legend(['train', 'test'], loc='upper left')\n",
        "plt.show()"
      ]
    },
    {
      "cell_type": "markdown",
      "metadata": {
        "id": "nx-qL71RH3Zq"
      },
      "source": [
        "## [2.0 points] Transfer Learning"
      ]
    },
    {
      "cell_type": "markdown",
      "metadata": {
        "id": "FlxPP4LUZm5H"
      },
      "source": [
        "I'm going to be preprocessing the data again using the BERT Preprocessor layer to ensure I'm feeding the data in correctly to the BERT model. The BERT model is expecting special tokens in my dataset, [CLS] and [SEP]. So I'll be using the BERT preprocessor to do that.\n",
        "\n",
        "The majority of this code comes from an example on Kaggle: https://www.kaggle.com/code/dhruv1234/huggingface-tfbertmodel"
      ]
    },
    {
      "cell_type": "code",
      "execution_count": null,
      "metadata": {
        "colab": {
          "base_uri": "https://localhost:8080/",
          "height": 254,
          "referenced_widgets": [
            "70ea9b1052924fc292121c075e1ad60a",
            "15b597f82baf4ec69414b4f87cf3e86a",
            "69264e83abc740d2947057a0b7cf0403",
            "721b01dbadb84522bebfa7fb35d79d8e",
            "eb36ace1945c46ef8efe872a753887bc",
            "cc6a7b8b0aa94139816d426f9619bfd1",
            "9f6a5a28a3044c9fbcd121b8cb004c49",
            "f518d0238e994b0193e60dedbffc99d7",
            "3f8afcdc593541b6bc9e7e551626f094",
            "9235e354ff6e4d7fb8ca7e8359b345d8",
            "060463576f7148798bb7e57226eed5f4",
            "f9172a69b3aa4d65bc4f63d53b8df0bf",
            "f402ddff5a1d4f8e84fbaf3bc45a0eb6",
            "09353e3ac88d4afaa23df003cddd0528",
            "902f15ec29e241688f89c9adddfd8ec7",
            "ea17a9f2c23e49389c5625328f0a29d8",
            "9bcdabd6117e497d962355ec2cc59cf9",
            "37d2ffd6158a4fa181fe60bfee301bfc",
            "80f86db51f6c4a6b9e1a303c9774cb4c",
            "a79940ce06e84a4fba55dc221ae6c79d",
            "e71e5b4d14f04d829fb97e75756cf654",
            "60f94956322a4486bf77a70a49d3bc4d",
            "a6787b26878b419b98d7310c6f542f33",
            "38eeb97be6944bafaa726d7892297d18",
            "d06016c257424e3fa6ba3c32923e2ced",
            "f9db0cae42c8423a992e3fe519939b90",
            "b5221243c013424698c58fd96196af70",
            "bb6c1c8ad760483689ae703e9996d41a",
            "ac8ac0e6b14e47f6ba7689693671de19",
            "b5b393331bda4801959d97b29f45e992",
            "c4f7ca63df4444c783b732963a377405",
            "6ed1735a0b504de698d0e70a226b2e5e",
            "adefbf3efc894a9eb39ca04cd2f3d4f5",
            "9937e2e8177944daaab7348c454c31ae",
            "2d2318d2d8794504ac041ab308217359",
            "3a868bdb915c44159cda308db12a45fd",
            "4a1d6969b3a446788d557ce5f62fb5e8",
            "062898dbe1c64894aac57d4c7b207cf4",
            "d1d7a3ba3ca24a21bdb8a1d3e6fc2b93",
            "087fbc0ed44040549bb26c4be1a5c2e0",
            "7c6a967dab504e01941fc2f8b10c0d3f",
            "6ae25df3bf7a4ed8aec7c9a7997148fe",
            "92205fbd012343da89428f8b21290090",
            "2f996711040b41f39b6e88a230bce6d0"
          ]
        },
        "id": "WX3rRqX_Zm5I",
        "outputId": "2432396e-dc92-490b-d0ad-bc8ba92fa229"
      },
      "outputs": [
        {
          "output_type": "stream",
          "name": "stderr",
          "text": [
            "/usr/local/lib/python3.10/dist-packages/huggingface_hub/utils/_token.py:88: UserWarning: \n",
            "The secret `HF_TOKEN` does not exist in your Colab secrets.\n",
            "To authenticate with the Hugging Face Hub, create a token in your settings tab (https://huggingface.co/settings/tokens), set it as secret in your Google Colab and restart your session.\n",
            "You will be able to reuse this secret in all of your notebooks.\n",
            "Please note that authentication is recommended but still optional to access public models or datasets.\n",
            "  warnings.warn(\n"
          ]
        },
        {
          "output_type": "display_data",
          "data": {
            "text/plain": [
              "tokenizer_config.json:   0%|          | 0.00/48.0 [00:00<?, ?B/s]"
            ],
            "application/vnd.jupyter.widget-view+json": {
              "version_major": 2,
              "version_minor": 0,
              "model_id": "70ea9b1052924fc292121c075e1ad60a"
            }
          },
          "metadata": {}
        },
        {
          "output_type": "display_data",
          "data": {
            "text/plain": [
              "vocab.txt:   0%|          | 0.00/232k [00:00<?, ?B/s]"
            ],
            "application/vnd.jupyter.widget-view+json": {
              "version_major": 2,
              "version_minor": 0,
              "model_id": "f9172a69b3aa4d65bc4f63d53b8df0bf"
            }
          },
          "metadata": {}
        },
        {
          "output_type": "display_data",
          "data": {
            "text/plain": [
              "tokenizer.json:   0%|          | 0.00/466k [00:00<?, ?B/s]"
            ],
            "application/vnd.jupyter.widget-view+json": {
              "version_major": 2,
              "version_minor": 0,
              "model_id": "a6787b26878b419b98d7310c6f542f33"
            }
          },
          "metadata": {}
        },
        {
          "output_type": "display_data",
          "data": {
            "text/plain": [
              "config.json:   0%|          | 0.00/570 [00:00<?, ?B/s]"
            ],
            "application/vnd.jupyter.widget-view+json": {
              "version_major": 2,
              "version_minor": 0,
              "model_id": "9937e2e8177944daaab7348c454c31ae"
            }
          },
          "metadata": {}
        }
      ],
      "source": [
        "from transformers import BertTokenizer\n",
        "tokenizer = BertTokenizer.from_pretrained('bert-base-uncased', do_lower_case=True)\n",
        "\n"
      ]
    },
    {
      "cell_type": "code",
      "source": [
        "!pip install tensorflow==2.12.0"
      ],
      "metadata": {
        "id": "TH7J-tplFa2V",
        "outputId": "f56245c1-c840-448d-f18d-9c685e0ef903",
        "colab": {
          "base_uri": "https://localhost:8080/"
        }
      },
      "execution_count": null,
      "outputs": [
        {
          "output_type": "stream",
          "name": "stdout",
          "text": [
            "Requirement already satisfied: tensorflow==2.12.0 in /usr/local/lib/python3.10/dist-packages (2.12.0)\n",
            "Requirement already satisfied: absl-py>=1.0.0 in /usr/local/lib/python3.10/dist-packages (from tensorflow==2.12.0) (1.4.0)\n",
            "Requirement already satisfied: astunparse>=1.6.0 in /usr/local/lib/python3.10/dist-packages (from tensorflow==2.12.0) (1.6.3)\n",
            "Requirement already satisfied: flatbuffers>=2.0 in /usr/local/lib/python3.10/dist-packages (from tensorflow==2.12.0) (23.5.26)\n",
            "Requirement already satisfied: gast<=0.4.0,>=0.2.1 in /usr/local/lib/python3.10/dist-packages (from tensorflow==2.12.0) (0.4.0)\n",
            "Requirement already satisfied: google-pasta>=0.1.1 in /usr/local/lib/python3.10/dist-packages (from tensorflow==2.12.0) (0.2.0)\n",
            "Requirement already satisfied: grpcio<2.0,>=1.24.3 in /usr/local/lib/python3.10/dist-packages (from tensorflow==2.12.0) (1.62.0)\n",
            "Requirement already satisfied: h5py>=2.9.0 in /usr/local/lib/python3.10/dist-packages (from tensorflow==2.12.0) (3.9.0)\n",
            "Requirement already satisfied: jax>=0.3.15 in /usr/local/lib/python3.10/dist-packages (from tensorflow==2.12.0) (0.3.25)\n",
            "Requirement already satisfied: keras<2.13,>=2.12.0 in /usr/local/lib/python3.10/dist-packages (from tensorflow==2.12.0) (2.12.0)\n",
            "Requirement already satisfied: libclang>=13.0.0 in /usr/local/lib/python3.10/dist-packages (from tensorflow==2.12.0) (16.0.6)\n",
            "Requirement already satisfied: numpy<1.24,>=1.22 in /usr/local/lib/python3.10/dist-packages (from tensorflow==2.12.0) (1.23.5)\n",
            "Requirement already satisfied: opt-einsum>=2.3.2 in /usr/local/lib/python3.10/dist-packages (from tensorflow==2.12.0) (3.3.0)\n",
            "Requirement already satisfied: packaging in /usr/local/lib/python3.10/dist-packages (from tensorflow==2.12.0) (23.2)\n",
            "Requirement already satisfied: protobuf!=4.21.0,!=4.21.1,!=4.21.2,!=4.21.3,!=4.21.4,!=4.21.5,<5.0.0dev,>=3.20.3 in /usr/local/lib/python3.10/dist-packages (from tensorflow==2.12.0) (3.20.3)\n",
            "Requirement already satisfied: setuptools in /usr/local/lib/python3.10/dist-packages (from tensorflow==2.12.0) (67.7.2)\n",
            "Requirement already satisfied: six>=1.12.0 in /usr/local/lib/python3.10/dist-packages (from tensorflow==2.12.0) (1.16.0)\n",
            "Requirement already satisfied: tensorboard<2.13,>=2.12 in /usr/local/lib/python3.10/dist-packages (from tensorflow==2.12.0) (2.12.0)\n",
            "Requirement already satisfied: tensorflow-estimator<2.13,>=2.12.0 in /usr/local/lib/python3.10/dist-packages (from tensorflow==2.12.0) (2.12.0)\n",
            "Requirement already satisfied: termcolor>=1.1.0 in /usr/local/lib/python3.10/dist-packages (from tensorflow==2.12.0) (2.4.0)\n",
            "Requirement already satisfied: typing-extensions>=3.6.6 in /usr/local/lib/python3.10/dist-packages (from tensorflow==2.12.0) (4.10.0)\n",
            "Requirement already satisfied: wrapt<1.15,>=1.11.0 in /usr/local/lib/python3.10/dist-packages (from tensorflow==2.12.0) (1.14.1)\n",
            "Requirement already satisfied: tensorflow-io-gcs-filesystem>=0.23.1 in /usr/local/lib/python3.10/dist-packages (from tensorflow==2.12.0) (0.36.0)\n",
            "Requirement already satisfied: wheel<1.0,>=0.23.0 in /usr/local/lib/python3.10/dist-packages (from astunparse>=1.6.0->tensorflow==2.12.0) (0.42.0)\n",
            "Requirement already satisfied: scipy>=1.5 in /usr/local/lib/python3.10/dist-packages (from jax>=0.3.15->tensorflow==2.12.0) (1.11.4)\n",
            "Requirement already satisfied: google-auth<3,>=1.6.3 in /usr/local/lib/python3.10/dist-packages (from tensorboard<2.13,>=2.12->tensorflow==2.12.0) (2.27.0)\n",
            "Requirement already satisfied: google-auth-oauthlib<0.5,>=0.4.1 in /usr/local/lib/python3.10/dist-packages (from tensorboard<2.13,>=2.12->tensorflow==2.12.0) (0.4.6)\n",
            "Requirement already satisfied: markdown>=2.6.8 in /usr/local/lib/python3.10/dist-packages (from tensorboard<2.13,>=2.12->tensorflow==2.12.0) (3.5.2)\n",
            "Requirement already satisfied: requests<3,>=2.21.0 in /usr/local/lib/python3.10/dist-packages (from tensorboard<2.13,>=2.12->tensorflow==2.12.0) (2.31.0)\n",
            "Requirement already satisfied: tensorboard-data-server<0.8.0,>=0.7.0 in /usr/local/lib/python3.10/dist-packages (from tensorboard<2.13,>=2.12->tensorflow==2.12.0) (0.7.2)\n",
            "Requirement already satisfied: tensorboard-plugin-wit>=1.6.0 in /usr/local/lib/python3.10/dist-packages (from tensorboard<2.13,>=2.12->tensorflow==2.12.0) (1.8.1)\n",
            "Requirement already satisfied: werkzeug>=1.0.1 in /usr/local/lib/python3.10/dist-packages (from tensorboard<2.13,>=2.12->tensorflow==2.12.0) (3.0.1)\n",
            "Requirement already satisfied: cachetools<6.0,>=2.0.0 in /usr/local/lib/python3.10/dist-packages (from google-auth<3,>=1.6.3->tensorboard<2.13,>=2.12->tensorflow==2.12.0) (5.3.3)\n",
            "Requirement already satisfied: pyasn1-modules>=0.2.1 in /usr/local/lib/python3.10/dist-packages (from google-auth<3,>=1.6.3->tensorboard<2.13,>=2.12->tensorflow==2.12.0) (0.3.0)\n",
            "Requirement already satisfied: rsa<5,>=3.1.4 in /usr/local/lib/python3.10/dist-packages (from google-auth<3,>=1.6.3->tensorboard<2.13,>=2.12->tensorflow==2.12.0) (4.9)\n",
            "Requirement already satisfied: requests-oauthlib>=0.7.0 in /usr/local/lib/python3.10/dist-packages (from google-auth-oauthlib<0.5,>=0.4.1->tensorboard<2.13,>=2.12->tensorflow==2.12.0) (1.3.1)\n",
            "Requirement already satisfied: charset-normalizer<4,>=2 in /usr/local/lib/python3.10/dist-packages (from requests<3,>=2.21.0->tensorboard<2.13,>=2.12->tensorflow==2.12.0) (3.3.2)\n",
            "Requirement already satisfied: idna<4,>=2.5 in /usr/local/lib/python3.10/dist-packages (from requests<3,>=2.21.0->tensorboard<2.13,>=2.12->tensorflow==2.12.0) (3.6)\n",
            "Requirement already satisfied: urllib3<3,>=1.21.1 in /usr/local/lib/python3.10/dist-packages (from requests<3,>=2.21.0->tensorboard<2.13,>=2.12->tensorflow==2.12.0) (2.0.7)\n",
            "Requirement already satisfied: certifi>=2017.4.17 in /usr/local/lib/python3.10/dist-packages (from requests<3,>=2.21.0->tensorboard<2.13,>=2.12->tensorflow==2.12.0) (2024.2.2)\n",
            "Requirement already satisfied: MarkupSafe>=2.1.1 in /usr/local/lib/python3.10/dist-packages (from werkzeug>=1.0.1->tensorboard<2.13,>=2.12->tensorflow==2.12.0) (2.1.5)\n",
            "Requirement already satisfied: pyasn1<0.6.0,>=0.4.6 in /usr/local/lib/python3.10/dist-packages (from pyasn1-modules>=0.2.1->google-auth<3,>=1.6.3->tensorboard<2.13,>=2.12->tensorflow==2.12.0) (0.5.1)\n",
            "Requirement already satisfied: oauthlib>=3.0.0 in /usr/local/lib/python3.10/dist-packages (from requests-oauthlib>=0.7.0->google-auth-oauthlib<0.5,>=0.4.1->tensorboard<2.13,>=2.12->tensorflow==2.12.0) (3.2.2)\n"
          ]
        }
      ]
    },
    {
      "cell_type": "markdown",
      "metadata": {
        "id": "y6zVVoo3Zm5I"
      },
      "source": [
        "BERT requirements for input conifguration can be provided by a built in tokenizer class. It performs the following:\n",
        " -  Tokenize the text\n",
        " -  Add special tokens described above\n",
        " -  create token IDs\n",
        " -  Pad sequences\n",
        " -  Create attention masks for the padded tokens"
      ]
    },
    {
      "cell_type": "code",
      "execution_count": null,
      "metadata": {
        "id": "DHRAacr3Zm5I"
      },
      "outputs": [],
      "source": [
        "# source: https://www.kaggle.com/code/dhruv1234/huggingface-tfbertmodel\n",
        "# source: https://huggingface.co/transformers/v2.11.0/main_classes/tokenizer.html\n",
        "\n",
        "import numpy as np\n",
        "\n",
        "def bert_encode(data,maximum_length) :\n",
        "  input_ids = []\n",
        "  attention_masks = []\n",
        "\n",
        "\n",
        "  for i in range(len(data.str_reviewText)):\n",
        "      encoded = tokenizer.encode_plus( # built in huggingface class\n",
        "\n",
        "        data.str_reviewText[i],\n",
        "        add_special_tokens=True,\n",
        "        max_length=maximum_length,\n",
        "        truncation=True,\n",
        "        pad_to_max_length=True,\n",
        "\n",
        "        return_attention_mask=True,\n",
        "\n",
        "      )\n",
        "\n",
        "      input_ids.append(encoded['input_ids'])\n",
        "      attention_masks.append(encoded['attention_mask'])\n",
        "  return np.array(input_ids),np.array(attention_masks)"
      ]
    },
    {
      "cell_type": "code",
      "execution_count": null,
      "metadata": {
        "id": "mw-H_berZm5I"
      },
      "outputs": [],
      "source": [
        "# Split my data at the top level so that I can have it in an un-encoded format for the BERT encoder\n",
        "df_bert = pd.concat([df.str_reviewText,df.sentiment], axis=1)\n",
        "\n",
        "# from sklearn.model_selection import train_test_split\n",
        "\n",
        "# train, test = train_test_split(df_bert, test_size=0.2, random_state=42)\n",
        "# train = train.reset_index(drop=True,inplace=True)\n",
        "# test = test.reset_index(drop=True,inplace=True)\n",
        "# train = train.reset_index(drop=True)\n",
        "# test = test.reset_index(drop=True)\n",
        "# train.head()"
      ]
    },
    {
      "cell_type": "code",
      "execution_count": null,
      "metadata": {
        "id": "UjqWg5hHZm5I",
        "colab": {
          "base_uri": "https://localhost:8080/"
        },
        "outputId": "07a566c0-1091-40e9-e635-f04b4d38824c"
      },
      "outputs": [
        {
          "output_type": "stream",
          "name": "stderr",
          "text": [
            "/usr/local/lib/python3.10/dist-packages/transformers/tokenization_utils_base.py:2645: FutureWarning: The `pad_to_max_length` argument is deprecated and will be removed in a future version, use `padding=True` or `padding='longest'` to pad to the longest sequence in the batch, or use `padding='max_length'` to pad to a max length. In this case, you can give a specific length with `max_length` (e.g. `max_length=45`) or leave max_length to None to pad to the maximal input size of the model (e.g. 512 for Bert).\n",
            "  warnings.warn(\n"
          ]
        }
      ],
      "source": [
        "from sklearn.preprocessing import LabelEncoder\n",
        "from tensorflow import keras\n",
        "\n",
        "\n",
        "# del df # memory management # temporary comment out\n",
        "train_input_ids,train_attention_masks = bert_encode(df_bert,128) # BERT Max is 512, lowering for computational time concerns\n",
        "# test_input_ids,test_attention_masks = bert_encode(test,26680) # hard coding MAX_REVIEW_LENGTH for now\n",
        "label_encoder = LabelEncoder()\n",
        "labels_encoded = label_encoder.fit_transform(df_bert.sentiment)\n",
        "labels_encoded_ohe = keras.utils.to_categorical(labels_encoded)\n",
        "\n",
        "train_input_ids, test_input_ids, train_attention_masks, test_attention_masks, train_labels, test_labels = train_test_split(\n",
        "    train_input_ids, train_attention_masks, labels_encoded_ohe, train_size=0.8, test_size=0.2, stratify=labels_encoded_ohe\n",
        ")"
      ]
    },
    {
      "cell_type": "code",
      "execution_count": null,
      "metadata": {
        "colab": {
          "base_uri": "https://localhost:8080/"
        },
        "id": "Ion5pQf-xPD0",
        "outputId": "9a681f3c-317c-4040-9989-c126f2258802"
      },
      "outputs": [
        {
          "output_type": "stream",
          "name": "stdout",
          "text": [
            "The datatype of the train_input_ids is  {<class 'numpy.ndarray'>}\n",
            "The shape is  {(39806, 128)} \n",
            "\n",
            "The datatype of the train_attention_masks is  {<class 'numpy.ndarray'>}\n",
            "The shape is  {(39806, 128)} \n",
            "\n",
            "The datatype of the labels_encoded is  {<class 'numpy.ndarray'>}\n",
            "The shape is  {(39806, 3)} \n",
            "\n",
            "The datatype of the train_input_ids is  {<class 'numpy.ndarray'>}\n",
            "The shape is  {(9952, 128)} \n",
            "\n",
            "The datatype of the train_attention_masks is  {<class 'numpy.ndarray'>}\n",
            "The shape is  {(9952, 128)} \n",
            "\n",
            "The datatype of the labels_encoded is  {<class 'numpy.ndarray'>}\n",
            "The shape is  {(9952, 3)} \n",
            "\n"
          ]
        }
      ],
      "source": [
        "print(f\"The datatype of the train_input_ids is \",{type(train_input_ids)})\n",
        "print(f\"The shape is \",{train_input_ids.shape}, \"\\n\")\n",
        "\n",
        "print(f\"The datatype of the train_attention_masks is \",{type(train_attention_masks)})\n",
        "print(f\"The shape is \",{train_attention_masks.shape}, \"\\n\")\n",
        "\n",
        "print(f\"The datatype of the labels_encoded is \",{type(train_labels)})\n",
        "print(f\"The shape is \",{train_labels.shape}, \"\\n\")\n",
        "\n",
        "print(f\"The datatype of the train_input_ids is \",{type(test_input_ids)})\n",
        "print(f\"The shape is \",{test_input_ids.shape}, \"\\n\")\n",
        "\n",
        "print(f\"The datatype of the train_attention_masks is \",{type(test_attention_masks)})\n",
        "print(f\"The shape is \",{test_attention_masks.shape}, \"\\n\")\n",
        "\n",
        "print(f\"The datatype of the labels_encoded is \",{type(test_labels)})\n",
        "print(f\"The shape is \",{test_labels.shape}, \"\\n\")"
      ]
    },
    {
      "cell_type": "code",
      "execution_count": null,
      "metadata": {
        "colab": {
          "base_uri": "https://localhost:8080/"
        },
        "id": "KU0_nX4vZm5J",
        "outputId": "c841e053-022a-4a13-e953-1dacc22c9a33"
      },
      "outputs": [
        {
          "output_type": "stream",
          "name": "stdout",
          "text": [
            "TensorFlow version: 2.12.0\n"
          ]
        }
      ],
      "source": [
        "import tensorflow as tf\n",
        "print(\"TensorFlow version:\", tf.__version__)\n",
        "\n",
        "# from tensorflow import keras\n",
        "# from tensorflow.keras.optimizers import Adam\n",
        "\n",
        "def create_model(bert_model):\n",
        "  input_ids = tf.keras.layers.Input(shape=(128,),dtype='int32')\n",
        "  attention_masks = tf.keras.layers.Input(shape=(128,),dtype='int32')\n",
        "\n",
        "  bert_model.trainable = False\n",
        "\n",
        "  output = bert_model([input_ids,attention_masks])\n",
        "  output = output[1]\n",
        "  output = tf.keras.layers.Dense(64,activation='relu')(output)\n",
        "  output = tf.keras.layers.Dropout(0.2)(output)\n",
        "  output = tf.keras.layers.Dense(3,activation='softmax')(output)\n",
        "\n",
        "  model = tf.keras.models.Model(inputs = [input_ids,attention_masks],outputs = output)\n",
        "  model.compile(optimizer='adam', loss='categorical_crossentropy', metrics=[tf.keras.metrics.Precision()])\n",
        "  return model"
      ]
    },
    {
      "cell_type": "code",
      "execution_count": null,
      "metadata": {
        "colab": {
          "base_uri": "https://localhost:8080/",
          "height": 160,
          "referenced_widgets": [
            "bf6728cfa3f4489db612994ab19bf0c1",
            "a08642dcb7234fc180255f2ed3980cfa",
            "6090d605ff294534aeac6e4ebda9ae1f",
            "d5c27d44c05044ff96f115c0ebb3275e",
            "b827588617c540b8867c2eeef7314d27",
            "8d8e4c65b74d4c8b99d4db34f15221f0",
            "13d4bffc6b7b4de3915d0f86fdc1b9d7",
            "7b917f032e51469a951a874b1fca6d87",
            "8fede50e5c6b40e69679ec7924234850",
            "71124c5bbb50463096c389cc94183522",
            "34f8ae084f6b4165b296302c6b4dc0d5"
          ]
        },
        "id": "tz6lyhqkZm5J",
        "outputId": "493ae66b-4fcb-479c-efe4-709eb8408b05"
      },
      "outputs": [
        {
          "output_type": "display_data",
          "data": {
            "text/plain": [
              "model.safetensors:   0%|          | 0.00/440M [00:00<?, ?B/s]"
            ],
            "application/vnd.jupyter.widget-view+json": {
              "version_major": 2,
              "version_minor": 0,
              "model_id": "bf6728cfa3f4489db612994ab19bf0c1"
            }
          },
          "metadata": {}
        },
        {
          "output_type": "stream",
          "name": "stderr",
          "text": [
            "Some weights of the PyTorch model were not used when initializing the TF 2.0 model TFBertModel: ['cls.predictions.transform.LayerNorm.bias', 'cls.predictions.transform.dense.weight', 'cls.predictions.transform.dense.bias', 'cls.seq_relationship.bias', 'cls.seq_relationship.weight', 'cls.predictions.bias', 'cls.predictions.transform.LayerNorm.weight']\n",
            "- This IS expected if you are initializing TFBertModel from a PyTorch model trained on another task or with another architecture (e.g. initializing a TFBertForSequenceClassification model from a BertForPreTraining model).\n",
            "- This IS NOT expected if you are initializing TFBertModel from a PyTorch model that you expect to be exactly identical (e.g. initializing a TFBertForSequenceClassification model from a BertForSequenceClassification model).\n",
            "All the weights of TFBertModel were initialized from the PyTorch model.\n",
            "If your task is similar to the task the model of the checkpoint was trained on, you can already use TFBertModel for predictions without further training.\n"
          ]
        }
      ],
      "source": [
        "from transformers import TFBertModel, BertConfig\n",
        "\n",
        "bert_model = TFBertModel.from_pretrained('bert-base-uncased')"
      ]
    },
    {
      "cell_type": "code",
      "execution_count": null,
      "metadata": {
        "colab": {
          "base_uri": "https://localhost:8080/"
        },
        "id": "cJwLTd9oZm5J",
        "outputId": "a5807137-1a37-48da-f868-fda847e2d9a0"
      },
      "outputs": [
        {
          "output_type": "stream",
          "name": "stdout",
          "text": [
            "Model: \"model\"\n",
            "__________________________________________________________________________________________________\n",
            " Layer (type)                   Output Shape         Param #     Connected to                     \n",
            "==================================================================================================\n",
            " input_1 (InputLayer)           [(None, 128)]        0           []                               \n",
            "                                                                                                  \n",
            " input_2 (InputLayer)           [(None, 128)]        0           []                               \n",
            "                                                                                                  \n",
            " tf_bert_model (TFBertModel)    TFBaseModelOutputWi  109482240   ['input_1[0][0]',                \n",
            "                                thPoolingAndCrossAt               'input_2[0][0]']                \n",
            "                                tentions(last_hidde                                               \n",
            "                                n_state=(None, 128,                                               \n",
            "                                 768),                                                            \n",
            "                                 pooler_output=(Non                                               \n",
            "                                e, 768),                                                          \n",
            "                                 past_key_values=No                                               \n",
            "                                ne, hidden_states=N                                               \n",
            "                                one, attentions=Non                                               \n",
            "                                e, cross_attentions                                               \n",
            "                                =None)                                                            \n",
            "                                                                                                  \n",
            " dense (Dense)                  (None, 64)           49216       ['tf_bert_model[0][1]']          \n",
            "                                                                                                  \n",
            " dropout_37 (Dropout)           (None, 64)           0           ['dense[0][0]']                  \n",
            "                                                                                                  \n",
            " dense_1 (Dense)                (None, 3)            195         ['dropout_37[0][0]']             \n",
            "                                                                                                  \n",
            "==================================================================================================\n",
            "Total params: 109,531,651\n",
            "Trainable params: 49,411\n",
            "Non-trainable params: 109,482,240\n",
            "__________________________________________________________________________________________________\n"
          ]
        }
      ],
      "source": [
        "bert_untrainable_model = create_model(bert_model)\n",
        "bert_untrainable_model.summary()"
      ]
    },
    {
      "cell_type": "code",
      "execution_count": null,
      "metadata": {
        "colab": {
          "base_uri": "https://localhost:8080/"
        },
        "id": "hd5UKvzDZm5J",
        "outputId": "92bbb5a4-08e2-4db6-e755-72d2c9c6fddb"
      },
      "outputs": [
        {
          "output_type": "stream",
          "name": "stdout",
          "text": [
            "Epoch 1/3\n",
            "311/311 [==============================] - 3321s 11s/step - loss: 0.6553 - precision: 0.7912 - val_loss: 0.5962 - val_precision: 0.7921\n",
            "Epoch 2/3\n",
            "311/311 [==============================] - 3394s 11s/step - loss: 0.5966 - precision: 0.8025 - val_loss: 0.5606 - val_precision: 0.7958\n",
            "Epoch 3/3\n",
            "311/311 [==============================] - 3397s 11s/step - loss: 0.5731 - precision: 0.8155 - val_loss: 0.5717 - val_precision: 0.7951\n"
          ]
        }
      ],
      "source": [
        "# from keras.callbacks import CSVLogger\n",
        "\n",
        "csv_logger_bert_untrainable = CSVLogger('/content/drive/MyDrive/Colab Notebooks/bert_untrainable_training.csv')\n",
        "\n",
        "bert_untrainable_histories = []\n",
        "bert_untrainable_tmp = bert_untrainable_model.fit(\n",
        "    [train_input_ids,train_attention_masks],\n",
        "    train_labels,\n",
        "    validation_data=([test_input_ids,test_attention_masks],test_labels),\n",
        "    epochs=3,\n",
        "    batch_size=128,\n",
        "    callbacks=[csv_logger_bert_untrainable]\n",
        ")\n",
        "\n",
        "bert_untrainable_histories.append(bert_untrainable_tmp)"
      ]
    },
    {
      "cell_type": "code",
      "source": [
        "bert_untrainable_tmp = bert_untrainable_model.fit(\n",
        "    [train_input_ids,train_attention_masks],\n",
        "    train_labels,\n",
        "    validation_data=([test_input_ids,test_attention_masks],test_labels),\n",
        "    epochs=3,\n",
        "    batch_size=128,\n",
        "    callbacks=[csv_logger_bert_untrainable]\n",
        ")\n",
        "\n",
        "bert_untrainable_histories.append(bert_untrainable_tmp)"
      ],
      "metadata": {
        "id": "8zURZpZOx0y9",
        "colab": {
          "base_uri": "https://localhost:8080/"
        },
        "outputId": "60f8b08f-e022-4008-9c3c-3cdf93031ce4"
      },
      "execution_count": 29,
      "outputs": [
        {
          "output_type": "stream",
          "name": "stdout",
          "text": [
            "Epoch 1/2\n",
            "311/311 [==============================] - 3544s 11s/step - loss: 0.5662 - precision: 0.8234 - val_loss: 0.5362 - val_precision: 0.8215\n",
            "Epoch 2/2\n",
            "311/311 [==============================] - 3482s 11s/step - loss: 0.5579 - precision: 0.8263 - val_loss: 0.5491 - val_precision: 0.8076\n"
          ]
        }
      ]
    },
    {
      "cell_type": "code",
      "source": [
        "bert_untrainable_tmp = bert_untrainable_model.fit(\n",
        "    [train_input_ids,train_attention_masks],\n",
        "    train_labels,\n",
        "    validation_data=([test_input_ids,test_attention_masks],test_labels),\n",
        "    epochs=1,\n",
        "    batch_size=128,\n",
        "    callbacks=[csv_logger_bert_untrainable]\n",
        ")\n",
        "\n",
        "bert_untrainable_histories.append(bert_untrainable_tmp)"
      ],
      "metadata": {
        "colab": {
          "base_uri": "https://localhost:8080/"
        },
        "id": "AFVb2vVuOSY1",
        "outputId": "26e34ecc-b667-4829-e707-9350e19f6325"
      },
      "execution_count": 34,
      "outputs": [
        {
          "metadata": {
            "tags": null
          },
          "name": "stdout",
          "output_type": "stream",
          "text": [
            "311/311 [==============================] - 3455s 11s/step - loss: 0.5510 - precision: 0.8291 - val_loss: 0.5408 - val_precision: 0.8133\n"
          ]
        }
      ]
    },
    {
      "cell_type": "code",
      "source": [
        "bert_untrainable_tmp = bert_untrainable_model.fit(\n",
        "    [train_input_ids,train_attention_masks],\n",
        "    train_labels,\n",
        "    validation_data=([test_input_ids,test_attention_masks],test_labels),\n",
        "    epochs=2,\n",
        "    batch_size=128,\n",
        "    callbacks=[csv_logger_bert_untrainable]\n",
        ")\n",
        "\n",
        "bert_untrainable_histories.append(bert_untrainable_tmp)"
      ],
      "metadata": {
        "colab": {
          "base_uri": "https://localhost:8080/"
        },
        "id": "POvG3M4heMjQ",
        "outputId": "67db4d01-6ac6-400e-d78c-6998a8ccde0d"
      },
      "execution_count": 35,
      "outputs": [
        {
          "metadata": {
            "tags": null
          },
          "name": "stdout",
          "output_type": "stream",
          "text": [
            "Epoch 1/2\n",
            "311/311 [==============================] - 3403s 11s/step - loss: 0.5486 - precision: 0.8307 - val_loss: 0.5263 - val_precision: 0.8287\n",
            "Epoch 2/2\n",
            "311/311 [==============================] - 3409s 11s/step - loss: 0.5459 - precision: 0.8330 - val_loss: 0.5179 - val_precision: 0.8439\n"
          ]
        }
      ]
    },
    {
      "cell_type": "code",
      "source": [
        "bert_untrainable_tmp = bert_untrainable_model.fit(\n",
        "    [train_input_ids,train_attention_masks],\n",
        "    train_labels,\n",
        "    validation_data=([test_input_ids,test_attention_masks],test_labels),\n",
        "    epochs=3,\n",
        "    batch_size=128,\n",
        "    callbacks=[csv_logger_bert_untrainable]\n",
        ")\n",
        "\n",
        "bert_untrainable_histories.append(bert_untrainable_tmp)"
      ],
      "metadata": {
        "id": "-zxepXej4v7-"
      },
      "execution_count": null,
      "outputs": []
    },
    {
      "cell_type": "code",
      "execution_count": 31,
      "metadata": {
        "id": "9MNU5uSOR17h"
      },
      "outputs": [],
      "source": [
        "bert_untrainable_model.save_weights('/content/drive/MyDrive/Colab Notebooks/bert_untrainable_weights.h5') # colab\n",
        "# bert_untrainable_model.save_weights('bert_untrainable_weights.h5') # local\n"
      ]
    },
    {
      "cell_type": "code",
      "execution_count": 36,
      "metadata": {
        "id": "T1Y9dD28bm5l",
        "colab": {
          "base_uri": "https://localhost:8080/",
          "height": 487
        },
        "outputId": "1f288d97-42c8-40d3-d917-4db0f9f39f4b"
      },
      "outputs": [
        {
          "output_type": "display_data",
          "data": {
            "text/plain": [
              "<Figure size 1500x500 with 2 Axes>"
            ],
            "image/png": "[encoded data removed]"
          },
          "metadata": {}
        }
      ],
      "source": [
        "# Source: in class lecture notebook 13a\n",
        "\n",
        "%matplotlib inline\n",
        "# combine all the history from training together\n",
        "combined = dict()\n",
        "for key in ['precision','val_precision','loss','val_loss']:\n",
        "  combined[key] = np.hstack([x.history[key] for x in bert_untrainable_histories])\n",
        "\n",
        "# summarize history for precision\n",
        "plt.figure(figsize=(15,5))\n",
        "plt.subplot(121)\n",
        "plt.plot(combined['precision'])\n",
        "plt.plot(combined['val_precision'])\n",
        "plt.title('model precision')\n",
        "plt.ylabel('precision')\n",
        "plt.xlabel('epoch')\n",
        "plt.legend(['train', 'test'], loc='upper left')\n",
        "\n",
        "# summarize history for loss\n",
        "plt.subplot(122)\n",
        "plt.plot(combined['loss'])\n",
        "plt.plot(combined['val_loss'])\n",
        "plt.title('model loss')\n",
        "plt.ylabel('loss')\n",
        "plt.xlabel('epoch')\n",
        "plt.legend(['train', 'test'], loc='upper left')\n",
        "plt.show()"
      ]
    },
    {
      "cell_type": "markdown",
      "metadata": {
        "id": "ordfOPMgeoZC"
      },
      "source": [
        "## Trying something different"
      ]
    },
    {
      "cell_type": "code",
      "execution_count": null,
      "metadata": {
        "id": "YNcykJcEUUte"
      },
      "outputs": [],
      "source": []
    },
    {
      "cell_type": "code",
      "execution_count": null,
      "metadata": {
        "id": "PKjYNX5rUUkN"
      },
      "outputs": [],
      "source": []
    },
    {
      "cell_type": "markdown",
      "metadata": {
        "id": "-8U_j_gkUUF0"
      },
      "source": []
    },
    {
      "cell_type": "markdown",
      "metadata": {
        "id": "T8KF9UrCUUCM"
      },
      "source": []
    },
    {
      "cell_type": "markdown",
      "metadata": {
        "id": "6t25vAx_H3Zq"
      },
      "source": [
        "**Train a model by transfer learning from your foundational model.**"
      ]
    },
    {
      "cell_type": "markdown",
      "metadata": {
        "id": "e-A4mRB4H3Zq"
      },
      "source": [
        "**Verify that the new model converges. You only need to train a model using the bottleneck features for this step.**"
      ]
    },
    {
      "cell_type": "markdown",
      "metadata": {
        "id": "C377UiG4H3Zq"
      },
      "source": [
        "## [2.0 points] Fine Tuning"
      ]
    },
    {
      "cell_type": "markdown",
      "metadata": {
        "id": "wuvIP3-gH3Zr"
      },
      "source": [
        "**Perform fine tuning upon the model by training some layers within the foundational model**"
      ]
    },
    {
      "cell_type": "markdown",
      "metadata": {
        "id": "pGlYaFNlH3Zr"
      },
      "source": [
        "**Verify that the model converges.**"
      ]
    },
    {
      "cell_type": "markdown",
      "metadata": {
        "id": "kH2cAUBCH3Zr"
      },
      "source": [
        "## [4.0 points] Report the results"
      ]
    },
    {
      "cell_type": "markdown",
      "metadata": {
        "id": "0SUC_mSIH3Zr"
      },
      "source": [
        "**Report the results of all models using the evaluation procedure that you argued for at the beginning of the lab.**"
      ]
    },
    {
      "cell_type": "markdown",
      "metadata": {
        "id": "nazxUQlUH3Zr"
      },
      "source": [
        "**Compare the convergence of the models and the running time.**"
      ]
    },
    {
      "cell_type": "markdown",
      "metadata": {
        "id": "K-FD2wYiH3Zr"
      },
      "source": [
        "**Results should be reported with proper statistical comparisons and proper visualizations.**"
      ]
    },
    {
      "cell_type": "markdown",
      "metadata": {
        "id": "yUCw7rE8H3Zr"
      },
      "source": [
        "## Sources"
      ]
    },
    {
      "cell_type": "code",
      "execution_count": null,
      "metadata": {
        "id": "1w30SJfZH3Zr"
      },
      "outputs": [],
      "source": [
        "https://www.tensorflow.org/text/tutorials/classify_text_with_bert\n",
        "https://keras.io/examples/nlp/pretraining_BERT/\n",
        "https://www.smashwords.com/about\n",
        "https://huggingface.co/google-bert/bert-base-uncased?text=The+goal+of+a+dog%27s+life+is+%5BMASK%5D.\n",
        "https://keras.io/guides/keras_nlp/transformer_pretraining/\n",
        "https://huggingface.co/transformers/v3.3.1/pretrained_models.html\n",
        "https://www.analyticsvidhya.com/blog/2021/05/all-you-need-to-know-about-bert/#:~:text=The%20BERTBase%20model%20uses,has%20around%20110M%20trainable%20parameters."
      ]
    }
  ],
  "metadata": {
    "accelerator": "TPU",
    "colab": {
      "machine_shape": "hm",
      "provenance": [],
      "include_colab_link": true
    },
    "kernelspec": {
      "display_name": "Python 3",
      "name": "python3"
    },
    "language_info": {
      "codemirror_mode": {
        "name": "ipython",
        "version": 3
      },
      "file_extension": ".py",
      "mimetype": "text/x-python",
      "name": "python",
      "nbconvert_exporter": "python",
      "pygments_lexer": "ipython3",
      "version": "3.9.17"
    },
    "widgets": {
      "application/vnd.jupyter.widget-state+json": {
        "70ea9b1052924fc292121c075e1ad60a": {
          "model_module": "@jupyter-widgets/controls",
          "model_name": "HBoxModel",
          "model_module_version": "1.5.0",
          "state": {
            "_dom_classes": [],
            "_model_module": "@jupyter-widgets/controls",
            "_model_module_version": "1.5.0",
            "_model_name": "HBoxModel",
            "_view_count": null,
            "_view_module": "@jupyter-widgets/controls",
            "_view_module_version": "1.5.0",
            "_view_name": "HBoxView",
            "box_style": "",
            "children": [
              "IPY_MODEL_15b597f82baf4ec69414b4f87cf3e86a",
              "IPY_MODEL_69264e83abc740d2947057a0b7cf0403",
              "IPY_MODEL_721b01dbadb84522bebfa7fb35d79d8e"
            ],
            "layout": "IPY_MODEL_eb36ace1945c46ef8efe872a753887bc"
          }
        },
        "15b597f82baf4ec69414b4f87cf3e86a": {
          "model_module": "@jupyter-widgets/controls",
          "model_name": "HTMLModel",
          "model_module_version": "1.5.0",
          "state": {
            "_dom_classes": [],
            "_model_module": "@jupyter-widgets/controls",
            "_model_module_version": "1.5.0",
            "_model_name": "HTMLModel",
            "_view_count": null,
            "_view_module": "@jupyter-widgets/controls",
            "_view_module_version": "1.5.0",
            "_view_name": "HTMLView",
            "description": "",
            "description_tooltip": null,
            "layout": "IPY_MODEL_cc6a7b8b0aa94139816d426f9619bfd1",
            "placeholder": "​",
            "style": "IPY_MODEL_9f6a5a28a3044c9fbcd121b8cb004c49",
            "value": "tokenizer_config.json: 100%"
          }
        },
        "69264e83abc740d2947057a0b7cf0403": {
          "model_module": "@jupyter-widgets/controls",
          "model_name": "FloatProgressModel",
          "model_module_version": "1.5.0",
          "state": {
            "_dom_classes": [],
            "_model_module": "@jupyter-widgets/controls",
            "_model_module_version": "1.5.0",
            "_model_name": "FloatProgressModel",
            "_view_count": null,
            "_view_module": "@jupyter-widgets/controls",
            "_view_module_version": "1.5.0",
            "_view_name": "ProgressView",
            "bar_style": "success",
            "description": "",
            "description_tooltip": null,
            "layout": "IPY_MODEL_f518d0238e994b0193e60dedbffc99d7",
            "max": 48,
            "min": 0,
            "orientation": "horizontal",
            "style": "IPY_MODEL_3f8afcdc593541b6bc9e7e551626f094",
            "value": 48
          }
        },
        "721b01dbadb84522bebfa7fb35d79d8e": {
          "model_module": "@jupyter-widgets/controls",
          "model_name": "HTMLModel",
          "model_module_version": "1.5.0",
          "state": {
            "_dom_classes": [],
            "_model_module": "@jupyter-widgets/controls",
            "_model_module_version": "1.5.0",
            "_model_name": "HTMLModel",
            "_view_count": null,
            "_view_module": "@jupyter-widgets/controls",
            "_view_module_version": "1.5.0",
            "_view_name": "HTMLView",
            "description": "",
            "description_tooltip": null,
            "layout": "IPY_MODEL_9235e354ff6e4d7fb8ca7e8359b345d8",
            "placeholder": "​",
            "style": "IPY_MODEL_060463576f7148798bb7e57226eed5f4",
            "value": " 48.0/48.0 [00:00&lt;00:00, 4.18kB/s]"
          }
        },
        "eb36ace1945c46ef8efe872a753887bc": {
          "model_module": "@jupyter-widgets/base",
          "model_name": "LayoutModel",
          "model_module_version": "1.2.0",
          "state": {
            "_model_module": "@jupyter-widgets/base",
            "_model_module_version": "1.2.0",
            "_model_name": "LayoutModel",
            "_view_count": null,
            "_view_module": "@jupyter-widgets/base",
            "_view_module_version": "1.2.0",
            "_view_name": "LayoutView",
            "align_content": null,
            "align_items": null,
            "align_self": null,
            "border": null,
            "bottom": null,
            "display": null,
            "flex": null,
            "flex_flow": null,
            "grid_area": null,
            "grid_auto_columns": null,
            "grid_auto_flow": null,
            "grid_auto_rows": null,
            "grid_column": null,
            "grid_gap": null,
            "grid_row": null,
            "grid_template_areas": null,
            "grid_template_columns": null,
            "grid_template_rows": null,
            "height": null,
            "justify_content": null,
            "justify_items": null,
            "left": null,
            "margin": null,
            "max_height": null,
            "max_width": null,
            "min_height": null,
            "min_width": null,
            "object_fit": null,
            "object_position": null,
            "order": null,
            "overflow": null,
            "overflow_x": null,
            "overflow_y": null,
            "padding": null,
            "right": null,
            "top": null,
            "visibility": null,
            "width": null
          }
        },
        "cc6a7b8b0aa94139816d426f9619bfd1": {
          "model_module": "@jupyter-widgets/base",
          "model_name": "LayoutModel",
          "model_module_version": "1.2.0",
          "state": {
            "_model_module": "@jupyter-widgets/base",
            "_model_module_version": "1.2.0",
            "_model_name": "LayoutModel",
            "_view_count": null,
            "_view_module": "@jupyter-widgets/base",
            "_view_module_version": "1.2.0",
            "_view_name": "LayoutView",
            "align_content": null,
            "align_items": null,
            "align_self": null,
            "border": null,
            "bottom": null,
            "display": null,
            "flex": null,
            "flex_flow": null,
            "grid_area": null,
            "grid_auto_columns": null,
            "grid_auto_flow": null,
            "grid_auto_rows": null,
            "grid_column": null,
            "grid_gap": null,
            "grid_row": null,
            "grid_template_areas": null,
            "grid_template_columns": null,
            "grid_template_rows": null,
            "height": null,
            "justify_content": null,
            "justify_items": null,
            "left": null,
            "margin": null,
            "max_height": null,
            "max_width": null,
            "min_height": null,
            "min_width": null,
            "object_fit": null,
            "object_position": null,
            "order": null,
            "overflow": null,
            "overflow_x": null,
            "overflow_y": null,
            "padding": null,
            "right": null,
            "top": null,
            "visibility": null,
            "width": null
          }
        },
        "9f6a5a28a3044c9fbcd121b8cb004c49": {
          "model_module": "@jupyter-widgets/controls",
          "model_name": "DescriptionStyleModel",
          "model_module_version": "1.5.0",
          "state": {
            "_model_module": "@jupyter-widgets/controls",
            "_model_module_version": "1.5.0",
            "_model_name": "DescriptionStyleModel",
            "_view_count": null,
            "_view_module": "@jupyter-widgets/base",
            "_view_module_version": "1.2.0",
            "_view_name": "StyleView",
            "description_width": ""
          }
        },
        "f518d0238e994b0193e60dedbffc99d7": {
          "model_module": "@jupyter-widgets/base",
          "model_name": "LayoutModel",
          "model_module_version": "1.2.0",
          "state": {
            "_model_module": "@jupyter-widgets/base",
            "_model_module_version": "1.2.0",
            "_model_name": "LayoutModel",
            "_view_count": null,
            "_view_module": "@jupyter-widgets/base",
            "_view_module_version": "1.2.0",
            "_view_name": "LayoutView",
            "align_content": null,
            "align_items": null,
            "align_self": null,
            "border": null,
            "bottom": null,
            "display": null,
            "flex": null,
            "flex_flow": null,
            "grid_area": null,
            "grid_auto_columns": null,
            "grid_auto_flow": null,
            "grid_auto_rows": null,
            "grid_column": null,
            "grid_gap": null,
            "grid_row": null,
            "grid_template_areas": null,
            "grid_template_columns": null,
            "grid_template_rows": null,
            "height": null,
            "justify_content": null,
            "justify_items": null,
            "left": null,
            "margin": null,
            "max_height": null,
            "max_width": null,
            "min_height": null,
            "min_width": null,
            "object_fit": null,
            "object_position": null,
            "order": null,
            "overflow": null,
            "overflow_x": null,
            "overflow_y": null,
            "padding": null,
            "right": null,
            "top": null,
            "visibility": null,
            "width": null
          }
        },
        "3f8afcdc593541b6bc9e7e551626f094": {
          "model_module": "@jupyter-widgets/controls",
          "model_name": "ProgressStyleModel",
          "model_module_version": "1.5.0",
          "state": {
            "_model_module": "@jupyter-widgets/controls",
            "_model_module_version": "1.5.0",
            "_model_name": "ProgressStyleModel",
            "_view_count": null,
            "_view_module": "@jupyter-widgets/base",
            "_view_module_version": "1.2.0",
            "_view_name": "StyleView",
            "bar_color": null,
            "description_width": ""
          }
        },
        "9235e354ff6e4d7fb8ca7e8359b345d8": {
          "model_module": "@jupyter-widgets/base",
          "model_name": "LayoutModel",
          "model_module_version": "1.2.0",
          "state": {
            "_model_module": "@jupyter-widgets/base",
            "_model_module_version": "1.2.0",
            "_model_name": "LayoutModel",
            "_view_count": null,
            "_view_module": "@jupyter-widgets/base",
            "_view_module_version": "1.2.0",
            "_view_name": "LayoutView",
            "align_content": null,
            "align_items": null,
            "align_self": null,
            "border": null,
            "bottom": null,
            "display": null,
            "flex": null,
            "flex_flow": null,
            "grid_area": null,
            "grid_auto_columns": null,
            "grid_auto_flow": null,
            "grid_auto_rows": null,
            "grid_column": null,
            "grid_gap": null,
            "grid_row": null,
            "grid_template_areas": null,
            "grid_template_columns": null,
            "grid_template_rows": null,
            "height": null,
            "justify_content": null,
            "justify_items": null,
            "left": null,
            "margin": null,
            "max_height": null,
            "max_width": null,
            "min_height": null,
            "min_width": null,
            "object_fit": null,
            "object_position": null,
            "order": null,
            "overflow": null,
            "overflow_x": null,
            "overflow_y": null,
            "padding": null,
            "right": null,
            "top": null,
            "visibility": null,
            "width": null
          }
        },
        "060463576f7148798bb7e57226eed5f4": {
          "model_module": "@jupyter-widgets/controls",
          "model_name": "DescriptionStyleModel",
          "model_module_version": "1.5.0",
          "state": {
            "_model_module": "@jupyter-widgets/controls",
            "_model_module_version": "1.5.0",
            "_model_name": "DescriptionStyleModel",
            "_view_count": null,
            "_view_module": "@jupyter-widgets/base",
            "_view_module_version": "1.2.0",
            "_view_name": "StyleView",
            "description_width": ""
          }
        },
        "f9172a69b3aa4d65bc4f63d53b8df0bf": {
          "model_module": "@jupyter-widgets/controls",
          "model_name": "HBoxModel",
          "model_module_version": "1.5.0",
          "state": {
            "_dom_classes": [],
            "_model_module": "@jupyter-widgets/controls",
            "_model_module_version": "1.5.0",
            "_model_name": "HBoxModel",
            "_view_count": null,
            "_view_module": "@jupyter-widgets/controls",
            "_view_module_version": "1.5.0",
            "_view_name": "HBoxView",
            "box_style": "",
            "children": [
              "IPY_MODEL_f402ddff5a1d4f8e84fbaf3bc45a0eb6",
              "IPY_MODEL_09353e3ac88d4afaa23df003cddd0528",
              "IPY_MODEL_902f15ec29e241688f89c9adddfd8ec7"
            ],
            "layout": "IPY_MODEL_ea17a9f2c23e49389c5625328f0a29d8"
          }
        },
        "f402ddff5a1d4f8e84fbaf3bc45a0eb6": {
          "model_module": "@jupyter-widgets/controls",
          "model_name": "HTMLModel",
          "model_module_version": "1.5.0",
          "state": {
            "_dom_classes": [],
            "_model_module": "@jupyter-widgets/controls",
            "_model_module_version": "1.5.0",
            "_model_name": "HTMLModel",
            "_view_count": null,
            "_view_module": "@jupyter-widgets/controls",
            "_view_module_version": "1.5.0",
            "_view_name": "HTMLView",
            "description": "",
            "description_tooltip": null,
            "layout": "IPY_MODEL_9bcdabd6117e497d962355ec2cc59cf9",
            "placeholder": "​",
            "style": "IPY_MODEL_37d2ffd6158a4fa181fe60bfee301bfc",
            "value": "vocab.txt: 100%"
          }
        },
        "09353e3ac88d4afaa23df003cddd0528": {
          "model_module": "@jupyter-widgets/controls",
          "model_name": "FloatProgressModel",
          "model_module_version": "1.5.0",
          "state": {
            "_dom_classes": [],
            "_model_module": "@jupyter-widgets/controls",
            "_model_module_version": "1.5.0",
            "_model_name": "FloatProgressModel",
            "_view_count": null,
            "_view_module": "@jupyter-widgets/controls",
            "_view_module_version": "1.5.0",
            "_view_name": "ProgressView",
            "bar_style": "success",
            "description": "",
            "description_tooltip": null,
            "layout": "IPY_MODEL_80f86db51f6c4a6b9e1a303c9774cb4c",
            "max": 231508,
            "min": 0,
            "orientation": "horizontal",
            "style": "IPY_MODEL_a79940ce06e84a4fba55dc221ae6c79d",
            "value": 231508
          }
        },
        "902f15ec29e241688f89c9adddfd8ec7": {
          "model_module": "@jupyter-widgets/controls",
          "model_name": "HTMLModel",
          "model_module_version": "1.5.0",
          "state": {
            "_dom_classes": [],
            "_model_module": "@jupyter-widgets/controls",
            "_model_module_version": "1.5.0",
            "_model_name": "HTMLModel",
            "_view_count": null,
            "_view_module": "@jupyter-widgets/controls",
            "_view_module_version": "1.5.0",
            "_view_name": "HTMLView",
            "description": "",
            "description_tooltip": null,
            "layout": "IPY_MODEL_e71e5b4d14f04d829fb97e75756cf654",
            "placeholder": "​",
            "style": "IPY_MODEL_60f94956322a4486bf77a70a49d3bc4d",
            "value": " 232k/232k [00:00&lt;00:00, 5.89MB/s]"
          }
        },
        "ea17a9f2c23e49389c5625328f0a29d8": {
          "model_module": "@jupyter-widgets/base",
          "model_name": "LayoutModel",
          "model_module_version": "1.2.0",
          "state": {
            "_model_module": "@jupyter-widgets/base",
            "_model_module_version": "1.2.0",
            "_model_name": "LayoutModel",
            "_view_count": null,
            "_view_module": "@jupyter-widgets/base",
            "_view_module_version": "1.2.0",
            "_view_name": "LayoutView",
            "align_content": null,
            "align_items": null,
            "align_self": null,
            "border": null,
            "bottom": null,
            "display": null,
            "flex": null,
            "flex_flow": null,
            "grid_area": null,
            "grid_auto_columns": null,
            "grid_auto_flow": null,
            "grid_auto_rows": null,
            "grid_column": null,
            "grid_gap": null,
            "grid_row": null,
            "grid_template_areas": null,
            "grid_template_columns": null,
            "grid_template_rows": null,
            "height": null,
            "justify_content": null,
            "justify_items": null,
            "left": null,
            "margin": null,
            "max_height": null,
            "max_width": null,
            "min_height": null,
            "min_width": null,
            "object_fit": null,
            "object_position": null,
            "order": null,
            "overflow": null,
            "overflow_x": null,
            "overflow_y": null,
            "padding": null,
            "right": null,
            "top": null,
            "visibility": null,
            "width": null
          }
        },
        "9bcdabd6117e497d962355ec2cc59cf9": {
          "model_module": "@jupyter-widgets/base",
          "model_name": "LayoutModel",
          "model_module_version": "1.2.0",
          "state": {
            "_model_module": "@jupyter-widgets/base",
            "_model_module_version": "1.2.0",
            "_model_name": "LayoutModel",
            "_view_count": null,
            "_view_module": "@jupyter-widgets/base",
            "_view_module_version": "1.2.0",
            "_view_name": "LayoutView",
            "align_content": null,
            "align_items": null,
            "align_self": null,
            "border": null,
            "bottom": null,
            "display": null,
            "flex": null,
            "flex_flow": null,
            "grid_area": null,
            "grid_auto_columns": null,
            "grid_auto_flow": null,
            "grid_auto_rows": null,
            "grid_column": null,
            "grid_gap": null,
            "grid_row": null,
            "grid_template_areas": null,
            "grid_template_columns": null,
            "grid_template_rows": null,
            "height": null,
            "justify_content": null,
            "justify_items": null,
            "left": null,
            "margin": null,
            "max_height": null,
            "max_width": null,
            "min_height": null,
            "min_width": null,
            "object_fit": null,
            "object_position": null,
            "order": null,
            "overflow": null,
            "overflow_x": null,
            "overflow_y": null,
            "padding": null,
            "right": null,
            "top": null,
            "visibility": null,
            "width": null
          }
        },
        "37d2ffd6158a4fa181fe60bfee301bfc": {
          "model_module": "@jupyter-widgets/controls",
          "model_name": "DescriptionStyleModel",
          "model_module_version": "1.5.0",
          "state": {
            "_model_module": "@jupyter-widgets/controls",
            "_model_module_version": "1.5.0",
            "_model_name": "DescriptionStyleModel",
            "_view_count": null,
            "_view_module": "@jupyter-widgets/base",
            "_view_module_version": "1.2.0",
            "_view_name": "StyleView",
            "description_width": ""
          }
        },
        "80f86db51f6c4a6b9e1a303c9774cb4c": {
          "model_module": "@jupyter-widgets/base",
          "model_name": "LayoutModel",
          "model_module_version": "1.2.0",
          "state": {
            "_model_module": "@jupyter-widgets/base",
            "_model_module_version": "1.2.0",
            "_model_name": "LayoutModel",
            "_view_count": null,
            "_view_module": "@jupyter-widgets/base",
            "_view_module_version": "1.2.0",
            "_view_name": "LayoutView",
            "align_content": null,
            "align_items": null,
            "align_self": null,
            "border": null,
            "bottom": null,
            "display": null,
            "flex": null,
            "flex_flow": null,
            "grid_area": null,
            "grid_auto_columns": null,
            "grid_auto_flow": null,
            "grid_auto_rows": null,
            "grid_column": null,
            "grid_gap": null,
            "grid_row": null,
            "grid_template_areas": null,
            "grid_template_columns": null,
            "grid_template_rows": null,
            "height": null,
            "justify_content": null,
            "justify_items": null,
            "left": null,
            "margin": null,
            "max_height": null,
            "max_width": null,
            "min_height": null,
            "min_width": null,
            "object_fit": null,
            "object_position": null,
            "order": null,
            "overflow": null,
            "overflow_x": null,
            "overflow_y": null,
            "padding": null,
            "right": null,
            "top": null,
            "visibility": null,
            "width": null
          }
        },
        "a79940ce06e84a4fba55dc221ae6c79d": {
          "model_module": "@jupyter-widgets/controls",
          "model_name": "ProgressStyleModel",
          "model_module_version": "1.5.0",
          "state": {
            "_model_module": "@jupyter-widgets/controls",
            "_model_module_version": "1.5.0",
            "_model_name": "ProgressStyleModel",
            "_view_count": null,
            "_view_module": "@jupyter-widgets/base",
            "_view_module_version": "1.2.0",
            "_view_name": "StyleView",
            "bar_color": null,
            "description_width": ""
          }
        },
        "e71e5b4d14f04d829fb97e75756cf654": {
          "model_module": "@jupyter-widgets/base",
          "model_name": "LayoutModel",
          "model_module_version": "1.2.0",
          "state": {
            "_model_module": "@jupyter-widgets/base",
            "_model_module_version": "1.2.0",
            "_model_name": "LayoutModel",
            "_view_count": null,
            "_view_module": "@jupyter-widgets/base",
            "_view_module_version": "1.2.0",
            "_view_name": "LayoutView",
            "align_content": null,
            "align_items": null,
            "align_self": null,
            "border": null,
            "bottom": null,
            "display": null,
            "flex": null,
            "flex_flow": null,
            "grid_area": null,
            "grid_auto_columns": null,
            "grid_auto_flow": null,
            "grid_auto_rows": null,
            "grid_column": null,
            "grid_gap": null,
            "grid_row": null,
            "grid_template_areas": null,
            "grid_template_columns": null,
            "grid_template_rows": null,
            "height": null,
            "justify_content": null,
            "justify_items": null,
            "left": null,
            "margin": null,
            "max_height": null,
            "max_width": null,
            "min_height": null,
            "min_width": null,
            "object_fit": null,
            "object_position": null,
            "order": null,
            "overflow": null,
            "overflow_x": null,
            "overflow_y": null,
            "padding": null,
            "right": null,
            "top": null,
            "visibility": null,
            "width": null
          }
        },
        "60f94956322a4486bf77a70a49d3bc4d": {
          "model_module": "@jupyter-widgets/controls",
          "model_name": "DescriptionStyleModel",
          "model_module_version": "1.5.0",
          "state": {
            "_model_module": "@jupyter-widgets/controls",
            "_model_module_version": "1.5.0",
            "_model_name": "DescriptionStyleModel",
            "_view_count": null,
            "_view_module": "@jupyter-widgets/base",
            "_view_module_version": "1.2.0",
            "_view_name": "StyleView",
            "description_width": ""
          }
        },
        "a6787b26878b419b98d7310c6f542f33": {
          "model_module": "@jupyter-widgets/controls",
          "model_name": "HBoxModel",
          "model_module_version": "1.5.0",
          "state": {
            "_dom_classes": [],
            "_model_module": "@jupyter-widgets/controls",
            "_model_module_version": "1.5.0",
            "_model_name": "HBoxModel",
            "_view_count": null,
            "_view_module": "@jupyter-widgets/controls",
            "_view_module_version": "1.5.0",
            "_view_name": "HBoxView",
            "box_style": "",
            "children": [
              "IPY_MODEL_38eeb97be6944bafaa726d7892297d18",
              "IPY_MODEL_d06016c257424e3fa6ba3c32923e2ced",
              "IPY_MODEL_f9db0cae42c8423a992e3fe519939b90"
            ],
            "layout": "IPY_MODEL_b5221243c013424698c58fd96196af70"
          }
        },
        "38eeb97be6944bafaa726d7892297d18": {
          "model_module": "@jupyter-widgets/controls",
          "model_name": "HTMLModel",
          "model_module_version": "1.5.0",
          "state": {
            "_dom_classes": [],
            "_model_module": "@jupyter-widgets/controls",
            "_model_module_version": "1.5.0",
            "_model_name": "HTMLModel",
            "_view_count": null,
            "_view_module": "@jupyter-widgets/controls",
            "_view_module_version": "1.5.0",
            "_view_name": "HTMLView",
            "description": "",
            "description_tooltip": null,
            "layout": "IPY_MODEL_bb6c1c8ad760483689ae703e9996d41a",
            "placeholder": "​",
            "style": "IPY_MODEL_ac8ac0e6b14e47f6ba7689693671de19",
            "value": "tokenizer.json: 100%"
          }
        },
        "d06016c257424e3fa6ba3c32923e2ced": {
          "model_module": "@jupyter-widgets/controls",
          "model_name": "FloatProgressModel",
          "model_module_version": "1.5.0",
          "state": {
            "_dom_classes": [],
            "_model_module": "@jupyter-widgets/controls",
            "_model_module_version": "1.5.0",
            "_model_name": "FloatProgressModel",
            "_view_count": null,
            "_view_module": "@jupyter-widgets/controls",
            "_view_module_version": "1.5.0",
            "_view_name": "ProgressView",
            "bar_style": "success",
            "description": "",
            "description_tooltip": null,
            "layout": "IPY_MODEL_b5b393331bda4801959d97b29f45e992",
            "max": 466062,
            "min": 0,
            "orientation": "horizontal",
            "style": "IPY_MODEL_c4f7ca63df4444c783b732963a377405",
            "value": 466062
          }
        },
        "f9db0cae42c8423a992e3fe519939b90": {
          "model_module": "@jupyter-widgets/controls",
          "model_name": "HTMLModel",
          "model_module_version": "1.5.0",
          "state": {
            "_dom_classes": [],
            "_model_module": "@jupyter-widgets/controls",
            "_model_module_version": "1.5.0",
            "_model_name": "HTMLModel",
            "_view_count": null,
            "_view_module": "@jupyter-widgets/controls",
            "_view_module_version": "1.5.0",
            "_view_name": "HTMLView",
            "description": "",
            "description_tooltip": null,
            "layout": "IPY_MODEL_6ed1735a0b504de698d0e70a226b2e5e",
            "placeholder": "​",
            "style": "IPY_MODEL_adefbf3efc894a9eb39ca04cd2f3d4f5",
            "value": " 466k/466k [00:00&lt;00:00, 6.42MB/s]"
          }
        },
        "b5221243c013424698c58fd96196af70": {
          "model_module": "@jupyter-widgets/base",
          "model_name": "LayoutModel",
          "model_module_version": "1.2.0",
          "state": {
            "_model_module": "@jupyter-widgets/base",
            "_model_module_version": "1.2.0",
            "_model_name": "LayoutModel",
            "_view_count": null,
            "_view_module": "@jupyter-widgets/base",
            "_view_module_version": "1.2.0",
            "_view_name": "LayoutView",
            "align_content": null,
            "align_items": null,
            "align_self": null,
            "border": null,
            "bottom": null,
            "display": null,
            "flex": null,
            "flex_flow": null,
            "grid_area": null,
            "grid_auto_columns": null,
            "grid_auto_flow": null,
            "grid_auto_rows": null,
            "grid_column": null,
            "grid_gap": null,
            "grid_row": null,
            "grid_template_areas": null,
            "grid_template_columns": null,
            "grid_template_rows": null,
            "height": null,
            "justify_content": null,
            "justify_items": null,
            "left": null,
            "margin": null,
            "max_height": null,
            "max_width": null,
            "min_height": null,
            "min_width": null,
            "object_fit": null,
            "object_position": null,
            "order": null,
            "overflow": null,
            "overflow_x": null,
            "overflow_y": null,
            "padding": null,
            "right": null,
            "top": null,
            "visibility": null,
            "width": null
          }
        },
        "bb6c1c8ad760483689ae703e9996d41a": {
          "model_module": "@jupyter-widgets/base",
          "model_name": "LayoutModel",
          "model_module_version": "1.2.0",
          "state": {
            "_model_module": "@jupyter-widgets/base",
            "_model_module_version": "1.2.0",
            "_model_name": "LayoutModel",
            "_view_count": null,
            "_view_module": "@jupyter-widgets/base",
            "_view_module_version": "1.2.0",
            "_view_name": "LayoutView",
            "align_content": null,
            "align_items": null,
            "align_self": null,
            "border": null,
            "bottom": null,
            "display": null,
            "flex": null,
            "flex_flow": null,
            "grid_area": null,
            "grid_auto_columns": null,
            "grid_auto_flow": null,
            "grid_auto_rows": null,
            "grid_column": null,
            "grid_gap": null,
            "grid_row": null,
            "grid_template_areas": null,
            "grid_template_columns": null,
            "grid_template_rows": null,
            "height": null,
            "justify_content": null,
            "justify_items": null,
            "left": null,
            "margin": null,
            "max_height": null,
            "max_width": null,
            "min_height": null,
            "min_width": null,
            "object_fit": null,
            "object_position": null,
            "order": null,
            "overflow": null,
            "overflow_x": null,
            "overflow_y": null,
            "padding": null,
            "right": null,
            "top": null,
            "visibility": null,
            "width": null
          }
        },
        "ac8ac0e6b14e47f6ba7689693671de19": {
          "model_module": "@jupyter-widgets/controls",
          "model_name": "DescriptionStyleModel",
          "model_module_version": "1.5.0",
          "state": {
            "_model_module": "@jupyter-widgets/controls",
            "_model_module_version": "1.5.0",
            "_model_name": "DescriptionStyleModel",
            "_view_count": null,
            "_view_module": "@jupyter-widgets/base",
            "_view_module_version": "1.2.0",
            "_view_name": "StyleView",
            "description_width": ""
          }
        },
        "b5b393331bda4801959d97b29f45e992": {
          "model_module": "@jupyter-widgets/base",
          "model_name": "LayoutModel",
          "model_module_version": "1.2.0",
          "state": {
            "_model_module": "@jupyter-widgets/base",
            "_model_module_version": "1.2.0",
            "_model_name": "LayoutModel",
            "_view_count": null,
            "_view_module": "@jupyter-widgets/base",
            "_view_module_version": "1.2.0",
            "_view_name": "LayoutView",
            "align_content": null,
            "align_items": null,
            "align_self": null,
            "border": null,
            "bottom": null,
            "display": null,
            "flex": null,
            "flex_flow": null,
            "grid_area": null,
            "grid_auto_columns": null,
            "grid_auto_flow": null,
            "grid_auto_rows": null,
            "grid_column": null,
            "grid_gap": null,
            "grid_row": null,
            "grid_template_areas": null,
            "grid_template_columns": null,
            "grid_template_rows": null,
            "height": null,
            "justify_content": null,
            "justify_items": null,
            "left": null,
            "margin": null,
            "max_height": null,
            "max_width": null,
            "min_height": null,
            "min_width": null,
            "object_fit": null,
            "object_position": null,
            "order": null,
            "overflow": null,
            "overflow_x": null,
            "overflow_y": null,
            "padding": null,
            "right": null,
            "top": null,
            "visibility": null,
            "width": null
          }
        },
        "c4f7ca63df4444c783b732963a377405": {
          "model_module": "@jupyter-widgets/controls",
          "model_name": "ProgressStyleModel",
          "model_module_version": "1.5.0",
          "state": {
            "_model_module": "@jupyter-widgets/controls",
            "_model_module_version": "1.5.0",
            "_model_name": "ProgressStyleModel",
            "_view_count": null,
            "_view_module": "@jupyter-widgets/base",
            "_view_module_version": "1.2.0",
            "_view_name": "StyleView",
            "bar_color": null,
            "description_width": ""
          }
        },
        "6ed1735a0b504de698d0e70a226b2e5e": {
          "model_module": "@jupyter-widgets/base",
          "model_name": "LayoutModel",
          "model_module_version": "1.2.0",
          "state": {
            "_model_module": "@jupyter-widgets/base",
            "_model_module_version": "1.2.0",
            "_model_name": "LayoutModel",
            "_view_count": null,
            "_view_module": "@jupyter-widgets/base",
            "_view_module_version": "1.2.0",
            "_view_name": "LayoutView",
            "align_content": null,
            "align_items": null,
            "align_self": null,
            "border": null,
            "bottom": null,
            "display": null,
            "flex": null,
            "flex_flow": null,
            "grid_area": null,
            "grid_auto_columns": null,
            "grid_auto_flow": null,
            "grid_auto_rows": null,
            "grid_column": null,
            "grid_gap": null,
            "grid_row": null,
            "grid_template_areas": null,
            "grid_template_columns": null,
            "grid_template_rows": null,
            "height": null,
            "justify_content": null,
            "justify_items": null,
            "left": null,
            "margin": null,
            "max_height": null,
            "max_width": null,
            "min_height": null,
            "min_width": null,
            "object_fit": null,
            "object_position": null,
            "order": null,
            "overflow": null,
            "overflow_x": null,
            "overflow_y": null,
            "padding": null,
            "right": null,
            "top": null,
            "visibility": null,
            "width": null
          }
        },
        "adefbf3efc894a9eb39ca04cd2f3d4f5": {
          "model_module": "@jupyter-widgets/controls",
          "model_name": "DescriptionStyleModel",
          "model_module_version": "1.5.0",
          "state": {
            "_model_module": "@jupyter-widgets/controls",
            "_model_module_version": "1.5.0",
            "_model_name": "DescriptionStyleModel",
            "_view_count": null,
            "_view_module": "@jupyter-widgets/base",
            "_view_module_version": "1.2.0",
            "_view_name": "StyleView",
            "description_width": ""
          }
        },
        "9937e2e8177944daaab7348c454c31ae": {
          "model_module": "@jupyter-widgets/controls",
          "model_name": "HBoxModel",
          "model_module_version": "1.5.0",
          "state": {
            "_dom_classes": [],
            "_model_module": "@jupyter-widgets/controls",
            "_model_module_version": "1.5.0",
            "_model_name": "HBoxModel",
            "_view_count": null,
            "_view_module": "@jupyter-widgets/controls",
            "_view_module_version": "1.5.0",
            "_view_name": "HBoxView",
            "box_style": "",
            "children": [
              "IPY_MODEL_2d2318d2d8794504ac041ab308217359",
              "IPY_MODEL_3a868bdb915c44159cda308db12a45fd",
              "IPY_MODEL_4a1d6969b3a446788d557ce5f62fb5e8"
            ],
            "layout": "IPY_MODEL_062898dbe1c64894aac57d4c7b207cf4"
          }
        },
        "2d2318d2d8794504ac041ab308217359": {
          "model_module": "@jupyter-widgets/controls",
          "model_name": "HTMLModel",
          "model_module_version": "1.5.0",
          "state": {
            "_dom_classes": [],
            "_model_module": "@jupyter-widgets/controls",
            "_model_module_version": "1.5.0",
            "_model_name": "HTMLModel",
            "_view_count": null,
            "_view_module": "@jupyter-widgets/controls",
            "_view_module_version": "1.5.0",
            "_view_name": "HTMLView",
            "description": "",
            "description_tooltip": null,
            "layout": "IPY_MODEL_d1d7a3ba3ca24a21bdb8a1d3e6fc2b93",
            "placeholder": "​",
            "style": "IPY_MODEL_087fbc0ed44040549bb26c4be1a5c2e0",
            "value": "config.json: 100%"
          }
        },
        "3a868bdb915c44159cda308db12a45fd": {
          "model_module": "@jupyter-widgets/controls",
          "model_name": "FloatProgressModel",
          "model_module_version": "1.5.0",
          "state": {
            "_dom_classes": [],
            "_model_module": "@jupyter-widgets/controls",
            "_model_module_version": "1.5.0",
            "_model_name": "FloatProgressModel",
            "_view_count": null,
            "_view_module": "@jupyter-widgets/controls",
            "_view_module_version": "1.5.0",
            "_view_name": "ProgressView",
            "bar_style": "success",
            "description": "",
            "description_tooltip": null,
            "layout": "IPY_MODEL_7c6a967dab504e01941fc2f8b10c0d3f",
            "max": 570,
            "min": 0,
            "orientation": "horizontal",
            "style": "IPY_MODEL_6ae25df3bf7a4ed8aec7c9a7997148fe",
            "value": 570
          }
        },
        "4a1d6969b3a446788d557ce5f62fb5e8": {
          "model_module": "@jupyter-widgets/controls",
          "model_name": "HTMLModel",
          "model_module_version": "1.5.0",
          "state": {
            "_dom_classes": [],
            "_model_module": "@jupyter-widgets/controls",
            "_model_module_version": "1.5.0",
            "_model_name": "HTMLModel",
            "_view_count": null,
            "_view_module": "@jupyter-widgets/controls",
            "_view_module_version": "1.5.0",
            "_view_name": "HTMLView",
            "description": "",
            "description_tooltip": null,
            "layout": "IPY_MODEL_92205fbd012343da89428f8b21290090",
            "placeholder": "​",
            "style": "IPY_MODEL_2f996711040b41f39b6e88a230bce6d0",
            "value": " 570/570 [00:00&lt;00:00, 51.8kB/s]"
          }
        },
        "062898dbe1c64894aac57d4c7b207cf4": {
          "model_module": "@jupyter-widgets/base",
          "model_name": "LayoutModel",
          "model_module_version": "1.2.0",
          "state": {
            "_model_module": "@jupyter-widgets/base",
            "_model_module_version": "1.2.0",
            "_model_name": "LayoutModel",
            "_view_count": null,
            "_view_module": "@jupyter-widgets/base",
            "_view_module_version": "1.2.0",
            "_view_name": "LayoutView",
            "align_content": null,
            "align_items": null,
            "align_self": null,
            "border": null,
            "bottom": null,
            "display": null,
            "flex": null,
            "flex_flow": null,
            "grid_area": null,
            "grid_auto_columns": null,
            "grid_auto_flow": null,
            "grid_auto_rows": null,
            "grid_column": null,
            "grid_gap": null,
            "grid_row": null,
            "grid_template_areas": null,
            "grid_template_columns": null,
            "grid_template_rows": null,
            "height": null,
            "justify_content": null,
            "justify_items": null,
            "left": null,
            "margin": null,
            "max_height": null,
            "max_width": null,
            "min_height": null,
            "min_width": null,
            "object_fit": null,
            "object_position": null,
            "order": null,
            "overflow": null,
            "overflow_x": null,
            "overflow_y": null,
            "padding": null,
            "right": null,
            "top": null,
            "visibility": null,
            "width": null
          }
        },
        "d1d7a3ba3ca24a21bdb8a1d3e6fc2b93": {
          "model_module": "@jupyter-widgets/base",
          "model_name": "LayoutModel",
          "model_module_version": "1.2.0",
          "state": {
            "_model_module": "@jupyter-widgets/base",
            "_model_module_version": "1.2.0",
            "_model_name": "LayoutModel",
            "_view_count": null,
            "_view_module": "@jupyter-widgets/base",
            "_view_module_version": "1.2.0",
            "_view_name": "LayoutView",
            "align_content": null,
            "align_items": null,
            "align_self": null,
            "border": null,
            "bottom": null,
            "display": null,
            "flex": null,
            "flex_flow": null,
            "grid_area": null,
            "grid_auto_columns": null,
            "grid_auto_flow": null,
            "grid_auto_rows": null,
            "grid_column": null,
            "grid_gap": null,
            "grid_row": null,
            "grid_template_areas": null,
            "grid_template_columns": null,
            "grid_template_rows": null,
            "height": null,
            "justify_content": null,
            "justify_items": null,
            "left": null,
            "margin": null,
            "max_height": null,
            "max_width": null,
            "min_height": null,
            "min_width": null,
            "object_fit": null,
            "object_position": null,
            "order": null,
            "overflow": null,
            "overflow_x": null,
            "overflow_y": null,
            "padding": null,
            "right": null,
            "top": null,
            "visibility": null,
            "width": null
          }
        },
        "087fbc0ed44040549bb26c4be1a5c2e0": {
          "model_module": "@jupyter-widgets/controls",
          "model_name": "DescriptionStyleModel",
          "model_module_version": "1.5.0",
          "state": {
            "_model_module": "@jupyter-widgets/controls",
            "_model_module_version": "1.5.0",
            "_model_name": "DescriptionStyleModel",
            "_view_count": null,
            "_view_module": "@jupyter-widgets/base",
            "_view_module_version": "1.2.0",
            "_view_name": "StyleView",
            "description_width": ""
          }
        },
        "7c6a967dab504e01941fc2f8b10c0d3f": {
          "model_module": "@jupyter-widgets/base",
          "model_name": "LayoutModel",
          "model_module_version": "1.2.0",
          "state": {
            "_model_module": "@jupyter-widgets/base",
            "_model_module_version": "1.2.0",
            "_model_name": "LayoutModel",
            "_view_count": null,
            "_view_module": "@jupyter-widgets/base",
            "_view_module_version": "1.2.0",
            "_view_name": "LayoutView",
            "align_content": null,
            "align_items": null,
            "align_self": null,
            "border": null,
            "bottom": null,
            "display": null,
            "flex": null,
            "flex_flow": null,
            "grid_area": null,
            "grid_auto_columns": null,
            "grid_auto_flow": null,
            "grid_auto_rows": null,
            "grid_column": null,
            "grid_gap": null,
            "grid_row": null,
            "grid_template_areas": null,
            "grid_template_columns": null,
            "grid_template_rows": null,
            "height": null,
            "justify_content": null,
            "justify_items": null,
            "left": null,
            "margin": null,
            "max_height": null,
            "max_width": null,
            "min_height": null,
            "min_width": null,
            "object_fit": null,
            "object_position": null,
            "order": null,
            "overflow": null,
            "overflow_x": null,
            "overflow_y": null,
            "padding": null,
            "right": null,
            "top": null,
            "visibility": null,
            "width": null
          }
        },
        "6ae25df3bf7a4ed8aec7c9a7997148fe": {
          "model_module": "@jupyter-widgets/controls",
          "model_name": "ProgressStyleModel",
          "model_module_version": "1.5.0",
          "state": {
            "_model_module": "@jupyter-widgets/controls",
            "_model_module_version": "1.5.0",
            "_model_name": "ProgressStyleModel",
            "_view_count": null,
            "_view_module": "@jupyter-widgets/base",
            "_view_module_version": "1.2.0",
            "_view_name": "StyleView",
            "bar_color": null,
            "description_width": ""
          }
        },
        "92205fbd012343da89428f8b21290090": {
          "model_module": "@jupyter-widgets/base",
          "model_name": "LayoutModel",
          "model_module_version": "1.2.0",
          "state": {
            "_model_module": "@jupyter-widgets/base",
            "_model_module_version": "1.2.0",
            "_model_name": "LayoutModel",
            "_view_count": null,
            "_view_module": "@jupyter-widgets/base",
            "_view_module_version": "1.2.0",
            "_view_name": "LayoutView",
            "align_content": null,
            "align_items": null,
            "align_self": null,
            "border": null,
            "bottom": null,
            "display": null,
            "flex": null,
            "flex_flow": null,
            "grid_area": null,
            "grid_auto_columns": null,
            "grid_auto_flow": null,
            "grid_auto_rows": null,
            "grid_column": null,
            "grid_gap": null,
            "grid_row": null,
            "grid_template_areas": null,
            "grid_template_columns": null,
            "grid_template_rows": null,
            "height": null,
            "justify_content": null,
            "justify_items": null,
            "left": null,
            "margin": null,
            "max_height": null,
            "max_width": null,
            "min_height": null,
            "min_width": null,
            "object_fit": null,
            "object_position": null,
            "order": null,
            "overflow": null,
            "overflow_x": null,
            "overflow_y": null,
            "padding": null,
            "right": null,
            "top": null,
            "visibility": null,
            "width": null
          }
        },
        "2f996711040b41f39b6e88a230bce6d0": {
          "model_module": "@jupyter-widgets/controls",
          "model_name": "DescriptionStyleModel",
          "model_module_version": "1.5.0",
          "state": {
            "_model_module": "@jupyter-widgets/controls",
            "_model_module_version": "1.5.0",
            "_model_name": "DescriptionStyleModel",
            "_view_count": null,
            "_view_module": "@jupyter-widgets/base",
            "_view_module_version": "1.2.0",
            "_view_name": "StyleView",
            "description_width": ""
          }
        },
        "bf6728cfa3f4489db612994ab19bf0c1": {
          "model_module": "@jupyter-widgets/controls",
          "model_name": "HBoxModel",
          "model_module_version": "1.5.0",
          "state": {
            "_dom_classes": [],
            "_model_module": "@jupyter-widgets/controls",
            "_model_module_version": "1.5.0",
            "_model_name": "HBoxModel",
            "_view_count": null,
            "_view_module": "@jupyter-widgets/controls",
            "_view_module_version": "1.5.0",
            "_view_name": "HBoxView",
            "box_style": "",
            "children": [
              "IPY_MODEL_a08642dcb7234fc180255f2ed3980cfa",
              "IPY_MODEL_6090d605ff294534aeac6e4ebda9ae1f",
              "IPY_MODEL_d5c27d44c05044ff96f115c0ebb3275e"
            ],
            "layout": "IPY_MODEL_b827588617c540b8867c2eeef7314d27"
          }
        },
        "a08642dcb7234fc180255f2ed3980cfa": {
          "model_module": "@jupyter-widgets/controls",
          "model_name": "HTMLModel",
          "model_module_version": "1.5.0",
          "state": {
            "_dom_classes": [],
            "_model_module": "@jupyter-widgets/controls",
            "_model_module_version": "1.5.0",
            "_model_name": "HTMLModel",
            "_view_count": null,
            "_view_module": "@jupyter-widgets/controls",
            "_view_module_version": "1.5.0",
            "_view_name": "HTMLView",
            "description": "",
            "description_tooltip": null,
            "layout": "IPY_MODEL_8d8e4c65b74d4c8b99d4db34f15221f0",
            "placeholder": "​",
            "style": "IPY_MODEL_13d4bffc6b7b4de3915d0f86fdc1b9d7",
            "value": "model.safetensors: 100%"
          }
        },
        "6090d605ff294534aeac6e4ebda9ae1f": {
          "model_module": "@jupyter-widgets/controls",
          "model_name": "FloatProgressModel",
          "model_module_version": "1.5.0",
          "state": {
            "_dom_classes": [],
            "_model_module": "@jupyter-widgets/controls",
            "_model_module_version": "1.5.0",
            "_model_name": "FloatProgressModel",
            "_view_count": null,
            "_view_module": "@jupyter-widgets/controls",
            "_view_module_version": "1.5.0",
            "_view_name": "ProgressView",
            "bar_style": "success",
            "description": "",
            "description_tooltip": null,
            "layout": "IPY_MODEL_7b917f032e51469a951a874b1fca6d87",
            "max": 440449768,
            "min": 0,
            "orientation": "horizontal",
            "style": "IPY_MODEL_8fede50e5c6b40e69679ec7924234850",
            "value": 440449768
          }
        },
        "d5c27d44c05044ff96f115c0ebb3275e": {
          "model_module": "@jupyter-widgets/controls",
          "model_name": "HTMLModel",
          "model_module_version": "1.5.0",
          "state": {
            "_dom_classes": [],
            "_model_module": "@jupyter-widgets/controls",
            "_model_module_version": "1.5.0",
            "_model_name": "HTMLModel",
            "_view_count": null,
            "_view_module": "@jupyter-widgets/controls",
            "_view_module_version": "1.5.0",
            "_view_name": "HTMLView",
            "description": "",
            "description_tooltip": null,
            "layout": "IPY_MODEL_71124c5bbb50463096c389cc94183522",
            "placeholder": "​",
            "style": "IPY_MODEL_34f8ae084f6b4165b296302c6b4dc0d5",
            "value": " 440M/440M [00:02&lt;00:00, 194MB/s]"
          }
        },
        "b827588617c540b8867c2eeef7314d27": {
          "model_module": "@jupyter-widgets/base",
          "model_name": "LayoutModel",
          "model_module_version": "1.2.0",
          "state": {
            "_model_module": "@jupyter-widgets/base",
            "_model_module_version": "1.2.0",
            "_model_name": "LayoutModel",
            "_view_count": null,
            "_view_module": "@jupyter-widgets/base",
            "_view_module_version": "1.2.0",
            "_view_name": "LayoutView",
            "align_content": null,
            "align_items": null,
            "align_self": null,
            "border": null,
            "bottom": null,
            "display": null,
            "flex": null,
            "flex_flow": null,
            "grid_area": null,
            "grid_auto_columns": null,
            "grid_auto_flow": null,
            "grid_auto_rows": null,
            "grid_column": null,
            "grid_gap": null,
            "grid_row": null,
            "grid_template_areas": null,
            "grid_template_columns": null,
            "grid_template_rows": null,
            "height": null,
            "justify_content": null,
            "justify_items": null,
            "left": null,
            "margin": null,
            "max_height": null,
            "max_width": null,
            "min_height": null,
            "min_width": null,
            "object_fit": null,
            "object_position": null,
            "order": null,
            "overflow": null,
            "overflow_x": null,
            "overflow_y": null,
            "padding": null,
            "right": null,
            "top": null,
            "visibility": null,
            "width": null
          }
        },
        "8d8e4c65b74d4c8b99d4db34f15221f0": {
          "model_module": "@jupyter-widgets/base",
          "model_name": "LayoutModel",
          "model_module_version": "1.2.0",
          "state": {
            "_model_module": "@jupyter-widgets/base",
            "_model_module_version": "1.2.0",
            "_model_name": "LayoutModel",
            "_view_count": null,
            "_view_module": "@jupyter-widgets/base",
            "_view_module_version": "1.2.0",
            "_view_name": "LayoutView",
            "align_content": null,
            "align_items": null,
            "align_self": null,
            "border": null,
            "bottom": null,
            "display": null,
            "flex": null,
            "flex_flow": null,
            "grid_area": null,
            "grid_auto_columns": null,
            "grid_auto_flow": null,
            "grid_auto_rows": null,
            "grid_column": null,
            "grid_gap": null,
            "grid_row": null,
            "grid_template_areas": null,
            "grid_template_columns": null,
            "grid_template_rows": null,
            "height": null,
            "justify_content": null,
            "justify_items": null,
            "left": null,
            "margin": null,
            "max_height": null,
            "max_width": null,
            "min_height": null,
            "min_width": null,
            "object_fit": null,
            "object_position": null,
            "order": null,
            "overflow": null,
            "overflow_x": null,
            "overflow_y": null,
            "padding": null,
            "right": null,
            "top": null,
            "visibility": null,
            "width": null
          }
        },
        "13d4bffc6b7b4de3915d0f86fdc1b9d7": {
          "model_module": "@jupyter-widgets/controls",
          "model_name": "DescriptionStyleModel",
          "model_module_version": "1.5.0",
          "state": {
            "_model_module": "@jupyter-widgets/controls",
            "_model_module_version": "1.5.0",
            "_model_name": "DescriptionStyleModel",
            "_view_count": null,
            "_view_module": "@jupyter-widgets/base",
            "_view_module_version": "1.2.0",
            "_view_name": "StyleView",
            "description_width": ""
          }
        },
        "7b917f032e51469a951a874b1fca6d87": {
          "model_module": "@jupyter-widgets/base",
          "model_name": "LayoutModel",
          "model_module_version": "1.2.0",
          "state": {
            "_model_module": "@jupyter-widgets/base",
            "_model_module_version": "1.2.0",
            "_model_name": "LayoutModel",
            "_view_count": null,
            "_view_module": "@jupyter-widgets/base",
            "_view_module_version": "1.2.0",
            "_view_name": "LayoutView",
            "align_content": null,
            "align_items": null,
            "align_self": null,
            "border": null,
            "bottom": null,
            "display": null,
            "flex": null,
            "flex_flow": null,
            "grid_area": null,
            "grid_auto_columns": null,
            "grid_auto_flow": null,
            "grid_auto_rows": null,
            "grid_column": null,
            "grid_gap": null,
            "grid_row": null,
            "grid_template_areas": null,
            "grid_template_columns": null,
            "grid_template_rows": null,
            "height": null,
            "justify_content": null,
            "justify_items": null,
            "left": null,
            "margin": null,
            "max_height": null,
            "max_width": null,
            "min_height": null,
            "min_width": null,
            "object_fit": null,
            "object_position": null,
            "order": null,
            "overflow": null,
            "overflow_x": null,
            "overflow_y": null,
            "padding": null,
            "right": null,
            "top": null,
            "visibility": null,
            "width": null
          }
        },
        "8fede50e5c6b40e69679ec7924234850": {
          "model_module": "@jupyter-widgets/controls",
          "model_name": "ProgressStyleModel",
          "model_module_version": "1.5.0",
          "state": {
            "_model_module": "@jupyter-widgets/controls",
            "_model_module_version": "1.5.0",
            "_model_name": "ProgressStyleModel",
            "_view_count": null,
            "_view_module": "@jupyter-widgets/base",
            "_view_module_version": "1.2.0",
            "_view_name": "StyleView",
            "bar_color": null,
            "description_width": ""
          }
        },
        "71124c5bbb50463096c389cc94183522": {
          "model_module": "@jupyter-widgets/base",
          "model_name": "LayoutModel",
          "model_module_version": "1.2.0",
          "state": {
            "_model_module": "@jupyter-widgets/base",
            "_model_module_version": "1.2.0",
            "_model_name": "LayoutModel",
            "_view_count": null,
            "_view_module": "@jupyter-widgets/base",
            "_view_module_version": "1.2.0",
            "_view_name": "LayoutView",
            "align_content": null,
            "align_items": null,
            "align_self": null,
            "border": null,
            "bottom": null,
            "display": null,
            "flex": null,
            "flex_flow": null,
            "grid_area": null,
            "grid_auto_columns": null,
            "grid_auto_flow": null,
            "grid_auto_rows": null,
            "grid_column": null,
            "grid_gap": null,
            "grid_row": null,
            "grid_template_areas": null,
            "grid_template_columns": null,
            "grid_template_rows": null,
            "height": null,
            "justify_content": null,
            "justify_items": null,
            "left": null,
            "margin": null,
            "max_height": null,
            "max_width": null,
            "min_height": null,
            "min_width": null,
            "object_fit": null,
            "object_position": null,
            "order": null,
            "overflow": null,
            "overflow_x": null,
            "overflow_y": null,
            "padding": null,
            "right": null,
            "top": null,
            "visibility": null,
            "width": null
          }
        },
        "34f8ae084f6b4165b296302c6b4dc0d5": {
          "model_module": "@jupyter-widgets/controls",
          "model_name": "DescriptionStyleModel",
          "model_module_version": "1.5.0",
          "state": {
            "_model_module": "@jupyter-widgets/controls",
            "_model_module_version": "1.5.0",
            "_model_name": "DescriptionStyleModel",
            "_view_count": null,
            "_view_module": "@jupyter-widgets/base",
            "_view_module_version": "1.2.0",
            "_view_name": "StyleView",
            "description_width": ""
          }
        }
      }
    }
  },
  "nbformat": 4,
  "nbformat_minor": 0
}